{
  "nbformat": 4,
  "nbformat_minor": 0,
  "metadata": {
    "colab": {
      "provenance": []
    },
    "kernelspec": {
      "name": "python3",
      "display_name": "Python 3"
    },
    "language_info": {
      "name": "python"
    }
  },
  "cells": [
    {
      "cell_type": "code",
      "execution_count": 3,
      "metadata": {
        "colab": {
          "base_uri": "https://localhost:8080/",
          "height": 1000
        },
        "id": "8p0PQRrtk76i",
        "outputId": "ef258924-b5a4-439a-db5f-461fc85fbf66"
      },
      "outputs": [
        {
          "output_type": "stream",
          "name": "stdout",
          "text": [
            "A pasta já existe.\n"
          ]
        },
        {
          "output_type": "display_data",
          "data": {
            "text/plain": [
              "<IPython.core.display.HTML object>"
            ],
            "text/html": [
              "\n",
              "     <input type=\"file\" id=\"files-e058f003-d976-426a-b95f-77e59ee9041c\" name=\"files[]\" multiple disabled\n",
              "        style=\"border:none\" />\n",
              "     <output id=\"result-e058f003-d976-426a-b95f-77e59ee9041c\">\n",
              "      Upload widget is only available when the cell has been executed in the\n",
              "      current browser session. Please rerun this cell to enable.\n",
              "      </output>\n",
              "      <script>// Copyright 2017 Google LLC\n",
              "//\n",
              "// Licensed under the Apache License, Version 2.0 (the \"License\");\n",
              "// you may not use this file except in compliance with the License.\n",
              "// You may obtain a copy of the License at\n",
              "//\n",
              "//      http://www.apache.org/licenses/LICENSE-2.0\n",
              "//\n",
              "// Unless required by applicable law or agreed to in writing, software\n",
              "// distributed under the License is distributed on an \"AS IS\" BASIS,\n",
              "// WITHOUT WARRANTIES OR CONDITIONS OF ANY KIND, either express or implied.\n",
              "// See the License for the specific language governing permissions and\n",
              "// limitations under the License.\n",
              "\n",
              "/**\n",
              " * @fileoverview Helpers for google.colab Python module.\n",
              " */\n",
              "(function(scope) {\n",
              "function span(text, styleAttributes = {}) {\n",
              "  const element = document.createElement('span');\n",
              "  element.textContent = text;\n",
              "  for (const key of Object.keys(styleAttributes)) {\n",
              "    element.style[key] = styleAttributes[key];\n",
              "  }\n",
              "  return element;\n",
              "}\n",
              "\n",
              "// Max number of bytes which will be uploaded at a time.\n",
              "const MAX_PAYLOAD_SIZE = 100 * 1024;\n",
              "\n",
              "function _uploadFiles(inputId, outputId) {\n",
              "  const steps = uploadFilesStep(inputId, outputId);\n",
              "  const outputElement = document.getElementById(outputId);\n",
              "  // Cache steps on the outputElement to make it available for the next call\n",
              "  // to uploadFilesContinue from Python.\n",
              "  outputElement.steps = steps;\n",
              "\n",
              "  return _uploadFilesContinue(outputId);\n",
              "}\n",
              "\n",
              "// This is roughly an async generator (not supported in the browser yet),\n",
              "// where there are multiple asynchronous steps and the Python side is going\n",
              "// to poll for completion of each step.\n",
              "// This uses a Promise to block the python side on completion of each step,\n",
              "// then passes the result of the previous step as the input to the next step.\n",
              "function _uploadFilesContinue(outputId) {\n",
              "  const outputElement = document.getElementById(outputId);\n",
              "  const steps = outputElement.steps;\n",
              "\n",
              "  const next = steps.next(outputElement.lastPromiseValue);\n",
              "  return Promise.resolve(next.value.promise).then((value) => {\n",
              "    // Cache the last promise value to make it available to the next\n",
              "    // step of the generator.\n",
              "    outputElement.lastPromiseValue = value;\n",
              "    return next.value.response;\n",
              "  });\n",
              "}\n",
              "\n",
              "/**\n",
              " * Generator function which is called between each async step of the upload\n",
              " * process.\n",
              " * @param {string} inputId Element ID of the input file picker element.\n",
              " * @param {string} outputId Element ID of the output display.\n",
              " * @return {!Iterable<!Object>} Iterable of next steps.\n",
              " */\n",
              "function* uploadFilesStep(inputId, outputId) {\n",
              "  const inputElement = document.getElementById(inputId);\n",
              "  inputElement.disabled = false;\n",
              "\n",
              "  const outputElement = document.getElementById(outputId);\n",
              "  outputElement.innerHTML = '';\n",
              "\n",
              "  const pickedPromise = new Promise((resolve) => {\n",
              "    inputElement.addEventListener('change', (e) => {\n",
              "      resolve(e.target.files);\n",
              "    });\n",
              "  });\n",
              "\n",
              "  const cancel = document.createElement('button');\n",
              "  inputElement.parentElement.appendChild(cancel);\n",
              "  cancel.textContent = 'Cancel upload';\n",
              "  const cancelPromise = new Promise((resolve) => {\n",
              "    cancel.onclick = () => {\n",
              "      resolve(null);\n",
              "    };\n",
              "  });\n",
              "\n",
              "  // Wait for the user to pick the files.\n",
              "  const files = yield {\n",
              "    promise: Promise.race([pickedPromise, cancelPromise]),\n",
              "    response: {\n",
              "      action: 'starting',\n",
              "    }\n",
              "  };\n",
              "\n",
              "  cancel.remove();\n",
              "\n",
              "  // Disable the input element since further picks are not allowed.\n",
              "  inputElement.disabled = true;\n",
              "\n",
              "  if (!files) {\n",
              "    return {\n",
              "      response: {\n",
              "        action: 'complete',\n",
              "      }\n",
              "    };\n",
              "  }\n",
              "\n",
              "  for (const file of files) {\n",
              "    const li = document.createElement('li');\n",
              "    li.append(span(file.name, {fontWeight: 'bold'}));\n",
              "    li.append(span(\n",
              "        `(${file.type || 'n/a'}) - ${file.size} bytes, ` +\n",
              "        `last modified: ${\n",
              "            file.lastModifiedDate ? file.lastModifiedDate.toLocaleDateString() :\n",
              "                                    'n/a'} - `));\n",
              "    const percent = span('0% done');\n",
              "    li.appendChild(percent);\n",
              "\n",
              "    outputElement.appendChild(li);\n",
              "\n",
              "    const fileDataPromise = new Promise((resolve) => {\n",
              "      const reader = new FileReader();\n",
              "      reader.onload = (e) => {\n",
              "        resolve(e.target.result);\n",
              "      };\n",
              "      reader.readAsArrayBuffer(file);\n",
              "    });\n",
              "    // Wait for the data to be ready.\n",
              "    let fileData = yield {\n",
              "      promise: fileDataPromise,\n",
              "      response: {\n",
              "        action: 'continue',\n",
              "      }\n",
              "    };\n",
              "\n",
              "    // Use a chunked sending to avoid message size limits. See b/62115660.\n",
              "    let position = 0;\n",
              "    do {\n",
              "      const length = Math.min(fileData.byteLength - position, MAX_PAYLOAD_SIZE);\n",
              "      const chunk = new Uint8Array(fileData, position, length);\n",
              "      position += length;\n",
              "\n",
              "      const base64 = btoa(String.fromCharCode.apply(null, chunk));\n",
              "      yield {\n",
              "        response: {\n",
              "          action: 'append',\n",
              "          file: file.name,\n",
              "          data: base64,\n",
              "        },\n",
              "      };\n",
              "\n",
              "      let percentDone = fileData.byteLength === 0 ?\n",
              "          100 :\n",
              "          Math.round((position / fileData.byteLength) * 100);\n",
              "      percent.textContent = `${percentDone}% done`;\n",
              "\n",
              "    } while (position < fileData.byteLength);\n",
              "  }\n",
              "\n",
              "  // All done.\n",
              "  yield {\n",
              "    response: {\n",
              "      action: 'complete',\n",
              "    }\n",
              "  };\n",
              "}\n",
              "\n",
              "scope.google = scope.google || {};\n",
              "scope.google.colab = scope.google.colab || {};\n",
              "scope.google.colab._files = {\n",
              "  _uploadFiles,\n",
              "  _uploadFilesContinue,\n",
              "};\n",
              "})(self);\n",
              "</script> "
            ]
          },
          "metadata": {}
        },
        {
          "output_type": "stream",
          "name": "stdout",
          "text": [
            "Saving wheaten_terrier_9.jpg to wheaten_terrier_9 (1).jpg\n",
            "Saving leonberger_194.jpg to leonberger_194 (1).jpg\n",
            "Saving Abyssinian_71.jpg to Abyssinian_71 (1).jpg\n",
            "Saving Abyssinian_123.jpg to Abyssinian_123 (1).jpg\n",
            "Saving leonberger_29.jpg to leonberger_29 (1).jpg\n",
            "Saving wheaten_terrier_5.jpg to wheaten_terrier_5 (1).jpg\n",
            "Saving wheaten_terrier_110.jpg to wheaten_terrier_110 (1).jpg\n",
            "Saving wheaten_terrier_13.jpg to wheaten_terrier_13 (1).jpg\n",
            "Saving wheaten_terrier_159.jpg to wheaten_terrier_159 (1).jpg\n",
            "Saving Persian_43.jpg to Persian_43 (1).jpg\n",
            "Saving Abyssinian_182.jpg to Abyssinian_182 (1).jpg\n",
            "Saving Persian_202.jpg to Persian_202 (1).jpg\n",
            "Saving leonberger_60.jpg to leonberger_60 (1).jpg\n",
            "Saving wheaten_terrier_111.jpg to wheaten_terrier_111 (1).jpg\n",
            "Saving wheaten_terrier_93.jpg to wheaten_terrier_93 (1).jpg\n",
            "Saving wheaten_terrier_150.jpg to wheaten_terrier_150 (1).jpg\n",
            "Saving wheaten_terrier_65.jpg to wheaten_terrier_65 (1).jpg\n",
            "Saving Abyssinian_21.jpg to Abyssinian_21 (1).jpg\n",
            "Saving Persian_190.jpg to Persian_190 (1).jpg\n",
            "Saving leonberger_40.jpg to leonberger_40 (1).jpg\n",
            "Saving Abyssinian_119.jpg to Abyssinian_119 (1).jpg\n",
            "Saving Persian_75.jpg to Persian_75 (1).jpg\n",
            "Saving wheaten_terrier_4.jpg to wheaten_terrier_4 (1).jpg\n",
            "Saving leonberger_157.jpg to leonberger_157 (1).jpg\n",
            "Saving wheaten_terrier_183.jpg to wheaten_terrier_183 (1).jpg\n",
            "Saving Abyssinian_172.jpg to Abyssinian_172 (1).jpg\n",
            "Saving Persian_197.jpg to Persian_197 (1).jpg\n",
            "Saving leonberger_197.jpg to leonberger_197 (1).jpg\n",
            "Saving leonberger_16.jpg to leonberger_16 (1).jpg\n",
            "Saving Abyssinian_114.jpg to Abyssinian_114 (1).jpg\n",
            "Saving Abyssinian_63.jpg to Abyssinian_63 (1).jpg\n",
            "Saving wheaten_terrier_102.jpg to wheaten_terrier_102 (1).jpg\n",
            "Saving Persian_80.jpg to Persian_80 (1).jpg\n",
            "Saving leonberger_89.jpg to leonberger_89 (1).jpg\n",
            "Saving Persian_84.jpg to Persian_84 (1).jpg\n",
            "Saving Persian_104.jpg to Persian_104 (1).jpg\n",
            "Saving leonberger_81.jpg to leonberger_81 (1).jpg\n",
            "Saving Abyssinian_206.jpg to Abyssinian_206 (1).jpg\n",
            "Saving Persian_44.jpg to Persian_44 (1).jpg\n",
            "Saving wheaten_terrier_196.jpg to wheaten_terrier_196 (1).jpg\n",
            "Saving Abyssinian_178.jpg to Abyssinian_178 (1).jpg\n",
            "Saving Abyssinian_161.jpg to Abyssinian_161 (1).jpg\n",
            "Saving leonberger_90.jpg to leonberger_90 (1).jpg\n",
            "Saving Abyssinian_47.jpg to Abyssinian_47 (1).jpg\n",
            "Saving leonberger_130.jpg to leonberger_130 (1).jpg\n",
            "Saving wheaten_terrier_44.jpg to wheaten_terrier_44 (1).jpg\n",
            "Saving Abyssinian_1.jpg to Abyssinian_1 (1).jpg\n",
            "Saving leonberger_187.jpg to leonberger_187 (1).jpg\n",
            "Saving Persian_103.jpg to Persian_103 (1).jpg\n",
            "Saving Abyssinian_52.jpg to Abyssinian_52 (1).jpg\n",
            "Saving Abyssinian_180.jpg to Abyssinian_180 (1).jpg\n",
            "Saving Abyssinian_36.jpg to Abyssinian_36 (1).jpg\n",
            "Saving wheaten_terrier_136.jpg to wheaten_terrier_136 (1).jpg\n",
            "Saving wheaten_terrier_14.jpg to wheaten_terrier_14 (1).jpg\n",
            "Saving leonberger_41.jpg to leonberger_41 (1).jpg\n",
            "Saving Abyssinian_159.jpg to Abyssinian_159 (1).jpg\n",
            "Saving Persian_181.jpg to Persian_181 (1).jpg\n",
            "Saving wheaten_terrier_146.jpg to wheaten_terrier_146 (1).jpg\n",
            "Saving wheaten_terrier_53.jpg to wheaten_terrier_53 (1).jpg\n",
            "Saving leonberger_103.jpg to leonberger_103 (1).jpg\n",
            "Saving leonberger_8.jpg to leonberger_8 (1).jpg\n",
            "Saving Persian_54.jpg to Persian_54 (1).jpg\n",
            "Saving wheaten_terrier_82.jpg to wheaten_terrier_82 (1).jpg\n",
            "Saving wheaten_terrier_109.jpg to wheaten_terrier_109 (1).jpg\n",
            "Saving Persian_161.jpg to Persian_161 (1).jpg\n",
            "Saving leonberger_33.jpg to leonberger_33 (1).jpg\n",
            "Saving Abyssinian_176.jpg to Abyssinian_176 (1).jpg\n",
            "Saving Abyssinian_148.jpg to Abyssinian_148 (1).jpg\n",
            "Saving leonberger_64.jpg to leonberger_64 (1).jpg\n",
            "Saving Persian_1.jpg to Persian_1 (1).jpg\n",
            "Saving Persian_102.jpg to Persian_102 (1).jpg\n",
            "Saving Abyssinian_216.jpg to Abyssinian_216 (1).jpg\n",
            "Saving Persian_52.jpg to Persian_52 (1).jpg\n",
            "Saving Persian_137.jpg to Persian_137 (1).jpg\n",
            "Saving Abyssinian_24.jpg to Abyssinian_24 (1).jpg\n",
            "Saving wheaten_terrier_8.jpg to wheaten_terrier_8 (1).jpg\n",
            "Saving leonberger_50.jpg to leonberger_50 (1).jpg\n",
            "Saving Abyssinian_20.jpg to Abyssinian_20 (1).jpg\n",
            "Saving Persian_98.jpg to Persian_98 (1).jpg\n",
            "Saving wheaten_terrier_91.jpg to wheaten_terrier_91 (1).jpg\n",
            "Saving leonberger_172.jpg to leonberger_172 (1).jpg\n",
            "Saving leonberger_128.jpg to leonberger_128 (1).jpg\n",
            "Saving Persian_69.jpg to Persian_69 (1).jpg\n",
            "Saving Persian_192.jpg to Persian_192 (1).jpg\n",
            "Saving leonberger_184.jpg to leonberger_184 (1).jpg\n",
            "Saving leonberger_39.jpg to leonberger_39 (1).jpg\n",
            "Saving leonberger_18.jpg to leonberger_18 (1).jpg\n",
            "Saving leonberger_107.jpg to leonberger_107 (1).jpg\n",
            "Saving wheaten_terrier_79.jpg to wheaten_terrier_79 (1).jpg\n",
            "Saving wheaten_terrier_137.jpg to wheaten_terrier_137 (1).jpg\n",
            "Saving Abyssinian_27.jpg to Abyssinian_27 (1).jpg\n",
            "Saving wheaten_terrier_57.jpg to wheaten_terrier_57 (1).jpg\n",
            "Saving leonberger_93.jpg to leonberger_93 (1).jpg\n",
            "Saving Abyssinian_146.jpg to Abyssinian_146 (1).jpg\n",
            "Saving leonberger_162.jpg to leonberger_162 (1).jpg\n",
            "Saving Abyssinian_184.jpg to Abyssinian_184 (1).jpg\n",
            "Saving Persian_191.jpg to Persian_191 (1).jpg\n",
            "Saving leonberger_34.jpg to leonberger_34 (1).jpg\n",
            "Saving wheaten_terrier_24.jpg to wheaten_terrier_24 (1).jpg\n",
            "Saving Persian_83.jpg to Persian_83 (1).jpg\n",
            "Saving Persian_162.jpg to Persian_162 (1).jpg\n",
            "Saving Persian_126.jpg to Persian_126 (1).jpg\n",
            "Saving Persian_86.jpg to Persian_86 (1).jpg\n",
            "Saving Persian_271.jpg to Persian_271 (1).jpg\n",
            "Saving Persian_5.jpg to Persian_5 (1).jpg\n",
            "Saving Abyssinian_134.jpg to Abyssinian_134 (1).jpg\n",
            "Saving wheaten_terrier_157.jpg to wheaten_terrier_157 (1).jpg\n",
            "Saving Abyssinian_95.jpg to Abyssinian_95 (1).jpg\n",
            "Saving wheaten_terrier_185.jpg to wheaten_terrier_185 (1).jpg\n",
            "Saving wheaten_terrier_169.jpg to wheaten_terrier_169 (1).jpg\n",
            "Saving leonberger_125.jpg to leonberger_125 (1).jpg\n",
            "Saving Abyssinian_74.jpg to Abyssinian_74 (1).jpg\n",
            "Saving Abyssinian_121.jpg to Abyssinian_121 (1).jpg\n",
            "Saving Persian_143.jpg to Persian_143 (1).jpg\n",
            "Saving Abyssinian_177.jpg to Abyssinian_177 (1).jpg\n",
            "Saving leonberger_83.jpg to leonberger_83 (1).jpg\n",
            "Saving Abyssinian_54.jpg to Abyssinian_54 (1).jpg\n",
            "Saving wheaten_terrier_73.jpg to wheaten_terrier_73 (1).jpg\n",
            "Saving wheaten_terrier_131.jpg to wheaten_terrier_131 (1).jpg\n",
            "Saving leonberger_150.jpg to leonberger_150 (1).jpg\n",
            "Saving wheaten_terrier_99.jpg to wheaten_terrier_99 (1).jpg\n",
            "Saving Abyssinian_135.jpg to Abyssinian_135 (1).jpg\n",
            "Saving wheaten_terrier_74.jpg to wheaten_terrier_74 (1).jpg\n",
            "Saving Persian_95.jpg to Persian_95 (1).jpg\n",
            "Saving wheaten_terrier_147.jpg to wheaten_terrier_147 (1).jpg\n",
            "Saving Abyssinian_225.jpg to Abyssinian_225 (1).jpg\n",
            "Saving leonberger_118.jpg to leonberger_118 (1).jpg\n",
            "Saving leonberger_140.jpg to leonberger_140 (1).jpg\n",
            "Saving Abyssinian_104.jpg to Abyssinian_104 (1).jpg\n",
            "Saving wheaten_terrier_41.jpg to wheaten_terrier_41 (1).jpg\n",
            "Saving Persian_111.jpg to Persian_111 (1).jpg\n",
            "Saving leonberger_25.jpg to leonberger_25 (1).jpg\n",
            "Saving Abyssinian_232.jpg to Abyssinian_232 (1).jpg\n",
            "Saving Abyssinian_84.jpg to Abyssinian_84 (1).jpg\n",
            "Saving Abyssinian_11.jpg to Abyssinian_11 (1).jpg\n",
            "Saving Persian_40.jpg to Persian_40 (1).jpg\n",
            "Saving leonberger_44.jpg to leonberger_44 (1).jpg\n",
            "Saving Abyssinian_138.jpg to Abyssinian_138 (1).jpg\n",
            "Saving wheaten_terrier_143.jpg to wheaten_terrier_143 (1).jpg\n",
            "Saving wheaten_terrier_175.jpg to wheaten_terrier_175 (1).jpg\n",
            "Saving Persian_125.jpg to Persian_125 (1).jpg\n",
            "Saving Persian_150.jpg to Persian_150 (1).jpg\n",
            "Saving leonberger_85.jpg to leonberger_85 (1).jpg\n",
            "Saving Persian_168.jpg to Persian_168 (1).jpg\n",
            "Saving Persian_107.jpg to Persian_107 (1).jpg\n",
            "Saving Abyssinian_107.jpg to Abyssinian_107 (1).jpg\n",
            "Saving wheaten_terrier_22.jpg to wheaten_terrier_22 (1).jpg\n",
            "Saving wheaten_terrier_126.jpg to wheaten_terrier_126 (1).jpg\n",
            "Saving wheaten_terrier_103.jpg to wheaten_terrier_103 (1).jpg\n",
            "Saving Persian_262.jpg to Persian_262 (1).jpg\n",
            "Saving wheaten_terrier_83.jpg to wheaten_terrier_83 (1).jpg\n",
            "Saving wheaten_terrier_27.jpg to wheaten_terrier_27 (1).jpg\n",
            "Saving Abyssinian_103.jpg to Abyssinian_103 (1).jpg\n",
            "Saving Abyssinian_60.jpg to Abyssinian_60 (1).jpg\n",
            "Saving Abyssinian_154.jpg to Abyssinian_154 (1).jpg\n",
            "Saving Persian_18.jpg to Persian_18 (1).jpg\n",
            "Saving leonberger_113.jpg to leonberger_113 (1).jpg\n",
            "Saving Abyssinian_118.jpg to Abyssinian_118 (1).jpg\n",
            "Saving Persian_239.jpg to Persian_239 (1).jpg\n",
            "Saving Abyssinian_80.jpg to Abyssinian_80 (1).jpg\n",
            "Saving Persian_263.jpg to Persian_263 (1).jpg\n",
            "Saving leonberger_195.jpg to leonberger_195 (1).jpg\n",
            "Saving wheaten_terrier_160.jpg to wheaten_terrier_160 (1).jpg\n",
            "Saving wheaten_terrier_194.jpg to wheaten_terrier_194 (1).jpg\n",
            "Saving Persian_118.jpg to Persian_118 (1).jpg\n",
            "Saving wheaten_terrier_177.jpg to wheaten_terrier_177 (1).jpg\n",
            "Saving Persian_34.jpg to Persian_34 (1).jpg\n",
            "Saving Persian_272.jpg to Persian_272 (1).jpg\n",
            "Saving Persian_221.jpg to Persian_221 (1).jpg\n",
            "Saving Abyssinian_143.jpg to Abyssinian_143 (1).jpg\n",
            "Saving Abyssinian_98.jpg to Abyssinian_98 (1).jpg\n",
            "Saving wheaten_terrier_192.jpg to wheaten_terrier_192 (1).jpg\n",
            "Saving Abyssinian_78.jpg to Abyssinian_78 (1).jpg\n",
            "Saving leonberger_73.jpg to leonberger_73 (1).jpg\n",
            "Saving leonberger_36.jpg to leonberger_36 (1).jpg\n",
            "Saving Abyssinian_2.jpg to Abyssinian_2 (1).jpg\n",
            "Saving Abyssinian_72.jpg to Abyssinian_72 (1).jpg\n",
            "Saving Persian_49.jpg to Persian_49 (1).jpg\n",
            "Saving wheaten_terrier_148.jpg to wheaten_terrier_148 (1).jpg\n",
            "Saving Abyssinian_190.jpg to Abyssinian_190 (1).jpg\n",
            "Saving leonberger_100.jpg to leonberger_100 (1).jpg\n",
            "Saving wheaten_terrier_140.jpg to wheaten_terrier_140 (1).jpg\n",
            "Saving leonberger_7.jpg to leonberger_7 (1).jpg\n",
            "Saving leonberger_198.jpg to leonberger_198 (1).jpg\n",
            "Saving Persian_259.jpg to Persian_259 (1).jpg\n",
            "Saving leonberger_165.jpg to leonberger_165 (1).jpg\n",
            "Saving Abyssinian_207.jpg to Abyssinian_207 (1).jpg\n",
            "Saving wheaten_terrier_63.jpg to wheaten_terrier_63 (1).jpg\n",
            "Saving leonberger_31.jpg to leonberger_31 (1).jpg\n",
            "Saving Persian_55.jpg to Persian_55 (1).jpg\n",
            "Saving Persian_42.jpg to Persian_42 (1).jpg\n",
            "Saving Persian_164.jpg to Persian_164 (1).jpg\n",
            "Saving wheaten_terrier_29.jpg to wheaten_terrier_29 (1).jpg\n",
            "Saving wheaten_terrier_195.jpg to wheaten_terrier_195 (1).jpg\n",
            "Saving leonberger_96.jpg to leonberger_96 (1).jpg\n",
            "Saving Abyssinian_48.jpg to Abyssinian_48 (1).jpg\n",
            "Saving wheaten_terrier_154.jpg to wheaten_terrier_154 (1).jpg\n",
            "Saving wheaten_terrier_42.jpg to wheaten_terrier_42 (1).jpg\n",
            "Saving Persian_108.jpg to Persian_108 (1).jpg\n",
            "Saving wheaten_terrier_118.jpg to wheaten_terrier_118 (1).jpg\n",
            "Saving Abyssinian_57.jpg to Abyssinian_57 (1).jpg\n",
            "Saving Abyssinian_89.jpg to Abyssinian_89 (1).jpg\n",
            "Saving Abyssinian_152.jpg to Abyssinian_152 (1).jpg\n",
            "Saving Abyssinian_50.jpg to Abyssinian_50 (1).jpg\n",
            "Saving leonberger_129.jpg to leonberger_129 (1).jpg\n",
            "Saving wheaten_terrier_168.jpg to wheaten_terrier_168 (1).jpg\n",
            "Saving Persian_195.jpg to Persian_195 (1).jpg\n",
            "Saving wheaten_terrier_151.jpg to wheaten_terrier_151 (1).jpg\n",
            "Saving leonberger_97.jpg to leonberger_97 (1).jpg\n",
            "Saving Persian_273.jpg to Persian_273 (1).jpg\n",
            "Saving wheaten_terrier_113.jpg to wheaten_terrier_113 (1).jpg\n",
            "Saving leonberger_137.jpg to leonberger_137 (1).jpg\n",
            "Saving Abyssinian_56.jpg to Abyssinian_56 (1).jpg\n",
            "Saving Abyssinian_141.jpg to Abyssinian_141 (1).jpg\n",
            "Saving Persian_12.jpg to Persian_12 (1).jpg\n",
            "Saving Persian_170.jpg to Persian_170 (1).jpg\n",
            "Saving Persian_7.jpg to Persian_7 (1).jpg\n",
            "Saving wheaten_terrier_85.jpg to wheaten_terrier_85 (1).jpg\n",
            "Saving Abyssinian_102.jpg to Abyssinian_102 (1).jpg\n",
            "Saving leonberger_126.jpg to leonberger_126 (1).jpg\n",
            "Saving Persian_176.jpg to Persian_176 (1).jpg\n",
            "Saving leonberger_70.jpg to leonberger_70 (1).jpg\n",
            "Saving Abyssinian_12.jpg to Abyssinian_12 (1).jpg\n",
            "Saving wheaten_terrier_135.jpg to wheaten_terrier_135 (1).jpg\n",
            "Saving Abyssinian_193.jpg to Abyssinian_193 (1).jpg\n",
            "Saving leonberger_23.jpg to leonberger_23 (1).jpg\n",
            "Saving Persian_68.jpg to Persian_68 (1).jpg\n",
            "Saving leonberger_163.jpg to leonberger_163 (1).jpg\n",
            "Saving wheaten_terrier_149.jpg to wheaten_terrier_149 (1).jpg\n",
            "Saving wheaten_terrier_162.jpg to wheaten_terrier_162 (1).jpg\n",
            "Saving wheaten_terrier_132.jpg to wheaten_terrier_132 (1).jpg\n",
            "Saving Persian_16.jpg to Persian_16 (1).jpg\n",
            "Saving Abyssinian_160.jpg to Abyssinian_160 (1).jpg\n",
            "Saving leonberger_6.jpg to leonberger_6 (1).jpg\n",
            "Saving wheaten_terrier_62.jpg to wheaten_terrier_62 (1).jpg\n",
            "Saving leonberger_151.jpg to leonberger_151 (1).jpg\n",
            "Saving Abyssinian_122.jpg to Abyssinian_122 (1).jpg\n",
            "Saving leonberger_186.jpg to leonberger_186 (1).jpg\n",
            "Saving wheaten_terrier_96.jpg to wheaten_terrier_96 (1).jpg\n",
            "Saving Abyssinian_213.jpg to Abyssinian_213 (1).jpg\n",
            "Saving leonberger_30.jpg to leonberger_30 (1).jpg\n",
            "Saving wheaten_terrier_141.jpg to wheaten_terrier_141 (1).jpg\n",
            "Saving leonberger_156.jpg to leonberger_156 (1).jpg\n",
            "Saving leonberger_32.jpg to leonberger_32 (1).jpg\n",
            "Saving Persian_36.jpg to Persian_36 (1).jpg\n",
            "Saving Abyssinian_183.jpg to Abyssinian_183 (1).jpg\n",
            "Saving Persian_76.jpg to Persian_76 (1).jpg\n",
            "Saving leonberger_200.jpg to leonberger_200 (1).jpg\n",
            "Saving leonberger_155.jpg to leonberger_155 (1).jpg\n",
            "Saving wheaten_terrier_37.jpg to wheaten_terrier_37 (1).jpg\n",
            "Saving Abyssinian_226.jpg to Abyssinian_226 (1).jpg\n",
            "Saving leonberger_160.jpg to leonberger_160 (1).jpg\n",
            "Saving Persian_27.jpg to Persian_27 (1).jpg\n",
            "Saving leonberger_167.jpg to leonberger_167 (1).jpg\n",
            "Saving Abyssinian_25.jpg to Abyssinian_25 (1).jpg\n",
            "Saving wheaten_terrier_100.jpg to wheaten_terrier_100 (1).jpg\n",
            "Saving wheaten_terrier_66.jpg to wheaten_terrier_66 (1).jpg\n",
            "Saving Abyssinian_66.jpg to Abyssinian_66 (1).jpg\n",
            "Saving Persian_228.jpg to Persian_228 (1).jpg\n",
            "Saving leonberger_88.jpg to leonberger_88 (1).jpg\n",
            "Saving wheaten_terrier_112.jpg to wheaten_terrier_112 (1).jpg\n",
            "Saving wheaten_terrier_72.jpg to wheaten_terrier_72 (1).jpg\n",
            "Saving Persian_114.jpg to Persian_114 (1).jpg\n",
            "Saving wheaten_terrier_173.jpg to wheaten_terrier_173 (1).jpg\n",
            "Saving Persian_131.jpg to Persian_131 (1).jpg\n",
            "Saving leonberger_168.jpg to leonberger_168 (1).jpg\n",
            "Saving leonberger_75.jpg to leonberger_75 (1).jpg\n",
            "Saving Abyssinian_32.jpg to Abyssinian_32 (1).jpg\n",
            "Saving wheaten_terrier_33.jpg to wheaten_terrier_33 (1).jpg\n",
            "Saving wheaten_terrier_71.jpg to wheaten_terrier_71 (1).jpg\n",
            "Saving leonberger_169.jpg to leonberger_169 (1).jpg\n",
            "Saving Persian_62.jpg to Persian_62 (1).jpg\n",
            "Saving leonberger_45.jpg to leonberger_45 (1).jpg\n",
            "Saving leonberger_92.jpg to leonberger_92 (1).jpg\n",
            "Saving Persian_173.jpg to Persian_173 (1).jpg\n",
            "Saving Abyssinian_31.jpg to Abyssinian_31 (1).jpg\n",
            "Saving Abyssinian_19.jpg to Abyssinian_19 (1).jpg\n",
            "Saving Persian_2.jpg to Persian_2 (1).jpg\n",
            "Saving Abyssinian_116.jpg to Abyssinian_116 (1).jpg\n",
            "Saving wheaten_terrier_25.jpg to wheaten_terrier_25 (1).jpg\n",
            "Saving Abyssinian_73.jpg to Abyssinian_73 (1).jpg\n",
            "Saving Abyssinian_127.jpg to Abyssinian_127 (1).jpg\n",
            "Saving wheaten_terrier_199.jpg to wheaten_terrier_199 (1).jpg\n",
            "Saving leonberger_69.jpg to leonberger_69 (1).jpg\n",
            "Saving Abyssinian_210.jpg to Abyssinian_210 (1).jpg\n",
            "Saving Abyssinian_92.jpg to Abyssinian_92 (1).jpg\n",
            "Saving leonberger_188.jpg to leonberger_188 (1).jpg\n",
            "Saving wheaten_terrier_161.jpg to wheaten_terrier_161 (1).jpg\n",
            "Saving leonberger_49.jpg to leonberger_49 (1).jpg\n",
            "Saving leonberger_5.jpg to leonberger_5 (1).jpg\n",
            "Saving Persian_10.jpg to Persian_10 (1).jpg\n",
            "Saving wheaten_terrier_16.jpg to wheaten_terrier_16 (1).jpg\n",
            "Saving Persian_147.jpg to Persian_147 (1).jpg\n",
            "Saving Persian_78.jpg to Persian_78 (1).jpg\n",
            "Saving wheaten_terrier_156.jpg to wheaten_terrier_156 (1).jpg\n",
            "Saving wheaten_terrier_87.jpg to wheaten_terrier_87 (1).jpg\n",
            "Saving Abyssinian_13.jpg to Abyssinian_13 (1).jpg\n",
            "Saving Persian_136.jpg to Persian_136 (1).jpg\n",
            "Saving Abyssinian_5.jpg to Abyssinian_5 (1).jpg\n",
            "Saving Abyssinian_230.jpg to Abyssinian_230 (1).jpg\n",
            "Saving leonberger_177.jpg to leonberger_177 (1).jpg\n",
            "Saving leonberger_57.jpg to leonberger_57 (1).jpg\n",
            "Saving Persian_267.jpg to Persian_267 (1).jpg\n",
            "Saving Persian_85.jpg to Persian_85 (1).jpg\n",
            "Saving Abyssinian_90.jpg to Abyssinian_90 (1).jpg\n",
            "Saving Abyssinian_105.jpg to Abyssinian_105 (1).jpg\n",
            "Saving Abyssinian_109.jpg to Abyssinian_109 (1).jpg\n",
            "Saving wheaten_terrier_86.jpg to wheaten_terrier_86 (1).jpg\n",
            "Saving leonberger_176.jpg to leonberger_176 (1).jpg\n",
            "Saving Abyssinian_212.jpg to Abyssinian_212 (1).jpg\n",
            "Saving wheaten_terrier_170.jpg to wheaten_terrier_170 (1).jpg\n",
            "Saving Persian_15.jpg to Persian_15 (1).jpg\n",
            "Saving Persian_105.jpg to Persian_105 (1).jpg\n",
            "Saving Abyssinian_33.jpg to Abyssinian_33 (1).jpg\n",
            "Saving wheaten_terrier_180.jpg to wheaten_terrier_180 (1).jpg\n",
            "Saving Persian_63.jpg to Persian_63 (1).jpg\n",
            "Saving wheaten_terrier_153.jpg to wheaten_terrier_153 (1).jpg\n",
            "Saving Abyssinian_75.jpg to Abyssinian_75 (1).jpg\n",
            "Saving Persian_135.jpg to Persian_135 (1).jpg\n",
            "Saving Persian_270.jpg to Persian_270 (1).jpg\n",
            "Saving wheaten_terrier_133.jpg to wheaten_terrier_133 (1).jpg\n",
            "Saving leonberger_76.jpg to leonberger_76 (1).jpg\n",
            "Saving Persian_89.jpg to Persian_89 (1).jpg\n",
            "Saving Persian_180.jpg to Persian_180 (1).jpg\n",
            "Saving leonberger_10.jpg to leonberger_10 (1).jpg\n",
            "Saving Abyssinian_139.jpg to Abyssinian_139 (1).jpg\n",
            "Saving Persian_265.jpg to Persian_265 (1).jpg\n",
            "Saving Persian_30.jpg to Persian_30 (1).jpg\n",
            "Saving leonberger_191.jpg to leonberger_191 (1).jpg\n",
            "Saving wheaten_terrier_77.jpg to wheaten_terrier_77 (1).jpg\n",
            "Saving leonberger_153.jpg to leonberger_153 (1).jpg\n",
            "Saving leonberger_27.jpg to leonberger_27 (1).jpg\n",
            "Saving Persian_20.jpg to Persian_20 (1).jpg\n",
            "Saving wheaten_terrier_166.jpg to wheaten_terrier_166 (1).jpg\n",
            "Saving wheaten_terrier_127.jpg to wheaten_terrier_127 (1).jpg\n",
            "Saving leonberger_14.jpg to leonberger_14 (1).jpg\n",
            "Saving wheaten_terrier_21.jpg to wheaten_terrier_21 (1).jpg\n",
            "Saving Persian_13.jpg to Persian_13 (1).jpg\n",
            "Saving Abyssinian_150.jpg to Abyssinian_150 (1).jpg\n",
            "Saving leonberger_9.jpg to leonberger_9 (1).jpg\n",
            "Saving wheaten_terrier_3.jpg to wheaten_terrier_3 (1).jpg\n",
            "Saving Persian_97.jpg to Persian_97 (1).jpg\n",
            "Saving Persian_140.jpg to Persian_140 (1).jpg\n",
            "Saving Abyssinian_62.jpg to Abyssinian_62 (1).jpg\n",
            "Saving Persian_261.jpg to Persian_261 (1).jpg\n",
            "Saving Persian_112.jpg to Persian_112 (1).jpg\n",
            "Saving Persian_45.jpg to Persian_45 (1).jpg\n",
            "Saving wheaten_terrier_165.jpg to wheaten_terrier_165 (1).jpg\n",
            "Saving leonberger_80.jpg to leonberger_80 (1).jpg\n",
            "Saving Persian_37.jpg to Persian_37 (1).jpg\n",
            "Saving Persian_264.jpg to Persian_264 (1).jpg\n",
            "Saving wheaten_terrier_92.jpg to wheaten_terrier_92 (1).jpg\n",
            "Saving Abyssinian_101.jpg to Abyssinian_101 (1).jpg\n",
            "Saving wheaten_terrier_176.jpg to wheaten_terrier_176 (1).jpg\n",
            "Saving wheaten_terrier_35.jpg to wheaten_terrier_35 (1).jpg\n",
            "Saving Abyssinian_91.jpg to Abyssinian_91 (1).jpg\n",
            "Saving Persian_171.jpg to Persian_171 (1).jpg\n",
            "Saving Abyssinian_128.jpg to Abyssinian_128 (1).jpg\n",
            "Saving Persian_121.jpg to Persian_121 (1).jpg\n",
            "Saving Persian_51.jpg to Persian_51 (1).jpg\n",
            "Saving Abyssinian_144.jpg to Abyssinian_144 (1).jpg\n",
            "Saving leonberger_4.jpg to leonberger_4 (1).jpg\n",
            "Saving wheaten_terrier_163.jpg to wheaten_terrier_163 (1).jpg\n",
            "Saving Persian_22.jpg to Persian_22 (1).jpg\n",
            "Saving Persian_166.jpg to Persian_166 (1).jpg\n",
            "Saving Persian_39.jpg to Persian_39 (1).jpg\n",
            "Saving leonberger_173.jpg to leonberger_173 (1).jpg\n",
            "Saving Abyssinian_40.jpg to Abyssinian_40 (1).jpg\n",
            "Saving Persian_58.jpg to Persian_58 (1).jpg\n",
            "Saving leonberger_138.jpg to leonberger_138 (1).jpg\n",
            "Saving Persian_60.jpg to Persian_60 (1).jpg\n",
            "Saving leonberger_108.jpg to leonberger_108 (1).jpg\n",
            "Saving Persian_21.jpg to Persian_21 (1).jpg\n",
            "Saving wheaten_terrier_155.jpg to wheaten_terrier_155 (1).jpg\n",
            "Saving leonberger_120.jpg to leonberger_120 (1).jpg\n",
            "Saving wheaten_terrier_107.jpg to wheaten_terrier_107 (1).jpg\n",
            "Saving Abyssinian_93.jpg to Abyssinian_93 (1).jpg\n",
            "Saving wheaten_terrier_90.jpg to wheaten_terrier_90 (1).jpg\n",
            "Saving wheaten_terrier_55.jpg to wheaten_terrier_55 (1).jpg\n",
            "Saving Persian_132.jpg to Persian_132 (1).jpg\n",
            "Saving wheaten_terrier_182.jpg to wheaten_terrier_182 (1).jpg\n",
            "Saving wheaten_terrier_50.jpg to wheaten_terrier_50 (1).jpg\n",
            "Saving wheaten_terrier_145.jpg to wheaten_terrier_145 (1).jpg\n",
            "Saving Abyssinian_191.jpg to Abyssinian_191 (1).jpg\n",
            "Saving wheaten_terrier_152.jpg to wheaten_terrier_152 (1).jpg\n",
            "Saving wheaten_terrier_40.jpg to wheaten_terrier_40 (1).jpg\n",
            "Saving leonberger_127.jpg to leonberger_127 (1).jpg\n",
            "Saving leonberger_53.jpg to leonberger_53 (1).jpg\n",
            "Saving wheaten_terrier_125.jpg to wheaten_terrier_125 (1).jpg\n",
            "Saving Abyssinian_131.jpg to Abyssinian_131 (1).jpg\n",
            "Saving Persian_87.jpg to Persian_87 (1).jpg\n",
            "Saving wheaten_terrier_104.jpg to wheaten_terrier_104 (1).jpg\n",
            "Saving wheaten_terrier_172.jpg to wheaten_terrier_172 (1).jpg\n",
            "Saving Abyssinian_7.jpg to Abyssinian_7 (1).jpg\n",
            "Saving Persian_11.jpg to Persian_11 (1).jpg\n",
            "Saving leonberger_21.jpg to leonberger_21 (1).jpg\n",
            "Saving leonberger_56.jpg to leonberger_56 (1).jpg\n",
            "Saving leonberger_61.jpg to leonberger_61 (1).jpg\n",
            "Saving Abyssinian_197.jpg to Abyssinian_197 (1).jpg\n",
            "Saving wheaten_terrier_2.jpg to wheaten_terrier_2 (1).jpg\n",
            "Saving Abyssinian_223.jpg to Abyssinian_223 (1).jpg\n",
            "Saving leonberger_38.jpg to leonberger_38 (1).jpg\n",
            "Saving Persian_172.jpg to Persian_172 (1).jpg\n",
            "Saving Persian_106.jpg to Persian_106 (1).jpg\n",
            "Saving wheaten_terrier_61.jpg to wheaten_terrier_61 (1).jpg\n",
            "Saving Persian_189.jpg to Persian_189 (1).jpg\n",
            "Saving Persian_53.jpg to Persian_53 (1).jpg\n",
            "Saving Persian_46.jpg to Persian_46 (1).jpg\n",
            "Saving Persian_70.jpg to Persian_70 (1).jpg\n",
            "Saving Persian_200.jpg to Persian_200 (1).jpg\n",
            "Saving Abyssinian_133.jpg to Abyssinian_133 (1).jpg\n",
            "Saving leonberger_43.jpg to leonberger_43 (1).jpg\n",
            "Saving wheaten_terrier_200.jpg to wheaten_terrier_200 (1).jpg\n",
            "Saving leonberger_183.jpg to leonberger_183 (1).jpg\n",
            "Saving Abyssinian_224.jpg to Abyssinian_224 (1).jpg\n",
            "Saving Abyssinian_67.jpg to Abyssinian_67 (1).jpg\n",
            "Saving Abyssinian_149.jpg to Abyssinian_149 (1).jpg\n",
            "Saving wheaten_terrier_108.jpg to wheaten_terrier_108 (1).jpg\n",
            "Saving wheaten_terrier_56.jpg to wheaten_terrier_56 (1).jpg\n",
            "Saving Persian_71.jpg to Persian_71 (1).jpg\n",
            "Saving leonberger_146.jpg to leonberger_146 (1).jpg\n",
            "Saving leonberger_72.jpg to leonberger_72 (1).jpg\n",
            "Saving wheaten_terrier_144.jpg to wheaten_terrier_144 (1).jpg\n",
            "Saving wheaten_terrier_80.jpg to wheaten_terrier_80 (1).jpg\n",
            "Saving wheaten_terrier_10.jpg to wheaten_terrier_10 (1).jpg\n",
            "Saving Persian_269.jpg to Persian_269 (1).jpg\n",
            "Saving leonberger_63.jpg to leonberger_63 (1).jpg\n",
            "Saving Persian_179.jpg to Persian_179 (1).jpg\n",
            "Saving leonberger_159.jpg to leonberger_159 (1).jpg\n",
            "Saving wheaten_terrier_191.jpg to wheaten_terrier_191 (1).jpg\n",
            "Saving leonberger_55.jpg to leonberger_55 (1).jpg\n",
            "Saving Abyssinian_49.jpg to Abyssinian_49 (1).jpg\n",
            "Saving Abyssinian_215.jpg to Abyssinian_215 (1).jpg\n",
            "Saving leonberger_193.jpg to leonberger_193 (1).jpg\n",
            "Saving Abyssinian_81.jpg to Abyssinian_81 (1).jpg\n",
            "Saving Persian_77.jpg to Persian_77 (1).jpg\n",
            "Saving Persian_175.jpg to Persian_175 (1).jpg\n",
            "Saving leonberger_147.jpg to leonberger_147 (1).jpg\n",
            "Saving Persian_185.jpg to Persian_185 (1).jpg\n",
            "Saving Abyssinian_126.jpg to Abyssinian_126 (1).jpg\n",
            "Saving Persian_117.jpg to Persian_117 (1).jpg\n",
            "Saving wheaten_terrier_187.jpg to wheaten_terrier_187 (1).jpg\n",
            "Saving leonberger_134.jpg to leonberger_134 (1).jpg\n",
            "Saving Persian_14.jpg to Persian_14 (1).jpg\n",
            "Saving Abyssinian_115.jpg to Abyssinian_115 (1).jpg\n",
            "Saving leonberger_110.jpg to leonberger_110 (1).jpg\n",
            "Saving Abyssinian_83.jpg to Abyssinian_83 (1).jpg\n",
            "Saving Abyssinian_29.jpg to Abyssinian_29 (1).jpg\n",
            "Saving leonberger_47.jpg to leonberger_47 (1).jpg\n",
            "Saving Abyssinian_130.jpg to Abyssinian_130 (1).jpg\n",
            "Saving Abyssinian_156.jpg to Abyssinian_156 (1).jpg\n",
            "Saving Abyssinian_168.jpg to Abyssinian_168 (1).jpg\n",
            "Saving wheaten_terrier_95.jpg to wheaten_terrier_95 (1).jpg\n",
            "Saving Persian_17.jpg to Persian_17 (1).jpg\n",
            "Saving Persian_65.jpg to Persian_65 (1).jpg\n",
            "Saving Abyssinian_157.jpg to Abyssinian_157 (1).jpg\n",
            "Saving Abyssinian_3.jpg to Abyssinian_3 (1).jpg\n",
            "Saving leonberger_65.jpg to leonberger_65 (1).jpg\n",
            "Saving wheaten_terrier_45.jpg to wheaten_terrier_45 (1).jpg\n",
            "Saving wheaten_terrier_52.jpg to wheaten_terrier_52 (1).jpg\n",
            "Saving Persian_158.jpg to Persian_158 (1).jpg\n",
            "Saving leonberger_174.jpg to leonberger_174 (1).jpg\n",
            "Saving Persian_79.jpg to Persian_79 (1).jpg\n",
            "Saving Abyssinian_179.jpg to Abyssinian_179 (1).jpg\n",
            "Saving Persian_188.jpg to Persian_188 (1).jpg\n",
            "Saving wheaten_terrier_70.jpg to wheaten_terrier_70 (1).jpg\n",
            "Saving Persian_153.jpg to Persian_153 (1).jpg\n",
            "Saving leonberger_119.jpg to leonberger_119 (1).jpg\n",
            "Saving Persian_233.jpg to Persian_233 (1).jpg\n",
            "Saving wheaten_terrier_69.jpg to wheaten_terrier_69 (1).jpg\n",
            "Saving wheaten_terrier_26.jpg to wheaten_terrier_26 (1).jpg\n",
            "Saving wheaten_terrier_101.jpg to wheaten_terrier_101 (1).jpg\n",
            "Saving Persian_81.jpg to Persian_81 (1).jpg\n",
            "Saving Persian_116.jpg to Persian_116 (1).jpg\n",
            "Saving wheaten_terrier_115.jpg to wheaten_terrier_115 (1).jpg\n",
            "Saving leonberger_84.jpg to leonberger_84 (1).jpg\n",
            "Saving Persian_101.jpg to Persian_101 (1).jpg\n",
            "Saving Abyssinian_55.jpg to Abyssinian_55 (1).jpg\n",
            "Saving leonberger_58.jpg to leonberger_58 (1).jpg\n",
            "Saving leonberger_131.jpg to leonberger_131 (1).jpg\n",
            "Saving Abyssinian_17.jpg to Abyssinian_17 (1).jpg\n",
            "Saving leonberger_192.jpg to leonberger_192 (1).jpg\n",
            "Saving leonberger_91.jpg to leonberger_91 (1).jpg\n",
            "Saving wheaten_terrier_36.jpg to wheaten_terrier_36 (1).jpg\n",
            "Saving wheaten_terrier_17.jpg to wheaten_terrier_17 (1).jpg\n",
            "Saving Abyssinian_8.jpg to Abyssinian_8 (1).jpg\n",
            "Saving wheaten_terrier_94.jpg to wheaten_terrier_94 (1).jpg\n",
            "Saving leonberger_106.jpg to leonberger_106 (1).jpg\n",
            "Saving Abyssinian_108.jpg to Abyssinian_108 (1).jpg\n",
            "Saving Abyssinian_201.jpg to Abyssinian_201 (1).jpg\n",
            "Saving Abyssinian_192.jpg to Abyssinian_192 (1).jpg\n",
            "Saving wheaten_terrier_64.jpg to wheaten_terrier_64 (1).jpg\n",
            "Saving Persian_194.jpg to Persian_194 (1).jpg\n",
            "Saving Persian_133.jpg to Persian_133 (1).jpg\n",
            "Saving leonberger_117.jpg to leonberger_117 (1).jpg\n",
            "Saving Abyssinian_110.jpg to Abyssinian_110 (1).jpg\n",
            "Saving leonberger_115.jpg to leonberger_115 (1).jpg\n",
            "Saving Persian_187.jpg to Persian_187 (1).jpg\n",
            "Saving Persian_139.jpg to Persian_139 (1).jpg\n",
            "Saving leonberger_79.jpg to leonberger_79 (1).jpg\n",
            "Saving wheaten_terrier_75.jpg to wheaten_terrier_75 (1).jpg\n",
            "Saving wheaten_terrier_84.jpg to wheaten_terrier_84 (1).jpg\n",
            "Saving leonberger_12.jpg to leonberger_12 (1).jpg\n",
            "Saving Persian_6.jpg to Persian_6 (1).jpg\n",
            "Saving Abyssinian_94.jpg to Abyssinian_94 (1).jpg\n",
            "Saving Persian_155.jpg to Persian_155 (1).jpg\n",
            "Saving leonberger_1.jpg to leonberger_1 (1).jpg\n",
            "Saving Abyssinian_151.jpg to Abyssinian_151 (1).jpg\n",
            "Saving Persian_72.jpg to Persian_72 (1).jpg\n",
            "Saving wheaten_terrier_39.jpg to wheaten_terrier_39 (1).jpg\n",
            "Saving Persian_28.jpg to Persian_28 (1).jpg\n",
            "Saving wheaten_terrier_58.jpg to wheaten_terrier_58 (1).jpg\n",
            "Saving leonberger_154.jpg to leonberger_154 (1).jpg\n",
            "Saving Persian_26.jpg to Persian_26 (1).jpg\n",
            "Saving wheaten_terrier_32.jpg to wheaten_terrier_32 (1).jpg\n",
            "Saving Abyssinian_112.jpg to Abyssinian_112 (1).jpg\n",
            "Saving leonberger_20.jpg to leonberger_20 (1).jpg\n",
            "Saving wheaten_terrier_98.jpg to wheaten_terrier_98 (1).jpg\n",
            "Saving leonberger_102.jpg to leonberger_102 (1).jpg\n",
            "Saving leonberger_15.jpg to leonberger_15 (1).jpg\n",
            "Saving Abyssinian_87.jpg to Abyssinian_87 (1).jpg\n",
            "Saving Persian_38.jpg to Persian_38 (1).jpg\n",
            "Saving wheaten_terrier_128.jpg to wheaten_terrier_128 (1).jpg\n",
            "Saving wheaten_terrier_7.jpg to wheaten_terrier_7 (1).jpg\n",
            "Saving Abyssinian_202.jpg to Abyssinian_202 (1).jpg\n",
            "Saving wheaten_terrier_89.jpg to wheaten_terrier_89 (1).jpg\n",
            "Saving Abyssinian_170.jpg to Abyssinian_170 (1).jpg\n",
            "Saving leonberger_37.jpg to leonberger_37 (1).jpg\n",
            "Saving wheaten_terrier_81.jpg to wheaten_terrier_81 (1).jpg\n",
            "Saving leonberger_180.jpg to leonberger_180 (1).jpg\n",
            "Saving Abyssinian_22.jpg to Abyssinian_22 (1).jpg\n",
            "Saving Persian_90.jpg to Persian_90 (1).jpg\n",
            "Saving Persian_88.jpg to Persian_88 (1).jpg\n",
            "Saving wheaten_terrier_198.jpg to wheaten_terrier_198 (1).jpg\n",
            "Saving leonberger_101.jpg to leonberger_101 (1).jpg\n",
            "Saving leonberger_199.jpg to leonberger_199 (1).jpg\n",
            "Saving leonberger_170.jpg to leonberger_170 (1).jpg\n",
            "Saving Persian_193.jpg to Persian_193 (1).jpg\n",
            "Saving wheaten_terrier_12.jpg to wheaten_terrier_12 (1).jpg\n",
            "Saving Persian_123.jpg to Persian_123 (1).jpg\n",
            "Saving Persian_29.jpg to Persian_29 (1).jpg\n",
            "Saving Persian_184.jpg to Persian_184 (1).jpg\n",
            "Saving wheaten_terrier_167.jpg to wheaten_terrier_167 (1).jpg\n",
            "Saving wheaten_terrier_60.jpg to wheaten_terrier_60 (1).jpg\n",
            "Saving Persian_138.jpg to Persian_138 (1).jpg\n",
            "Saving Persian_201.jpg to Persian_201 (1).jpg\n",
            "Saving Abyssinian_129.jpg to Abyssinian_129 (1).jpg\n",
            "Saving Persian_141.jpg to Persian_141 (1).jpg\n",
            "Saving wheaten_terrier_134.jpg to wheaten_terrier_134 (1).jpg\n",
            "Saving Abyssinian_166.jpg to Abyssinian_166 (1).jpg\n",
            "Saving leonberger_114.jpg to leonberger_114 (1).jpg\n",
            "Saving wheaten_terrier_179.jpg to wheaten_terrier_179 (1).jpg\n",
            "Saving wheaten_terrier_120.jpg to wheaten_terrier_120 (1).jpg\n",
            "Saving Abyssinian_113.jpg to Abyssinian_113 (1).jpg\n",
            "Saving leonberger_51.jpg to leonberger_51 (1).jpg\n",
            "Saving wheaten_terrier_54.jpg to wheaten_terrier_54 (1).jpg\n",
            "Saving wheaten_terrier_106.jpg to wheaten_terrier_106 (1).jpg\n",
            "Saving wheaten_terrier_59.jpg to wheaten_terrier_59 (1).jpg\n",
            "Saving Persian_217.jpg to Persian_217 (1).jpg\n",
            "Saving wheaten_terrier_97.jpg to wheaten_terrier_97 (1).jpg\n",
            "Saving leonberger_124.jpg to leonberger_124 (1).jpg\n",
            "Saving Persian_8.jpg to Persian_8 (1).jpg\n",
            "Saving leonberger_99.jpg to leonberger_99 (1).jpg\n",
            "Saving Persian_255.jpg to Persian_255 (1).jpg\n",
            "Saving leonberger_152.jpg to leonberger_152 (1).jpg\n",
            "Saving Abyssinian_44.jpg to Abyssinian_44 (1).jpg\n",
            "Saving wheaten_terrier_174.jpg to wheaten_terrier_174 (1).jpg\n",
            "Saving Abyssinian_124.jpg to Abyssinian_124 (1).jpg\n",
            "Saving leonberger_87.jpg to leonberger_87 (1).jpg\n",
            "Saving Persian_258.jpg to Persian_258 (1).jpg\n",
            "Saving Abyssinian_76.jpg to Abyssinian_76 (1).jpg\n",
            "Saving Persian_74.jpg to Persian_74 (1).jpg\n",
            "Saving wheaten_terrier_105.jpg to wheaten_terrier_105 (1).jpg\n",
            "Saving Abyssinian_68.jpg to Abyssinian_68 (1).jpg\n",
            "Saving Persian_159.jpg to Persian_159 (1).jpg\n",
            "Saving Abyssinian_88.jpg to Abyssinian_88 (1).jpg\n",
            "Saving Abyssinian_120.jpg to Abyssinian_120 (1).jpg\n",
            "Saving leonberger_141.jpg to leonberger_141 (1).jpg\n",
            "Saving leonberger_52.jpg to leonberger_52 (1).jpg\n",
            "Saving Persian_94.jpg to Persian_94 (1).jpg\n",
            "Saving wheaten_terrier_181.jpg to wheaten_terrier_181 (1).jpg\n",
            "Saving Abyssinian_205.jpg to Abyssinian_205 (1).jpg\n",
            "Saving leonberger_116.jpg to leonberger_116 (1).jpg\n",
            "Saving leonberger_121.jpg to leonberger_121 (1).jpg\n",
            "Saving wheaten_terrier_48.jpg to wheaten_terrier_48 (1).jpg\n",
            "Saving Persian_256.jpg to Persian_256 (1).jpg\n",
            "Saving leonberger_2.jpg to leonberger_2 (1).jpg\n",
            "Saving Abyssinian_96.jpg to Abyssinian_96 (1).jpg\n",
            "Saving Persian_100.jpg to Persian_100 (1).jpg\n",
            "Saving Persian_145.jpg to Persian_145 (1).jpg\n",
            "Saving Persian_206.jpg to Persian_206 (1).jpg\n",
            "Saving Persian_266.jpg to Persian_266 (1).jpg\n",
            "Saving Persian_32.jpg to Persian_32 (1).jpg\n",
            "Saving Abyssinian_16.jpg to Abyssinian_16 (1).jpg\n",
            "Saving leonberger_74.jpg to leonberger_74 (1).jpg\n",
            "Saving leonberger_86.jpg to leonberger_86 (1).jpg\n",
            "Saving leonberger_46.jpg to leonberger_46 (1).jpg\n",
            "Saving Persian_224.jpg to Persian_224 (1).jpg\n",
            "Saving leonberger_179.jpg to leonberger_179 (1).jpg\n",
            "Saving wheaten_terrier_49.jpg to wheaten_terrier_49 (1).jpg\n",
            "Saving Persian_19.jpg to Persian_19 (1).jpg\n",
            "Saving wheaten_terrier_184.jpg to wheaten_terrier_184 (1).jpg\n",
            "Saving leonberger_48.jpg to leonberger_48 (1).jpg\n",
            "Saving Persian_120.jpg to Persian_120 (1).jpg\n",
            "Saving leonberger_196.jpg to leonberger_196 (1).jpg\n",
            "Saving Abyssinian_46.jpg to Abyssinian_46 (1).jpg\n",
            "Saving Persian_182.jpg to Persian_182 (1).jpg\n",
            "Saving Persian_196.jpg to Persian_196 (1).jpg\n",
            "Saving leonberger_161.jpg to leonberger_161 (1).jpg\n",
            "Saving wheaten_terrier_138.jpg to wheaten_terrier_138 (1).jpg\n",
            "Saving wheaten_terrier_171.jpg to wheaten_terrier_171 (1).jpg\n",
            "Saving leonberger_26.jpg to leonberger_26 (1).jpg\n",
            "Saving leonberger_11.jpg to leonberger_11 (1).jpg\n",
            "Saving Persian_41.jpg to Persian_41 (1).jpg\n",
            "Saving Persian_169.jpg to Persian_169 (1).jpg\n",
            "Saving wheaten_terrier_122.jpg to wheaten_terrier_122 (1).jpg\n",
            "Saving Persian_260.jpg to Persian_260 (1).jpg\n",
            "Saving Abyssinian_221.jpg to Abyssinian_221 (1).jpg\n",
            "Saving Abyssinian_100.jpg to Abyssinian_100 (1).jpg\n",
            "Saving Persian_56.jpg to Persian_56 (1).jpg\n",
            "Saving Abyssinian_165.jpg to Abyssinian_165 (1).jpg\n",
            "Saving Persian_64.jpg to Persian_64 (1).jpg\n",
            "Saving Persian_59.jpg to Persian_59 (1).jpg\n",
            "Saving leonberger_77.jpg to leonberger_77 (1).jpg\n",
            "Saving Persian_67.jpg to Persian_67 (1).jpg\n",
            "Saving leonberger_175.jpg to leonberger_175 (1).jpg\n",
            "Saving Persian_61.jpg to Persian_61 (1).jpg\n",
            "Saving wheaten_terrier_123.jpg to wheaten_terrier_123 (1).jpg\n",
            "Saving leonberger_104.jpg to leonberger_104 (1).jpg\n",
            "Saving leonberger_171.jpg to leonberger_171 (1).jpg\n",
            "Saving Persian_66.jpg to Persian_66 (1).jpg\n",
            "Saving wheaten_terrier_68.jpg to wheaten_terrier_68 (1).jpg\n",
            "Saving wheaten_terrier_23.jpg to wheaten_terrier_23 (1).jpg\n",
            "Saving Abyssinian_97.jpg to Abyssinian_97 (1).jpg\n",
            "Saving Abyssinian_61.jpg to Abyssinian_61 (1).jpg\n",
            "Saving Persian_144.jpg to Persian_144 (1).jpg\n",
            "Saving wheaten_terrier_197.jpg to wheaten_terrier_197 (1).jpg\n",
            "Saving Abyssinian_43.jpg to Abyssinian_43 (1).jpg\n",
            "Saving wheaten_terrier_164.jpg to wheaten_terrier_164 (1).jpg\n",
            "Saving leonberger_94.jpg to leonberger_94 (1).jpg\n",
            "Saving Abyssinian_164.jpg to Abyssinian_164 (1).jpg\n",
            "Saving leonberger_185.jpg to leonberger_185 (1).jpg\n",
            "Saving leonberger_17.jpg to leonberger_17 (1).jpg\n",
            "Saving wheaten_terrier_193.jpg to wheaten_terrier_193 (1).jpg\n",
            "Saving Abyssinian_153.jpg to Abyssinian_153 (1).jpg\n",
            "Saving Abyssinian_181.jpg to Abyssinian_181 (1).jpg\n",
            "Saving leonberger_122.jpg to leonberger_122 (1).jpg\n",
            "Saving Persian_134.jpg to Persian_134 (1).jpg\n",
            "Saving wheaten_terrier_88.jpg to wheaten_terrier_88 (1).jpg\n",
            "Saving wheaten_terrier_46.jpg to wheaten_terrier_46 (1).jpg\n",
            "Saving leonberger_105.jpg to leonberger_105 (1).jpg\n",
            "Saving Persian_91.jpg to Persian_91 (1).jpg\n",
            "Saving leonberger_54.jpg to leonberger_54 (1).jpg\n",
            "Saving wheaten_terrier_28.jpg to wheaten_terrier_28 (1).jpg\n",
            "Saving Abyssinian_169.jpg to Abyssinian_169 (1).jpg\n",
            "Saving Abyssinian_99.jpg to Abyssinian_99 (1).jpg\n",
            "Saving leonberger_22.jpg to leonberger_22 (1).jpg\n",
            "Saving wheaten_terrier_190.jpg to wheaten_terrier_190 (1).jpg\n",
            "Saving Abyssinian_14.jpg to Abyssinian_14 (1).jpg\n",
            "Saving Abyssinian_45.jpg to Abyssinian_45 (1).jpg\n",
            "Saving leonberger_182.jpg to leonberger_182 (1).jpg\n",
            "Saving Persian_160.jpg to Persian_160 (1).jpg\n",
            "Saving Abyssinian_142.jpg to Abyssinian_142 (1).jpg\n",
            "Saving Abyssinian_196.jpg to Abyssinian_196 (1).jpg\n",
            "Saving leonberger_78.jpg to leonberger_78 (1).jpg\n",
            "Saving Abyssinian_132.jpg to Abyssinian_132 (1).jpg\n",
            "Saving Persian_163.jpg to Persian_163 (1).jpg\n",
            "Saving Abyssinian_167.jpg to Abyssinian_167 (1).jpg\n",
            "Saving wheaten_terrier_186.jpg to wheaten_terrier_186 (1).jpg\n",
            "Saving wheaten_terrier_114.jpg to wheaten_terrier_114 (1).jpg\n",
            "Saving wheaten_terrier_124.jpg to wheaten_terrier_124 (1).jpg\n",
            "Saving Persian_129.jpg to Persian_129 (1).jpg\n",
            "Saving leonberger_189.jpg to leonberger_189 (1).jpg\n",
            "Saving Abyssinian_18.jpg to Abyssinian_18 (1).jpg\n",
            "Saving Persian_149.jpg to Persian_149 (1).jpg\n",
            "Saving leonberger_136.jpg to leonberger_136 (1).jpg\n",
            "Saving leonberger_109.jpg to leonberger_109 (1).jpg\n",
            "Saving leonberger_62.jpg to leonberger_62 (1).jpg\n",
            "Saving Abyssinian_30.jpg to Abyssinian_30 (1).jpg\n",
            "Saving Abyssinian_69.jpg to Abyssinian_69 (1).jpg\n",
            "Saving Abyssinian_137.jpg to Abyssinian_137 (1).jpg\n",
            "Saving wheaten_terrier_47.jpg to wheaten_terrier_47 (1).jpg\n",
            "Saving Abyssinian_15.jpg to Abyssinian_15 (1).jpg\n",
            "Saving Abyssinian_77.jpg to Abyssinian_77 (1).jpg\n",
            "Saving Persian_25.jpg to Persian_25 (1).jpg\n",
            "Saving wheaten_terrier_76.jpg to wheaten_terrier_76 (1).jpg\n",
            "Saving wheaten_terrier_116.jpg to wheaten_terrier_116 (1).jpg\n",
            "Saving leonberger_181.jpg to leonberger_181 (1).jpg\n",
            "Saving wheaten_terrier_43.jpg to wheaten_terrier_43 (1).jpg\n",
            "Saving leonberger_132.jpg to leonberger_132 (1).jpg\n",
            "Saving Abyssinian_204.jpg to Abyssinian_204 (1).jpg\n",
            "Saving Persian_3.jpg to Persian_3 (1).jpg\n",
            "Saving wheaten_terrier_31.jpg to wheaten_terrier_31 (1).jpg\n",
            "Saving Persian_128.jpg to Persian_128 (1).jpg\n",
            "Saving Persian_115.jpg to Persian_115 (1).jpg\n",
            "Saving Persian_31.jpg to Persian_31 (1).jpg\n",
            "Saving Abyssinian_158.jpg to Abyssinian_158 (1).jpg\n",
            "Saving Persian_186.jpg to Persian_186 (1).jpg\n",
            "Saving leonberger_3.jpg to leonberger_3 (1).jpg\n",
            "Saving Abyssinian_4.jpg to Abyssinian_4 (1).jpg\n",
            "Saving leonberger_35.jpg to leonberger_35 (1).jpg\n",
            "Saving leonberger_95.jpg to leonberger_95 (1).jpg\n",
            "Saving leonberger_42.jpg to leonberger_42 (1).jpg\n",
            "Saving Abyssinian_51.jpg to Abyssinian_51 (1).jpg\n",
            "Saving Persian_156.jpg to Persian_156 (1).jpg\n",
            "Saving leonberger_144.jpg to leonberger_144 (1).jpg\n",
            "Saving Persian_165.jpg to Persian_165 (1).jpg\n",
            "Saving wheaten_terrier_178.jpg to wheaten_terrier_178 (1).jpg\n",
            "Saving Abyssinian_217.jpg to Abyssinian_217 (1).jpg\n",
            "Saving Persian_183.jpg to Persian_183 (1).jpg\n",
            "Saving Abyssinian_175.jpg to Abyssinian_175 (1).jpg\n",
            "Saving wheaten_terrier_67.jpg to wheaten_terrier_67 (1).jpg\n",
            "Saving Abyssinian_58.jpg to Abyssinian_58 (1).jpg\n",
            "Saving wheaten_terrier_1.jpg to wheaten_terrier_1 (1).jpg\n",
            "Saving leonberger_139.jpg to leonberger_139 (1).jpg\n",
            "Saving wheaten_terrier_189.jpg to wheaten_terrier_189 (1).jpg\n",
            "Saving Persian_152.jpg to Persian_152 (1).jpg\n",
            "Saving leonberger_190.jpg to leonberger_190 (1).jpg\n",
            "Saving wheaten_terrier_130.jpg to wheaten_terrier_130 (1).jpg\n",
            "Saving Abyssinian_145.jpg to Abyssinian_145 (1).jpg\n",
            "Saving leonberger_149.jpg to leonberger_149 (1).jpg\n",
            "Saving leonberger_71.jpg to leonberger_71 (1).jpg\n",
            "Saving wheaten_terrier_11.jpg to wheaten_terrier_11 (1).jpg\n",
            "Saving Abyssinian_106.jpg to Abyssinian_106 (1).jpg\n",
            "Saving leonberger_68.jpg to leonberger_68 (1).jpg\n",
            "Saving Abyssinian_220.jpg to Abyssinian_220 (1).jpg\n",
            "Saving Abyssinian_173.jpg to Abyssinian_173 (1).jpg\n",
            "Saving Persian_174.jpg to Persian_174 (1).jpg\n",
            "Saving leonberger_19.jpg to leonberger_19 (1).jpg\n",
            "Saving leonberger_82.jpg to leonberger_82 (1).jpg\n",
            "Saving leonberger_111.jpg to leonberger_111 (1).jpg\n",
            "Saving Abyssinian_155.jpg to Abyssinian_155 (1).jpg\n",
            "Saving wheaten_terrier_30.jpg to wheaten_terrier_30 (1).jpg\n",
            "Saving wheaten_terrier_34.jpg to wheaten_terrier_34 (1).jpg\n",
            "Saving Abyssinian_195.jpg to Abyssinian_195 (1).jpg\n",
            "Saving Abyssinian_70.jpg to Abyssinian_70 (1).jpg\n",
            "Saving Abyssinian_111.jpg to Abyssinian_111 (1).jpg\n",
            "Saving leonberger_112.jpg to leonberger_112 (1).jpg\n",
            "Saving wheaten_terrier_6.jpg to wheaten_terrier_6 (1).jpg\n",
            "Saving leonberger_166.jpg to leonberger_166 (1).jpg\n",
            "Saving leonberger_59.jpg to leonberger_59 (1).jpg\n",
            "Saving leonberger_148.jpg to leonberger_148 (1).jpg\n",
            "Saving Abyssinian_125.jpg to Abyssinian_125 (1).jpg\n",
            "Saving wheaten_terrier_158.jpg to wheaten_terrier_158 (1).jpg\n",
            "Saving Persian_122.jpg to Persian_122 (1).jpg\n",
            "Saving wheaten_terrier_38.jpg to wheaten_terrier_38 (1).jpg\n",
            "Saving Persian_82.jpg to Persian_82 (1).jpg\n",
            "Saving Persian_257.jpg to Persian_257 (1).jpg\n",
            "Saving leonberger_145.jpg to leonberger_145 (1).jpg\n",
            "Saving Abyssinian_117.jpg to Abyssinian_117 (1).jpg\n",
            "Saving leonberger_158.jpg to leonberger_158 (1).jpg\n",
            "Saving Abyssinian_9.jpg to Abyssinian_9 (1).jpg\n",
            "Saving leonberger_67.jpg to leonberger_67 (1).jpg\n",
            "Saving wheaten_terrier_18.jpg to wheaten_terrier_18 (1).jpg\n",
            "Saving wheaten_terrier_51.jpg to wheaten_terrier_51 (1).jpg\n",
            "Saving wheaten_terrier_117.jpg to wheaten_terrier_117 (1).jpg\n",
            "Saving leonberger_66.jpg to leonberger_66 (1).jpg\n",
            "Saving Persian_268.jpg to Persian_268 (1).jpg\n",
            "Saving wheaten_terrier_121.jpg to wheaten_terrier_121 (1).jpg\n",
            "Saving Persian_213.jpg to Persian_213 (1).jpg\n",
            "Saving leonberger_142.jpg to leonberger_142 (1).jpg\n",
            "Saving Abyssinian_34.jpg to Abyssinian_34 (1).jpg\n",
            "Saving Persian_47.jpg to Persian_47 (1).jpg\n",
            "Saving wheaten_terrier_15.jpg to wheaten_terrier_15 (1).jpg\n",
            "Saving leonberger_143.jpg to leonberger_143 (1).jpg\n",
            "Saving Abyssinian_185.jpg to Abyssinian_185 (1).jpg\n",
            "Saving Abyssinian_79.jpg to Abyssinian_79 (1).jpg\n",
            "Saving leonberger_13.jpg to leonberger_13 (1).jpg\n",
            "Saving wheaten_terrier_129.jpg to wheaten_terrier_129 (1).jpg\n",
            "Saving Abyssinian_86.jpg to Abyssinian_86 (1).jpg\n",
            "Saving leonberger_98.jpg to leonberger_98 (1).jpg\n",
            "Saving Persian_9.jpg to Persian_9 (1).jpg\n",
            "Saving Abyssinian_65.jpg to Abyssinian_65 (1).jpg\n",
            "Saving Abyssinian_228.jpg to Abyssinian_228 (1).jpg\n",
            "Saving wheaten_terrier_20.jpg to wheaten_terrier_20 (1).jpg\n",
            "Saving leonberger_28.jpg to leonberger_28 (1).jpg\n",
            "Saving Abyssinian_26.jpg to Abyssinian_26 (1).jpg\n",
            "Saving leonberger_178.jpg to leonberger_178 (1).jpg\n",
            "Saving Persian_99.jpg to Persian_99 (1).jpg\n",
            "Saving Abyssinian_174.jpg to Abyssinian_174 (1).jpg\n",
            "Saving Abyssinian_82.jpg to Abyssinian_82 (1).jpg\n",
            "Saving wheaten_terrier_142.jpg to wheaten_terrier_142 (1).jpg\n",
            "Saving Abyssinian_140.jpg to Abyssinian_140 (1).jpg\n",
            "Saving wheaten_terrier_78.jpg to wheaten_terrier_78 (1).jpg\n",
            "Saving wheaten_terrier_119.jpg to wheaten_terrier_119 (1).jpg\n",
            "Saving wheaten_terrier_188.jpg to wheaten_terrier_188 (1).jpg\n",
            "Saving wheaten_terrier_19.jpg to wheaten_terrier_19 (1).jpg\n",
            "Saving leonberger_123.jpg to leonberger_123 (1).jpg\n",
            "Saving Abyssinian_10.jpg to Abyssinian_10 (1).jpg\n",
            "Saving leonberger_24.jpg to leonberger_24 (1).jpg\n",
            "Saving Abyssinian_6.jpg to Abyssinian_6 (1).jpg\n",
            "Saving leonberger_135.jpg to leonberger_135 (1).jpg\n",
            "Saving Abyssinian_219.jpg to Abyssinian_219 (1).jpg\n",
            "Saving Persian_4.jpg to Persian_4 (1).jpg\n",
            "Saving wheaten_terrier_139.jpg to wheaten_terrier_139 (1).jpg\n",
            "Saving Abyssinian_37.jpg to Abyssinian_37 (1).jpg\n",
            "Saving leonberger_133.jpg to leonberger_133 (1).jpg\n",
            "Saving leonberger_164.jpg to leonberger_164 (1).jpg\n",
            "Saving Abyssinian_85.jpg to Abyssinian_85 (1).jpg\n",
            "Saving Abyssinian_136.jpg to Abyssinian_136 (1).jpg\n"
          ]
        }
      ],
      "source": [
        "## Importando as libs necessárias\n",
        "from google.colab import files\n",
        "import os, io, time\n",
        "\n",
        "# Criando o diretório inicial: /content/\n",
        "os.chdir('/content/')\n",
        "try:\n",
        "  os.mkdir('Imagens', )\n",
        "except:\n",
        "  print('A pasta já existe.')\n",
        "os.chdir('./Imagens')\n",
        "os.listdir()\n",
        "uploaded_images = files.upload()\n",
        "\n"
      ]
    },
    {
      "cell_type": "markdown",
      "source": [
        "# Aplicando HOG"
      ],
      "metadata": {
        "id": "Ne41VyI_IUHq"
      }
    },
    {
      "cell_type": "code",
      "source": [
        "## Reduzir as imagens\n",
        "from skimage.io import imread, imshow\n",
        "from skimage.transform import resize\n",
        "from skimage.feature import hog\n",
        "## pandas\n",
        "import pandas as pd\n",
        "## Importando PCA do SkLearn\n",
        "from sklearn.decomposition import PCA\n",
        "\n",
        "hogs = [16,20,24,28,32,40]\n",
        "pcas = [.10,.15,.20,.25,.30,.35,.40,.45,.50,.55,.60,.65,.70,.75,.80,.85,.90,.95]\n",
        "\n",
        "\n",
        "hogs_pcas = []\n",
        "\n",
        "for hog_size in hogs:\n",
        "  hog_features = []\n",
        "  for filename in uploaded_images.keys():\n",
        "    image = imread(filename)\n",
        "    image_resized = resize(image, (128,128))\n",
        "    fd, hog_image = hog(image_resized, orientations=9, pixels_per_cell=(hog_size, hog_size),\n",
        "                      cells_per_block=(2, 2), visualize=True, channel_axis=-1)\n",
        "    hog_features.append(fd)\n",
        "\n",
        "  ## Adicionar as colunas com os valores do hog para cada um\n",
        "  data = {\"pathfile\": uploaded_images.keys(), \"hog_features\": hog_features}\n",
        "  df = pd.DataFrame(data)\n",
        "  df['classe'] = df['pathfile'].str.split('_').str[0]\n",
        "  df = df.drop('pathfile', axis=1)\n",
        "\n",
        "  # transformando cada valor do hog_feature em um atributo (coluna)\n",
        "  df2 = pd.DataFrame(df['hog_features'].tolist())\n",
        "  df2.columns = df2.columns.map(lambda x: f'hog_feature_{x+1}')\n",
        "  df = pd.concat([df.drop('hog_features', axis=1), df2], axis=1)\n",
        "\n",
        "  # ----- COMEÇANDO PCA ------\n",
        "  for porcent in pcas:\n",
        "    y = df.classe # Target variable (classe)\n",
        "    X = df.copy().drop('classe', axis=1) # Features\n",
        "\n",
        "    ##pca_obj = PCA(n_components=4) #para dizer quantos componentes quero ter\n",
        "    pca_obj = PCA(n_components=porcent, whiten=True) #qual porcentagem de informação eu quero\n",
        "    pca_result = pca_obj.fit_transform(X)\n",
        "\n",
        "    print(f'hog de {hog_size}x{hog_size} e pca de {porcent}')\n",
        "    print(f'shape: {pca_result.shape}')\n",
        "    print()\n",
        "\n",
        "    colunas = []\n",
        "    for i in range(pca_result.shape[1]):\n",
        "      colunas.append('pca_'+str(i))\n",
        "\n",
        "    pca_dataset = pd.DataFrame(data = pca_result, columns = colunas) # Atual\n",
        "\n",
        "    ## Juntando o atributo classe\n",
        "    final_data = pca_dataset.join(y)\n",
        "\n",
        "    # Salvando Pessoa.csv transformado\n",
        "    df_hog_pca = pd.DataFrame(final_data)\n",
        "    df_hog_pca.to_csv(f'{hog_size}x{hog_size}_pca-{porcent}.csv', index=False)\n",
        "\n",
        "    # Importando arquivo transformado\n",
        "    from google.colab import files\n",
        "    files.download(f'{hog_size}x{hog_size}_pca-{porcent}.csv')\n",
        "    hogs_pcas.append([hog_size, porcent, df_hog_pca])\n",
        "\n"
      ],
      "metadata": {
        "id": "Wg3MMTSgoRcF",
        "colab": {
          "base_uri": "https://localhost:8080/",
          "height": 1000
        },
        "outputId": "0aa890e1-f6a3-4dbc-f10e-5671a578e7e2"
      },
      "execution_count": 4,
      "outputs": [
        {
          "output_type": "stream",
          "name": "stdout",
          "text": [
            "hog de 16x16 e pca de 0.1\n",
            "shape: (800, 2)\n",
            "\n"
          ]
        },
        {
          "output_type": "display_data",
          "data": {
            "text/plain": [
              "<IPython.core.display.Javascript object>"
            ],
            "application/javascript": [
              "\n",
              "    async function download(id, filename, size) {\n",
              "      if (!google.colab.kernel.accessAllowed) {\n",
              "        return;\n",
              "      }\n",
              "      const div = document.createElement('div');\n",
              "      const label = document.createElement('label');\n",
              "      label.textContent = `Downloading \"${filename}\": `;\n",
              "      div.appendChild(label);\n",
              "      const progress = document.createElement('progress');\n",
              "      progress.max = size;\n",
              "      div.appendChild(progress);\n",
              "      document.body.appendChild(div);\n",
              "\n",
              "      const buffers = [];\n",
              "      let downloaded = 0;\n",
              "\n",
              "      const channel = await google.colab.kernel.comms.open(id);\n",
              "      // Send a message to notify the kernel that we're ready.\n",
              "      channel.send({})\n",
              "\n",
              "      for await (const message of channel.messages) {\n",
              "        // Send a message to notify the kernel that we're ready.\n",
              "        channel.send({})\n",
              "        if (message.buffers) {\n",
              "          for (const buffer of message.buffers) {\n",
              "            buffers.push(buffer);\n",
              "            downloaded += buffer.byteLength;\n",
              "            progress.value = downloaded;\n",
              "          }\n",
              "        }\n",
              "      }\n",
              "      const blob = new Blob(buffers, {type: 'application/binary'});\n",
              "      const a = document.createElement('a');\n",
              "      a.href = window.URL.createObjectURL(blob);\n",
              "      a.download = filename;\n",
              "      div.appendChild(a);\n",
              "      a.click();\n",
              "      div.remove();\n",
              "    }\n",
              "  "
            ]
          },
          "metadata": {}
        },
        {
          "output_type": "display_data",
          "data": {
            "text/plain": [
              "<IPython.core.display.Javascript object>"
            ],
            "application/javascript": [
              "download(\"download_e1bdb419-07cd-4b21-bd98-02a079ed6111\", \"16x16_pca-0.1.csv\", 39030)"
            ]
          },
          "metadata": {}
        },
        {
          "output_type": "stream",
          "name": "stdout",
          "text": [
            "hog de 16x16 e pca de 0.15\n",
            "shape: (800, 4)\n",
            "\n"
          ]
        },
        {
          "output_type": "display_data",
          "data": {
            "text/plain": [
              "<IPython.core.display.Javascript object>"
            ],
            "application/javascript": [
              "\n",
              "    async function download(id, filename, size) {\n",
              "      if (!google.colab.kernel.accessAllowed) {\n",
              "        return;\n",
              "      }\n",
              "      const div = document.createElement('div');\n",
              "      const label = document.createElement('label');\n",
              "      label.textContent = `Downloading \"${filename}\": `;\n",
              "      div.appendChild(label);\n",
              "      const progress = document.createElement('progress');\n",
              "      progress.max = size;\n",
              "      div.appendChild(progress);\n",
              "      document.body.appendChild(div);\n",
              "\n",
              "      const buffers = [];\n",
              "      let downloaded = 0;\n",
              "\n",
              "      const channel = await google.colab.kernel.comms.open(id);\n",
              "      // Send a message to notify the kernel that we're ready.\n",
              "      channel.send({})\n",
              "\n",
              "      for await (const message of channel.messages) {\n",
              "        // Send a message to notify the kernel that we're ready.\n",
              "        channel.send({})\n",
              "        if (message.buffers) {\n",
              "          for (const buffer of message.buffers) {\n",
              "            buffers.push(buffer);\n",
              "            downloaded += buffer.byteLength;\n",
              "            progress.value = downloaded;\n",
              "          }\n",
              "        }\n",
              "      }\n",
              "      const blob = new Blob(buffers, {type: 'application/binary'});\n",
              "      const a = document.createElement('a');\n",
              "      a.href = window.URL.createObjectURL(blob);\n",
              "      a.download = filename;\n",
              "      div.appendChild(a);\n",
              "      a.click();\n",
              "      div.remove();\n",
              "    }\n",
              "  "
            ]
          },
          "metadata": {}
        },
        {
          "output_type": "display_data",
          "data": {
            "text/plain": [
              "<IPython.core.display.Javascript object>"
            ],
            "application/javascript": [
              "download(\"download_4dcf2e37-5210-4aa3-83c2-aee8e2cad49a\", \"16x16_pca-0.15.csv\", 70473)"
            ]
          },
          "metadata": {}
        },
        {
          "output_type": "stream",
          "name": "stdout",
          "text": [
            "hog de 16x16 e pca de 0.2\n",
            "shape: (800, 7)\n",
            "\n"
          ]
        },
        {
          "output_type": "display_data",
          "data": {
            "text/plain": [
              "<IPython.core.display.Javascript object>"
            ],
            "application/javascript": [
              "\n",
              "    async function download(id, filename, size) {\n",
              "      if (!google.colab.kernel.accessAllowed) {\n",
              "        return;\n",
              "      }\n",
              "      const div = document.createElement('div');\n",
              "      const label = document.createElement('label');\n",
              "      label.textContent = `Downloading \"${filename}\": `;\n",
              "      div.appendChild(label);\n",
              "      const progress = document.createElement('progress');\n",
              "      progress.max = size;\n",
              "      div.appendChild(progress);\n",
              "      document.body.appendChild(div);\n",
              "\n",
              "      const buffers = [];\n",
              "      let downloaded = 0;\n",
              "\n",
              "      const channel = await google.colab.kernel.comms.open(id);\n",
              "      // Send a message to notify the kernel that we're ready.\n",
              "      channel.send({})\n",
              "\n",
              "      for await (const message of channel.messages) {\n",
              "        // Send a message to notify the kernel that we're ready.\n",
              "        channel.send({})\n",
              "        if (message.buffers) {\n",
              "          for (const buffer of message.buffers) {\n",
              "            buffers.push(buffer);\n",
              "            downloaded += buffer.byteLength;\n",
              "            progress.value = downloaded;\n",
              "          }\n",
              "        }\n",
              "      }\n",
              "      const blob = new Blob(buffers, {type: 'application/binary'});\n",
              "      const a = document.createElement('a');\n",
              "      a.href = window.URL.createObjectURL(blob);\n",
              "      a.download = filename;\n",
              "      div.appendChild(a);\n",
              "      a.click();\n",
              "      div.remove();\n",
              "    }\n",
              "  "
            ]
          },
          "metadata": {}
        },
        {
          "output_type": "display_data",
          "data": {
            "text/plain": [
              "<IPython.core.display.Javascript object>"
            ],
            "application/javascript": [
              "download(\"download_93ad3065-da4f-4c01-acf0-9f44bab6288f\", \"16x16_pca-0.2.csv\", 117717)"
            ]
          },
          "metadata": {}
        },
        {
          "output_type": "stream",
          "name": "stdout",
          "text": [
            "hog de 16x16 e pca de 0.25\n",
            "shape: (800, 10)\n",
            "\n"
          ]
        },
        {
          "output_type": "display_data",
          "data": {
            "text/plain": [
              "<IPython.core.display.Javascript object>"
            ],
            "application/javascript": [
              "\n",
              "    async function download(id, filename, size) {\n",
              "      if (!google.colab.kernel.accessAllowed) {\n",
              "        return;\n",
              "      }\n",
              "      const div = document.createElement('div');\n",
              "      const label = document.createElement('label');\n",
              "      label.textContent = `Downloading \"${filename}\": `;\n",
              "      div.appendChild(label);\n",
              "      const progress = document.createElement('progress');\n",
              "      progress.max = size;\n",
              "      div.appendChild(progress);\n",
              "      document.body.appendChild(div);\n",
              "\n",
              "      const buffers = [];\n",
              "      let downloaded = 0;\n",
              "\n",
              "      const channel = await google.colab.kernel.comms.open(id);\n",
              "      // Send a message to notify the kernel that we're ready.\n",
              "      channel.send({})\n",
              "\n",
              "      for await (const message of channel.messages) {\n",
              "        // Send a message to notify the kernel that we're ready.\n",
              "        channel.send({})\n",
              "        if (message.buffers) {\n",
              "          for (const buffer of message.buffers) {\n",
              "            buffers.push(buffer);\n",
              "            downloaded += buffer.byteLength;\n",
              "            progress.value = downloaded;\n",
              "          }\n",
              "        }\n",
              "      }\n",
              "      const blob = new Blob(buffers, {type: 'application/binary'});\n",
              "      const a = document.createElement('a');\n",
              "      a.href = window.URL.createObjectURL(blob);\n",
              "      a.download = filename;\n",
              "      div.appendChild(a);\n",
              "      a.click();\n",
              "      div.remove();\n",
              "    }\n",
              "  "
            ]
          },
          "metadata": {}
        },
        {
          "output_type": "display_data",
          "data": {
            "text/plain": [
              "<IPython.core.display.Javascript object>"
            ],
            "application/javascript": [
              "download(\"download_09aa87a2-af1e-4f5d-af6c-93d3f87c9c59\", \"16x16_pca-0.25.csv\", 164939)"
            ]
          },
          "metadata": {}
        },
        {
          "output_type": "stream",
          "name": "stdout",
          "text": [
            "hog de 16x16 e pca de 0.3\n",
            "shape: (800, 14)\n",
            "\n"
          ]
        },
        {
          "output_type": "display_data",
          "data": {
            "text/plain": [
              "<IPython.core.display.Javascript object>"
            ],
            "application/javascript": [
              "\n",
              "    async function download(id, filename, size) {\n",
              "      if (!google.colab.kernel.accessAllowed) {\n",
              "        return;\n",
              "      }\n",
              "      const div = document.createElement('div');\n",
              "      const label = document.createElement('label');\n",
              "      label.textContent = `Downloading \"${filename}\": `;\n",
              "      div.appendChild(label);\n",
              "      const progress = document.createElement('progress');\n",
              "      progress.max = size;\n",
              "      div.appendChild(progress);\n",
              "      document.body.appendChild(div);\n",
              "\n",
              "      const buffers = [];\n",
              "      let downloaded = 0;\n",
              "\n",
              "      const channel = await google.colab.kernel.comms.open(id);\n",
              "      // Send a message to notify the kernel that we're ready.\n",
              "      channel.send({})\n",
              "\n",
              "      for await (const message of channel.messages) {\n",
              "        // Send a message to notify the kernel that we're ready.\n",
              "        channel.send({})\n",
              "        if (message.buffers) {\n",
              "          for (const buffer of message.buffers) {\n",
              "            buffers.push(buffer);\n",
              "            downloaded += buffer.byteLength;\n",
              "            progress.value = downloaded;\n",
              "          }\n",
              "        }\n",
              "      }\n",
              "      const blob = new Blob(buffers, {type: 'application/binary'});\n",
              "      const a = document.createElement('a');\n",
              "      a.href = window.URL.createObjectURL(blob);\n",
              "      a.download = filename;\n",
              "      div.appendChild(a);\n",
              "      a.click();\n",
              "      div.remove();\n",
              "    }\n",
              "  "
            ]
          },
          "metadata": {}
        },
        {
          "output_type": "display_data",
          "data": {
            "text/plain": [
              "<IPython.core.display.Javascript object>"
            ],
            "application/javascript": [
              "download(\"download_d7bcaf99-600a-4b33-a313-9d45cfdfc43f\", \"16x16_pca-0.3.csv\", 227852)"
            ]
          },
          "metadata": {}
        },
        {
          "output_type": "stream",
          "name": "stdout",
          "text": [
            "hog de 16x16 e pca de 0.35\n",
            "shape: (800, 19)\n",
            "\n"
          ]
        },
        {
          "output_type": "display_data",
          "data": {
            "text/plain": [
              "<IPython.core.display.Javascript object>"
            ],
            "application/javascript": [
              "\n",
              "    async function download(id, filename, size) {\n",
              "      if (!google.colab.kernel.accessAllowed) {\n",
              "        return;\n",
              "      }\n",
              "      const div = document.createElement('div');\n",
              "      const label = document.createElement('label');\n",
              "      label.textContent = `Downloading \"${filename}\": `;\n",
              "      div.appendChild(label);\n",
              "      const progress = document.createElement('progress');\n",
              "      progress.max = size;\n",
              "      div.appendChild(progress);\n",
              "      document.body.appendChild(div);\n",
              "\n",
              "      const buffers = [];\n",
              "      let downloaded = 0;\n",
              "\n",
              "      const channel = await google.colab.kernel.comms.open(id);\n",
              "      // Send a message to notify the kernel that we're ready.\n",
              "      channel.send({})\n",
              "\n",
              "      for await (const message of channel.messages) {\n",
              "        // Send a message to notify the kernel that we're ready.\n",
              "        channel.send({})\n",
              "        if (message.buffers) {\n",
              "          for (const buffer of message.buffers) {\n",
              "            buffers.push(buffer);\n",
              "            downloaded += buffer.byteLength;\n",
              "            progress.value = downloaded;\n",
              "          }\n",
              "        }\n",
              "      }\n",
              "      const blob = new Blob(buffers, {type: 'application/binary'});\n",
              "      const a = document.createElement('a');\n",
              "      a.href = window.URL.createObjectURL(blob);\n",
              "      a.download = filename;\n",
              "      div.appendChild(a);\n",
              "      a.click();\n",
              "      div.remove();\n",
              "    }\n",
              "  "
            ]
          },
          "metadata": {}
        },
        {
          "output_type": "display_data",
          "data": {
            "text/plain": [
              "<IPython.core.display.Javascript object>"
            ],
            "application/javascript": [
              "download(\"download_2e82000d-f7c3-42ef-8513-ecf4606c21f0\", \"16x16_pca-0.35.csv\", 306445)"
            ]
          },
          "metadata": {}
        },
        {
          "output_type": "stream",
          "name": "stdout",
          "text": [
            "hog de 16x16 e pca de 0.4\n",
            "shape: (800, 24)\n",
            "\n"
          ]
        },
        {
          "output_type": "display_data",
          "data": {
            "text/plain": [
              "<IPython.core.display.Javascript object>"
            ],
            "application/javascript": [
              "\n",
              "    async function download(id, filename, size) {\n",
              "      if (!google.colab.kernel.accessAllowed) {\n",
              "        return;\n",
              "      }\n",
              "      const div = document.createElement('div');\n",
              "      const label = document.createElement('label');\n",
              "      label.textContent = `Downloading \"${filename}\": `;\n",
              "      div.appendChild(label);\n",
              "      const progress = document.createElement('progress');\n",
              "      progress.max = size;\n",
              "      div.appendChild(progress);\n",
              "      document.body.appendChild(div);\n",
              "\n",
              "      const buffers = [];\n",
              "      let downloaded = 0;\n",
              "\n",
              "      const channel = await google.colab.kernel.comms.open(id);\n",
              "      // Send a message to notify the kernel that we're ready.\n",
              "      channel.send({})\n",
              "\n",
              "      for await (const message of channel.messages) {\n",
              "        // Send a message to notify the kernel that we're ready.\n",
              "        channel.send({})\n",
              "        if (message.buffers) {\n",
              "          for (const buffer of message.buffers) {\n",
              "            buffers.push(buffer);\n",
              "            downloaded += buffer.byteLength;\n",
              "            progress.value = downloaded;\n",
              "          }\n",
              "        }\n",
              "      }\n",
              "      const blob = new Blob(buffers, {type: 'application/binary'});\n",
              "      const a = document.createElement('a');\n",
              "      a.href = window.URL.createObjectURL(blob);\n",
              "      a.download = filename;\n",
              "      div.appendChild(a);\n",
              "      a.click();\n",
              "      div.remove();\n",
              "    }\n",
              "  "
            ]
          },
          "metadata": {}
        },
        {
          "output_type": "display_data",
          "data": {
            "text/plain": [
              "<IPython.core.display.Javascript object>"
            ],
            "application/javascript": [
              "download(\"download_ab239d47-806a-4a99-9bb8-ad46254f802e\", \"16x16_pca-0.4.csv\", 385119)"
            ]
          },
          "metadata": {}
        },
        {
          "output_type": "stream",
          "name": "stdout",
          "text": [
            "hog de 16x16 e pca de 0.45\n",
            "shape: (800, 31)\n",
            "\n"
          ]
        },
        {
          "output_type": "display_data",
          "data": {
            "text/plain": [
              "<IPython.core.display.Javascript object>"
            ],
            "application/javascript": [
              "\n",
              "    async function download(id, filename, size) {\n",
              "      if (!google.colab.kernel.accessAllowed) {\n",
              "        return;\n",
              "      }\n",
              "      const div = document.createElement('div');\n",
              "      const label = document.createElement('label');\n",
              "      label.textContent = `Downloading \"${filename}\": `;\n",
              "      div.appendChild(label);\n",
              "      const progress = document.createElement('progress');\n",
              "      progress.max = size;\n",
              "      div.appendChild(progress);\n",
              "      document.body.appendChild(div);\n",
              "\n",
              "      const buffers = [];\n",
              "      let downloaded = 0;\n",
              "\n",
              "      const channel = await google.colab.kernel.comms.open(id);\n",
              "      // Send a message to notify the kernel that we're ready.\n",
              "      channel.send({})\n",
              "\n",
              "      for await (const message of channel.messages) {\n",
              "        // Send a message to notify the kernel that we're ready.\n",
              "        channel.send({})\n",
              "        if (message.buffers) {\n",
              "          for (const buffer of message.buffers) {\n",
              "            buffers.push(buffer);\n",
              "            downloaded += buffer.byteLength;\n",
              "            progress.value = downloaded;\n",
              "          }\n",
              "        }\n",
              "      }\n",
              "      const blob = new Blob(buffers, {type: 'application/binary'});\n",
              "      const a = document.createElement('a');\n",
              "      a.href = window.URL.createObjectURL(blob);\n",
              "      a.download = filename;\n",
              "      div.appendChild(a);\n",
              "      a.click();\n",
              "      div.remove();\n",
              "    }\n",
              "  "
            ]
          },
          "metadata": {}
        },
        {
          "output_type": "display_data",
          "data": {
            "text/plain": [
              "<IPython.core.display.Javascript object>"
            ],
            "application/javascript": [
              "download(\"download_cc4ee315-ad07-4076-8338-666bd06f9c14\", \"16x16_pca-0.45.csv\", 495349)"
            ]
          },
          "metadata": {}
        },
        {
          "output_type": "stream",
          "name": "stdout",
          "text": [
            "hog de 16x16 e pca de 0.5\n",
            "shape: (800, 39)\n",
            "\n"
          ]
        },
        {
          "output_type": "display_data",
          "data": {
            "text/plain": [
              "<IPython.core.display.Javascript object>"
            ],
            "application/javascript": [
              "\n",
              "    async function download(id, filename, size) {\n",
              "      if (!google.colab.kernel.accessAllowed) {\n",
              "        return;\n",
              "      }\n",
              "      const div = document.createElement('div');\n",
              "      const label = document.createElement('label');\n",
              "      label.textContent = `Downloading \"${filename}\": `;\n",
              "      div.appendChild(label);\n",
              "      const progress = document.createElement('progress');\n",
              "      progress.max = size;\n",
              "      div.appendChild(progress);\n",
              "      document.body.appendChild(div);\n",
              "\n",
              "      const buffers = [];\n",
              "      let downloaded = 0;\n",
              "\n",
              "      const channel = await google.colab.kernel.comms.open(id);\n",
              "      // Send a message to notify the kernel that we're ready.\n",
              "      channel.send({})\n",
              "\n",
              "      for await (const message of channel.messages) {\n",
              "        // Send a message to notify the kernel that we're ready.\n",
              "        channel.send({})\n",
              "        if (message.buffers) {\n",
              "          for (const buffer of message.buffers) {\n",
              "            buffers.push(buffer);\n",
              "            downloaded += buffer.byteLength;\n",
              "            progress.value = downloaded;\n",
              "          }\n",
              "        }\n",
              "      }\n",
              "      const blob = new Blob(buffers, {type: 'application/binary'});\n",
              "      const a = document.createElement('a');\n",
              "      a.href = window.URL.createObjectURL(blob);\n",
              "      a.download = filename;\n",
              "      div.appendChild(a);\n",
              "      a.click();\n",
              "      div.remove();\n",
              "    }\n",
              "  "
            ]
          },
          "metadata": {}
        },
        {
          "output_type": "display_data",
          "data": {
            "text/plain": [
              "<IPython.core.display.Javascript object>"
            ],
            "application/javascript": [
              "download(\"download_1c9d4e7e-dd91-4c8e-a2ad-7bc13010c1f9\", \"16x16_pca-0.5.csv\", 621200)"
            ]
          },
          "metadata": {}
        },
        {
          "output_type": "stream",
          "name": "stdout",
          "text": [
            "hog de 16x16 e pca de 0.55\n",
            "shape: (800, 49)\n",
            "\n"
          ]
        },
        {
          "output_type": "display_data",
          "data": {
            "text/plain": [
              "<IPython.core.display.Javascript object>"
            ],
            "application/javascript": [
              "\n",
              "    async function download(id, filename, size) {\n",
              "      if (!google.colab.kernel.accessAllowed) {\n",
              "        return;\n",
              "      }\n",
              "      const div = document.createElement('div');\n",
              "      const label = document.createElement('label');\n",
              "      label.textContent = `Downloading \"${filename}\": `;\n",
              "      div.appendChild(label);\n",
              "      const progress = document.createElement('progress');\n",
              "      progress.max = size;\n",
              "      div.appendChild(progress);\n",
              "      document.body.appendChild(div);\n",
              "\n",
              "      const buffers = [];\n",
              "      let downloaded = 0;\n",
              "\n",
              "      const channel = await google.colab.kernel.comms.open(id);\n",
              "      // Send a message to notify the kernel that we're ready.\n",
              "      channel.send({})\n",
              "\n",
              "      for await (const message of channel.messages) {\n",
              "        // Send a message to notify the kernel that we're ready.\n",
              "        channel.send({})\n",
              "        if (message.buffers) {\n",
              "          for (const buffer of message.buffers) {\n",
              "            buffers.push(buffer);\n",
              "            downloaded += buffer.byteLength;\n",
              "            progress.value = downloaded;\n",
              "          }\n",
              "        }\n",
              "      }\n",
              "      const blob = new Blob(buffers, {type: 'application/binary'});\n",
              "      const a = document.createElement('a');\n",
              "      a.href = window.URL.createObjectURL(blob);\n",
              "      a.download = filename;\n",
              "      div.appendChild(a);\n",
              "      a.click();\n",
              "      div.remove();\n",
              "    }\n",
              "  "
            ]
          },
          "metadata": {}
        },
        {
          "output_type": "display_data",
          "data": {
            "text/plain": [
              "<IPython.core.display.Javascript object>"
            ],
            "application/javascript": [
              "download(\"download_99d3bfa6-52ee-45d1-91ef-e5d270363652\", \"16x16_pca-0.55.csv\", 778596)"
            ]
          },
          "metadata": {}
        },
        {
          "output_type": "stream",
          "name": "stdout",
          "text": [
            "hog de 16x16 e pca de 0.6\n",
            "shape: (800, 60)\n",
            "\n"
          ]
        },
        {
          "output_type": "display_data",
          "data": {
            "text/plain": [
              "<IPython.core.display.Javascript object>"
            ],
            "application/javascript": [
              "\n",
              "    async function download(id, filename, size) {\n",
              "      if (!google.colab.kernel.accessAllowed) {\n",
              "        return;\n",
              "      }\n",
              "      const div = document.createElement('div');\n",
              "      const label = document.createElement('label');\n",
              "      label.textContent = `Downloading \"${filename}\": `;\n",
              "      div.appendChild(label);\n",
              "      const progress = document.createElement('progress');\n",
              "      progress.max = size;\n",
              "      div.appendChild(progress);\n",
              "      document.body.appendChild(div);\n",
              "\n",
              "      const buffers = [];\n",
              "      let downloaded = 0;\n",
              "\n",
              "      const channel = await google.colab.kernel.comms.open(id);\n",
              "      // Send a message to notify the kernel that we're ready.\n",
              "      channel.send({})\n",
              "\n",
              "      for await (const message of channel.messages) {\n",
              "        // Send a message to notify the kernel that we're ready.\n",
              "        channel.send({})\n",
              "        if (message.buffers) {\n",
              "          for (const buffer of message.buffers) {\n",
              "            buffers.push(buffer);\n",
              "            downloaded += buffer.byteLength;\n",
              "            progress.value = downloaded;\n",
              "          }\n",
              "        }\n",
              "      }\n",
              "      const blob = new Blob(buffers, {type: 'application/binary'});\n",
              "      const a = document.createElement('a');\n",
              "      a.href = window.URL.createObjectURL(blob);\n",
              "      a.download = filename;\n",
              "      div.appendChild(a);\n",
              "      a.click();\n",
              "      div.remove();\n",
              "    }\n",
              "  "
            ]
          },
          "metadata": {}
        },
        {
          "output_type": "display_data",
          "data": {
            "text/plain": [
              "<IPython.core.display.Javascript object>"
            ],
            "application/javascript": [
              "download(\"download_4ece6f37-d045-40d4-aab7-a4b43c52fa84\", \"16x16_pca-0.6.csv\", 951528)"
            ]
          },
          "metadata": {}
        },
        {
          "output_type": "stream",
          "name": "stdout",
          "text": [
            "hog de 16x16 e pca de 0.65\n",
            "shape: (800, 74)\n",
            "\n"
          ]
        },
        {
          "output_type": "display_data",
          "data": {
            "text/plain": [
              "<IPython.core.display.Javascript object>"
            ],
            "application/javascript": [
              "\n",
              "    async function download(id, filename, size) {\n",
              "      if (!google.colab.kernel.accessAllowed) {\n",
              "        return;\n",
              "      }\n",
              "      const div = document.createElement('div');\n",
              "      const label = document.createElement('label');\n",
              "      label.textContent = `Downloading \"${filename}\": `;\n",
              "      div.appendChild(label);\n",
              "      const progress = document.createElement('progress');\n",
              "      progress.max = size;\n",
              "      div.appendChild(progress);\n",
              "      document.body.appendChild(div);\n",
              "\n",
              "      const buffers = [];\n",
              "      let downloaded = 0;\n",
              "\n",
              "      const channel = await google.colab.kernel.comms.open(id);\n",
              "      // Send a message to notify the kernel that we're ready.\n",
              "      channel.send({})\n",
              "\n",
              "      for await (const message of channel.messages) {\n",
              "        // Send a message to notify the kernel that we're ready.\n",
              "        channel.send({})\n",
              "        if (message.buffers) {\n",
              "          for (const buffer of message.buffers) {\n",
              "            buffers.push(buffer);\n",
              "            downloaded += buffer.byteLength;\n",
              "            progress.value = downloaded;\n",
              "          }\n",
              "        }\n",
              "      }\n",
              "      const blob = new Blob(buffers, {type: 'application/binary'});\n",
              "      const a = document.createElement('a');\n",
              "      a.href = window.URL.createObjectURL(blob);\n",
              "      a.download = filename;\n",
              "      div.appendChild(a);\n",
              "      a.click();\n",
              "      div.remove();\n",
              "    }\n",
              "  "
            ]
          },
          "metadata": {}
        },
        {
          "output_type": "display_data",
          "data": {
            "text/plain": [
              "<IPython.core.display.Javascript object>"
            ],
            "application/javascript": [
              "download(\"download_b7bb40e2-860a-42ff-8f46-360de01f8682\", \"16x16_pca-0.65.csv\", 1171554)"
            ]
          },
          "metadata": {}
        },
        {
          "output_type": "stream",
          "name": "stdout",
          "text": [
            "hog de 16x16 e pca de 0.7\n",
            "shape: (800, 90)\n",
            "\n"
          ]
        },
        {
          "output_type": "display_data",
          "data": {
            "text/plain": [
              "<IPython.core.display.Javascript object>"
            ],
            "application/javascript": [
              "\n",
              "    async function download(id, filename, size) {\n",
              "      if (!google.colab.kernel.accessAllowed) {\n",
              "        return;\n",
              "      }\n",
              "      const div = document.createElement('div');\n",
              "      const label = document.createElement('label');\n",
              "      label.textContent = `Downloading \"${filename}\": `;\n",
              "      div.appendChild(label);\n",
              "      const progress = document.createElement('progress');\n",
              "      progress.max = size;\n",
              "      div.appendChild(progress);\n",
              "      document.body.appendChild(div);\n",
              "\n",
              "      const buffers = [];\n",
              "      let downloaded = 0;\n",
              "\n",
              "      const channel = await google.colab.kernel.comms.open(id);\n",
              "      // Send a message to notify the kernel that we're ready.\n",
              "      channel.send({})\n",
              "\n",
              "      for await (const message of channel.messages) {\n",
              "        // Send a message to notify the kernel that we're ready.\n",
              "        channel.send({})\n",
              "        if (message.buffers) {\n",
              "          for (const buffer of message.buffers) {\n",
              "            buffers.push(buffer);\n",
              "            downloaded += buffer.byteLength;\n",
              "            progress.value = downloaded;\n",
              "          }\n",
              "        }\n",
              "      }\n",
              "      const blob = new Blob(buffers, {type: 'application/binary'});\n",
              "      const a = document.createElement('a');\n",
              "      a.href = window.URL.createObjectURL(blob);\n",
              "      a.download = filename;\n",
              "      div.appendChild(a);\n",
              "      a.click();\n",
              "      div.remove();\n",
              "    }\n",
              "  "
            ]
          },
          "metadata": {}
        },
        {
          "output_type": "display_data",
          "data": {
            "text/plain": [
              "<IPython.core.display.Javascript object>"
            ],
            "application/javascript": [
              "download(\"download_f90884e3-a1ca-4c59-9444-8514339b6688\", \"16x16_pca-0.7.csv\", 1423091)"
            ]
          },
          "metadata": {}
        },
        {
          "output_type": "stream",
          "name": "stdout",
          "text": [
            "hog de 16x16 e pca de 0.75\n",
            "shape: (800, 111)\n",
            "\n"
          ]
        },
        {
          "output_type": "display_data",
          "data": {
            "text/plain": [
              "<IPython.core.display.Javascript object>"
            ],
            "application/javascript": [
              "\n",
              "    async function download(id, filename, size) {\n",
              "      if (!google.colab.kernel.accessAllowed) {\n",
              "        return;\n",
              "      }\n",
              "      const div = document.createElement('div');\n",
              "      const label = document.createElement('label');\n",
              "      label.textContent = `Downloading \"${filename}\": `;\n",
              "      div.appendChild(label);\n",
              "      const progress = document.createElement('progress');\n",
              "      progress.max = size;\n",
              "      div.appendChild(progress);\n",
              "      document.body.appendChild(div);\n",
              "\n",
              "      const buffers = [];\n",
              "      let downloaded = 0;\n",
              "\n",
              "      const channel = await google.colab.kernel.comms.open(id);\n",
              "      // Send a message to notify the kernel that we're ready.\n",
              "      channel.send({})\n",
              "\n",
              "      for await (const message of channel.messages) {\n",
              "        // Send a message to notify the kernel that we're ready.\n",
              "        channel.send({})\n",
              "        if (message.buffers) {\n",
              "          for (const buffer of message.buffers) {\n",
              "            buffers.push(buffer);\n",
              "            downloaded += buffer.byteLength;\n",
              "            progress.value = downloaded;\n",
              "          }\n",
              "        }\n",
              "      }\n",
              "      const blob = new Blob(buffers, {type: 'application/binary'});\n",
              "      const a = document.createElement('a');\n",
              "      a.href = window.URL.createObjectURL(blob);\n",
              "      a.download = filename;\n",
              "      div.appendChild(a);\n",
              "      a.click();\n",
              "      div.remove();\n",
              "    }\n",
              "  "
            ]
          },
          "metadata": {}
        },
        {
          "output_type": "display_data",
          "data": {
            "text/plain": [
              "<IPython.core.display.Javascript object>"
            ],
            "application/javascript": [
              "download(\"download_81a1a72a-0995-4eed-887b-9326bdef74e5\", \"16x16_pca-0.75.csv\", 1753377)"
            ]
          },
          "metadata": {}
        },
        {
          "output_type": "stream",
          "name": "stdout",
          "text": [
            "hog de 16x16 e pca de 0.8\n",
            "shape: (800, 138)\n",
            "\n"
          ]
        },
        {
          "output_type": "display_data",
          "data": {
            "text/plain": [
              "<IPython.core.display.Javascript object>"
            ],
            "application/javascript": [
              "\n",
              "    async function download(id, filename, size) {\n",
              "      if (!google.colab.kernel.accessAllowed) {\n",
              "        return;\n",
              "      }\n",
              "      const div = document.createElement('div');\n",
              "      const label = document.createElement('label');\n",
              "      label.textContent = `Downloading \"${filename}\": `;\n",
              "      div.appendChild(label);\n",
              "      const progress = document.createElement('progress');\n",
              "      progress.max = size;\n",
              "      div.appendChild(progress);\n",
              "      document.body.appendChild(div);\n",
              "\n",
              "      const buffers = [];\n",
              "      let downloaded = 0;\n",
              "\n",
              "      const channel = await google.colab.kernel.comms.open(id);\n",
              "      // Send a message to notify the kernel that we're ready.\n",
              "      channel.send({})\n",
              "\n",
              "      for await (const message of channel.messages) {\n",
              "        // Send a message to notify the kernel that we're ready.\n",
              "        channel.send({})\n",
              "        if (message.buffers) {\n",
              "          for (const buffer of message.buffers) {\n",
              "            buffers.push(buffer);\n",
              "            downloaded += buffer.byteLength;\n",
              "            progress.value = downloaded;\n",
              "          }\n",
              "        }\n",
              "      }\n",
              "      const blob = new Blob(buffers, {type: 'application/binary'});\n",
              "      const a = document.createElement('a');\n",
              "      a.href = window.URL.createObjectURL(blob);\n",
              "      a.download = filename;\n",
              "      div.appendChild(a);\n",
              "      a.click();\n",
              "      div.remove();\n",
              "    }\n",
              "  "
            ]
          },
          "metadata": {}
        },
        {
          "output_type": "display_data",
          "data": {
            "text/plain": [
              "<IPython.core.display.Javascript object>"
            ],
            "application/javascript": [
              "download(\"download_f9392557-c160-47a7-8931-824ae291f1ff\", \"16x16_pca-0.8.csv\", 2177780)"
            ]
          },
          "metadata": {}
        },
        {
          "output_type": "stream",
          "name": "stdout",
          "text": [
            "hog de 16x16 e pca de 0.85\n",
            "shape: (800, 173)\n",
            "\n"
          ]
        },
        {
          "output_type": "display_data",
          "data": {
            "text/plain": [
              "<IPython.core.display.Javascript object>"
            ],
            "application/javascript": [
              "\n",
              "    async function download(id, filename, size) {\n",
              "      if (!google.colab.kernel.accessAllowed) {\n",
              "        return;\n",
              "      }\n",
              "      const div = document.createElement('div');\n",
              "      const label = document.createElement('label');\n",
              "      label.textContent = `Downloading \"${filename}\": `;\n",
              "      div.appendChild(label);\n",
              "      const progress = document.createElement('progress');\n",
              "      progress.max = size;\n",
              "      div.appendChild(progress);\n",
              "      document.body.appendChild(div);\n",
              "\n",
              "      const buffers = [];\n",
              "      let downloaded = 0;\n",
              "\n",
              "      const channel = await google.colab.kernel.comms.open(id);\n",
              "      // Send a message to notify the kernel that we're ready.\n",
              "      channel.send({})\n",
              "\n",
              "      for await (const message of channel.messages) {\n",
              "        // Send a message to notify the kernel that we're ready.\n",
              "        channel.send({})\n",
              "        if (message.buffers) {\n",
              "          for (const buffer of message.buffers) {\n",
              "            buffers.push(buffer);\n",
              "            downloaded += buffer.byteLength;\n",
              "            progress.value = downloaded;\n",
              "          }\n",
              "        }\n",
              "      }\n",
              "      const blob = new Blob(buffers, {type: 'application/binary'});\n",
              "      const a = document.createElement('a');\n",
              "      a.href = window.URL.createObjectURL(blob);\n",
              "      a.download = filename;\n",
              "      div.appendChild(a);\n",
              "      a.click();\n",
              "      div.remove();\n",
              "    }\n",
              "  "
            ]
          },
          "metadata": {}
        },
        {
          "output_type": "display_data",
          "data": {
            "text/plain": [
              "<IPython.core.display.Javascript object>"
            ],
            "application/javascript": [
              "download(\"download_e46caf19-8be5-49ed-b88f-3a35667a2dff\", \"16x16_pca-0.85.csv\", 2728022)"
            ]
          },
          "metadata": {}
        },
        {
          "output_type": "stream",
          "name": "stdout",
          "text": [
            "hog de 16x16 e pca de 0.9\n",
            "shape: (800, 225)\n",
            "\n"
          ]
        },
        {
          "output_type": "display_data",
          "data": {
            "text/plain": [
              "<IPython.core.display.Javascript object>"
            ],
            "application/javascript": [
              "\n",
              "    async function download(id, filename, size) {\n",
              "      if (!google.colab.kernel.accessAllowed) {\n",
              "        return;\n",
              "      }\n",
              "      const div = document.createElement('div');\n",
              "      const label = document.createElement('label');\n",
              "      label.textContent = `Downloading \"${filename}\": `;\n",
              "      div.appendChild(label);\n",
              "      const progress = document.createElement('progress');\n",
              "      progress.max = size;\n",
              "      div.appendChild(progress);\n",
              "      document.body.appendChild(div);\n",
              "\n",
              "      const buffers = [];\n",
              "      let downloaded = 0;\n",
              "\n",
              "      const channel = await google.colab.kernel.comms.open(id);\n",
              "      // Send a message to notify the kernel that we're ready.\n",
              "      channel.send({})\n",
              "\n",
              "      for await (const message of channel.messages) {\n",
              "        // Send a message to notify the kernel that we're ready.\n",
              "        channel.send({})\n",
              "        if (message.buffers) {\n",
              "          for (const buffer of message.buffers) {\n",
              "            buffers.push(buffer);\n",
              "            downloaded += buffer.byteLength;\n",
              "            progress.value = downloaded;\n",
              "          }\n",
              "        }\n",
              "      }\n",
              "      const blob = new Blob(buffers, {type: 'application/binary'});\n",
              "      const a = document.createElement('a');\n",
              "      a.href = window.URL.createObjectURL(blob);\n",
              "      a.download = filename;\n",
              "      div.appendChild(a);\n",
              "      a.click();\n",
              "      div.remove();\n",
              "    }\n",
              "  "
            ]
          },
          "metadata": {}
        },
        {
          "output_type": "display_data",
          "data": {
            "text/plain": [
              "<IPython.core.display.Javascript object>"
            ],
            "application/javascript": [
              "download(\"download_dd294eb8-474f-43d1-abd0-7aeb180501b2\", \"16x16_pca-0.9.csv\", 3545289)"
            ]
          },
          "metadata": {}
        },
        {
          "output_type": "stream",
          "name": "stdout",
          "text": [
            "hog de 16x16 e pca de 0.95\n",
            "shape: (800, 313)\n",
            "\n"
          ]
        },
        {
          "output_type": "display_data",
          "data": {
            "text/plain": [
              "<IPython.core.display.Javascript object>"
            ],
            "application/javascript": [
              "\n",
              "    async function download(id, filename, size) {\n",
              "      if (!google.colab.kernel.accessAllowed) {\n",
              "        return;\n",
              "      }\n",
              "      const div = document.createElement('div');\n",
              "      const label = document.createElement('label');\n",
              "      label.textContent = `Downloading \"${filename}\": `;\n",
              "      div.appendChild(label);\n",
              "      const progress = document.createElement('progress');\n",
              "      progress.max = size;\n",
              "      div.appendChild(progress);\n",
              "      document.body.appendChild(div);\n",
              "\n",
              "      const buffers = [];\n",
              "      let downloaded = 0;\n",
              "\n",
              "      const channel = await google.colab.kernel.comms.open(id);\n",
              "      // Send a message to notify the kernel that we're ready.\n",
              "      channel.send({})\n",
              "\n",
              "      for await (const message of channel.messages) {\n",
              "        // Send a message to notify the kernel that we're ready.\n",
              "        channel.send({})\n",
              "        if (message.buffers) {\n",
              "          for (const buffer of message.buffers) {\n",
              "            buffers.push(buffer);\n",
              "            downloaded += buffer.byteLength;\n",
              "            progress.value = downloaded;\n",
              "          }\n",
              "        }\n",
              "      }\n",
              "      const blob = new Blob(buffers, {type: 'application/binary'});\n",
              "      const a = document.createElement('a');\n",
              "      a.href = window.URL.createObjectURL(blob);\n",
              "      a.download = filename;\n",
              "      div.appendChild(a);\n",
              "      a.click();\n",
              "      div.remove();\n",
              "    }\n",
              "  "
            ]
          },
          "metadata": {}
        },
        {
          "output_type": "display_data",
          "data": {
            "text/plain": [
              "<IPython.core.display.Javascript object>"
            ],
            "application/javascript": [
              "download(\"download_79903c9b-9624-47fe-b58e-7a84bbd19d79\", \"16x16_pca-0.95.csv\", 4928222)"
            ]
          },
          "metadata": {}
        },
        {
          "output_type": "stream",
          "name": "stdout",
          "text": [
            "hog de 20x20 e pca de 0.1\n",
            "shape: (800, 2)\n",
            "\n"
          ]
        },
        {
          "output_type": "display_data",
          "data": {
            "text/plain": [
              "<IPython.core.display.Javascript object>"
            ],
            "application/javascript": [
              "\n",
              "    async function download(id, filename, size) {\n",
              "      if (!google.colab.kernel.accessAllowed) {\n",
              "        return;\n",
              "      }\n",
              "      const div = document.createElement('div');\n",
              "      const label = document.createElement('label');\n",
              "      label.textContent = `Downloading \"${filename}\": `;\n",
              "      div.appendChild(label);\n",
              "      const progress = document.createElement('progress');\n",
              "      progress.max = size;\n",
              "      div.appendChild(progress);\n",
              "      document.body.appendChild(div);\n",
              "\n",
              "      const buffers = [];\n",
              "      let downloaded = 0;\n",
              "\n",
              "      const channel = await google.colab.kernel.comms.open(id);\n",
              "      // Send a message to notify the kernel that we're ready.\n",
              "      channel.send({})\n",
              "\n",
              "      for await (const message of channel.messages) {\n",
              "        // Send a message to notify the kernel that we're ready.\n",
              "        channel.send({})\n",
              "        if (message.buffers) {\n",
              "          for (const buffer of message.buffers) {\n",
              "            buffers.push(buffer);\n",
              "            downloaded += buffer.byteLength;\n",
              "            progress.value = downloaded;\n",
              "          }\n",
              "        }\n",
              "      }\n",
              "      const blob = new Blob(buffers, {type: 'application/binary'});\n",
              "      const a = document.createElement('a');\n",
              "      a.href = window.URL.createObjectURL(blob);\n",
              "      a.download = filename;\n",
              "      div.appendChild(a);\n",
              "      a.click();\n",
              "      div.remove();\n",
              "    }\n",
              "  "
            ]
          },
          "metadata": {}
        },
        {
          "output_type": "display_data",
          "data": {
            "text/plain": [
              "<IPython.core.display.Javascript object>"
            ],
            "application/javascript": [
              "download(\"download_e115975f-baa3-455c-8bb7-718fbd585744\", \"20x20_pca-0.1.csv\", 38980)"
            ]
          },
          "metadata": {}
        },
        {
          "output_type": "stream",
          "name": "stdout",
          "text": [
            "hog de 20x20 e pca de 0.15\n",
            "shape: (800, 3)\n",
            "\n"
          ]
        },
        {
          "output_type": "display_data",
          "data": {
            "text/plain": [
              "<IPython.core.display.Javascript object>"
            ],
            "application/javascript": [
              "\n",
              "    async function download(id, filename, size) {\n",
              "      if (!google.colab.kernel.accessAllowed) {\n",
              "        return;\n",
              "      }\n",
              "      const div = document.createElement('div');\n",
              "      const label = document.createElement('label');\n",
              "      label.textContent = `Downloading \"${filename}\": `;\n",
              "      div.appendChild(label);\n",
              "      const progress = document.createElement('progress');\n",
              "      progress.max = size;\n",
              "      div.appendChild(progress);\n",
              "      document.body.appendChild(div);\n",
              "\n",
              "      const buffers = [];\n",
              "      let downloaded = 0;\n",
              "\n",
              "      const channel = await google.colab.kernel.comms.open(id);\n",
              "      // Send a message to notify the kernel that we're ready.\n",
              "      channel.send({})\n",
              "\n",
              "      for await (const message of channel.messages) {\n",
              "        // Send a message to notify the kernel that we're ready.\n",
              "        channel.send({})\n",
              "        if (message.buffers) {\n",
              "          for (const buffer of message.buffers) {\n",
              "            buffers.push(buffer);\n",
              "            downloaded += buffer.byteLength;\n",
              "            progress.value = downloaded;\n",
              "          }\n",
              "        }\n",
              "      }\n",
              "      const blob = new Blob(buffers, {type: 'application/binary'});\n",
              "      const a = document.createElement('a');\n",
              "      a.href = window.URL.createObjectURL(blob);\n",
              "      a.download = filename;\n",
              "      div.appendChild(a);\n",
              "      a.click();\n",
              "      div.remove();\n",
              "    }\n",
              "  "
            ]
          },
          "metadata": {}
        },
        {
          "output_type": "display_data",
          "data": {
            "text/plain": [
              "<IPython.core.display.Javascript object>"
            ],
            "application/javascript": [
              "download(\"download_ecae11a4-96fb-4dd1-aeb1-96addfaeeb7f\", \"20x20_pca-0.15.csv\", 54746)"
            ]
          },
          "metadata": {}
        },
        {
          "output_type": "stream",
          "name": "stdout",
          "text": [
            "hog de 20x20 e pca de 0.2\n",
            "shape: (800, 5)\n",
            "\n"
          ]
        },
        {
          "output_type": "display_data",
          "data": {
            "text/plain": [
              "<IPython.core.display.Javascript object>"
            ],
            "application/javascript": [
              "\n",
              "    async function download(id, filename, size) {\n",
              "      if (!google.colab.kernel.accessAllowed) {\n",
              "        return;\n",
              "      }\n",
              "      const div = document.createElement('div');\n",
              "      const label = document.createElement('label');\n",
              "      label.textContent = `Downloading \"${filename}\": `;\n",
              "      div.appendChild(label);\n",
              "      const progress = document.createElement('progress');\n",
              "      progress.max = size;\n",
              "      div.appendChild(progress);\n",
              "      document.body.appendChild(div);\n",
              "\n",
              "      const buffers = [];\n",
              "      let downloaded = 0;\n",
              "\n",
              "      const channel = await google.colab.kernel.comms.open(id);\n",
              "      // Send a message to notify the kernel that we're ready.\n",
              "      channel.send({})\n",
              "\n",
              "      for await (const message of channel.messages) {\n",
              "        // Send a message to notify the kernel that we're ready.\n",
              "        channel.send({})\n",
              "        if (message.buffers) {\n",
              "          for (const buffer of message.buffers) {\n",
              "            buffers.push(buffer);\n",
              "            downloaded += buffer.byteLength;\n",
              "            progress.value = downloaded;\n",
              "          }\n",
              "        }\n",
              "      }\n",
              "      const blob = new Blob(buffers, {type: 'application/binary'});\n",
              "      const a = document.createElement('a');\n",
              "      a.href = window.URL.createObjectURL(blob);\n",
              "      a.download = filename;\n",
              "      div.appendChild(a);\n",
              "      a.click();\n",
              "      div.remove();\n",
              "    }\n",
              "  "
            ]
          },
          "metadata": {}
        },
        {
          "output_type": "display_data",
          "data": {
            "text/plain": [
              "<IPython.core.display.Javascript object>"
            ],
            "application/javascript": [
              "download(\"download_ef603c46-4226-45be-b0b3-54ffd2270925\", \"20x20_pca-0.2.csv\", 86178)"
            ]
          },
          "metadata": {}
        },
        {
          "output_type": "stream",
          "name": "stdout",
          "text": [
            "hog de 20x20 e pca de 0.25\n",
            "shape: (800, 7)\n",
            "\n"
          ]
        },
        {
          "output_type": "display_data",
          "data": {
            "text/plain": [
              "<IPython.core.display.Javascript object>"
            ],
            "application/javascript": [
              "\n",
              "    async function download(id, filename, size) {\n",
              "      if (!google.colab.kernel.accessAllowed) {\n",
              "        return;\n",
              "      }\n",
              "      const div = document.createElement('div');\n",
              "      const label = document.createElement('label');\n",
              "      label.textContent = `Downloading \"${filename}\": `;\n",
              "      div.appendChild(label);\n",
              "      const progress = document.createElement('progress');\n",
              "      progress.max = size;\n",
              "      div.appendChild(progress);\n",
              "      document.body.appendChild(div);\n",
              "\n",
              "      const buffers = [];\n",
              "      let downloaded = 0;\n",
              "\n",
              "      const channel = await google.colab.kernel.comms.open(id);\n",
              "      // Send a message to notify the kernel that we're ready.\n",
              "      channel.send({})\n",
              "\n",
              "      for await (const message of channel.messages) {\n",
              "        // Send a message to notify the kernel that we're ready.\n",
              "        channel.send({})\n",
              "        if (message.buffers) {\n",
              "          for (const buffer of message.buffers) {\n",
              "            buffers.push(buffer);\n",
              "            downloaded += buffer.byteLength;\n",
              "            progress.value = downloaded;\n",
              "          }\n",
              "        }\n",
              "      }\n",
              "      const blob = new Blob(buffers, {type: 'application/binary'});\n",
              "      const a = document.createElement('a');\n",
              "      a.href = window.URL.createObjectURL(blob);\n",
              "      a.download = filename;\n",
              "      div.appendChild(a);\n",
              "      a.click();\n",
              "      div.remove();\n",
              "    }\n",
              "  "
            ]
          },
          "metadata": {}
        },
        {
          "output_type": "display_data",
          "data": {
            "text/plain": [
              "<IPython.core.display.Javascript object>"
            ],
            "application/javascript": [
              "download(\"download_6f379244-cccf-4856-892b-6746480dacf2\", \"20x20_pca-0.25.csv\", 117645)"
            ]
          },
          "metadata": {}
        },
        {
          "output_type": "stream",
          "name": "stdout",
          "text": [
            "hog de 20x20 e pca de 0.3\n",
            "shape: (800, 10)\n",
            "\n"
          ]
        },
        {
          "output_type": "display_data",
          "data": {
            "text/plain": [
              "<IPython.core.display.Javascript object>"
            ],
            "application/javascript": [
              "\n",
              "    async function download(id, filename, size) {\n",
              "      if (!google.colab.kernel.accessAllowed) {\n",
              "        return;\n",
              "      }\n",
              "      const div = document.createElement('div');\n",
              "      const label = document.createElement('label');\n",
              "      label.textContent = `Downloading \"${filename}\": `;\n",
              "      div.appendChild(label);\n",
              "      const progress = document.createElement('progress');\n",
              "      progress.max = size;\n",
              "      div.appendChild(progress);\n",
              "      document.body.appendChild(div);\n",
              "\n",
              "      const buffers = [];\n",
              "      let downloaded = 0;\n",
              "\n",
              "      const channel = await google.colab.kernel.comms.open(id);\n",
              "      // Send a message to notify the kernel that we're ready.\n",
              "      channel.send({})\n",
              "\n",
              "      for await (const message of channel.messages) {\n",
              "        // Send a message to notify the kernel that we're ready.\n",
              "        channel.send({})\n",
              "        if (message.buffers) {\n",
              "          for (const buffer of message.buffers) {\n",
              "            buffers.push(buffer);\n",
              "            downloaded += buffer.byteLength;\n",
              "            progress.value = downloaded;\n",
              "          }\n",
              "        }\n",
              "      }\n",
              "      const blob = new Blob(buffers, {type: 'application/binary'});\n",
              "      const a = document.createElement('a');\n",
              "      a.href = window.URL.createObjectURL(blob);\n",
              "      a.download = filename;\n",
              "      div.appendChild(a);\n",
              "      a.click();\n",
              "      div.remove();\n",
              "    }\n",
              "  "
            ]
          },
          "metadata": {}
        },
        {
          "output_type": "display_data",
          "data": {
            "text/plain": [
              "<IPython.core.display.Javascript object>"
            ],
            "application/javascript": [
              "download(\"download_8c4aeec6-9939-4c46-946d-eb22671bd917\", \"20x20_pca-0.3.csv\", 164835)"
            ]
          },
          "metadata": {}
        },
        {
          "output_type": "stream",
          "name": "stdout",
          "text": [
            "hog de 20x20 e pca de 0.35\n",
            "shape: (800, 13)\n",
            "\n"
          ]
        },
        {
          "output_type": "display_data",
          "data": {
            "text/plain": [
              "<IPython.core.display.Javascript object>"
            ],
            "application/javascript": [
              "\n",
              "    async function download(id, filename, size) {\n",
              "      if (!google.colab.kernel.accessAllowed) {\n",
              "        return;\n",
              "      }\n",
              "      const div = document.createElement('div');\n",
              "      const label = document.createElement('label');\n",
              "      label.textContent = `Downloading \"${filename}\": `;\n",
              "      div.appendChild(label);\n",
              "      const progress = document.createElement('progress');\n",
              "      progress.max = size;\n",
              "      div.appendChild(progress);\n",
              "      document.body.appendChild(div);\n",
              "\n",
              "      const buffers = [];\n",
              "      let downloaded = 0;\n",
              "\n",
              "      const channel = await google.colab.kernel.comms.open(id);\n",
              "      // Send a message to notify the kernel that we're ready.\n",
              "      channel.send({})\n",
              "\n",
              "      for await (const message of channel.messages) {\n",
              "        // Send a message to notify the kernel that we're ready.\n",
              "        channel.send({})\n",
              "        if (message.buffers) {\n",
              "          for (const buffer of message.buffers) {\n",
              "            buffers.push(buffer);\n",
              "            downloaded += buffer.byteLength;\n",
              "            progress.value = downloaded;\n",
              "          }\n",
              "        }\n",
              "      }\n",
              "      const blob = new Blob(buffers, {type: 'application/binary'});\n",
              "      const a = document.createElement('a');\n",
              "      a.href = window.URL.createObjectURL(blob);\n",
              "      a.download = filename;\n",
              "      div.appendChild(a);\n",
              "      a.click();\n",
              "      div.remove();\n",
              "    }\n",
              "  "
            ]
          },
          "metadata": {}
        },
        {
          "output_type": "display_data",
          "data": {
            "text/plain": [
              "<IPython.core.display.Javascript object>"
            ],
            "application/javascript": [
              "download(\"download_0b129cbf-f6fd-43ce-bbd0-2b277425fee1\", \"20x20_pca-0.35.csv\", 211982)"
            ]
          },
          "metadata": {}
        },
        {
          "output_type": "stream",
          "name": "stdout",
          "text": [
            "hog de 20x20 e pca de 0.4\n",
            "shape: (800, 16)\n",
            "\n"
          ]
        },
        {
          "output_type": "display_data",
          "data": {
            "text/plain": [
              "<IPython.core.display.Javascript object>"
            ],
            "application/javascript": [
              "\n",
              "    async function download(id, filename, size) {\n",
              "      if (!google.colab.kernel.accessAllowed) {\n",
              "        return;\n",
              "      }\n",
              "      const div = document.createElement('div');\n",
              "      const label = document.createElement('label');\n",
              "      label.textContent = `Downloading \"${filename}\": `;\n",
              "      div.appendChild(label);\n",
              "      const progress = document.createElement('progress');\n",
              "      progress.max = size;\n",
              "      div.appendChild(progress);\n",
              "      document.body.appendChild(div);\n",
              "\n",
              "      const buffers = [];\n",
              "      let downloaded = 0;\n",
              "\n",
              "      const channel = await google.colab.kernel.comms.open(id);\n",
              "      // Send a message to notify the kernel that we're ready.\n",
              "      channel.send({})\n",
              "\n",
              "      for await (const message of channel.messages) {\n",
              "        // Send a message to notify the kernel that we're ready.\n",
              "        channel.send({})\n",
              "        if (message.buffers) {\n",
              "          for (const buffer of message.buffers) {\n",
              "            buffers.push(buffer);\n",
              "            downloaded += buffer.byteLength;\n",
              "            progress.value = downloaded;\n",
              "          }\n",
              "        }\n",
              "      }\n",
              "      const blob = new Blob(buffers, {type: 'application/binary'});\n",
              "      const a = document.createElement('a');\n",
              "      a.href = window.URL.createObjectURL(blob);\n",
              "      a.download = filename;\n",
              "      div.appendChild(a);\n",
              "      a.click();\n",
              "      div.remove();\n",
              "    }\n",
              "  "
            ]
          },
          "metadata": {}
        },
        {
          "output_type": "display_data",
          "data": {
            "text/plain": [
              "<IPython.core.display.Javascript object>"
            ],
            "application/javascript": [
              "download(\"download_24150cd2-5c80-44ac-9c83-97d1ae5c757d\", \"20x20_pca-0.4.csv\", 259125)"
            ]
          },
          "metadata": {}
        },
        {
          "output_type": "stream",
          "name": "stdout",
          "text": [
            "hog de 20x20 e pca de 0.45\n",
            "shape: (800, 21)\n",
            "\n"
          ]
        },
        {
          "output_type": "display_data",
          "data": {
            "text/plain": [
              "<IPython.core.display.Javascript object>"
            ],
            "application/javascript": [
              "\n",
              "    async function download(id, filename, size) {\n",
              "      if (!google.colab.kernel.accessAllowed) {\n",
              "        return;\n",
              "      }\n",
              "      const div = document.createElement('div');\n",
              "      const label = document.createElement('label');\n",
              "      label.textContent = `Downloading \"${filename}\": `;\n",
              "      div.appendChild(label);\n",
              "      const progress = document.createElement('progress');\n",
              "      progress.max = size;\n",
              "      div.appendChild(progress);\n",
              "      document.body.appendChild(div);\n",
              "\n",
              "      const buffers = [];\n",
              "      let downloaded = 0;\n",
              "\n",
              "      const channel = await google.colab.kernel.comms.open(id);\n",
              "      // Send a message to notify the kernel that we're ready.\n",
              "      channel.send({})\n",
              "\n",
              "      for await (const message of channel.messages) {\n",
              "        // Send a message to notify the kernel that we're ready.\n",
              "        channel.send({})\n",
              "        if (message.buffers) {\n",
              "          for (const buffer of message.buffers) {\n",
              "            buffers.push(buffer);\n",
              "            downloaded += buffer.byteLength;\n",
              "            progress.value = downloaded;\n",
              "          }\n",
              "        }\n",
              "      }\n",
              "      const blob = new Blob(buffers, {type: 'application/binary'});\n",
              "      const a = document.createElement('a');\n",
              "      a.href = window.URL.createObjectURL(blob);\n",
              "      a.download = filename;\n",
              "      div.appendChild(a);\n",
              "      a.click();\n",
              "      div.remove();\n",
              "    }\n",
              "  "
            ]
          },
          "metadata": {}
        },
        {
          "output_type": "display_data",
          "data": {
            "text/plain": [
              "<IPython.core.display.Javascript object>"
            ],
            "application/javascript": [
              "download(\"download_2d05de4e-130a-4287-85ee-77f3446bb7a0\", \"20x20_pca-0.45.csv\", 337772)"
            ]
          },
          "metadata": {}
        },
        {
          "output_type": "stream",
          "name": "stdout",
          "text": [
            "hog de 20x20 e pca de 0.5\n",
            "shape: (800, 25)\n",
            "\n"
          ]
        },
        {
          "output_type": "display_data",
          "data": {
            "text/plain": [
              "<IPython.core.display.Javascript object>"
            ],
            "application/javascript": [
              "\n",
              "    async function download(id, filename, size) {\n",
              "      if (!google.colab.kernel.accessAllowed) {\n",
              "        return;\n",
              "      }\n",
              "      const div = document.createElement('div');\n",
              "      const label = document.createElement('label');\n",
              "      label.textContent = `Downloading \"${filename}\": `;\n",
              "      div.appendChild(label);\n",
              "      const progress = document.createElement('progress');\n",
              "      progress.max = size;\n",
              "      div.appendChild(progress);\n",
              "      document.body.appendChild(div);\n",
              "\n",
              "      const buffers = [];\n",
              "      let downloaded = 0;\n",
              "\n",
              "      const channel = await google.colab.kernel.comms.open(id);\n",
              "      // Send a message to notify the kernel that we're ready.\n",
              "      channel.send({})\n",
              "\n",
              "      for await (const message of channel.messages) {\n",
              "        // Send a message to notify the kernel that we're ready.\n",
              "        channel.send({})\n",
              "        if (message.buffers) {\n",
              "          for (const buffer of message.buffers) {\n",
              "            buffers.push(buffer);\n",
              "            downloaded += buffer.byteLength;\n",
              "            progress.value = downloaded;\n",
              "          }\n",
              "        }\n",
              "      }\n",
              "      const blob = new Blob(buffers, {type: 'application/binary'});\n",
              "      const a = document.createElement('a');\n",
              "      a.href = window.URL.createObjectURL(blob);\n",
              "      a.download = filename;\n",
              "      div.appendChild(a);\n",
              "      a.click();\n",
              "      div.remove();\n",
              "    }\n",
              "  "
            ]
          },
          "metadata": {}
        },
        {
          "output_type": "display_data",
          "data": {
            "text/plain": [
              "<IPython.core.display.Javascript object>"
            ],
            "application/javascript": [
              "download(\"download_52900db3-f383-499b-8155-e678dc2971f8\", \"20x20_pca-0.5.csv\", 400621)"
            ]
          },
          "metadata": {}
        },
        {
          "output_type": "stream",
          "name": "stdout",
          "text": [
            "hog de 20x20 e pca de 0.55\n",
            "shape: (800, 31)\n",
            "\n"
          ]
        },
        {
          "output_type": "display_data",
          "data": {
            "text/plain": [
              "<IPython.core.display.Javascript object>"
            ],
            "application/javascript": [
              "\n",
              "    async function download(id, filename, size) {\n",
              "      if (!google.colab.kernel.accessAllowed) {\n",
              "        return;\n",
              "      }\n",
              "      const div = document.createElement('div');\n",
              "      const label = document.createElement('label');\n",
              "      label.textContent = `Downloading \"${filename}\": `;\n",
              "      div.appendChild(label);\n",
              "      const progress = document.createElement('progress');\n",
              "      progress.max = size;\n",
              "      div.appendChild(progress);\n",
              "      document.body.appendChild(div);\n",
              "\n",
              "      const buffers = [];\n",
              "      let downloaded = 0;\n",
              "\n",
              "      const channel = await google.colab.kernel.comms.open(id);\n",
              "      // Send a message to notify the kernel that we're ready.\n",
              "      channel.send({})\n",
              "\n",
              "      for await (const message of channel.messages) {\n",
              "        // Send a message to notify the kernel that we're ready.\n",
              "        channel.send({})\n",
              "        if (message.buffers) {\n",
              "          for (const buffer of message.buffers) {\n",
              "            buffers.push(buffer);\n",
              "            downloaded += buffer.byteLength;\n",
              "            progress.value = downloaded;\n",
              "          }\n",
              "        }\n",
              "      }\n",
              "      const blob = new Blob(buffers, {type: 'application/binary'});\n",
              "      const a = document.createElement('a');\n",
              "      a.href = window.URL.createObjectURL(blob);\n",
              "      a.download = filename;\n",
              "      div.appendChild(a);\n",
              "      a.click();\n",
              "      div.remove();\n",
              "    }\n",
              "  "
            ]
          },
          "metadata": {}
        },
        {
          "output_type": "display_data",
          "data": {
            "text/plain": [
              "<IPython.core.display.Javascript object>"
            ],
            "application/javascript": [
              "download(\"download_becc4319-23be-4ff7-8a1f-e8c412030eac\", \"20x20_pca-0.55.csv\", 495020)"
            ]
          },
          "metadata": {}
        },
        {
          "output_type": "stream",
          "name": "stdout",
          "text": [
            "hog de 20x20 e pca de 0.6\n",
            "shape: (800, 38)\n",
            "\n"
          ]
        },
        {
          "output_type": "display_data",
          "data": {
            "text/plain": [
              "<IPython.core.display.Javascript object>"
            ],
            "application/javascript": [
              "\n",
              "    async function download(id, filename, size) {\n",
              "      if (!google.colab.kernel.accessAllowed) {\n",
              "        return;\n",
              "      }\n",
              "      const div = document.createElement('div');\n",
              "      const label = document.createElement('label');\n",
              "      label.textContent = `Downloading \"${filename}\": `;\n",
              "      div.appendChild(label);\n",
              "      const progress = document.createElement('progress');\n",
              "      progress.max = size;\n",
              "      div.appendChild(progress);\n",
              "      document.body.appendChild(div);\n",
              "\n",
              "      const buffers = [];\n",
              "      let downloaded = 0;\n",
              "\n",
              "      const channel = await google.colab.kernel.comms.open(id);\n",
              "      // Send a message to notify the kernel that we're ready.\n",
              "      channel.send({})\n",
              "\n",
              "      for await (const message of channel.messages) {\n",
              "        // Send a message to notify the kernel that we're ready.\n",
              "        channel.send({})\n",
              "        if (message.buffers) {\n",
              "          for (const buffer of message.buffers) {\n",
              "            buffers.push(buffer);\n",
              "            downloaded += buffer.byteLength;\n",
              "            progress.value = downloaded;\n",
              "          }\n",
              "        }\n",
              "      }\n",
              "      const blob = new Blob(buffers, {type: 'application/binary'});\n",
              "      const a = document.createElement('a');\n",
              "      a.href = window.URL.createObjectURL(blob);\n",
              "      a.download = filename;\n",
              "      div.appendChild(a);\n",
              "      a.click();\n",
              "      div.remove();\n",
              "    }\n",
              "  "
            ]
          },
          "metadata": {}
        },
        {
          "output_type": "display_data",
          "data": {
            "text/plain": [
              "<IPython.core.display.Javascript object>"
            ],
            "application/javascript": [
              "download(\"download_6a23a8b5-5eed-4302-8fdd-880146ab423d\", \"20x20_pca-0.6.csv\", 605085)"
            ]
          },
          "metadata": {}
        },
        {
          "output_type": "stream",
          "name": "stdout",
          "text": [
            "hog de 20x20 e pca de 0.65\n",
            "shape: (800, 46)\n",
            "\n"
          ]
        },
        {
          "output_type": "display_data",
          "data": {
            "text/plain": [
              "<IPython.core.display.Javascript object>"
            ],
            "application/javascript": [
              "\n",
              "    async function download(id, filename, size) {\n",
              "      if (!google.colab.kernel.accessAllowed) {\n",
              "        return;\n",
              "      }\n",
              "      const div = document.createElement('div');\n",
              "      const label = document.createElement('label');\n",
              "      label.textContent = `Downloading \"${filename}\": `;\n",
              "      div.appendChild(label);\n",
              "      const progress = document.createElement('progress');\n",
              "      progress.max = size;\n",
              "      div.appendChild(progress);\n",
              "      document.body.appendChild(div);\n",
              "\n",
              "      const buffers = [];\n",
              "      let downloaded = 0;\n",
              "\n",
              "      const channel = await google.colab.kernel.comms.open(id);\n",
              "      // Send a message to notify the kernel that we're ready.\n",
              "      channel.send({})\n",
              "\n",
              "      for await (const message of channel.messages) {\n",
              "        // Send a message to notify the kernel that we're ready.\n",
              "        channel.send({})\n",
              "        if (message.buffers) {\n",
              "          for (const buffer of message.buffers) {\n",
              "            buffers.push(buffer);\n",
              "            downloaded += buffer.byteLength;\n",
              "            progress.value = downloaded;\n",
              "          }\n",
              "        }\n",
              "      }\n",
              "      const blob = new Blob(buffers, {type: 'application/binary'});\n",
              "      const a = document.createElement('a');\n",
              "      a.href = window.URL.createObjectURL(blob);\n",
              "      a.download = filename;\n",
              "      div.appendChild(a);\n",
              "      a.click();\n",
              "      div.remove();\n",
              "    }\n",
              "  "
            ]
          },
          "metadata": {}
        },
        {
          "output_type": "display_data",
          "data": {
            "text/plain": [
              "<IPython.core.display.Javascript object>"
            ],
            "application/javascript": [
              "download(\"download_3632fc4f-699f-4bea-bfcf-39c997be9250\", \"20x20_pca-0.65.csv\", 730879)"
            ]
          },
          "metadata": {}
        },
        {
          "output_type": "stream",
          "name": "stdout",
          "text": [
            "hog de 20x20 e pca de 0.7\n",
            "shape: (800, 56)\n",
            "\n"
          ]
        },
        {
          "output_type": "display_data",
          "data": {
            "text/plain": [
              "<IPython.core.display.Javascript object>"
            ],
            "application/javascript": [
              "\n",
              "    async function download(id, filename, size) {\n",
              "      if (!google.colab.kernel.accessAllowed) {\n",
              "        return;\n",
              "      }\n",
              "      const div = document.createElement('div');\n",
              "      const label = document.createElement('label');\n",
              "      label.textContent = `Downloading \"${filename}\": `;\n",
              "      div.appendChild(label);\n",
              "      const progress = document.createElement('progress');\n",
              "      progress.max = size;\n",
              "      div.appendChild(progress);\n",
              "      document.body.appendChild(div);\n",
              "\n",
              "      const buffers = [];\n",
              "      let downloaded = 0;\n",
              "\n",
              "      const channel = await google.colab.kernel.comms.open(id);\n",
              "      // Send a message to notify the kernel that we're ready.\n",
              "      channel.send({})\n",
              "\n",
              "      for await (const message of channel.messages) {\n",
              "        // Send a message to notify the kernel that we're ready.\n",
              "        channel.send({})\n",
              "        if (message.buffers) {\n",
              "          for (const buffer of message.buffers) {\n",
              "            buffers.push(buffer);\n",
              "            downloaded += buffer.byteLength;\n",
              "            progress.value = downloaded;\n",
              "          }\n",
              "        }\n",
              "      }\n",
              "      const blob = new Blob(buffers, {type: 'application/binary'});\n",
              "      const a = document.createElement('a');\n",
              "      a.href = window.URL.createObjectURL(blob);\n",
              "      a.download = filename;\n",
              "      div.appendChild(a);\n",
              "      a.click();\n",
              "      div.remove();\n",
              "    }\n",
              "  "
            ]
          },
          "metadata": {}
        },
        {
          "output_type": "display_data",
          "data": {
            "text/plain": [
              "<IPython.core.display.Javascript object>"
            ],
            "application/javascript": [
              "download(\"download_f9e20467-c17c-4aae-87ee-444907e4a8d7\", \"20x20_pca-0.7.csv\", 887994)"
            ]
          },
          "metadata": {}
        },
        {
          "output_type": "stream",
          "name": "stdout",
          "text": [
            "hog de 20x20 e pca de 0.75\n",
            "shape: (800, 69)\n",
            "\n"
          ]
        },
        {
          "output_type": "display_data",
          "data": {
            "text/plain": [
              "<IPython.core.display.Javascript object>"
            ],
            "application/javascript": [
              "\n",
              "    async function download(id, filename, size) {\n",
              "      if (!google.colab.kernel.accessAllowed) {\n",
              "        return;\n",
              "      }\n",
              "      const div = document.createElement('div');\n",
              "      const label = document.createElement('label');\n",
              "      label.textContent = `Downloading \"${filename}\": `;\n",
              "      div.appendChild(label);\n",
              "      const progress = document.createElement('progress');\n",
              "      progress.max = size;\n",
              "      div.appendChild(progress);\n",
              "      document.body.appendChild(div);\n",
              "\n",
              "      const buffers = [];\n",
              "      let downloaded = 0;\n",
              "\n",
              "      const channel = await google.colab.kernel.comms.open(id);\n",
              "      // Send a message to notify the kernel that we're ready.\n",
              "      channel.send({})\n",
              "\n",
              "      for await (const message of channel.messages) {\n",
              "        // Send a message to notify the kernel that we're ready.\n",
              "        channel.send({})\n",
              "        if (message.buffers) {\n",
              "          for (const buffer of message.buffers) {\n",
              "            buffers.push(buffer);\n",
              "            downloaded += buffer.byteLength;\n",
              "            progress.value = downloaded;\n",
              "          }\n",
              "        }\n",
              "      }\n",
              "      const blob = new Blob(buffers, {type: 'application/binary'});\n",
              "      const a = document.createElement('a');\n",
              "      a.href = window.URL.createObjectURL(blob);\n",
              "      a.download = filename;\n",
              "      div.appendChild(a);\n",
              "      a.click();\n",
              "      div.remove();\n",
              "    }\n",
              "  "
            ]
          },
          "metadata": {}
        },
        {
          "output_type": "display_data",
          "data": {
            "text/plain": [
              "<IPython.core.display.Javascript object>"
            ],
            "application/javascript": [
              "download(\"download_abb04c72-2b5c-416c-be32-165b382767cf\", \"20x20_pca-0.75.csv\", 1092355)"
            ]
          },
          "metadata": {}
        },
        {
          "output_type": "stream",
          "name": "stdout",
          "text": [
            "hog de 20x20 e pca de 0.8\n",
            "shape: (800, 85)\n",
            "\n"
          ]
        },
        {
          "output_type": "display_data",
          "data": {
            "text/plain": [
              "<IPython.core.display.Javascript object>"
            ],
            "application/javascript": [
              "\n",
              "    async function download(id, filename, size) {\n",
              "      if (!google.colab.kernel.accessAllowed) {\n",
              "        return;\n",
              "      }\n",
              "      const div = document.createElement('div');\n",
              "      const label = document.createElement('label');\n",
              "      label.textContent = `Downloading \"${filename}\": `;\n",
              "      div.appendChild(label);\n",
              "      const progress = document.createElement('progress');\n",
              "      progress.max = size;\n",
              "      div.appendChild(progress);\n",
              "      document.body.appendChild(div);\n",
              "\n",
              "      const buffers = [];\n",
              "      let downloaded = 0;\n",
              "\n",
              "      const channel = await google.colab.kernel.comms.open(id);\n",
              "      // Send a message to notify the kernel that we're ready.\n",
              "      channel.send({})\n",
              "\n",
              "      for await (const message of channel.messages) {\n",
              "        // Send a message to notify the kernel that we're ready.\n",
              "        channel.send({})\n",
              "        if (message.buffers) {\n",
              "          for (const buffer of message.buffers) {\n",
              "            buffers.push(buffer);\n",
              "            downloaded += buffer.byteLength;\n",
              "            progress.value = downloaded;\n",
              "          }\n",
              "        }\n",
              "      }\n",
              "      const blob = new Blob(buffers, {type: 'application/binary'});\n",
              "      const a = document.createElement('a');\n",
              "      a.href = window.URL.createObjectURL(blob);\n",
              "      a.download = filename;\n",
              "      div.appendChild(a);\n",
              "      a.click();\n",
              "      div.remove();\n",
              "    }\n",
              "  "
            ]
          },
          "metadata": {}
        },
        {
          "output_type": "display_data",
          "data": {
            "text/plain": [
              "<IPython.core.display.Javascript object>"
            ],
            "application/javascript": [
              "download(\"download_38ed883f-8b0e-44a2-9469-717c5b90115f\", \"20x20_pca-0.8.csv\", 1343837)"
            ]
          },
          "metadata": {}
        },
        {
          "output_type": "stream",
          "name": "stdout",
          "text": [
            "hog de 20x20 e pca de 0.85\n",
            "shape: (800, 107)\n",
            "\n"
          ]
        },
        {
          "output_type": "display_data",
          "data": {
            "text/plain": [
              "<IPython.core.display.Javascript object>"
            ],
            "application/javascript": [
              "\n",
              "    async function download(id, filename, size) {\n",
              "      if (!google.colab.kernel.accessAllowed) {\n",
              "        return;\n",
              "      }\n",
              "      const div = document.createElement('div');\n",
              "      const label = document.createElement('label');\n",
              "      label.textContent = `Downloading \"${filename}\": `;\n",
              "      div.appendChild(label);\n",
              "      const progress = document.createElement('progress');\n",
              "      progress.max = size;\n",
              "      div.appendChild(progress);\n",
              "      document.body.appendChild(div);\n",
              "\n",
              "      const buffers = [];\n",
              "      let downloaded = 0;\n",
              "\n",
              "      const channel = await google.colab.kernel.comms.open(id);\n",
              "      // Send a message to notify the kernel that we're ready.\n",
              "      channel.send({})\n",
              "\n",
              "      for await (const message of channel.messages) {\n",
              "        // Send a message to notify the kernel that we're ready.\n",
              "        channel.send({})\n",
              "        if (message.buffers) {\n",
              "          for (const buffer of message.buffers) {\n",
              "            buffers.push(buffer);\n",
              "            downloaded += buffer.byteLength;\n",
              "            progress.value = downloaded;\n",
              "          }\n",
              "        }\n",
              "      }\n",
              "      const blob = new Blob(buffers, {type: 'application/binary'});\n",
              "      const a = document.createElement('a');\n",
              "      a.href = window.URL.createObjectURL(blob);\n",
              "      a.download = filename;\n",
              "      div.appendChild(a);\n",
              "      a.click();\n",
              "      div.remove();\n",
              "    }\n",
              "  "
            ]
          },
          "metadata": {}
        },
        {
          "output_type": "display_data",
          "data": {
            "text/plain": [
              "<IPython.core.display.Javascript object>"
            ],
            "application/javascript": [
              "download(\"download_c9c9f8b6-4b4f-4500-9f2c-76a36bab7554\", \"20x20_pca-0.85.csv\", 1689743)"
            ]
          },
          "metadata": {}
        },
        {
          "output_type": "stream",
          "name": "stdout",
          "text": [
            "hog de 20x20 e pca de 0.9\n",
            "shape: (800, 141)\n",
            "\n"
          ]
        },
        {
          "output_type": "display_data",
          "data": {
            "text/plain": [
              "<IPython.core.display.Javascript object>"
            ],
            "application/javascript": [
              "\n",
              "    async function download(id, filename, size) {\n",
              "      if (!google.colab.kernel.accessAllowed) {\n",
              "        return;\n",
              "      }\n",
              "      const div = document.createElement('div');\n",
              "      const label = document.createElement('label');\n",
              "      label.textContent = `Downloading \"${filename}\": `;\n",
              "      div.appendChild(label);\n",
              "      const progress = document.createElement('progress');\n",
              "      progress.max = size;\n",
              "      div.appendChild(progress);\n",
              "      document.body.appendChild(div);\n",
              "\n",
              "      const buffers = [];\n",
              "      let downloaded = 0;\n",
              "\n",
              "      const channel = await google.colab.kernel.comms.open(id);\n",
              "      // Send a message to notify the kernel that we're ready.\n",
              "      channel.send({})\n",
              "\n",
              "      for await (const message of channel.messages) {\n",
              "        // Send a message to notify the kernel that we're ready.\n",
              "        channel.send({})\n",
              "        if (message.buffers) {\n",
              "          for (const buffer of message.buffers) {\n",
              "            buffers.push(buffer);\n",
              "            downloaded += buffer.byteLength;\n",
              "            progress.value = downloaded;\n",
              "          }\n",
              "        }\n",
              "      }\n",
              "      const blob = new Blob(buffers, {type: 'application/binary'});\n",
              "      const a = document.createElement('a');\n",
              "      a.href = window.URL.createObjectURL(blob);\n",
              "      a.download = filename;\n",
              "      div.appendChild(a);\n",
              "      a.click();\n",
              "      div.remove();\n",
              "    }\n",
              "  "
            ]
          },
          "metadata": {}
        },
        {
          "output_type": "display_data",
          "data": {
            "text/plain": [
              "<IPython.core.display.Javascript object>"
            ],
            "application/javascript": [
              "download(\"download_78a36bf2-2fdc-4fdb-853e-fbee09dfdea1\", \"20x20_pca-0.9.csv\", 2224356)"
            ]
          },
          "metadata": {}
        },
        {
          "output_type": "stream",
          "name": "stdout",
          "text": [
            "hog de 20x20 e pca de 0.95\n",
            "shape: (800, 200)\n",
            "\n"
          ]
        },
        {
          "output_type": "display_data",
          "data": {
            "text/plain": [
              "<IPython.core.display.Javascript object>"
            ],
            "application/javascript": [
              "\n",
              "    async function download(id, filename, size) {\n",
              "      if (!google.colab.kernel.accessAllowed) {\n",
              "        return;\n",
              "      }\n",
              "      const div = document.createElement('div');\n",
              "      const label = document.createElement('label');\n",
              "      label.textContent = `Downloading \"${filename}\": `;\n",
              "      div.appendChild(label);\n",
              "      const progress = document.createElement('progress');\n",
              "      progress.max = size;\n",
              "      div.appendChild(progress);\n",
              "      document.body.appendChild(div);\n",
              "\n",
              "      const buffers = [];\n",
              "      let downloaded = 0;\n",
              "\n",
              "      const channel = await google.colab.kernel.comms.open(id);\n",
              "      // Send a message to notify the kernel that we're ready.\n",
              "      channel.send({})\n",
              "\n",
              "      for await (const message of channel.messages) {\n",
              "        // Send a message to notify the kernel that we're ready.\n",
              "        channel.send({})\n",
              "        if (message.buffers) {\n",
              "          for (const buffer of message.buffers) {\n",
              "            buffers.push(buffer);\n",
              "            downloaded += buffer.byteLength;\n",
              "            progress.value = downloaded;\n",
              "          }\n",
              "        }\n",
              "      }\n",
              "      const blob = new Blob(buffers, {type: 'application/binary'});\n",
              "      const a = document.createElement('a');\n",
              "      a.href = window.URL.createObjectURL(blob);\n",
              "      a.download = filename;\n",
              "      div.appendChild(a);\n",
              "      a.click();\n",
              "      div.remove();\n",
              "    }\n",
              "  "
            ]
          },
          "metadata": {}
        },
        {
          "output_type": "display_data",
          "data": {
            "text/plain": [
              "<IPython.core.display.Javascript object>"
            ],
            "application/javascript": [
              "download(\"download_99b1e7b0-9c48-4f9b-9c40-dcb9d0ead96a\", \"20x20_pca-0.95.csv\", 3152044)"
            ]
          },
          "metadata": {}
        },
        {
          "output_type": "stream",
          "name": "stdout",
          "text": [
            "hog de 24x24 e pca de 0.1\n",
            "shape: (800, 1)\n",
            "\n"
          ]
        },
        {
          "output_type": "display_data",
          "data": {
            "text/plain": [
              "<IPython.core.display.Javascript object>"
            ],
            "application/javascript": [
              "\n",
              "    async function download(id, filename, size) {\n",
              "      if (!google.colab.kernel.accessAllowed) {\n",
              "        return;\n",
              "      }\n",
              "      const div = document.createElement('div');\n",
              "      const label = document.createElement('label');\n",
              "      label.textContent = `Downloading \"${filename}\": `;\n",
              "      div.appendChild(label);\n",
              "      const progress = document.createElement('progress');\n",
              "      progress.max = size;\n",
              "      div.appendChild(progress);\n",
              "      document.body.appendChild(div);\n",
              "\n",
              "      const buffers = [];\n",
              "      let downloaded = 0;\n",
              "\n",
              "      const channel = await google.colab.kernel.comms.open(id);\n",
              "      // Send a message to notify the kernel that we're ready.\n",
              "      channel.send({})\n",
              "\n",
              "      for await (const message of channel.messages) {\n",
              "        // Send a message to notify the kernel that we're ready.\n",
              "        channel.send({})\n",
              "        if (message.buffers) {\n",
              "          for (const buffer of message.buffers) {\n",
              "            buffers.push(buffer);\n",
              "            downloaded += buffer.byteLength;\n",
              "            progress.value = downloaded;\n",
              "          }\n",
              "        }\n",
              "      }\n",
              "      const blob = new Blob(buffers, {type: 'application/binary'});\n",
              "      const a = document.createElement('a');\n",
              "      a.href = window.URL.createObjectURL(blob);\n",
              "      a.download = filename;\n",
              "      div.appendChild(a);\n",
              "      a.click();\n",
              "      div.remove();\n",
              "    }\n",
              "  "
            ]
          },
          "metadata": {}
        },
        {
          "output_type": "display_data",
          "data": {
            "text/plain": [
              "<IPython.core.display.Javascript object>"
            ],
            "application/javascript": [
              "download(\"download_c98d79b2-7d53-4e84-ba94-f607540ae408\", \"24x24_pca-0.1.csv\", 23281)"
            ]
          },
          "metadata": {}
        },
        {
          "output_type": "stream",
          "name": "stdout",
          "text": [
            "hog de 24x24 e pca de 0.15\n",
            "shape: (800, 3)\n",
            "\n"
          ]
        },
        {
          "output_type": "display_data",
          "data": {
            "text/plain": [
              "<IPython.core.display.Javascript object>"
            ],
            "application/javascript": [
              "\n",
              "    async function download(id, filename, size) {\n",
              "      if (!google.colab.kernel.accessAllowed) {\n",
              "        return;\n",
              "      }\n",
              "      const div = document.createElement('div');\n",
              "      const label = document.createElement('label');\n",
              "      label.textContent = `Downloading \"${filename}\": `;\n",
              "      div.appendChild(label);\n",
              "      const progress = document.createElement('progress');\n",
              "      progress.max = size;\n",
              "      div.appendChild(progress);\n",
              "      document.body.appendChild(div);\n",
              "\n",
              "      const buffers = [];\n",
              "      let downloaded = 0;\n",
              "\n",
              "      const channel = await google.colab.kernel.comms.open(id);\n",
              "      // Send a message to notify the kernel that we're ready.\n",
              "      channel.send({})\n",
              "\n",
              "      for await (const message of channel.messages) {\n",
              "        // Send a message to notify the kernel that we're ready.\n",
              "        channel.send({})\n",
              "        if (message.buffers) {\n",
              "          for (const buffer of message.buffers) {\n",
              "            buffers.push(buffer);\n",
              "            downloaded += buffer.byteLength;\n",
              "            progress.value = downloaded;\n",
              "          }\n",
              "        }\n",
              "      }\n",
              "      const blob = new Blob(buffers, {type: 'application/binary'});\n",
              "      const a = document.createElement('a');\n",
              "      a.href = window.URL.createObjectURL(blob);\n",
              "      a.download = filename;\n",
              "      div.appendChild(a);\n",
              "      a.click();\n",
              "      div.remove();\n",
              "    }\n",
              "  "
            ]
          },
          "metadata": {}
        },
        {
          "output_type": "display_data",
          "data": {
            "text/plain": [
              "<IPython.core.display.Javascript object>"
            ],
            "application/javascript": [
              "download(\"download_79cd16b7-6223-4051-949c-52fea2664631\", \"24x24_pca-0.15.csv\", 54701)"
            ]
          },
          "metadata": {}
        },
        {
          "output_type": "stream",
          "name": "stdout",
          "text": [
            "hog de 24x24 e pca de 0.2\n",
            "shape: (800, 4)\n",
            "\n"
          ]
        },
        {
          "output_type": "display_data",
          "data": {
            "text/plain": [
              "<IPython.core.display.Javascript object>"
            ],
            "application/javascript": [
              "\n",
              "    async function download(id, filename, size) {\n",
              "      if (!google.colab.kernel.accessAllowed) {\n",
              "        return;\n",
              "      }\n",
              "      const div = document.createElement('div');\n",
              "      const label = document.createElement('label');\n",
              "      label.textContent = `Downloading \"${filename}\": `;\n",
              "      div.appendChild(label);\n",
              "      const progress = document.createElement('progress');\n",
              "      progress.max = size;\n",
              "      div.appendChild(progress);\n",
              "      document.body.appendChild(div);\n",
              "\n",
              "      const buffers = [];\n",
              "      let downloaded = 0;\n",
              "\n",
              "      const channel = await google.colab.kernel.comms.open(id);\n",
              "      // Send a message to notify the kernel that we're ready.\n",
              "      channel.send({})\n",
              "\n",
              "      for await (const message of channel.messages) {\n",
              "        // Send a message to notify the kernel that we're ready.\n",
              "        channel.send({})\n",
              "        if (message.buffers) {\n",
              "          for (const buffer of message.buffers) {\n",
              "            buffers.push(buffer);\n",
              "            downloaded += buffer.byteLength;\n",
              "            progress.value = downloaded;\n",
              "          }\n",
              "        }\n",
              "      }\n",
              "      const blob = new Blob(buffers, {type: 'application/binary'});\n",
              "      const a = document.createElement('a');\n",
              "      a.href = window.URL.createObjectURL(blob);\n",
              "      a.download = filename;\n",
              "      div.appendChild(a);\n",
              "      a.click();\n",
              "      div.remove();\n",
              "    }\n",
              "  "
            ]
          },
          "metadata": {}
        },
        {
          "output_type": "display_data",
          "data": {
            "text/plain": [
              "<IPython.core.display.Javascript object>"
            ],
            "application/javascript": [
              "download(\"download_0819f270-8bef-4339-a46b-49bfc01fdbe8\", \"24x24_pca-0.2.csv\", 70445)"
            ]
          },
          "metadata": {}
        },
        {
          "output_type": "stream",
          "name": "stdout",
          "text": [
            "hog de 24x24 e pca de 0.25\n",
            "shape: (800, 6)\n",
            "\n"
          ]
        },
        {
          "output_type": "display_data",
          "data": {
            "text/plain": [
              "<IPython.core.display.Javascript object>"
            ],
            "application/javascript": [
              "\n",
              "    async function download(id, filename, size) {\n",
              "      if (!google.colab.kernel.accessAllowed) {\n",
              "        return;\n",
              "      }\n",
              "      const div = document.createElement('div');\n",
              "      const label = document.createElement('label');\n",
              "      label.textContent = `Downloading \"${filename}\": `;\n",
              "      div.appendChild(label);\n",
              "      const progress = document.createElement('progress');\n",
              "      progress.max = size;\n",
              "      div.appendChild(progress);\n",
              "      document.body.appendChild(div);\n",
              "\n",
              "      const buffers = [];\n",
              "      let downloaded = 0;\n",
              "\n",
              "      const channel = await google.colab.kernel.comms.open(id);\n",
              "      // Send a message to notify the kernel that we're ready.\n",
              "      channel.send({})\n",
              "\n",
              "      for await (const message of channel.messages) {\n",
              "        // Send a message to notify the kernel that we're ready.\n",
              "        channel.send({})\n",
              "        if (message.buffers) {\n",
              "          for (const buffer of message.buffers) {\n",
              "            buffers.push(buffer);\n",
              "            downloaded += buffer.byteLength;\n",
              "            progress.value = downloaded;\n",
              "          }\n",
              "        }\n",
              "      }\n",
              "      const blob = new Blob(buffers, {type: 'application/binary'});\n",
              "      const a = document.createElement('a');\n",
              "      a.href = window.URL.createObjectURL(blob);\n",
              "      a.download = filename;\n",
              "      div.appendChild(a);\n",
              "      a.click();\n",
              "      div.remove();\n",
              "    }\n",
              "  "
            ]
          },
          "metadata": {}
        },
        {
          "output_type": "display_data",
          "data": {
            "text/plain": [
              "<IPython.core.display.Javascript object>"
            ],
            "application/javascript": [
              "download(\"download_76a77878-2efb-45a8-906d-d18dcd4af28b\", \"24x24_pca-0.25.csv\", 101891)"
            ]
          },
          "metadata": {}
        },
        {
          "output_type": "stream",
          "name": "stdout",
          "text": [
            "hog de 24x24 e pca de 0.3\n",
            "shape: (800, 7)\n",
            "\n"
          ]
        },
        {
          "output_type": "display_data",
          "data": {
            "text/plain": [
              "<IPython.core.display.Javascript object>"
            ],
            "application/javascript": [
              "\n",
              "    async function download(id, filename, size) {\n",
              "      if (!google.colab.kernel.accessAllowed) {\n",
              "        return;\n",
              "      }\n",
              "      const div = document.createElement('div');\n",
              "      const label = document.createElement('label');\n",
              "      label.textContent = `Downloading \"${filename}\": `;\n",
              "      div.appendChild(label);\n",
              "      const progress = document.createElement('progress');\n",
              "      progress.max = size;\n",
              "      div.appendChild(progress);\n",
              "      document.body.appendChild(div);\n",
              "\n",
              "      const buffers = [];\n",
              "      let downloaded = 0;\n",
              "\n",
              "      const channel = await google.colab.kernel.comms.open(id);\n",
              "      // Send a message to notify the kernel that we're ready.\n",
              "      channel.send({})\n",
              "\n",
              "      for await (const message of channel.messages) {\n",
              "        // Send a message to notify the kernel that we're ready.\n",
              "        channel.send({})\n",
              "        if (message.buffers) {\n",
              "          for (const buffer of message.buffers) {\n",
              "            buffers.push(buffer);\n",
              "            downloaded += buffer.byteLength;\n",
              "            progress.value = downloaded;\n",
              "          }\n",
              "        }\n",
              "      }\n",
              "      const blob = new Blob(buffers, {type: 'application/binary'});\n",
              "      const a = document.createElement('a');\n",
              "      a.href = window.URL.createObjectURL(blob);\n",
              "      a.download = filename;\n",
              "      div.appendChild(a);\n",
              "      a.click();\n",
              "      div.remove();\n",
              "    }\n",
              "  "
            ]
          },
          "metadata": {}
        },
        {
          "output_type": "display_data",
          "data": {
            "text/plain": [
              "<IPython.core.display.Javascript object>"
            ],
            "application/javascript": [
              "download(\"download_c28c214c-c423-4031-a5d4-e3e5d8b21ac2\", \"24x24_pca-0.3.csv\", 117638)"
            ]
          },
          "metadata": {}
        },
        {
          "output_type": "stream",
          "name": "stdout",
          "text": [
            "hog de 24x24 e pca de 0.35\n",
            "shape: (800, 10)\n",
            "\n"
          ]
        },
        {
          "output_type": "display_data",
          "data": {
            "text/plain": [
              "<IPython.core.display.Javascript object>"
            ],
            "application/javascript": [
              "\n",
              "    async function download(id, filename, size) {\n",
              "      if (!google.colab.kernel.accessAllowed) {\n",
              "        return;\n",
              "      }\n",
              "      const div = document.createElement('div');\n",
              "      const label = document.createElement('label');\n",
              "      label.textContent = `Downloading \"${filename}\": `;\n",
              "      div.appendChild(label);\n",
              "      const progress = document.createElement('progress');\n",
              "      progress.max = size;\n",
              "      div.appendChild(progress);\n",
              "      document.body.appendChild(div);\n",
              "\n",
              "      const buffers = [];\n",
              "      let downloaded = 0;\n",
              "\n",
              "      const channel = await google.colab.kernel.comms.open(id);\n",
              "      // Send a message to notify the kernel that we're ready.\n",
              "      channel.send({})\n",
              "\n",
              "      for await (const message of channel.messages) {\n",
              "        // Send a message to notify the kernel that we're ready.\n",
              "        channel.send({})\n",
              "        if (message.buffers) {\n",
              "          for (const buffer of message.buffers) {\n",
              "            buffers.push(buffer);\n",
              "            downloaded += buffer.byteLength;\n",
              "            progress.value = downloaded;\n",
              "          }\n",
              "        }\n",
              "      }\n",
              "      const blob = new Blob(buffers, {type: 'application/binary'});\n",
              "      const a = document.createElement('a');\n",
              "      a.href = window.URL.createObjectURL(blob);\n",
              "      a.download = filename;\n",
              "      div.appendChild(a);\n",
              "      a.click();\n",
              "      div.remove();\n",
              "    }\n",
              "  "
            ]
          },
          "metadata": {}
        },
        {
          "output_type": "display_data",
          "data": {
            "text/plain": [
              "<IPython.core.display.Javascript object>"
            ],
            "application/javascript": [
              "download(\"download_61511a5a-6067-41fa-9c68-45ba6caa580e\", \"24x24_pca-0.35.csv\", 164792)"
            ]
          },
          "metadata": {}
        },
        {
          "output_type": "stream",
          "name": "stdout",
          "text": [
            "hog de 24x24 e pca de 0.4\n",
            "shape: (800, 12)\n",
            "\n"
          ]
        },
        {
          "output_type": "display_data",
          "data": {
            "text/plain": [
              "<IPython.core.display.Javascript object>"
            ],
            "application/javascript": [
              "\n",
              "    async function download(id, filename, size) {\n",
              "      if (!google.colab.kernel.accessAllowed) {\n",
              "        return;\n",
              "      }\n",
              "      const div = document.createElement('div');\n",
              "      const label = document.createElement('label');\n",
              "      label.textContent = `Downloading \"${filename}\": `;\n",
              "      div.appendChild(label);\n",
              "      const progress = document.createElement('progress');\n",
              "      progress.max = size;\n",
              "      div.appendChild(progress);\n",
              "      document.body.appendChild(div);\n",
              "\n",
              "      const buffers = [];\n",
              "      let downloaded = 0;\n",
              "\n",
              "      const channel = await google.colab.kernel.comms.open(id);\n",
              "      // Send a message to notify the kernel that we're ready.\n",
              "      channel.send({})\n",
              "\n",
              "      for await (const message of channel.messages) {\n",
              "        // Send a message to notify the kernel that we're ready.\n",
              "        channel.send({})\n",
              "        if (message.buffers) {\n",
              "          for (const buffer of message.buffers) {\n",
              "            buffers.push(buffer);\n",
              "            downloaded += buffer.byteLength;\n",
              "            progress.value = downloaded;\n",
              "          }\n",
              "        }\n",
              "      }\n",
              "      const blob = new Blob(buffers, {type: 'application/binary'});\n",
              "      const a = document.createElement('a');\n",
              "      a.href = window.URL.createObjectURL(blob);\n",
              "      a.download = filename;\n",
              "      div.appendChild(a);\n",
              "      a.click();\n",
              "      div.remove();\n",
              "    }\n",
              "  "
            ]
          },
          "metadata": {}
        },
        {
          "output_type": "display_data",
          "data": {
            "text/plain": [
              "<IPython.core.display.Javascript object>"
            ],
            "application/javascript": [
              "download(\"download_0e639f8a-f811-47a6-9773-a0088ba5e641\", \"24x24_pca-0.4.csv\", 196280)"
            ]
          },
          "metadata": {}
        },
        {
          "output_type": "stream",
          "name": "stdout",
          "text": [
            "hog de 24x24 e pca de 0.45\n",
            "shape: (800, 15)\n",
            "\n"
          ]
        },
        {
          "output_type": "display_data",
          "data": {
            "text/plain": [
              "<IPython.core.display.Javascript object>"
            ],
            "application/javascript": [
              "\n",
              "    async function download(id, filename, size) {\n",
              "      if (!google.colab.kernel.accessAllowed) {\n",
              "        return;\n",
              "      }\n",
              "      const div = document.createElement('div');\n",
              "      const label = document.createElement('label');\n",
              "      label.textContent = `Downloading \"${filename}\": `;\n",
              "      div.appendChild(label);\n",
              "      const progress = document.createElement('progress');\n",
              "      progress.max = size;\n",
              "      div.appendChild(progress);\n",
              "      document.body.appendChild(div);\n",
              "\n",
              "      const buffers = [];\n",
              "      let downloaded = 0;\n",
              "\n",
              "      const channel = await google.colab.kernel.comms.open(id);\n",
              "      // Send a message to notify the kernel that we're ready.\n",
              "      channel.send({})\n",
              "\n",
              "      for await (const message of channel.messages) {\n",
              "        // Send a message to notify the kernel that we're ready.\n",
              "        channel.send({})\n",
              "        if (message.buffers) {\n",
              "          for (const buffer of message.buffers) {\n",
              "            buffers.push(buffer);\n",
              "            downloaded += buffer.byteLength;\n",
              "            progress.value = downloaded;\n",
              "          }\n",
              "        }\n",
              "      }\n",
              "      const blob = new Blob(buffers, {type: 'application/binary'});\n",
              "      const a = document.createElement('a');\n",
              "      a.href = window.URL.createObjectURL(blob);\n",
              "      a.download = filename;\n",
              "      div.appendChild(a);\n",
              "      a.click();\n",
              "      div.remove();\n",
              "    }\n",
              "  "
            ]
          },
          "metadata": {}
        },
        {
          "output_type": "display_data",
          "data": {
            "text/plain": [
              "<IPython.core.display.Javascript object>"
            ],
            "application/javascript": [
              "download(\"download_8676e939-2a4e-43f1-809c-e205ffe058eb\", \"24x24_pca-0.45.csv\", 243451)"
            ]
          },
          "metadata": {}
        },
        {
          "output_type": "stream",
          "name": "stdout",
          "text": [
            "hog de 24x24 e pca de 0.5\n",
            "shape: (800, 19)\n",
            "\n"
          ]
        },
        {
          "output_type": "display_data",
          "data": {
            "text/plain": [
              "<IPython.core.display.Javascript object>"
            ],
            "application/javascript": [
              "\n",
              "    async function download(id, filename, size) {\n",
              "      if (!google.colab.kernel.accessAllowed) {\n",
              "        return;\n",
              "      }\n",
              "      const div = document.createElement('div');\n",
              "      const label = document.createElement('label');\n",
              "      label.textContent = `Downloading \"${filename}\": `;\n",
              "      div.appendChild(label);\n",
              "      const progress = document.createElement('progress');\n",
              "      progress.max = size;\n",
              "      div.appendChild(progress);\n",
              "      document.body.appendChild(div);\n",
              "\n",
              "      const buffers = [];\n",
              "      let downloaded = 0;\n",
              "\n",
              "      const channel = await google.colab.kernel.comms.open(id);\n",
              "      // Send a message to notify the kernel that we're ready.\n",
              "      channel.send({})\n",
              "\n",
              "      for await (const message of channel.messages) {\n",
              "        // Send a message to notify the kernel that we're ready.\n",
              "        channel.send({})\n",
              "        if (message.buffers) {\n",
              "          for (const buffer of message.buffers) {\n",
              "            buffers.push(buffer);\n",
              "            downloaded += buffer.byteLength;\n",
              "            progress.value = downloaded;\n",
              "          }\n",
              "        }\n",
              "      }\n",
              "      const blob = new Blob(buffers, {type: 'application/binary'});\n",
              "      const a = document.createElement('a');\n",
              "      a.href = window.URL.createObjectURL(blob);\n",
              "      a.download = filename;\n",
              "      div.appendChild(a);\n",
              "      a.click();\n",
              "      div.remove();\n",
              "    }\n",
              "  "
            ]
          },
          "metadata": {}
        },
        {
          "output_type": "display_data",
          "data": {
            "text/plain": [
              "<IPython.core.display.Javascript object>"
            ],
            "application/javascript": [
              "download(\"download_8b7c101e-40e3-4036-a327-537465ead307\", \"24x24_pca-0.5.csv\", 306378)"
            ]
          },
          "metadata": {}
        },
        {
          "output_type": "stream",
          "name": "stdout",
          "text": [
            "hog de 24x24 e pca de 0.55\n",
            "shape: (800, 23)\n",
            "\n"
          ]
        },
        {
          "output_type": "display_data",
          "data": {
            "text/plain": [
              "<IPython.core.display.Javascript object>"
            ],
            "application/javascript": [
              "\n",
              "    async function download(id, filename, size) {\n",
              "      if (!google.colab.kernel.accessAllowed) {\n",
              "        return;\n",
              "      }\n",
              "      const div = document.createElement('div');\n",
              "      const label = document.createElement('label');\n",
              "      label.textContent = `Downloading \"${filename}\": `;\n",
              "      div.appendChild(label);\n",
              "      const progress = document.createElement('progress');\n",
              "      progress.max = size;\n",
              "      div.appendChild(progress);\n",
              "      document.body.appendChild(div);\n",
              "\n",
              "      const buffers = [];\n",
              "      let downloaded = 0;\n",
              "\n",
              "      const channel = await google.colab.kernel.comms.open(id);\n",
              "      // Send a message to notify the kernel that we're ready.\n",
              "      channel.send({})\n",
              "\n",
              "      for await (const message of channel.messages) {\n",
              "        // Send a message to notify the kernel that we're ready.\n",
              "        channel.send({})\n",
              "        if (message.buffers) {\n",
              "          for (const buffer of message.buffers) {\n",
              "            buffers.push(buffer);\n",
              "            downloaded += buffer.byteLength;\n",
              "            progress.value = downloaded;\n",
              "          }\n",
              "        }\n",
              "      }\n",
              "      const blob = new Blob(buffers, {type: 'application/binary'});\n",
              "      const a = document.createElement('a');\n",
              "      a.href = window.URL.createObjectURL(blob);\n",
              "      a.download = filename;\n",
              "      div.appendChild(a);\n",
              "      a.click();\n",
              "      div.remove();\n",
              "    }\n",
              "  "
            ]
          },
          "metadata": {}
        },
        {
          "output_type": "display_data",
          "data": {
            "text/plain": [
              "<IPython.core.display.Javascript object>"
            ],
            "application/javascript": [
              "download(\"download_0e8e88e8-be3a-409b-86b9-8935677bd807\", \"24x24_pca-0.55.csv\", 369287)"
            ]
          },
          "metadata": {}
        },
        {
          "output_type": "stream",
          "name": "stdout",
          "text": [
            "hog de 24x24 e pca de 0.6\n",
            "shape: (800, 28)\n",
            "\n"
          ]
        },
        {
          "output_type": "display_data",
          "data": {
            "text/plain": [
              "<IPython.core.display.Javascript object>"
            ],
            "application/javascript": [
              "\n",
              "    async function download(id, filename, size) {\n",
              "      if (!google.colab.kernel.accessAllowed) {\n",
              "        return;\n",
              "      }\n",
              "      const div = document.createElement('div');\n",
              "      const label = document.createElement('label');\n",
              "      label.textContent = `Downloading \"${filename}\": `;\n",
              "      div.appendChild(label);\n",
              "      const progress = document.createElement('progress');\n",
              "      progress.max = size;\n",
              "      div.appendChild(progress);\n",
              "      document.body.appendChild(div);\n",
              "\n",
              "      const buffers = [];\n",
              "      let downloaded = 0;\n",
              "\n",
              "      const channel = await google.colab.kernel.comms.open(id);\n",
              "      // Send a message to notify the kernel that we're ready.\n",
              "      channel.send({})\n",
              "\n",
              "      for await (const message of channel.messages) {\n",
              "        // Send a message to notify the kernel that we're ready.\n",
              "        channel.send({})\n",
              "        if (message.buffers) {\n",
              "          for (const buffer of message.buffers) {\n",
              "            buffers.push(buffer);\n",
              "            downloaded += buffer.byteLength;\n",
              "            progress.value = downloaded;\n",
              "          }\n",
              "        }\n",
              "      }\n",
              "      const blob = new Blob(buffers, {type: 'application/binary'});\n",
              "      const a = document.createElement('a');\n",
              "      a.href = window.URL.createObjectURL(blob);\n",
              "      a.download = filename;\n",
              "      div.appendChild(a);\n",
              "      a.click();\n",
              "      div.remove();\n",
              "    }\n",
              "  "
            ]
          },
          "metadata": {}
        },
        {
          "output_type": "display_data",
          "data": {
            "text/plain": [
              "<IPython.core.display.Javascript object>"
            ],
            "application/javascript": [
              "download(\"download_3f759f09-9dd0-49e5-b4c2-c4b2f8efcb27\", \"24x24_pca-0.6.csv\", 447938)"
            ]
          },
          "metadata": {}
        },
        {
          "output_type": "stream",
          "name": "stdout",
          "text": [
            "hog de 24x24 e pca de 0.65\n",
            "shape: (800, 33)\n",
            "\n"
          ]
        },
        {
          "output_type": "display_data",
          "data": {
            "text/plain": [
              "<IPython.core.display.Javascript object>"
            ],
            "application/javascript": [
              "\n",
              "    async function download(id, filename, size) {\n",
              "      if (!google.colab.kernel.accessAllowed) {\n",
              "        return;\n",
              "      }\n",
              "      const div = document.createElement('div');\n",
              "      const label = document.createElement('label');\n",
              "      label.textContent = `Downloading \"${filename}\": `;\n",
              "      div.appendChild(label);\n",
              "      const progress = document.createElement('progress');\n",
              "      progress.max = size;\n",
              "      div.appendChild(progress);\n",
              "      document.body.appendChild(div);\n",
              "\n",
              "      const buffers = [];\n",
              "      let downloaded = 0;\n",
              "\n",
              "      const channel = await google.colab.kernel.comms.open(id);\n",
              "      // Send a message to notify the kernel that we're ready.\n",
              "      channel.send({})\n",
              "\n",
              "      for await (const message of channel.messages) {\n",
              "        // Send a message to notify the kernel that we're ready.\n",
              "        channel.send({})\n",
              "        if (message.buffers) {\n",
              "          for (const buffer of message.buffers) {\n",
              "            buffers.push(buffer);\n",
              "            downloaded += buffer.byteLength;\n",
              "            progress.value = downloaded;\n",
              "          }\n",
              "        }\n",
              "      }\n",
              "      const blob = new Blob(buffers, {type: 'application/binary'});\n",
              "      const a = document.createElement('a');\n",
              "      a.href = window.URL.createObjectURL(blob);\n",
              "      a.download = filename;\n",
              "      div.appendChild(a);\n",
              "      a.click();\n",
              "      div.remove();\n",
              "    }\n",
              "  "
            ]
          },
          "metadata": {}
        },
        {
          "output_type": "display_data",
          "data": {
            "text/plain": [
              "<IPython.core.display.Javascript object>"
            ],
            "application/javascript": [
              "download(\"download_f8c99b9d-583d-4cad-a984-218549bae84e\", \"24x24_pca-0.65.csv\", 526556)"
            ]
          },
          "metadata": {}
        },
        {
          "output_type": "stream",
          "name": "stdout",
          "text": [
            "hog de 24x24 e pca de 0.7\n",
            "shape: (800, 40)\n",
            "\n"
          ]
        },
        {
          "output_type": "display_data",
          "data": {
            "text/plain": [
              "<IPython.core.display.Javascript object>"
            ],
            "application/javascript": [
              "\n",
              "    async function download(id, filename, size) {\n",
              "      if (!google.colab.kernel.accessAllowed) {\n",
              "        return;\n",
              "      }\n",
              "      const div = document.createElement('div');\n",
              "      const label = document.createElement('label');\n",
              "      label.textContent = `Downloading \"${filename}\": `;\n",
              "      div.appendChild(label);\n",
              "      const progress = document.createElement('progress');\n",
              "      progress.max = size;\n",
              "      div.appendChild(progress);\n",
              "      document.body.appendChild(div);\n",
              "\n",
              "      const buffers = [];\n",
              "      let downloaded = 0;\n",
              "\n",
              "      const channel = await google.colab.kernel.comms.open(id);\n",
              "      // Send a message to notify the kernel that we're ready.\n",
              "      channel.send({})\n",
              "\n",
              "      for await (const message of channel.messages) {\n",
              "        // Send a message to notify the kernel that we're ready.\n",
              "        channel.send({})\n",
              "        if (message.buffers) {\n",
              "          for (const buffer of message.buffers) {\n",
              "            buffers.push(buffer);\n",
              "            downloaded += buffer.byteLength;\n",
              "            progress.value = downloaded;\n",
              "          }\n",
              "        }\n",
              "      }\n",
              "      const blob = new Blob(buffers, {type: 'application/binary'});\n",
              "      const a = document.createElement('a');\n",
              "      a.href = window.URL.createObjectURL(blob);\n",
              "      a.download = filename;\n",
              "      div.appendChild(a);\n",
              "      a.click();\n",
              "      div.remove();\n",
              "    }\n",
              "  "
            ]
          },
          "metadata": {}
        },
        {
          "output_type": "display_data",
          "data": {
            "text/plain": [
              "<IPython.core.display.Javascript object>"
            ],
            "application/javascript": [
              "download(\"download_7cfacbf9-bd85-4d8b-8fd7-e7c047864cc8\", \"24x24_pca-0.7.csv\", 636511)"
            ]
          },
          "metadata": {}
        },
        {
          "output_type": "stream",
          "name": "stdout",
          "text": [
            "hog de 24x24 e pca de 0.75\n",
            "shape: (800, 49)\n",
            "\n"
          ]
        },
        {
          "output_type": "display_data",
          "data": {
            "text/plain": [
              "<IPython.core.display.Javascript object>"
            ],
            "application/javascript": [
              "\n",
              "    async function download(id, filename, size) {\n",
              "      if (!google.colab.kernel.accessAllowed) {\n",
              "        return;\n",
              "      }\n",
              "      const div = document.createElement('div');\n",
              "      const label = document.createElement('label');\n",
              "      label.textContent = `Downloading \"${filename}\": `;\n",
              "      div.appendChild(label);\n",
              "      const progress = document.createElement('progress');\n",
              "      progress.max = size;\n",
              "      div.appendChild(progress);\n",
              "      document.body.appendChild(div);\n",
              "\n",
              "      const buffers = [];\n",
              "      let downloaded = 0;\n",
              "\n",
              "      const channel = await google.colab.kernel.comms.open(id);\n",
              "      // Send a message to notify the kernel that we're ready.\n",
              "      channel.send({})\n",
              "\n",
              "      for await (const message of channel.messages) {\n",
              "        // Send a message to notify the kernel that we're ready.\n",
              "        channel.send({})\n",
              "        if (message.buffers) {\n",
              "          for (const buffer of message.buffers) {\n",
              "            buffers.push(buffer);\n",
              "            downloaded += buffer.byteLength;\n",
              "            progress.value = downloaded;\n",
              "          }\n",
              "        }\n",
              "      }\n",
              "      const blob = new Blob(buffers, {type: 'application/binary'});\n",
              "      const a = document.createElement('a');\n",
              "      a.href = window.URL.createObjectURL(blob);\n",
              "      a.download = filename;\n",
              "      div.appendChild(a);\n",
              "      a.click();\n",
              "      div.remove();\n",
              "    }\n",
              "  "
            ]
          },
          "metadata": {}
        },
        {
          "output_type": "display_data",
          "data": {
            "text/plain": [
              "<IPython.core.display.Javascript object>"
            ],
            "application/javascript": [
              "download(\"download_0b9be680-150a-4026-9659-bbe791735519\", \"24x24_pca-0.75.csv\", 778056)"
            ]
          },
          "metadata": {}
        },
        {
          "output_type": "stream",
          "name": "stdout",
          "text": [
            "hog de 24x24 e pca de 0.8\n",
            "shape: (800, 60)\n",
            "\n"
          ]
        },
        {
          "output_type": "display_data",
          "data": {
            "text/plain": [
              "<IPython.core.display.Javascript object>"
            ],
            "application/javascript": [
              "\n",
              "    async function download(id, filename, size) {\n",
              "      if (!google.colab.kernel.accessAllowed) {\n",
              "        return;\n",
              "      }\n",
              "      const div = document.createElement('div');\n",
              "      const label = document.createElement('label');\n",
              "      label.textContent = `Downloading \"${filename}\": `;\n",
              "      div.appendChild(label);\n",
              "      const progress = document.createElement('progress');\n",
              "      progress.max = size;\n",
              "      div.appendChild(progress);\n",
              "      document.body.appendChild(div);\n",
              "\n",
              "      const buffers = [];\n",
              "      let downloaded = 0;\n",
              "\n",
              "      const channel = await google.colab.kernel.comms.open(id);\n",
              "      // Send a message to notify the kernel that we're ready.\n",
              "      channel.send({})\n",
              "\n",
              "      for await (const message of channel.messages) {\n",
              "        // Send a message to notify the kernel that we're ready.\n",
              "        channel.send({})\n",
              "        if (message.buffers) {\n",
              "          for (const buffer of message.buffers) {\n",
              "            buffers.push(buffer);\n",
              "            downloaded += buffer.byteLength;\n",
              "            progress.value = downloaded;\n",
              "          }\n",
              "        }\n",
              "      }\n",
              "      const blob = new Blob(buffers, {type: 'application/binary'});\n",
              "      const a = document.createElement('a');\n",
              "      a.href = window.URL.createObjectURL(blob);\n",
              "      a.download = filename;\n",
              "      div.appendChild(a);\n",
              "      a.click();\n",
              "      div.remove();\n",
              "    }\n",
              "  "
            ]
          },
          "metadata": {}
        },
        {
          "output_type": "display_data",
          "data": {
            "text/plain": [
              "<IPython.core.display.Javascript object>"
            ],
            "application/javascript": [
              "download(\"download_847e09ba-dfa0-466a-9800-6c88a001eaca\", \"24x24_pca-0.8.csv\", 951149)"
            ]
          },
          "metadata": {}
        },
        {
          "output_type": "stream",
          "name": "stdout",
          "text": [
            "hog de 24x24 e pca de 0.85\n",
            "shape: (800, 76)\n",
            "\n"
          ]
        },
        {
          "output_type": "display_data",
          "data": {
            "text/plain": [
              "<IPython.core.display.Javascript object>"
            ],
            "application/javascript": [
              "\n",
              "    async function download(id, filename, size) {\n",
              "      if (!google.colab.kernel.accessAllowed) {\n",
              "        return;\n",
              "      }\n",
              "      const div = document.createElement('div');\n",
              "      const label = document.createElement('label');\n",
              "      label.textContent = `Downloading \"${filename}\": `;\n",
              "      div.appendChild(label);\n",
              "      const progress = document.createElement('progress');\n",
              "      progress.max = size;\n",
              "      div.appendChild(progress);\n",
              "      document.body.appendChild(div);\n",
              "\n",
              "      const buffers = [];\n",
              "      let downloaded = 0;\n",
              "\n",
              "      const channel = await google.colab.kernel.comms.open(id);\n",
              "      // Send a message to notify the kernel that we're ready.\n",
              "      channel.send({})\n",
              "\n",
              "      for await (const message of channel.messages) {\n",
              "        // Send a message to notify the kernel that we're ready.\n",
              "        channel.send({})\n",
              "        if (message.buffers) {\n",
              "          for (const buffer of message.buffers) {\n",
              "            buffers.push(buffer);\n",
              "            downloaded += buffer.byteLength;\n",
              "            progress.value = downloaded;\n",
              "          }\n",
              "        }\n",
              "      }\n",
              "      const blob = new Blob(buffers, {type: 'application/binary'});\n",
              "      const a = document.createElement('a');\n",
              "      a.href = window.URL.createObjectURL(blob);\n",
              "      a.download = filename;\n",
              "      div.appendChild(a);\n",
              "      a.click();\n",
              "      div.remove();\n",
              "    }\n",
              "  "
            ]
          },
          "metadata": {}
        },
        {
          "output_type": "display_data",
          "data": {
            "text/plain": [
              "<IPython.core.display.Javascript object>"
            ],
            "application/javascript": [
              "download(\"download_0ef8ba0f-6bab-490b-967d-e4f984740dbd\", \"24x24_pca-0.85.csv\", 1202732)"
            ]
          },
          "metadata": {}
        },
        {
          "output_type": "stream",
          "name": "stdout",
          "text": [
            "hog de 24x24 e pca de 0.9\n",
            "shape: (800, 100)\n",
            "\n"
          ]
        },
        {
          "output_type": "display_data",
          "data": {
            "text/plain": [
              "<IPython.core.display.Javascript object>"
            ],
            "application/javascript": [
              "\n",
              "    async function download(id, filename, size) {\n",
              "      if (!google.colab.kernel.accessAllowed) {\n",
              "        return;\n",
              "      }\n",
              "      const div = document.createElement('div');\n",
              "      const label = document.createElement('label');\n",
              "      label.textContent = `Downloading \"${filename}\": `;\n",
              "      div.appendChild(label);\n",
              "      const progress = document.createElement('progress');\n",
              "      progress.max = size;\n",
              "      div.appendChild(progress);\n",
              "      document.body.appendChild(div);\n",
              "\n",
              "      const buffers = [];\n",
              "      let downloaded = 0;\n",
              "\n",
              "      const channel = await google.colab.kernel.comms.open(id);\n",
              "      // Send a message to notify the kernel that we're ready.\n",
              "      channel.send({})\n",
              "\n",
              "      for await (const message of channel.messages) {\n",
              "        // Send a message to notify the kernel that we're ready.\n",
              "        channel.send({})\n",
              "        if (message.buffers) {\n",
              "          for (const buffer of message.buffers) {\n",
              "            buffers.push(buffer);\n",
              "            downloaded += buffer.byteLength;\n",
              "            progress.value = downloaded;\n",
              "          }\n",
              "        }\n",
              "      }\n",
              "      const blob = new Blob(buffers, {type: 'application/binary'});\n",
              "      const a = document.createElement('a');\n",
              "      a.href = window.URL.createObjectURL(blob);\n",
              "      a.download = filename;\n",
              "      div.appendChild(a);\n",
              "      a.click();\n",
              "      div.remove();\n",
              "    }\n",
              "  "
            ]
          },
          "metadata": {}
        },
        {
          "output_type": "display_data",
          "data": {
            "text/plain": [
              "<IPython.core.display.Javascript object>"
            ],
            "application/javascript": [
              "download(\"download_27330baa-90b4-497f-8e2d-7c09871fa239\", \"24x24_pca-0.9.csv\", 1580099)"
            ]
          },
          "metadata": {}
        },
        {
          "output_type": "stream",
          "name": "stdout",
          "text": [
            "hog de 24x24 e pca de 0.95\n",
            "shape: (800, 143)\n",
            "\n"
          ]
        },
        {
          "output_type": "display_data",
          "data": {
            "text/plain": [
              "<IPython.core.display.Javascript object>"
            ],
            "application/javascript": [
              "\n",
              "    async function download(id, filename, size) {\n",
              "      if (!google.colab.kernel.accessAllowed) {\n",
              "        return;\n",
              "      }\n",
              "      const div = document.createElement('div');\n",
              "      const label = document.createElement('label');\n",
              "      label.textContent = `Downloading \"${filename}\": `;\n",
              "      div.appendChild(label);\n",
              "      const progress = document.createElement('progress');\n",
              "      progress.max = size;\n",
              "      div.appendChild(progress);\n",
              "      document.body.appendChild(div);\n",
              "\n",
              "      const buffers = [];\n",
              "      let downloaded = 0;\n",
              "\n",
              "      const channel = await google.colab.kernel.comms.open(id);\n",
              "      // Send a message to notify the kernel that we're ready.\n",
              "      channel.send({})\n",
              "\n",
              "      for await (const message of channel.messages) {\n",
              "        // Send a message to notify the kernel that we're ready.\n",
              "        channel.send({})\n",
              "        if (message.buffers) {\n",
              "          for (const buffer of message.buffers) {\n",
              "            buffers.push(buffer);\n",
              "            downloaded += buffer.byteLength;\n",
              "            progress.value = downloaded;\n",
              "          }\n",
              "        }\n",
              "      }\n",
              "      const blob = new Blob(buffers, {type: 'application/binary'});\n",
              "      const a = document.createElement('a');\n",
              "      a.href = window.URL.createObjectURL(blob);\n",
              "      a.download = filename;\n",
              "      div.appendChild(a);\n",
              "      a.click();\n",
              "      div.remove();\n",
              "    }\n",
              "  "
            ]
          },
          "metadata": {}
        },
        {
          "output_type": "display_data",
          "data": {
            "text/plain": [
              "<IPython.core.display.Javascript object>"
            ],
            "application/javascript": [
              "download(\"download_71f16700-07f4-4519-8730-5acdba110a58\", \"24x24_pca-0.95.csv\", 2256044)"
            ]
          },
          "metadata": {}
        },
        {
          "output_type": "stream",
          "name": "stdout",
          "text": [
            "hog de 28x28 e pca de 0.1\n",
            "shape: (800, 1)\n",
            "\n"
          ]
        },
        {
          "output_type": "display_data",
          "data": {
            "text/plain": [
              "<IPython.core.display.Javascript object>"
            ],
            "application/javascript": [
              "\n",
              "    async function download(id, filename, size) {\n",
              "      if (!google.colab.kernel.accessAllowed) {\n",
              "        return;\n",
              "      }\n",
              "      const div = document.createElement('div');\n",
              "      const label = document.createElement('label');\n",
              "      label.textContent = `Downloading \"${filename}\": `;\n",
              "      div.appendChild(label);\n",
              "      const progress = document.createElement('progress');\n",
              "      progress.max = size;\n",
              "      div.appendChild(progress);\n",
              "      document.body.appendChild(div);\n",
              "\n",
              "      const buffers = [];\n",
              "      let downloaded = 0;\n",
              "\n",
              "      const channel = await google.colab.kernel.comms.open(id);\n",
              "      // Send a message to notify the kernel that we're ready.\n",
              "      channel.send({})\n",
              "\n",
              "      for await (const message of channel.messages) {\n",
              "        // Send a message to notify the kernel that we're ready.\n",
              "        channel.send({})\n",
              "        if (message.buffers) {\n",
              "          for (const buffer of message.buffers) {\n",
              "            buffers.push(buffer);\n",
              "            downloaded += buffer.byteLength;\n",
              "            progress.value = downloaded;\n",
              "          }\n",
              "        }\n",
              "      }\n",
              "      const blob = new Blob(buffers, {type: 'application/binary'});\n",
              "      const a = document.createElement('a');\n",
              "      a.href = window.URL.createObjectURL(blob);\n",
              "      a.download = filename;\n",
              "      div.appendChild(a);\n",
              "      a.click();\n",
              "      div.remove();\n",
              "    }\n",
              "  "
            ]
          },
          "metadata": {}
        },
        {
          "output_type": "display_data",
          "data": {
            "text/plain": [
              "<IPython.core.display.Javascript object>"
            ],
            "application/javascript": [
              "download(\"download_12d11907-0682-43ed-adfc-9c175842f7cf\", \"28x28_pca-0.1.csv\", 23314)"
            ]
          },
          "metadata": {}
        },
        {
          "output_type": "stream",
          "name": "stdout",
          "text": [
            "hog de 28x28 e pca de 0.15\n",
            "shape: (800, 2)\n",
            "\n"
          ]
        },
        {
          "output_type": "display_data",
          "data": {
            "text/plain": [
              "<IPython.core.display.Javascript object>"
            ],
            "application/javascript": [
              "\n",
              "    async function download(id, filename, size) {\n",
              "      if (!google.colab.kernel.accessAllowed) {\n",
              "        return;\n",
              "      }\n",
              "      const div = document.createElement('div');\n",
              "      const label = document.createElement('label');\n",
              "      label.textContent = `Downloading \"${filename}\": `;\n",
              "      div.appendChild(label);\n",
              "      const progress = document.createElement('progress');\n",
              "      progress.max = size;\n",
              "      div.appendChild(progress);\n",
              "      document.body.appendChild(div);\n",
              "\n",
              "      const buffers = [];\n",
              "      let downloaded = 0;\n",
              "\n",
              "      const channel = await google.colab.kernel.comms.open(id);\n",
              "      // Send a message to notify the kernel that we're ready.\n",
              "      channel.send({})\n",
              "\n",
              "      for await (const message of channel.messages) {\n",
              "        // Send a message to notify the kernel that we're ready.\n",
              "        channel.send({})\n",
              "        if (message.buffers) {\n",
              "          for (const buffer of message.buffers) {\n",
              "            buffers.push(buffer);\n",
              "            downloaded += buffer.byteLength;\n",
              "            progress.value = downloaded;\n",
              "          }\n",
              "        }\n",
              "      }\n",
              "      const blob = new Blob(buffers, {type: 'application/binary'});\n",
              "      const a = document.createElement('a');\n",
              "      a.href = window.URL.createObjectURL(blob);\n",
              "      a.download = filename;\n",
              "      div.appendChild(a);\n",
              "      a.click();\n",
              "      div.remove();\n",
              "    }\n",
              "  "
            ]
          },
          "metadata": {}
        },
        {
          "output_type": "display_data",
          "data": {
            "text/plain": [
              "<IPython.core.display.Javascript object>"
            ],
            "application/javascript": [
              "download(\"download_b6098e23-af4c-4cde-9183-133096392aaa\", \"28x28_pca-0.15.csv\", 38973)"
            ]
          },
          "metadata": {}
        },
        {
          "output_type": "stream",
          "name": "stdout",
          "text": [
            "hog de 28x28 e pca de 0.2\n",
            "shape: (800, 3)\n",
            "\n"
          ]
        },
        {
          "output_type": "display_data",
          "data": {
            "text/plain": [
              "<IPython.core.display.Javascript object>"
            ],
            "application/javascript": [
              "\n",
              "    async function download(id, filename, size) {\n",
              "      if (!google.colab.kernel.accessAllowed) {\n",
              "        return;\n",
              "      }\n",
              "      const div = document.createElement('div');\n",
              "      const label = document.createElement('label');\n",
              "      label.textContent = `Downloading \"${filename}\": `;\n",
              "      div.appendChild(label);\n",
              "      const progress = document.createElement('progress');\n",
              "      progress.max = size;\n",
              "      div.appendChild(progress);\n",
              "      document.body.appendChild(div);\n",
              "\n",
              "      const buffers = [];\n",
              "      let downloaded = 0;\n",
              "\n",
              "      const channel = await google.colab.kernel.comms.open(id);\n",
              "      // Send a message to notify the kernel that we're ready.\n",
              "      channel.send({})\n",
              "\n",
              "      for await (const message of channel.messages) {\n",
              "        // Send a message to notify the kernel that we're ready.\n",
              "        channel.send({})\n",
              "        if (message.buffers) {\n",
              "          for (const buffer of message.buffers) {\n",
              "            buffers.push(buffer);\n",
              "            downloaded += buffer.byteLength;\n",
              "            progress.value = downloaded;\n",
              "          }\n",
              "        }\n",
              "      }\n",
              "      const blob = new Blob(buffers, {type: 'application/binary'});\n",
              "      const a = document.createElement('a');\n",
              "      a.href = window.URL.createObjectURL(blob);\n",
              "      a.download = filename;\n",
              "      div.appendChild(a);\n",
              "      a.click();\n",
              "      div.remove();\n",
              "    }\n",
              "  "
            ]
          },
          "metadata": {}
        },
        {
          "output_type": "display_data",
          "data": {
            "text/plain": [
              "<IPython.core.display.Javascript object>"
            ],
            "application/javascript": [
              "download(\"download_3227635c-5392-449e-b8a7-8650444fb981\", \"28x28_pca-0.2.csv\", 54732)"
            ]
          },
          "metadata": {}
        },
        {
          "output_type": "stream",
          "name": "stdout",
          "text": [
            "hog de 28x28 e pca de 0.25\n",
            "shape: (800, 4)\n",
            "\n"
          ]
        },
        {
          "output_type": "display_data",
          "data": {
            "text/plain": [
              "<IPython.core.display.Javascript object>"
            ],
            "application/javascript": [
              "\n",
              "    async function download(id, filename, size) {\n",
              "      if (!google.colab.kernel.accessAllowed) {\n",
              "        return;\n",
              "      }\n",
              "      const div = document.createElement('div');\n",
              "      const label = document.createElement('label');\n",
              "      label.textContent = `Downloading \"${filename}\": `;\n",
              "      div.appendChild(label);\n",
              "      const progress = document.createElement('progress');\n",
              "      progress.max = size;\n",
              "      div.appendChild(progress);\n",
              "      document.body.appendChild(div);\n",
              "\n",
              "      const buffers = [];\n",
              "      let downloaded = 0;\n",
              "\n",
              "      const channel = await google.colab.kernel.comms.open(id);\n",
              "      // Send a message to notify the kernel that we're ready.\n",
              "      channel.send({})\n",
              "\n",
              "      for await (const message of channel.messages) {\n",
              "        // Send a message to notify the kernel that we're ready.\n",
              "        channel.send({})\n",
              "        if (message.buffers) {\n",
              "          for (const buffer of message.buffers) {\n",
              "            buffers.push(buffer);\n",
              "            downloaded += buffer.byteLength;\n",
              "            progress.value = downloaded;\n",
              "          }\n",
              "        }\n",
              "      }\n",
              "      const blob = new Blob(buffers, {type: 'application/binary'});\n",
              "      const a = document.createElement('a');\n",
              "      a.href = window.URL.createObjectURL(blob);\n",
              "      a.download = filename;\n",
              "      div.appendChild(a);\n",
              "      a.click();\n",
              "      div.remove();\n",
              "    }\n",
              "  "
            ]
          },
          "metadata": {}
        },
        {
          "output_type": "display_data",
          "data": {
            "text/plain": [
              "<IPython.core.display.Javascript object>"
            ],
            "application/javascript": [
              "download(\"download_224c5c52-6e7a-48fc-82f8-76e481ac719c\", \"28x28_pca-0.25.csv\", 70476)"
            ]
          },
          "metadata": {}
        },
        {
          "output_type": "stream",
          "name": "stdout",
          "text": [
            "hog de 28x28 e pca de 0.3\n",
            "shape: (800, 5)\n",
            "\n"
          ]
        },
        {
          "output_type": "display_data",
          "data": {
            "text/plain": [
              "<IPython.core.display.Javascript object>"
            ],
            "application/javascript": [
              "\n",
              "    async function download(id, filename, size) {\n",
              "      if (!google.colab.kernel.accessAllowed) {\n",
              "        return;\n",
              "      }\n",
              "      const div = document.createElement('div');\n",
              "      const label = document.createElement('label');\n",
              "      label.textContent = `Downloading \"${filename}\": `;\n",
              "      div.appendChild(label);\n",
              "      const progress = document.createElement('progress');\n",
              "      progress.max = size;\n",
              "      div.appendChild(progress);\n",
              "      document.body.appendChild(div);\n",
              "\n",
              "      const buffers = [];\n",
              "      let downloaded = 0;\n",
              "\n",
              "      const channel = await google.colab.kernel.comms.open(id);\n",
              "      // Send a message to notify the kernel that we're ready.\n",
              "      channel.send({})\n",
              "\n",
              "      for await (const message of channel.messages) {\n",
              "        // Send a message to notify the kernel that we're ready.\n",
              "        channel.send({})\n",
              "        if (message.buffers) {\n",
              "          for (const buffer of message.buffers) {\n",
              "            buffers.push(buffer);\n",
              "            downloaded += buffer.byteLength;\n",
              "            progress.value = downloaded;\n",
              "          }\n",
              "        }\n",
              "      }\n",
              "      const blob = new Blob(buffers, {type: 'application/binary'});\n",
              "      const a = document.createElement('a');\n",
              "      a.href = window.URL.createObjectURL(blob);\n",
              "      a.download = filename;\n",
              "      div.appendChild(a);\n",
              "      a.click();\n",
              "      div.remove();\n",
              "    }\n",
              "  "
            ]
          },
          "metadata": {}
        },
        {
          "output_type": "display_data",
          "data": {
            "text/plain": [
              "<IPython.core.display.Javascript object>"
            ],
            "application/javascript": [
              "download(\"download_1ce6422e-af5f-47f5-bd9b-5577f1992577\", \"28x28_pca-0.3.csv\", 86177)"
            ]
          },
          "metadata": {}
        },
        {
          "output_type": "stream",
          "name": "stdout",
          "text": [
            "hog de 28x28 e pca de 0.35\n",
            "shape: (800, 7)\n",
            "\n"
          ]
        },
        {
          "output_type": "display_data",
          "data": {
            "text/plain": [
              "<IPython.core.display.Javascript object>"
            ],
            "application/javascript": [
              "\n",
              "    async function download(id, filename, size) {\n",
              "      if (!google.colab.kernel.accessAllowed) {\n",
              "        return;\n",
              "      }\n",
              "      const div = document.createElement('div');\n",
              "      const label = document.createElement('label');\n",
              "      label.textContent = `Downloading \"${filename}\": `;\n",
              "      div.appendChild(label);\n",
              "      const progress = document.createElement('progress');\n",
              "      progress.max = size;\n",
              "      div.appendChild(progress);\n",
              "      document.body.appendChild(div);\n",
              "\n",
              "      const buffers = [];\n",
              "      let downloaded = 0;\n",
              "\n",
              "      const channel = await google.colab.kernel.comms.open(id);\n",
              "      // Send a message to notify the kernel that we're ready.\n",
              "      channel.send({})\n",
              "\n",
              "      for await (const message of channel.messages) {\n",
              "        // Send a message to notify the kernel that we're ready.\n",
              "        channel.send({})\n",
              "        if (message.buffers) {\n",
              "          for (const buffer of message.buffers) {\n",
              "            buffers.push(buffer);\n",
              "            downloaded += buffer.byteLength;\n",
              "            progress.value = downloaded;\n",
              "          }\n",
              "        }\n",
              "      }\n",
              "      const blob = new Blob(buffers, {type: 'application/binary'});\n",
              "      const a = document.createElement('a');\n",
              "      a.href = window.URL.createObjectURL(blob);\n",
              "      a.download = filename;\n",
              "      div.appendChild(a);\n",
              "      a.click();\n",
              "      div.remove();\n",
              "    }\n",
              "  "
            ]
          },
          "metadata": {}
        },
        {
          "output_type": "display_data",
          "data": {
            "text/plain": [
              "<IPython.core.display.Javascript object>"
            ],
            "application/javascript": [
              "download(\"download_e4d0dc52-23a2-4f73-bdc1-e0720a5cbf65\", \"28x28_pca-0.35.csv\", 117652)"
            ]
          },
          "metadata": {}
        },
        {
          "output_type": "stream",
          "name": "stdout",
          "text": [
            "hog de 28x28 e pca de 0.4\n",
            "shape: (800, 8)\n",
            "\n"
          ]
        },
        {
          "output_type": "display_data",
          "data": {
            "text/plain": [
              "<IPython.core.display.Javascript object>"
            ],
            "application/javascript": [
              "\n",
              "    async function download(id, filename, size) {\n",
              "      if (!google.colab.kernel.accessAllowed) {\n",
              "        return;\n",
              "      }\n",
              "      const div = document.createElement('div');\n",
              "      const label = document.createElement('label');\n",
              "      label.textContent = `Downloading \"${filename}\": `;\n",
              "      div.appendChild(label);\n",
              "      const progress = document.createElement('progress');\n",
              "      progress.max = size;\n",
              "      div.appendChild(progress);\n",
              "      document.body.appendChild(div);\n",
              "\n",
              "      const buffers = [];\n",
              "      let downloaded = 0;\n",
              "\n",
              "      const channel = await google.colab.kernel.comms.open(id);\n",
              "      // Send a message to notify the kernel that we're ready.\n",
              "      channel.send({})\n",
              "\n",
              "      for await (const message of channel.messages) {\n",
              "        // Send a message to notify the kernel that we're ready.\n",
              "        channel.send({})\n",
              "        if (message.buffers) {\n",
              "          for (const buffer of message.buffers) {\n",
              "            buffers.push(buffer);\n",
              "            downloaded += buffer.byteLength;\n",
              "            progress.value = downloaded;\n",
              "          }\n",
              "        }\n",
              "      }\n",
              "      const blob = new Blob(buffers, {type: 'application/binary'});\n",
              "      const a = document.createElement('a');\n",
              "      a.href = window.URL.createObjectURL(blob);\n",
              "      a.download = filename;\n",
              "      div.appendChild(a);\n",
              "      a.click();\n",
              "      div.remove();\n",
              "    }\n",
              "  "
            ]
          },
          "metadata": {}
        },
        {
          "output_type": "display_data",
          "data": {
            "text/plain": [
              "<IPython.core.display.Javascript object>"
            ],
            "application/javascript": [
              "download(\"download_e058c82e-6a9e-4955-a7bc-b52d51be5ad9\", \"28x28_pca-0.4.csv\", 133382)"
            ]
          },
          "metadata": {}
        },
        {
          "output_type": "stream",
          "name": "stdout",
          "text": [
            "hog de 28x28 e pca de 0.45\n",
            "shape: (800, 10)\n",
            "\n"
          ]
        },
        {
          "output_type": "display_data",
          "data": {
            "text/plain": [
              "<IPython.core.display.Javascript object>"
            ],
            "application/javascript": [
              "\n",
              "    async function download(id, filename, size) {\n",
              "      if (!google.colab.kernel.accessAllowed) {\n",
              "        return;\n",
              "      }\n",
              "      const div = document.createElement('div');\n",
              "      const label = document.createElement('label');\n",
              "      label.textContent = `Downloading \"${filename}\": `;\n",
              "      div.appendChild(label);\n",
              "      const progress = document.createElement('progress');\n",
              "      progress.max = size;\n",
              "      div.appendChild(progress);\n",
              "      document.body.appendChild(div);\n",
              "\n",
              "      const buffers = [];\n",
              "      let downloaded = 0;\n",
              "\n",
              "      const channel = await google.colab.kernel.comms.open(id);\n",
              "      // Send a message to notify the kernel that we're ready.\n",
              "      channel.send({})\n",
              "\n",
              "      for await (const message of channel.messages) {\n",
              "        // Send a message to notify the kernel that we're ready.\n",
              "        channel.send({})\n",
              "        if (message.buffers) {\n",
              "          for (const buffer of message.buffers) {\n",
              "            buffers.push(buffer);\n",
              "            downloaded += buffer.byteLength;\n",
              "            progress.value = downloaded;\n",
              "          }\n",
              "        }\n",
              "      }\n",
              "      const blob = new Blob(buffers, {type: 'application/binary'});\n",
              "      const a = document.createElement('a');\n",
              "      a.href = window.URL.createObjectURL(blob);\n",
              "      a.download = filename;\n",
              "      div.appendChild(a);\n",
              "      a.click();\n",
              "      div.remove();\n",
              "    }\n",
              "  "
            ]
          },
          "metadata": {}
        },
        {
          "output_type": "display_data",
          "data": {
            "text/plain": [
              "<IPython.core.display.Javascript object>"
            ],
            "application/javascript": [
              "download(\"download_758fbb4a-94f8-46c9-ac8b-db99f572a36d\", \"28x28_pca-0.45.csv\", 164797)"
            ]
          },
          "metadata": {}
        },
        {
          "output_type": "stream",
          "name": "stdout",
          "text": [
            "hog de 28x28 e pca de 0.5\n",
            "shape: (800, 13)\n",
            "\n"
          ]
        },
        {
          "output_type": "display_data",
          "data": {
            "text/plain": [
              "<IPython.core.display.Javascript object>"
            ],
            "application/javascript": [
              "\n",
              "    async function download(id, filename, size) {\n",
              "      if (!google.colab.kernel.accessAllowed) {\n",
              "        return;\n",
              "      }\n",
              "      const div = document.createElement('div');\n",
              "      const label = document.createElement('label');\n",
              "      label.textContent = `Downloading \"${filename}\": `;\n",
              "      div.appendChild(label);\n",
              "      const progress = document.createElement('progress');\n",
              "      progress.max = size;\n",
              "      div.appendChild(progress);\n",
              "      document.body.appendChild(div);\n",
              "\n",
              "      const buffers = [];\n",
              "      let downloaded = 0;\n",
              "\n",
              "      const channel = await google.colab.kernel.comms.open(id);\n",
              "      // Send a message to notify the kernel that we're ready.\n",
              "      channel.send({})\n",
              "\n",
              "      for await (const message of channel.messages) {\n",
              "        // Send a message to notify the kernel that we're ready.\n",
              "        channel.send({})\n",
              "        if (message.buffers) {\n",
              "          for (const buffer of message.buffers) {\n",
              "            buffers.push(buffer);\n",
              "            downloaded += buffer.byteLength;\n",
              "            progress.value = downloaded;\n",
              "          }\n",
              "        }\n",
              "      }\n",
              "      const blob = new Blob(buffers, {type: 'application/binary'});\n",
              "      const a = document.createElement('a');\n",
              "      a.href = window.URL.createObjectURL(blob);\n",
              "      a.download = filename;\n",
              "      div.appendChild(a);\n",
              "      a.click();\n",
              "      div.remove();\n",
              "    }\n",
              "  "
            ]
          },
          "metadata": {}
        },
        {
          "output_type": "display_data",
          "data": {
            "text/plain": [
              "<IPython.core.display.Javascript object>"
            ],
            "application/javascript": [
              "download(\"download_c8bb5c54-d4d3-4eb8-915f-8777c89ee94a\", \"28x28_pca-0.5.csv\", 211986)"
            ]
          },
          "metadata": {}
        },
        {
          "output_type": "stream",
          "name": "stdout",
          "text": [
            "hog de 28x28 e pca de 0.55\n",
            "shape: (800, 15)\n",
            "\n"
          ]
        },
        {
          "output_type": "display_data",
          "data": {
            "text/plain": [
              "<IPython.core.display.Javascript object>"
            ],
            "application/javascript": [
              "\n",
              "    async function download(id, filename, size) {\n",
              "      if (!google.colab.kernel.accessAllowed) {\n",
              "        return;\n",
              "      }\n",
              "      const div = document.createElement('div');\n",
              "      const label = document.createElement('label');\n",
              "      label.textContent = `Downloading \"${filename}\": `;\n",
              "      div.appendChild(label);\n",
              "      const progress = document.createElement('progress');\n",
              "      progress.max = size;\n",
              "      div.appendChild(progress);\n",
              "      document.body.appendChild(div);\n",
              "\n",
              "      const buffers = [];\n",
              "      let downloaded = 0;\n",
              "\n",
              "      const channel = await google.colab.kernel.comms.open(id);\n",
              "      // Send a message to notify the kernel that we're ready.\n",
              "      channel.send({})\n",
              "\n",
              "      for await (const message of channel.messages) {\n",
              "        // Send a message to notify the kernel that we're ready.\n",
              "        channel.send({})\n",
              "        if (message.buffers) {\n",
              "          for (const buffer of message.buffers) {\n",
              "            buffers.push(buffer);\n",
              "            downloaded += buffer.byteLength;\n",
              "            progress.value = downloaded;\n",
              "          }\n",
              "        }\n",
              "      }\n",
              "      const blob = new Blob(buffers, {type: 'application/binary'});\n",
              "      const a = document.createElement('a');\n",
              "      a.href = window.URL.createObjectURL(blob);\n",
              "      a.download = filename;\n",
              "      div.appendChild(a);\n",
              "      a.click();\n",
              "      div.remove();\n",
              "    }\n",
              "  "
            ]
          },
          "metadata": {}
        },
        {
          "output_type": "display_data",
          "data": {
            "text/plain": [
              "<IPython.core.display.Javascript object>"
            ],
            "application/javascript": [
              "download(\"download_e22e6e8e-d161-4070-a2f3-2d72ac849209\", \"28x28_pca-0.55.csv\", 243387)"
            ]
          },
          "metadata": {}
        },
        {
          "output_type": "stream",
          "name": "stdout",
          "text": [
            "hog de 28x28 e pca de 0.6\n",
            "shape: (800, 18)\n",
            "\n"
          ]
        },
        {
          "output_type": "display_data",
          "data": {
            "text/plain": [
              "<IPython.core.display.Javascript object>"
            ],
            "application/javascript": [
              "\n",
              "    async function download(id, filename, size) {\n",
              "      if (!google.colab.kernel.accessAllowed) {\n",
              "        return;\n",
              "      }\n",
              "      const div = document.createElement('div');\n",
              "      const label = document.createElement('label');\n",
              "      label.textContent = `Downloading \"${filename}\": `;\n",
              "      div.appendChild(label);\n",
              "      const progress = document.createElement('progress');\n",
              "      progress.max = size;\n",
              "      div.appendChild(progress);\n",
              "      document.body.appendChild(div);\n",
              "\n",
              "      const buffers = [];\n",
              "      let downloaded = 0;\n",
              "\n",
              "      const channel = await google.colab.kernel.comms.open(id);\n",
              "      // Send a message to notify the kernel that we're ready.\n",
              "      channel.send({})\n",
              "\n",
              "      for await (const message of channel.messages) {\n",
              "        // Send a message to notify the kernel that we're ready.\n",
              "        channel.send({})\n",
              "        if (message.buffers) {\n",
              "          for (const buffer of message.buffers) {\n",
              "            buffers.push(buffer);\n",
              "            downloaded += buffer.byteLength;\n",
              "            progress.value = downloaded;\n",
              "          }\n",
              "        }\n",
              "      }\n",
              "      const blob = new Blob(buffers, {type: 'application/binary'});\n",
              "      const a = document.createElement('a');\n",
              "      a.href = window.URL.createObjectURL(blob);\n",
              "      a.download = filename;\n",
              "      div.appendChild(a);\n",
              "      a.click();\n",
              "      div.remove();\n",
              "    }\n",
              "  "
            ]
          },
          "metadata": {}
        },
        {
          "output_type": "display_data",
          "data": {
            "text/plain": [
              "<IPython.core.display.Javascript object>"
            ],
            "application/javascript": [
              "download(\"download_c5f84c81-fdee-4ec5-924f-00abae6b5aa5\", \"28x28_pca-0.6.csv\", 290520)"
            ]
          },
          "metadata": {}
        },
        {
          "output_type": "stream",
          "name": "stdout",
          "text": [
            "hog de 28x28 e pca de 0.65\n",
            "shape: (800, 22)\n",
            "\n"
          ]
        },
        {
          "output_type": "display_data",
          "data": {
            "text/plain": [
              "<IPython.core.display.Javascript object>"
            ],
            "application/javascript": [
              "\n",
              "    async function download(id, filename, size) {\n",
              "      if (!google.colab.kernel.accessAllowed) {\n",
              "        return;\n",
              "      }\n",
              "      const div = document.createElement('div');\n",
              "      const label = document.createElement('label');\n",
              "      label.textContent = `Downloading \"${filename}\": `;\n",
              "      div.appendChild(label);\n",
              "      const progress = document.createElement('progress');\n",
              "      progress.max = size;\n",
              "      div.appendChild(progress);\n",
              "      document.body.appendChild(div);\n",
              "\n",
              "      const buffers = [];\n",
              "      let downloaded = 0;\n",
              "\n",
              "      const channel = await google.colab.kernel.comms.open(id);\n",
              "      // Send a message to notify the kernel that we're ready.\n",
              "      channel.send({})\n",
              "\n",
              "      for await (const message of channel.messages) {\n",
              "        // Send a message to notify the kernel that we're ready.\n",
              "        channel.send({})\n",
              "        if (message.buffers) {\n",
              "          for (const buffer of message.buffers) {\n",
              "            buffers.push(buffer);\n",
              "            downloaded += buffer.byteLength;\n",
              "            progress.value = downloaded;\n",
              "          }\n",
              "        }\n",
              "      }\n",
              "      const blob = new Blob(buffers, {type: 'application/binary'});\n",
              "      const a = document.createElement('a');\n",
              "      a.href = window.URL.createObjectURL(blob);\n",
              "      a.download = filename;\n",
              "      div.appendChild(a);\n",
              "      a.click();\n",
              "      div.remove();\n",
              "    }\n",
              "  "
            ]
          },
          "metadata": {}
        },
        {
          "output_type": "display_data",
          "data": {
            "text/plain": [
              "<IPython.core.display.Javascript object>"
            ],
            "application/javascript": [
              "download(\"download_6e3068fb-8abe-472b-9037-0f2033a70506\", \"28x28_pca-0.65.csv\", 353374)"
            ]
          },
          "metadata": {}
        },
        {
          "output_type": "stream",
          "name": "stdout",
          "text": [
            "hog de 28x28 e pca de 0.7\n",
            "shape: (800, 27)\n",
            "\n"
          ]
        },
        {
          "output_type": "display_data",
          "data": {
            "text/plain": [
              "<IPython.core.display.Javascript object>"
            ],
            "application/javascript": [
              "\n",
              "    async function download(id, filename, size) {\n",
              "      if (!google.colab.kernel.accessAllowed) {\n",
              "        return;\n",
              "      }\n",
              "      const div = document.createElement('div');\n",
              "      const label = document.createElement('label');\n",
              "      label.textContent = `Downloading \"${filename}\": `;\n",
              "      div.appendChild(label);\n",
              "      const progress = document.createElement('progress');\n",
              "      progress.max = size;\n",
              "      div.appendChild(progress);\n",
              "      document.body.appendChild(div);\n",
              "\n",
              "      const buffers = [];\n",
              "      let downloaded = 0;\n",
              "\n",
              "      const channel = await google.colab.kernel.comms.open(id);\n",
              "      // Send a message to notify the kernel that we're ready.\n",
              "      channel.send({})\n",
              "\n",
              "      for await (const message of channel.messages) {\n",
              "        // Send a message to notify the kernel that we're ready.\n",
              "        channel.send({})\n",
              "        if (message.buffers) {\n",
              "          for (const buffer of message.buffers) {\n",
              "            buffers.push(buffer);\n",
              "            downloaded += buffer.byteLength;\n",
              "            progress.value = downloaded;\n",
              "          }\n",
              "        }\n",
              "      }\n",
              "      const blob = new Blob(buffers, {type: 'application/binary'});\n",
              "      const a = document.createElement('a');\n",
              "      a.href = window.URL.createObjectURL(blob);\n",
              "      a.download = filename;\n",
              "      div.appendChild(a);\n",
              "      a.click();\n",
              "      div.remove();\n",
              "    }\n",
              "  "
            ]
          },
          "metadata": {}
        },
        {
          "output_type": "display_data",
          "data": {
            "text/plain": [
              "<IPython.core.display.Javascript object>"
            ],
            "application/javascript": [
              "download(\"download_8ff33dd2-fa72-4422-8a37-12b725068bcc\", \"28x28_pca-0.7.csv\", 432084)"
            ]
          },
          "metadata": {}
        },
        {
          "output_type": "stream",
          "name": "stdout",
          "text": [
            "hog de 28x28 e pca de 0.75\n",
            "shape: (800, 32)\n",
            "\n"
          ]
        },
        {
          "output_type": "display_data",
          "data": {
            "text/plain": [
              "<IPython.core.display.Javascript object>"
            ],
            "application/javascript": [
              "\n",
              "    async function download(id, filename, size) {\n",
              "      if (!google.colab.kernel.accessAllowed) {\n",
              "        return;\n",
              "      }\n",
              "      const div = document.createElement('div');\n",
              "      const label = document.createElement('label');\n",
              "      label.textContent = `Downloading \"${filename}\": `;\n",
              "      div.appendChild(label);\n",
              "      const progress = document.createElement('progress');\n",
              "      progress.max = size;\n",
              "      div.appendChild(progress);\n",
              "      document.body.appendChild(div);\n",
              "\n",
              "      const buffers = [];\n",
              "      let downloaded = 0;\n",
              "\n",
              "      const channel = await google.colab.kernel.comms.open(id);\n",
              "      // Send a message to notify the kernel that we're ready.\n",
              "      channel.send({})\n",
              "\n",
              "      for await (const message of channel.messages) {\n",
              "        // Send a message to notify the kernel that we're ready.\n",
              "        channel.send({})\n",
              "        if (message.buffers) {\n",
              "          for (const buffer of message.buffers) {\n",
              "            buffers.push(buffer);\n",
              "            downloaded += buffer.byteLength;\n",
              "            progress.value = downloaded;\n",
              "          }\n",
              "        }\n",
              "      }\n",
              "      const blob = new Blob(buffers, {type: 'application/binary'});\n",
              "      const a = document.createElement('a');\n",
              "      a.href = window.URL.createObjectURL(blob);\n",
              "      a.download = filename;\n",
              "      div.appendChild(a);\n",
              "      a.click();\n",
              "      div.remove();\n",
              "    }\n",
              "  "
            ]
          },
          "metadata": {}
        },
        {
          "output_type": "display_data",
          "data": {
            "text/plain": [
              "<IPython.core.display.Javascript object>"
            ],
            "application/javascript": [
              "download(\"download_89d8f878-cc6a-43e2-8ac9-0a59b02ad0fc\", \"28x28_pca-0.75.csv\", 510666)"
            ]
          },
          "metadata": {}
        },
        {
          "output_type": "stream",
          "name": "stdout",
          "text": [
            "hog de 28x28 e pca de 0.8\n",
            "shape: (800, 39)\n",
            "\n"
          ]
        },
        {
          "output_type": "display_data",
          "data": {
            "text/plain": [
              "<IPython.core.display.Javascript object>"
            ],
            "application/javascript": [
              "\n",
              "    async function download(id, filename, size) {\n",
              "      if (!google.colab.kernel.accessAllowed) {\n",
              "        return;\n",
              "      }\n",
              "      const div = document.createElement('div');\n",
              "      const label = document.createElement('label');\n",
              "      label.textContent = `Downloading \"${filename}\": `;\n",
              "      div.appendChild(label);\n",
              "      const progress = document.createElement('progress');\n",
              "      progress.max = size;\n",
              "      div.appendChild(progress);\n",
              "      document.body.appendChild(div);\n",
              "\n",
              "      const buffers = [];\n",
              "      let downloaded = 0;\n",
              "\n",
              "      const channel = await google.colab.kernel.comms.open(id);\n",
              "      // Send a message to notify the kernel that we're ready.\n",
              "      channel.send({})\n",
              "\n",
              "      for await (const message of channel.messages) {\n",
              "        // Send a message to notify the kernel that we're ready.\n",
              "        channel.send({})\n",
              "        if (message.buffers) {\n",
              "          for (const buffer of message.buffers) {\n",
              "            buffers.push(buffer);\n",
              "            downloaded += buffer.byteLength;\n",
              "            progress.value = downloaded;\n",
              "          }\n",
              "        }\n",
              "      }\n",
              "      const blob = new Blob(buffers, {type: 'application/binary'});\n",
              "      const a = document.createElement('a');\n",
              "      a.href = window.URL.createObjectURL(blob);\n",
              "      a.download = filename;\n",
              "      div.appendChild(a);\n",
              "      a.click();\n",
              "      div.remove();\n",
              "    }\n",
              "  "
            ]
          },
          "metadata": {}
        },
        {
          "output_type": "display_data",
          "data": {
            "text/plain": [
              "<IPython.core.display.Javascript object>"
            ],
            "application/javascript": [
              "download(\"download_d0794aa2-9aa2-493b-9bb6-871779bc2540\", \"28x28_pca-0.8.csv\", 620728)"
            ]
          },
          "metadata": {}
        },
        {
          "output_type": "stream",
          "name": "stdout",
          "text": [
            "hog de 28x28 e pca de 0.85\n",
            "shape: (800, 50)\n",
            "\n"
          ]
        },
        {
          "output_type": "display_data",
          "data": {
            "text/plain": [
              "<IPython.core.display.Javascript object>"
            ],
            "application/javascript": [
              "\n",
              "    async function download(id, filename, size) {\n",
              "      if (!google.colab.kernel.accessAllowed) {\n",
              "        return;\n",
              "      }\n",
              "      const div = document.createElement('div');\n",
              "      const label = document.createElement('label');\n",
              "      label.textContent = `Downloading \"${filename}\": `;\n",
              "      div.appendChild(label);\n",
              "      const progress = document.createElement('progress');\n",
              "      progress.max = size;\n",
              "      div.appendChild(progress);\n",
              "      document.body.appendChild(div);\n",
              "\n",
              "      const buffers = [];\n",
              "      let downloaded = 0;\n",
              "\n",
              "      const channel = await google.colab.kernel.comms.open(id);\n",
              "      // Send a message to notify the kernel that we're ready.\n",
              "      channel.send({})\n",
              "\n",
              "      for await (const message of channel.messages) {\n",
              "        // Send a message to notify the kernel that we're ready.\n",
              "        channel.send({})\n",
              "        if (message.buffers) {\n",
              "          for (const buffer of message.buffers) {\n",
              "            buffers.push(buffer);\n",
              "            downloaded += buffer.byteLength;\n",
              "            progress.value = downloaded;\n",
              "          }\n",
              "        }\n",
              "      }\n",
              "      const blob = new Blob(buffers, {type: 'application/binary'});\n",
              "      const a = document.createElement('a');\n",
              "      a.href = window.URL.createObjectURL(blob);\n",
              "      a.download = filename;\n",
              "      div.appendChild(a);\n",
              "      a.click();\n",
              "      div.remove();\n",
              "    }\n",
              "  "
            ]
          },
          "metadata": {}
        },
        {
          "output_type": "display_data",
          "data": {
            "text/plain": [
              "<IPython.core.display.Javascript object>"
            ],
            "application/javascript": [
              "download(\"download_65b63070-8b6c-4dda-93d8-2b533b655480\", \"28x28_pca-0.85.csv\", 793700)"
            ]
          },
          "metadata": {}
        },
        {
          "output_type": "stream",
          "name": "stdout",
          "text": [
            "hog de 28x28 e pca de 0.9\n",
            "shape: (800, 65)\n",
            "\n"
          ]
        },
        {
          "output_type": "display_data",
          "data": {
            "text/plain": [
              "<IPython.core.display.Javascript object>"
            ],
            "application/javascript": [
              "\n",
              "    async function download(id, filename, size) {\n",
              "      if (!google.colab.kernel.accessAllowed) {\n",
              "        return;\n",
              "      }\n",
              "      const div = document.createElement('div');\n",
              "      const label = document.createElement('label');\n",
              "      label.textContent = `Downloading \"${filename}\": `;\n",
              "      div.appendChild(label);\n",
              "      const progress = document.createElement('progress');\n",
              "      progress.max = size;\n",
              "      div.appendChild(progress);\n",
              "      document.body.appendChild(div);\n",
              "\n",
              "      const buffers = [];\n",
              "      let downloaded = 0;\n",
              "\n",
              "      const channel = await google.colab.kernel.comms.open(id);\n",
              "      // Send a message to notify the kernel that we're ready.\n",
              "      channel.send({})\n",
              "\n",
              "      for await (const message of channel.messages) {\n",
              "        // Send a message to notify the kernel that we're ready.\n",
              "        channel.send({})\n",
              "        if (message.buffers) {\n",
              "          for (const buffer of message.buffers) {\n",
              "            buffers.push(buffer);\n",
              "            downloaded += buffer.byteLength;\n",
              "            progress.value = downloaded;\n",
              "          }\n",
              "        }\n",
              "      }\n",
              "      const blob = new Blob(buffers, {type: 'application/binary'});\n",
              "      const a = document.createElement('a');\n",
              "      a.href = window.URL.createObjectURL(blob);\n",
              "      a.download = filename;\n",
              "      div.appendChild(a);\n",
              "      a.click();\n",
              "      div.remove();\n",
              "    }\n",
              "  "
            ]
          },
          "metadata": {}
        },
        {
          "output_type": "display_data",
          "data": {
            "text/plain": [
              "<IPython.core.display.Javascript object>"
            ],
            "application/javascript": [
              "download(\"download_348610e8-0fca-447e-bf58-b10bb4704e2a\", \"28x28_pca-0.9.csv\", 1029698)"
            ]
          },
          "metadata": {}
        },
        {
          "output_type": "stream",
          "name": "stdout",
          "text": [
            "hog de 28x28 e pca de 0.95\n",
            "shape: (800, 93)\n",
            "\n"
          ]
        },
        {
          "output_type": "display_data",
          "data": {
            "text/plain": [
              "<IPython.core.display.Javascript object>"
            ],
            "application/javascript": [
              "\n",
              "    async function download(id, filename, size) {\n",
              "      if (!google.colab.kernel.accessAllowed) {\n",
              "        return;\n",
              "      }\n",
              "      const div = document.createElement('div');\n",
              "      const label = document.createElement('label');\n",
              "      label.textContent = `Downloading \"${filename}\": `;\n",
              "      div.appendChild(label);\n",
              "      const progress = document.createElement('progress');\n",
              "      progress.max = size;\n",
              "      div.appendChild(progress);\n",
              "      document.body.appendChild(div);\n",
              "\n",
              "      const buffers = [];\n",
              "      let downloaded = 0;\n",
              "\n",
              "      const channel = await google.colab.kernel.comms.open(id);\n",
              "      // Send a message to notify the kernel that we're ready.\n",
              "      channel.send({})\n",
              "\n",
              "      for await (const message of channel.messages) {\n",
              "        // Send a message to notify the kernel that we're ready.\n",
              "        channel.send({})\n",
              "        if (message.buffers) {\n",
              "          for (const buffer of message.buffers) {\n",
              "            buffers.push(buffer);\n",
              "            downloaded += buffer.byteLength;\n",
              "            progress.value = downloaded;\n",
              "          }\n",
              "        }\n",
              "      }\n",
              "      const blob = new Blob(buffers, {type: 'application/binary'});\n",
              "      const a = document.createElement('a');\n",
              "      a.href = window.URL.createObjectURL(blob);\n",
              "      a.download = filename;\n",
              "      div.appendChild(a);\n",
              "      a.click();\n",
              "      div.remove();\n",
              "    }\n",
              "  "
            ]
          },
          "metadata": {}
        },
        {
          "output_type": "display_data",
          "data": {
            "text/plain": [
              "<IPython.core.display.Javascript object>"
            ],
            "application/javascript": [
              "download(\"download_28078671-f4dd-49b8-be86-ffb79ba80e41\", \"28x28_pca-0.95.csv\", 1470059)"
            ]
          },
          "metadata": {}
        },
        {
          "output_type": "stream",
          "name": "stdout",
          "text": [
            "hog de 32x32 e pca de 0.1\n",
            "shape: (800, 1)\n",
            "\n"
          ]
        },
        {
          "output_type": "display_data",
          "data": {
            "text/plain": [
              "<IPython.core.display.Javascript object>"
            ],
            "application/javascript": [
              "\n",
              "    async function download(id, filename, size) {\n",
              "      if (!google.colab.kernel.accessAllowed) {\n",
              "        return;\n",
              "      }\n",
              "      const div = document.createElement('div');\n",
              "      const label = document.createElement('label');\n",
              "      label.textContent = `Downloading \"${filename}\": `;\n",
              "      div.appendChild(label);\n",
              "      const progress = document.createElement('progress');\n",
              "      progress.max = size;\n",
              "      div.appendChild(progress);\n",
              "      document.body.appendChild(div);\n",
              "\n",
              "      const buffers = [];\n",
              "      let downloaded = 0;\n",
              "\n",
              "      const channel = await google.colab.kernel.comms.open(id);\n",
              "      // Send a message to notify the kernel that we're ready.\n",
              "      channel.send({})\n",
              "\n",
              "      for await (const message of channel.messages) {\n",
              "        // Send a message to notify the kernel that we're ready.\n",
              "        channel.send({})\n",
              "        if (message.buffers) {\n",
              "          for (const buffer of message.buffers) {\n",
              "            buffers.push(buffer);\n",
              "            downloaded += buffer.byteLength;\n",
              "            progress.value = downloaded;\n",
              "          }\n",
              "        }\n",
              "      }\n",
              "      const blob = new Blob(buffers, {type: 'application/binary'});\n",
              "      const a = document.createElement('a');\n",
              "      a.href = window.URL.createObjectURL(blob);\n",
              "      a.download = filename;\n",
              "      div.appendChild(a);\n",
              "      a.click();\n",
              "      div.remove();\n",
              "    }\n",
              "  "
            ]
          },
          "metadata": {}
        },
        {
          "output_type": "display_data",
          "data": {
            "text/plain": [
              "<IPython.core.display.Javascript object>"
            ],
            "application/javascript": [
              "download(\"download_7278ff14-4576-4265-b5c6-b87c1ce60a9d\", \"32x32_pca-0.1.csv\", 23329)"
            ]
          },
          "metadata": {}
        },
        {
          "output_type": "stream",
          "name": "stdout",
          "text": [
            "hog de 32x32 e pca de 0.15\n",
            "shape: (800, 2)\n",
            "\n"
          ]
        },
        {
          "output_type": "display_data",
          "data": {
            "text/plain": [
              "<IPython.core.display.Javascript object>"
            ],
            "application/javascript": [
              "\n",
              "    async function download(id, filename, size) {\n",
              "      if (!google.colab.kernel.accessAllowed) {\n",
              "        return;\n",
              "      }\n",
              "      const div = document.createElement('div');\n",
              "      const label = document.createElement('label');\n",
              "      label.textContent = `Downloading \"${filename}\": `;\n",
              "      div.appendChild(label);\n",
              "      const progress = document.createElement('progress');\n",
              "      progress.max = size;\n",
              "      div.appendChild(progress);\n",
              "      document.body.appendChild(div);\n",
              "\n",
              "      const buffers = [];\n",
              "      let downloaded = 0;\n",
              "\n",
              "      const channel = await google.colab.kernel.comms.open(id);\n",
              "      // Send a message to notify the kernel that we're ready.\n",
              "      channel.send({})\n",
              "\n",
              "      for await (const message of channel.messages) {\n",
              "        // Send a message to notify the kernel that we're ready.\n",
              "        channel.send({})\n",
              "        if (message.buffers) {\n",
              "          for (const buffer of message.buffers) {\n",
              "            buffers.push(buffer);\n",
              "            downloaded += buffer.byteLength;\n",
              "            progress.value = downloaded;\n",
              "          }\n",
              "        }\n",
              "      }\n",
              "      const blob = new Blob(buffers, {type: 'application/binary'});\n",
              "      const a = document.createElement('a');\n",
              "      a.href = window.URL.createObjectURL(blob);\n",
              "      a.download = filename;\n",
              "      div.appendChild(a);\n",
              "      a.click();\n",
              "      div.remove();\n",
              "    }\n",
              "  "
            ]
          },
          "metadata": {}
        },
        {
          "output_type": "display_data",
          "data": {
            "text/plain": [
              "<IPython.core.display.Javascript object>"
            ],
            "application/javascript": [
              "download(\"download_009d2610-dadc-4bf7-b2ed-d22fa4e32e1e\", \"32x32_pca-0.15.csv\", 39017)"
            ]
          },
          "metadata": {}
        },
        {
          "output_type": "stream",
          "name": "stdout",
          "text": [
            "hog de 32x32 e pca de 0.2\n",
            "shape: (800, 3)\n",
            "\n"
          ]
        },
        {
          "output_type": "display_data",
          "data": {
            "text/plain": [
              "<IPython.core.display.Javascript object>"
            ],
            "application/javascript": [
              "\n",
              "    async function download(id, filename, size) {\n",
              "      if (!google.colab.kernel.accessAllowed) {\n",
              "        return;\n",
              "      }\n",
              "      const div = document.createElement('div');\n",
              "      const label = document.createElement('label');\n",
              "      label.textContent = `Downloading \"${filename}\": `;\n",
              "      div.appendChild(label);\n",
              "      const progress = document.createElement('progress');\n",
              "      progress.max = size;\n",
              "      div.appendChild(progress);\n",
              "      document.body.appendChild(div);\n",
              "\n",
              "      const buffers = [];\n",
              "      let downloaded = 0;\n",
              "\n",
              "      const channel = await google.colab.kernel.comms.open(id);\n",
              "      // Send a message to notify the kernel that we're ready.\n",
              "      channel.send({})\n",
              "\n",
              "      for await (const message of channel.messages) {\n",
              "        // Send a message to notify the kernel that we're ready.\n",
              "        channel.send({})\n",
              "        if (message.buffers) {\n",
              "          for (const buffer of message.buffers) {\n",
              "            buffers.push(buffer);\n",
              "            downloaded += buffer.byteLength;\n",
              "            progress.value = downloaded;\n",
              "          }\n",
              "        }\n",
              "      }\n",
              "      const blob = new Blob(buffers, {type: 'application/binary'});\n",
              "      const a = document.createElement('a');\n",
              "      a.href = window.URL.createObjectURL(blob);\n",
              "      a.download = filename;\n",
              "      div.appendChild(a);\n",
              "      a.click();\n",
              "      div.remove();\n",
              "    }\n",
              "  "
            ]
          },
          "metadata": {}
        },
        {
          "output_type": "display_data",
          "data": {
            "text/plain": [
              "<IPython.core.display.Javascript object>"
            ],
            "application/javascript": [
              "download(\"download_4fff8494-82eb-460c-91c6-551a31f97749\", \"32x32_pca-0.2.csv\", 54763)"
            ]
          },
          "metadata": {}
        },
        {
          "output_type": "stream",
          "name": "stdout",
          "text": [
            "hog de 32x32 e pca de 0.25\n",
            "shape: (800, 4)\n",
            "\n"
          ]
        },
        {
          "output_type": "display_data",
          "data": {
            "text/plain": [
              "<IPython.core.display.Javascript object>"
            ],
            "application/javascript": [
              "\n",
              "    async function download(id, filename, size) {\n",
              "      if (!google.colab.kernel.accessAllowed) {\n",
              "        return;\n",
              "      }\n",
              "      const div = document.createElement('div');\n",
              "      const label = document.createElement('label');\n",
              "      label.textContent = `Downloading \"${filename}\": `;\n",
              "      div.appendChild(label);\n",
              "      const progress = document.createElement('progress');\n",
              "      progress.max = size;\n",
              "      div.appendChild(progress);\n",
              "      document.body.appendChild(div);\n",
              "\n",
              "      const buffers = [];\n",
              "      let downloaded = 0;\n",
              "\n",
              "      const channel = await google.colab.kernel.comms.open(id);\n",
              "      // Send a message to notify the kernel that we're ready.\n",
              "      channel.send({})\n",
              "\n",
              "      for await (const message of channel.messages) {\n",
              "        // Send a message to notify the kernel that we're ready.\n",
              "        channel.send({})\n",
              "        if (message.buffers) {\n",
              "          for (const buffer of message.buffers) {\n",
              "            buffers.push(buffer);\n",
              "            downloaded += buffer.byteLength;\n",
              "            progress.value = downloaded;\n",
              "          }\n",
              "        }\n",
              "      }\n",
              "      const blob = new Blob(buffers, {type: 'application/binary'});\n",
              "      const a = document.createElement('a');\n",
              "      a.href = window.URL.createObjectURL(blob);\n",
              "      a.download = filename;\n",
              "      div.appendChild(a);\n",
              "      a.click();\n",
              "      div.remove();\n",
              "    }\n",
              "  "
            ]
          },
          "metadata": {}
        },
        {
          "output_type": "display_data",
          "data": {
            "text/plain": [
              "<IPython.core.display.Javascript object>"
            ],
            "application/javascript": [
              "download(\"download_a224e733-8dbe-4513-8e9b-e0be4ac6937d\", \"32x32_pca-0.25.csv\", 70464)"
            ]
          },
          "metadata": {}
        },
        {
          "output_type": "stream",
          "name": "stdout",
          "text": [
            "hog de 32x32 e pca de 0.3\n",
            "shape: (800, 5)\n",
            "\n"
          ]
        },
        {
          "output_type": "display_data",
          "data": {
            "text/plain": [
              "<IPython.core.display.Javascript object>"
            ],
            "application/javascript": [
              "\n",
              "    async function download(id, filename, size) {\n",
              "      if (!google.colab.kernel.accessAllowed) {\n",
              "        return;\n",
              "      }\n",
              "      const div = document.createElement('div');\n",
              "      const label = document.createElement('label');\n",
              "      label.textContent = `Downloading \"${filename}\": `;\n",
              "      div.appendChild(label);\n",
              "      const progress = document.createElement('progress');\n",
              "      progress.max = size;\n",
              "      div.appendChild(progress);\n",
              "      document.body.appendChild(div);\n",
              "\n",
              "      const buffers = [];\n",
              "      let downloaded = 0;\n",
              "\n",
              "      const channel = await google.colab.kernel.comms.open(id);\n",
              "      // Send a message to notify the kernel that we're ready.\n",
              "      channel.send({})\n",
              "\n",
              "      for await (const message of channel.messages) {\n",
              "        // Send a message to notify the kernel that we're ready.\n",
              "        channel.send({})\n",
              "        if (message.buffers) {\n",
              "          for (const buffer of message.buffers) {\n",
              "            buffers.push(buffer);\n",
              "            downloaded += buffer.byteLength;\n",
              "            progress.value = downloaded;\n",
              "          }\n",
              "        }\n",
              "      }\n",
              "      const blob = new Blob(buffers, {type: 'application/binary'});\n",
              "      const a = document.createElement('a');\n",
              "      a.href = window.URL.createObjectURL(blob);\n",
              "      a.download = filename;\n",
              "      div.appendChild(a);\n",
              "      a.click();\n",
              "      div.remove();\n",
              "    }\n",
              "  "
            ]
          },
          "metadata": {}
        },
        {
          "output_type": "display_data",
          "data": {
            "text/plain": [
              "<IPython.core.display.Javascript object>"
            ],
            "application/javascript": [
              "download(\"download_c44f2f12-649c-4bcb-b63f-904d58e0128e\", \"32x32_pca-0.3.csv\", 86154)"
            ]
          },
          "metadata": {}
        },
        {
          "output_type": "stream",
          "name": "stdout",
          "text": [
            "hog de 32x32 e pca de 0.35\n",
            "shape: (800, 7)\n",
            "\n"
          ]
        },
        {
          "output_type": "display_data",
          "data": {
            "text/plain": [
              "<IPython.core.display.Javascript object>"
            ],
            "application/javascript": [
              "\n",
              "    async function download(id, filename, size) {\n",
              "      if (!google.colab.kernel.accessAllowed) {\n",
              "        return;\n",
              "      }\n",
              "      const div = document.createElement('div');\n",
              "      const label = document.createElement('label');\n",
              "      label.textContent = `Downloading \"${filename}\": `;\n",
              "      div.appendChild(label);\n",
              "      const progress = document.createElement('progress');\n",
              "      progress.max = size;\n",
              "      div.appendChild(progress);\n",
              "      document.body.appendChild(div);\n",
              "\n",
              "      const buffers = [];\n",
              "      let downloaded = 0;\n",
              "\n",
              "      const channel = await google.colab.kernel.comms.open(id);\n",
              "      // Send a message to notify the kernel that we're ready.\n",
              "      channel.send({})\n",
              "\n",
              "      for await (const message of channel.messages) {\n",
              "        // Send a message to notify the kernel that we're ready.\n",
              "        channel.send({})\n",
              "        if (message.buffers) {\n",
              "          for (const buffer of message.buffers) {\n",
              "            buffers.push(buffer);\n",
              "            downloaded += buffer.byteLength;\n",
              "            progress.value = downloaded;\n",
              "          }\n",
              "        }\n",
              "      }\n",
              "      const blob = new Blob(buffers, {type: 'application/binary'});\n",
              "      const a = document.createElement('a');\n",
              "      a.href = window.URL.createObjectURL(blob);\n",
              "      a.download = filename;\n",
              "      div.appendChild(a);\n",
              "      a.click();\n",
              "      div.remove();\n",
              "    }\n",
              "  "
            ]
          },
          "metadata": {}
        },
        {
          "output_type": "display_data",
          "data": {
            "text/plain": [
              "<IPython.core.display.Javascript object>"
            ],
            "application/javascript": [
              "download(\"download_faeb24ca-a820-466f-b058-1dd76d6d5785\", \"32x32_pca-0.35.csv\", 117644)"
            ]
          },
          "metadata": {}
        },
        {
          "output_type": "stream",
          "name": "stdout",
          "text": [
            "hog de 32x32 e pca de 0.4\n",
            "shape: (800, 8)\n",
            "\n"
          ]
        },
        {
          "output_type": "display_data",
          "data": {
            "text/plain": [
              "<IPython.core.display.Javascript object>"
            ],
            "application/javascript": [
              "\n",
              "    async function download(id, filename, size) {\n",
              "      if (!google.colab.kernel.accessAllowed) {\n",
              "        return;\n",
              "      }\n",
              "      const div = document.createElement('div');\n",
              "      const label = document.createElement('label');\n",
              "      label.textContent = `Downloading \"${filename}\": `;\n",
              "      div.appendChild(label);\n",
              "      const progress = document.createElement('progress');\n",
              "      progress.max = size;\n",
              "      div.appendChild(progress);\n",
              "      document.body.appendChild(div);\n",
              "\n",
              "      const buffers = [];\n",
              "      let downloaded = 0;\n",
              "\n",
              "      const channel = await google.colab.kernel.comms.open(id);\n",
              "      // Send a message to notify the kernel that we're ready.\n",
              "      channel.send({})\n",
              "\n",
              "      for await (const message of channel.messages) {\n",
              "        // Send a message to notify the kernel that we're ready.\n",
              "        channel.send({})\n",
              "        if (message.buffers) {\n",
              "          for (const buffer of message.buffers) {\n",
              "            buffers.push(buffer);\n",
              "            downloaded += buffer.byteLength;\n",
              "            progress.value = downloaded;\n",
              "          }\n",
              "        }\n",
              "      }\n",
              "      const blob = new Blob(buffers, {type: 'application/binary'});\n",
              "      const a = document.createElement('a');\n",
              "      a.href = window.URL.createObjectURL(blob);\n",
              "      a.download = filename;\n",
              "      div.appendChild(a);\n",
              "      a.click();\n",
              "      div.remove();\n",
              "    }\n",
              "  "
            ]
          },
          "metadata": {}
        },
        {
          "output_type": "display_data",
          "data": {
            "text/plain": [
              "<IPython.core.display.Javascript object>"
            ],
            "application/javascript": [
              "download(\"download_0cc49aaa-88a5-4cf4-b033-23c466f34f0a\", \"32x32_pca-0.4.csv\", 133377)"
            ]
          },
          "metadata": {}
        },
        {
          "output_type": "stream",
          "name": "stdout",
          "text": [
            "hog de 32x32 e pca de 0.45\n",
            "shape: (800, 10)\n",
            "\n"
          ]
        },
        {
          "output_type": "display_data",
          "data": {
            "text/plain": [
              "<IPython.core.display.Javascript object>"
            ],
            "application/javascript": [
              "\n",
              "    async function download(id, filename, size) {\n",
              "      if (!google.colab.kernel.accessAllowed) {\n",
              "        return;\n",
              "      }\n",
              "      const div = document.createElement('div');\n",
              "      const label = document.createElement('label');\n",
              "      label.textContent = `Downloading \"${filename}\": `;\n",
              "      div.appendChild(label);\n",
              "      const progress = document.createElement('progress');\n",
              "      progress.max = size;\n",
              "      div.appendChild(progress);\n",
              "      document.body.appendChild(div);\n",
              "\n",
              "      const buffers = [];\n",
              "      let downloaded = 0;\n",
              "\n",
              "      const channel = await google.colab.kernel.comms.open(id);\n",
              "      // Send a message to notify the kernel that we're ready.\n",
              "      channel.send({})\n",
              "\n",
              "      for await (const message of channel.messages) {\n",
              "        // Send a message to notify the kernel that we're ready.\n",
              "        channel.send({})\n",
              "        if (message.buffers) {\n",
              "          for (const buffer of message.buffers) {\n",
              "            buffers.push(buffer);\n",
              "            downloaded += buffer.byteLength;\n",
              "            progress.value = downloaded;\n",
              "          }\n",
              "        }\n",
              "      }\n",
              "      const blob = new Blob(buffers, {type: 'application/binary'});\n",
              "      const a = document.createElement('a');\n",
              "      a.href = window.URL.createObjectURL(blob);\n",
              "      a.download = filename;\n",
              "      div.appendChild(a);\n",
              "      a.click();\n",
              "      div.remove();\n",
              "    }\n",
              "  "
            ]
          },
          "metadata": {}
        },
        {
          "output_type": "display_data",
          "data": {
            "text/plain": [
              "<IPython.core.display.Javascript object>"
            ],
            "application/javascript": [
              "download(\"download_e4d53f0f-f765-4cb3-a44d-8e77d697e3ed\", \"32x32_pca-0.45.csv\", 164857)"
            ]
          },
          "metadata": {}
        },
        {
          "output_type": "stream",
          "name": "stdout",
          "text": [
            "hog de 32x32 e pca de 0.5\n",
            "shape: (800, 12)\n",
            "\n"
          ]
        },
        {
          "output_type": "display_data",
          "data": {
            "text/plain": [
              "<IPython.core.display.Javascript object>"
            ],
            "application/javascript": [
              "\n",
              "    async function download(id, filename, size) {\n",
              "      if (!google.colab.kernel.accessAllowed) {\n",
              "        return;\n",
              "      }\n",
              "      const div = document.createElement('div');\n",
              "      const label = document.createElement('label');\n",
              "      label.textContent = `Downloading \"${filename}\": `;\n",
              "      div.appendChild(label);\n",
              "      const progress = document.createElement('progress');\n",
              "      progress.max = size;\n",
              "      div.appendChild(progress);\n",
              "      document.body.appendChild(div);\n",
              "\n",
              "      const buffers = [];\n",
              "      let downloaded = 0;\n",
              "\n",
              "      const channel = await google.colab.kernel.comms.open(id);\n",
              "      // Send a message to notify the kernel that we're ready.\n",
              "      channel.send({})\n",
              "\n",
              "      for await (const message of channel.messages) {\n",
              "        // Send a message to notify the kernel that we're ready.\n",
              "        channel.send({})\n",
              "        if (message.buffers) {\n",
              "          for (const buffer of message.buffers) {\n",
              "            buffers.push(buffer);\n",
              "            downloaded += buffer.byteLength;\n",
              "            progress.value = downloaded;\n",
              "          }\n",
              "        }\n",
              "      }\n",
              "      const blob = new Blob(buffers, {type: 'application/binary'});\n",
              "      const a = document.createElement('a');\n",
              "      a.href = window.URL.createObjectURL(blob);\n",
              "      a.download = filename;\n",
              "      div.appendChild(a);\n",
              "      a.click();\n",
              "      div.remove();\n",
              "    }\n",
              "  "
            ]
          },
          "metadata": {}
        },
        {
          "output_type": "display_data",
          "data": {
            "text/plain": [
              "<IPython.core.display.Javascript object>"
            ],
            "application/javascript": [
              "download(\"download_779e0497-508b-42b6-942a-7cbd98a83912\", \"32x32_pca-0.5.csv\", 196289)"
            ]
          },
          "metadata": {}
        },
        {
          "output_type": "stream",
          "name": "stdout",
          "text": [
            "hog de 32x32 e pca de 0.55\n",
            "shape: (800, 15)\n",
            "\n"
          ]
        },
        {
          "output_type": "display_data",
          "data": {
            "text/plain": [
              "<IPython.core.display.Javascript object>"
            ],
            "application/javascript": [
              "\n",
              "    async function download(id, filename, size) {\n",
              "      if (!google.colab.kernel.accessAllowed) {\n",
              "        return;\n",
              "      }\n",
              "      const div = document.createElement('div');\n",
              "      const label = document.createElement('label');\n",
              "      label.textContent = `Downloading \"${filename}\": `;\n",
              "      div.appendChild(label);\n",
              "      const progress = document.createElement('progress');\n",
              "      progress.max = size;\n",
              "      div.appendChild(progress);\n",
              "      document.body.appendChild(div);\n",
              "\n",
              "      const buffers = [];\n",
              "      let downloaded = 0;\n",
              "\n",
              "      const channel = await google.colab.kernel.comms.open(id);\n",
              "      // Send a message to notify the kernel that we're ready.\n",
              "      channel.send({})\n",
              "\n",
              "      for await (const message of channel.messages) {\n",
              "        // Send a message to notify the kernel that we're ready.\n",
              "        channel.send({})\n",
              "        if (message.buffers) {\n",
              "          for (const buffer of message.buffers) {\n",
              "            buffers.push(buffer);\n",
              "            downloaded += buffer.byteLength;\n",
              "            progress.value = downloaded;\n",
              "          }\n",
              "        }\n",
              "      }\n",
              "      const blob = new Blob(buffers, {type: 'application/binary'});\n",
              "      const a = document.createElement('a');\n",
              "      a.href = window.URL.createObjectURL(blob);\n",
              "      a.download = filename;\n",
              "      div.appendChild(a);\n",
              "      a.click();\n",
              "      div.remove();\n",
              "    }\n",
              "  "
            ]
          },
          "metadata": {}
        },
        {
          "output_type": "display_data",
          "data": {
            "text/plain": [
              "<IPython.core.display.Javascript object>"
            ],
            "application/javascript": [
              "download(\"download_0cb39bc8-b3ad-478a-a7e1-c0a057b15467\", \"32x32_pca-0.55.csv\", 243527)"
            ]
          },
          "metadata": {}
        },
        {
          "output_type": "stream",
          "name": "stdout",
          "text": [
            "hog de 32x32 e pca de 0.6\n",
            "shape: (800, 18)\n",
            "\n"
          ]
        },
        {
          "output_type": "display_data",
          "data": {
            "text/plain": [
              "<IPython.core.display.Javascript object>"
            ],
            "application/javascript": [
              "\n",
              "    async function download(id, filename, size) {\n",
              "      if (!google.colab.kernel.accessAllowed) {\n",
              "        return;\n",
              "      }\n",
              "      const div = document.createElement('div');\n",
              "      const label = document.createElement('label');\n",
              "      label.textContent = `Downloading \"${filename}\": `;\n",
              "      div.appendChild(label);\n",
              "      const progress = document.createElement('progress');\n",
              "      progress.max = size;\n",
              "      div.appendChild(progress);\n",
              "      document.body.appendChild(div);\n",
              "\n",
              "      const buffers = [];\n",
              "      let downloaded = 0;\n",
              "\n",
              "      const channel = await google.colab.kernel.comms.open(id);\n",
              "      // Send a message to notify the kernel that we're ready.\n",
              "      channel.send({})\n",
              "\n",
              "      for await (const message of channel.messages) {\n",
              "        // Send a message to notify the kernel that we're ready.\n",
              "        channel.send({})\n",
              "        if (message.buffers) {\n",
              "          for (const buffer of message.buffers) {\n",
              "            buffers.push(buffer);\n",
              "            downloaded += buffer.byteLength;\n",
              "            progress.value = downloaded;\n",
              "          }\n",
              "        }\n",
              "      }\n",
              "      const blob = new Blob(buffers, {type: 'application/binary'});\n",
              "      const a = document.createElement('a');\n",
              "      a.href = window.URL.createObjectURL(blob);\n",
              "      a.download = filename;\n",
              "      div.appendChild(a);\n",
              "      a.click();\n",
              "      div.remove();\n",
              "    }\n",
              "  "
            ]
          },
          "metadata": {}
        },
        {
          "output_type": "display_data",
          "data": {
            "text/plain": [
              "<IPython.core.display.Javascript object>"
            ],
            "application/javascript": [
              "download(\"download_f21e36d5-dfb0-43b8-b4ba-83561cc53c08\", \"32x32_pca-0.6.csv\", 290711)"
            ]
          },
          "metadata": {}
        },
        {
          "output_type": "stream",
          "name": "stdout",
          "text": [
            "hog de 32x32 e pca de 0.65\n",
            "shape: (800, 22)\n",
            "\n"
          ]
        },
        {
          "output_type": "display_data",
          "data": {
            "text/plain": [
              "<IPython.core.display.Javascript object>"
            ],
            "application/javascript": [
              "\n",
              "    async function download(id, filename, size) {\n",
              "      if (!google.colab.kernel.accessAllowed) {\n",
              "        return;\n",
              "      }\n",
              "      const div = document.createElement('div');\n",
              "      const label = document.createElement('label');\n",
              "      label.textContent = `Downloading \"${filename}\": `;\n",
              "      div.appendChild(label);\n",
              "      const progress = document.createElement('progress');\n",
              "      progress.max = size;\n",
              "      div.appendChild(progress);\n",
              "      document.body.appendChild(div);\n",
              "\n",
              "      const buffers = [];\n",
              "      let downloaded = 0;\n",
              "\n",
              "      const channel = await google.colab.kernel.comms.open(id);\n",
              "      // Send a message to notify the kernel that we're ready.\n",
              "      channel.send({})\n",
              "\n",
              "      for await (const message of channel.messages) {\n",
              "        // Send a message to notify the kernel that we're ready.\n",
              "        channel.send({})\n",
              "        if (message.buffers) {\n",
              "          for (const buffer of message.buffers) {\n",
              "            buffers.push(buffer);\n",
              "            downloaded += buffer.byteLength;\n",
              "            progress.value = downloaded;\n",
              "          }\n",
              "        }\n",
              "      }\n",
              "      const blob = new Blob(buffers, {type: 'application/binary'});\n",
              "      const a = document.createElement('a');\n",
              "      a.href = window.URL.createObjectURL(blob);\n",
              "      a.download = filename;\n",
              "      div.appendChild(a);\n",
              "      a.click();\n",
              "      div.remove();\n",
              "    }\n",
              "  "
            ]
          },
          "metadata": {}
        },
        {
          "output_type": "display_data",
          "data": {
            "text/plain": [
              "<IPython.core.display.Javascript object>"
            ],
            "application/javascript": [
              "download(\"download_7c3550e6-787b-46c2-9372-dedd6ab1453c\", \"32x32_pca-0.65.csv\", 353663)"
            ]
          },
          "metadata": {}
        },
        {
          "output_type": "stream",
          "name": "stdout",
          "text": [
            "hog de 32x32 e pca de 0.7\n",
            "shape: (800, 26)\n",
            "\n"
          ]
        },
        {
          "output_type": "display_data",
          "data": {
            "text/plain": [
              "<IPython.core.display.Javascript object>"
            ],
            "application/javascript": [
              "\n",
              "    async function download(id, filename, size) {\n",
              "      if (!google.colab.kernel.accessAllowed) {\n",
              "        return;\n",
              "      }\n",
              "      const div = document.createElement('div');\n",
              "      const label = document.createElement('label');\n",
              "      label.textContent = `Downloading \"${filename}\": `;\n",
              "      div.appendChild(label);\n",
              "      const progress = document.createElement('progress');\n",
              "      progress.max = size;\n",
              "      div.appendChild(progress);\n",
              "      document.body.appendChild(div);\n",
              "\n",
              "      const buffers = [];\n",
              "      let downloaded = 0;\n",
              "\n",
              "      const channel = await google.colab.kernel.comms.open(id);\n",
              "      // Send a message to notify the kernel that we're ready.\n",
              "      channel.send({})\n",
              "\n",
              "      for await (const message of channel.messages) {\n",
              "        // Send a message to notify the kernel that we're ready.\n",
              "        channel.send({})\n",
              "        if (message.buffers) {\n",
              "          for (const buffer of message.buffers) {\n",
              "            buffers.push(buffer);\n",
              "            downloaded += buffer.byteLength;\n",
              "            progress.value = downloaded;\n",
              "          }\n",
              "        }\n",
              "      }\n",
              "      const blob = new Blob(buffers, {type: 'application/binary'});\n",
              "      const a = document.createElement('a');\n",
              "      a.href = window.URL.createObjectURL(blob);\n",
              "      a.download = filename;\n",
              "      div.appendChild(a);\n",
              "      a.click();\n",
              "      div.remove();\n",
              "    }\n",
              "  "
            ]
          },
          "metadata": {}
        },
        {
          "output_type": "display_data",
          "data": {
            "text/plain": [
              "<IPython.core.display.Javascript object>"
            ],
            "application/javascript": [
              "download(\"download_9eab4f8d-0451-4fc6-bac4-5275d3bc2dd9\", \"32x32_pca-0.7.csv\", 416553)"
            ]
          },
          "metadata": {}
        },
        {
          "output_type": "stream",
          "name": "stdout",
          "text": [
            "hog de 32x32 e pca de 0.75\n",
            "shape: (800, 32)\n",
            "\n"
          ]
        },
        {
          "output_type": "display_data",
          "data": {
            "text/plain": [
              "<IPython.core.display.Javascript object>"
            ],
            "application/javascript": [
              "\n",
              "    async function download(id, filename, size) {\n",
              "      if (!google.colab.kernel.accessAllowed) {\n",
              "        return;\n",
              "      }\n",
              "      const div = document.createElement('div');\n",
              "      const label = document.createElement('label');\n",
              "      label.textContent = `Downloading \"${filename}\": `;\n",
              "      div.appendChild(label);\n",
              "      const progress = document.createElement('progress');\n",
              "      progress.max = size;\n",
              "      div.appendChild(progress);\n",
              "      document.body.appendChild(div);\n",
              "\n",
              "      const buffers = [];\n",
              "      let downloaded = 0;\n",
              "\n",
              "      const channel = await google.colab.kernel.comms.open(id);\n",
              "      // Send a message to notify the kernel that we're ready.\n",
              "      channel.send({})\n",
              "\n",
              "      for await (const message of channel.messages) {\n",
              "        // Send a message to notify the kernel that we're ready.\n",
              "        channel.send({})\n",
              "        if (message.buffers) {\n",
              "          for (const buffer of message.buffers) {\n",
              "            buffers.push(buffer);\n",
              "            downloaded += buffer.byteLength;\n",
              "            progress.value = downloaded;\n",
              "          }\n",
              "        }\n",
              "      }\n",
              "      const blob = new Blob(buffers, {type: 'application/binary'});\n",
              "      const a = document.createElement('a');\n",
              "      a.href = window.URL.createObjectURL(blob);\n",
              "      a.download = filename;\n",
              "      div.appendChild(a);\n",
              "      a.click();\n",
              "      div.remove();\n",
              "    }\n",
              "  "
            ]
          },
          "metadata": {}
        },
        {
          "output_type": "display_data",
          "data": {
            "text/plain": [
              "<IPython.core.display.Javascript object>"
            ],
            "application/javascript": [
              "download(\"download_991a82e0-59ea-45dd-acb5-42a0fba4c2ef\", \"32x32_pca-0.75.csv\", 510948)"
            ]
          },
          "metadata": {}
        },
        {
          "output_type": "stream",
          "name": "stdout",
          "text": [
            "hog de 32x32 e pca de 0.8\n",
            "shape: (800, 39)\n",
            "\n"
          ]
        },
        {
          "output_type": "display_data",
          "data": {
            "text/plain": [
              "<IPython.core.display.Javascript object>"
            ],
            "application/javascript": [
              "\n",
              "    async function download(id, filename, size) {\n",
              "      if (!google.colab.kernel.accessAllowed) {\n",
              "        return;\n",
              "      }\n",
              "      const div = document.createElement('div');\n",
              "      const label = document.createElement('label');\n",
              "      label.textContent = `Downloading \"${filename}\": `;\n",
              "      div.appendChild(label);\n",
              "      const progress = document.createElement('progress');\n",
              "      progress.max = size;\n",
              "      div.appendChild(progress);\n",
              "      document.body.appendChild(div);\n",
              "\n",
              "      const buffers = [];\n",
              "      let downloaded = 0;\n",
              "\n",
              "      const channel = await google.colab.kernel.comms.open(id);\n",
              "      // Send a message to notify the kernel that we're ready.\n",
              "      channel.send({})\n",
              "\n",
              "      for await (const message of channel.messages) {\n",
              "        // Send a message to notify the kernel that we're ready.\n",
              "        channel.send({})\n",
              "        if (message.buffers) {\n",
              "          for (const buffer of message.buffers) {\n",
              "            buffers.push(buffer);\n",
              "            downloaded += buffer.byteLength;\n",
              "            progress.value = downloaded;\n",
              "          }\n",
              "        }\n",
              "      }\n",
              "      const blob = new Blob(buffers, {type: 'application/binary'});\n",
              "      const a = document.createElement('a');\n",
              "      a.href = window.URL.createObjectURL(blob);\n",
              "      a.download = filename;\n",
              "      div.appendChild(a);\n",
              "      a.click();\n",
              "      div.remove();\n",
              "    }\n",
              "  "
            ]
          },
          "metadata": {}
        },
        {
          "output_type": "display_data",
          "data": {
            "text/plain": [
              "<IPython.core.display.Javascript object>"
            ],
            "application/javascript": [
              "download(\"download_596809ca-5ac9-4d35-92f3-8a10c7af5c74\", \"32x32_pca-0.8.csv\", 621075)"
            ]
          },
          "metadata": {}
        },
        {
          "output_type": "stream",
          "name": "stdout",
          "text": [
            "hog de 32x32 e pca de 0.85\n",
            "shape: (800, 49)\n",
            "\n"
          ]
        },
        {
          "output_type": "display_data",
          "data": {
            "text/plain": [
              "<IPython.core.display.Javascript object>"
            ],
            "application/javascript": [
              "\n",
              "    async function download(id, filename, size) {\n",
              "      if (!google.colab.kernel.accessAllowed) {\n",
              "        return;\n",
              "      }\n",
              "      const div = document.createElement('div');\n",
              "      const label = document.createElement('label');\n",
              "      label.textContent = `Downloading \"${filename}\": `;\n",
              "      div.appendChild(label);\n",
              "      const progress = document.createElement('progress');\n",
              "      progress.max = size;\n",
              "      div.appendChild(progress);\n",
              "      document.body.appendChild(div);\n",
              "\n",
              "      const buffers = [];\n",
              "      let downloaded = 0;\n",
              "\n",
              "      const channel = await google.colab.kernel.comms.open(id);\n",
              "      // Send a message to notify the kernel that we're ready.\n",
              "      channel.send({})\n",
              "\n",
              "      for await (const message of channel.messages) {\n",
              "        // Send a message to notify the kernel that we're ready.\n",
              "        channel.send({})\n",
              "        if (message.buffers) {\n",
              "          for (const buffer of message.buffers) {\n",
              "            buffers.push(buffer);\n",
              "            downloaded += buffer.byteLength;\n",
              "            progress.value = downloaded;\n",
              "          }\n",
              "        }\n",
              "      }\n",
              "      const blob = new Blob(buffers, {type: 'application/binary'});\n",
              "      const a = document.createElement('a');\n",
              "      a.href = window.URL.createObjectURL(blob);\n",
              "      a.download = filename;\n",
              "      div.appendChild(a);\n",
              "      a.click();\n",
              "      div.remove();\n",
              "    }\n",
              "  "
            ]
          },
          "metadata": {}
        },
        {
          "output_type": "display_data",
          "data": {
            "text/plain": [
              "<IPython.core.display.Javascript object>"
            ],
            "application/javascript": [
              "download(\"download_c5416d65-838d-41a4-bd68-e32a3a95526a\", \"32x32_pca-0.85.csv\", 778436)"
            ]
          },
          "metadata": {}
        },
        {
          "output_type": "stream",
          "name": "stdout",
          "text": [
            "hog de 32x32 e pca de 0.9\n",
            "shape: (800, 64)\n",
            "\n"
          ]
        },
        {
          "output_type": "display_data",
          "data": {
            "text/plain": [
              "<IPython.core.display.Javascript object>"
            ],
            "application/javascript": [
              "\n",
              "    async function download(id, filename, size) {\n",
              "      if (!google.colab.kernel.accessAllowed) {\n",
              "        return;\n",
              "      }\n",
              "      const div = document.createElement('div');\n",
              "      const label = document.createElement('label');\n",
              "      label.textContent = `Downloading \"${filename}\": `;\n",
              "      div.appendChild(label);\n",
              "      const progress = document.createElement('progress');\n",
              "      progress.max = size;\n",
              "      div.appendChild(progress);\n",
              "      document.body.appendChild(div);\n",
              "\n",
              "      const buffers = [];\n",
              "      let downloaded = 0;\n",
              "\n",
              "      const channel = await google.colab.kernel.comms.open(id);\n",
              "      // Send a message to notify the kernel that we're ready.\n",
              "      channel.send({})\n",
              "\n",
              "      for await (const message of channel.messages) {\n",
              "        // Send a message to notify the kernel that we're ready.\n",
              "        channel.send({})\n",
              "        if (message.buffers) {\n",
              "          for (const buffer of message.buffers) {\n",
              "            buffers.push(buffer);\n",
              "            downloaded += buffer.byteLength;\n",
              "            progress.value = downloaded;\n",
              "          }\n",
              "        }\n",
              "      }\n",
              "      const blob = new Blob(buffers, {type: 'application/binary'});\n",
              "      const a = document.createElement('a');\n",
              "      a.href = window.URL.createObjectURL(blob);\n",
              "      a.download = filename;\n",
              "      div.appendChild(a);\n",
              "      a.click();\n",
              "      div.remove();\n",
              "    }\n",
              "  "
            ]
          },
          "metadata": {}
        },
        {
          "output_type": "display_data",
          "data": {
            "text/plain": [
              "<IPython.core.display.Javascript object>"
            ],
            "application/javascript": [
              "download(\"download_faa71526-9269-4c3a-8b4a-ebdfce410a36\", \"32x32_pca-0.9.csv\", 1014417)"
            ]
          },
          "metadata": {}
        },
        {
          "output_type": "stream",
          "name": "stdout",
          "text": [
            "hog de 32x32 e pca de 0.95\n",
            "shape: (800, 92)\n",
            "\n"
          ]
        },
        {
          "output_type": "display_data",
          "data": {
            "text/plain": [
              "<IPython.core.display.Javascript object>"
            ],
            "application/javascript": [
              "\n",
              "    async function download(id, filename, size) {\n",
              "      if (!google.colab.kernel.accessAllowed) {\n",
              "        return;\n",
              "      }\n",
              "      const div = document.createElement('div');\n",
              "      const label = document.createElement('label');\n",
              "      label.textContent = `Downloading \"${filename}\": `;\n",
              "      div.appendChild(label);\n",
              "      const progress = document.createElement('progress');\n",
              "      progress.max = size;\n",
              "      div.appendChild(progress);\n",
              "      document.body.appendChild(div);\n",
              "\n",
              "      const buffers = [];\n",
              "      let downloaded = 0;\n",
              "\n",
              "      const channel = await google.colab.kernel.comms.open(id);\n",
              "      // Send a message to notify the kernel that we're ready.\n",
              "      channel.send({})\n",
              "\n",
              "      for await (const message of channel.messages) {\n",
              "        // Send a message to notify the kernel that we're ready.\n",
              "        channel.send({})\n",
              "        if (message.buffers) {\n",
              "          for (const buffer of message.buffers) {\n",
              "            buffers.push(buffer);\n",
              "            downloaded += buffer.byteLength;\n",
              "            progress.value = downloaded;\n",
              "          }\n",
              "        }\n",
              "      }\n",
              "      const blob = new Blob(buffers, {type: 'application/binary'});\n",
              "      const a = document.createElement('a');\n",
              "      a.href = window.URL.createObjectURL(blob);\n",
              "      a.download = filename;\n",
              "      div.appendChild(a);\n",
              "      a.click();\n",
              "      div.remove();\n",
              "    }\n",
              "  "
            ]
          },
          "metadata": {}
        },
        {
          "output_type": "display_data",
          "data": {
            "text/plain": [
              "<IPython.core.display.Javascript object>"
            ],
            "application/javascript": [
              "download(\"download_82b62775-b07f-4798-99f7-8bbeed3c98a4\", \"32x32_pca-0.95.csv\", 1454769)"
            ]
          },
          "metadata": {}
        },
        {
          "output_type": "stream",
          "name": "stdout",
          "text": [
            "hog de 40x40 e pca de 0.1\n",
            "shape: (800, 1)\n",
            "\n"
          ]
        },
        {
          "output_type": "display_data",
          "data": {
            "text/plain": [
              "<IPython.core.display.Javascript object>"
            ],
            "application/javascript": [
              "\n",
              "    async function download(id, filename, size) {\n",
              "      if (!google.colab.kernel.accessAllowed) {\n",
              "        return;\n",
              "      }\n",
              "      const div = document.createElement('div');\n",
              "      const label = document.createElement('label');\n",
              "      label.textContent = `Downloading \"${filename}\": `;\n",
              "      div.appendChild(label);\n",
              "      const progress = document.createElement('progress');\n",
              "      progress.max = size;\n",
              "      div.appendChild(progress);\n",
              "      document.body.appendChild(div);\n",
              "\n",
              "      const buffers = [];\n",
              "      let downloaded = 0;\n",
              "\n",
              "      const channel = await google.colab.kernel.comms.open(id);\n",
              "      // Send a message to notify the kernel that we're ready.\n",
              "      channel.send({})\n",
              "\n",
              "      for await (const message of channel.messages) {\n",
              "        // Send a message to notify the kernel that we're ready.\n",
              "        channel.send({})\n",
              "        if (message.buffers) {\n",
              "          for (const buffer of message.buffers) {\n",
              "            buffers.push(buffer);\n",
              "            downloaded += buffer.byteLength;\n",
              "            progress.value = downloaded;\n",
              "          }\n",
              "        }\n",
              "      }\n",
              "      const blob = new Blob(buffers, {type: 'application/binary'});\n",
              "      const a = document.createElement('a');\n",
              "      a.href = window.URL.createObjectURL(blob);\n",
              "      a.download = filename;\n",
              "      div.appendChild(a);\n",
              "      a.click();\n",
              "      div.remove();\n",
              "    }\n",
              "  "
            ]
          },
          "metadata": {}
        },
        {
          "output_type": "display_data",
          "data": {
            "text/plain": [
              "<IPython.core.display.Javascript object>"
            ],
            "application/javascript": [
              "download(\"download_fdd58c66-bbd0-42cc-8b24-0b233aff7c96\", \"40x40_pca-0.1.csv\", 23316)"
            ]
          },
          "metadata": {}
        },
        {
          "output_type": "stream",
          "name": "stdout",
          "text": [
            "hog de 40x40 e pca de 0.15\n",
            "shape: (800, 1)\n",
            "\n"
          ]
        },
        {
          "output_type": "display_data",
          "data": {
            "text/plain": [
              "<IPython.core.display.Javascript object>"
            ],
            "application/javascript": [
              "\n",
              "    async function download(id, filename, size) {\n",
              "      if (!google.colab.kernel.accessAllowed) {\n",
              "        return;\n",
              "      }\n",
              "      const div = document.createElement('div');\n",
              "      const label = document.createElement('label');\n",
              "      label.textContent = `Downloading \"${filename}\": `;\n",
              "      div.appendChild(label);\n",
              "      const progress = document.createElement('progress');\n",
              "      progress.max = size;\n",
              "      div.appendChild(progress);\n",
              "      document.body.appendChild(div);\n",
              "\n",
              "      const buffers = [];\n",
              "      let downloaded = 0;\n",
              "\n",
              "      const channel = await google.colab.kernel.comms.open(id);\n",
              "      // Send a message to notify the kernel that we're ready.\n",
              "      channel.send({})\n",
              "\n",
              "      for await (const message of channel.messages) {\n",
              "        // Send a message to notify the kernel that we're ready.\n",
              "        channel.send({})\n",
              "        if (message.buffers) {\n",
              "          for (const buffer of message.buffers) {\n",
              "            buffers.push(buffer);\n",
              "            downloaded += buffer.byteLength;\n",
              "            progress.value = downloaded;\n",
              "          }\n",
              "        }\n",
              "      }\n",
              "      const blob = new Blob(buffers, {type: 'application/binary'});\n",
              "      const a = document.createElement('a');\n",
              "      a.href = window.URL.createObjectURL(blob);\n",
              "      a.download = filename;\n",
              "      div.appendChild(a);\n",
              "      a.click();\n",
              "      div.remove();\n",
              "    }\n",
              "  "
            ]
          },
          "metadata": {}
        },
        {
          "output_type": "display_data",
          "data": {
            "text/plain": [
              "<IPython.core.display.Javascript object>"
            ],
            "application/javascript": [
              "download(\"download_eb6b1a89-ee7e-4ddd-bf4b-93afc62ba310\", \"40x40_pca-0.15.csv\", 23316)"
            ]
          },
          "metadata": {}
        },
        {
          "output_type": "stream",
          "name": "stdout",
          "text": [
            "hog de 40x40 e pca de 0.2\n",
            "shape: (800, 2)\n",
            "\n"
          ]
        },
        {
          "output_type": "display_data",
          "data": {
            "text/plain": [
              "<IPython.core.display.Javascript object>"
            ],
            "application/javascript": [
              "\n",
              "    async function download(id, filename, size) {\n",
              "      if (!google.colab.kernel.accessAllowed) {\n",
              "        return;\n",
              "      }\n",
              "      const div = document.createElement('div');\n",
              "      const label = document.createElement('label');\n",
              "      label.textContent = `Downloading \"${filename}\": `;\n",
              "      div.appendChild(label);\n",
              "      const progress = document.createElement('progress');\n",
              "      progress.max = size;\n",
              "      div.appendChild(progress);\n",
              "      document.body.appendChild(div);\n",
              "\n",
              "      const buffers = [];\n",
              "      let downloaded = 0;\n",
              "\n",
              "      const channel = await google.colab.kernel.comms.open(id);\n",
              "      // Send a message to notify the kernel that we're ready.\n",
              "      channel.send({})\n",
              "\n",
              "      for await (const message of channel.messages) {\n",
              "        // Send a message to notify the kernel that we're ready.\n",
              "        channel.send({})\n",
              "        if (message.buffers) {\n",
              "          for (const buffer of message.buffers) {\n",
              "            buffers.push(buffer);\n",
              "            downloaded += buffer.byteLength;\n",
              "            progress.value = downloaded;\n",
              "          }\n",
              "        }\n",
              "      }\n",
              "      const blob = new Blob(buffers, {type: 'application/binary'});\n",
              "      const a = document.createElement('a');\n",
              "      a.href = window.URL.createObjectURL(blob);\n",
              "      a.download = filename;\n",
              "      div.appendChild(a);\n",
              "      a.click();\n",
              "      div.remove();\n",
              "    }\n",
              "  "
            ]
          },
          "metadata": {}
        },
        {
          "output_type": "display_data",
          "data": {
            "text/plain": [
              "<IPython.core.display.Javascript object>"
            ],
            "application/javascript": [
              "download(\"download_eef3391e-0a2f-4b4a-b376-68ce4994d9cd\", \"40x40_pca-0.2.csv\", 39009)"
            ]
          },
          "metadata": {}
        },
        {
          "output_type": "stream",
          "name": "stdout",
          "text": [
            "hog de 40x40 e pca de 0.25\n",
            "shape: (800, 2)\n",
            "\n"
          ]
        },
        {
          "output_type": "display_data",
          "data": {
            "text/plain": [
              "<IPython.core.display.Javascript object>"
            ],
            "application/javascript": [
              "\n",
              "    async function download(id, filename, size) {\n",
              "      if (!google.colab.kernel.accessAllowed) {\n",
              "        return;\n",
              "      }\n",
              "      const div = document.createElement('div');\n",
              "      const label = document.createElement('label');\n",
              "      label.textContent = `Downloading \"${filename}\": `;\n",
              "      div.appendChild(label);\n",
              "      const progress = document.createElement('progress');\n",
              "      progress.max = size;\n",
              "      div.appendChild(progress);\n",
              "      document.body.appendChild(div);\n",
              "\n",
              "      const buffers = [];\n",
              "      let downloaded = 0;\n",
              "\n",
              "      const channel = await google.colab.kernel.comms.open(id);\n",
              "      // Send a message to notify the kernel that we're ready.\n",
              "      channel.send({})\n",
              "\n",
              "      for await (const message of channel.messages) {\n",
              "        // Send a message to notify the kernel that we're ready.\n",
              "        channel.send({})\n",
              "        if (message.buffers) {\n",
              "          for (const buffer of message.buffers) {\n",
              "            buffers.push(buffer);\n",
              "            downloaded += buffer.byteLength;\n",
              "            progress.value = downloaded;\n",
              "          }\n",
              "        }\n",
              "      }\n",
              "      const blob = new Blob(buffers, {type: 'application/binary'});\n",
              "      const a = document.createElement('a');\n",
              "      a.href = window.URL.createObjectURL(blob);\n",
              "      a.download = filename;\n",
              "      div.appendChild(a);\n",
              "      a.click();\n",
              "      div.remove();\n",
              "    }\n",
              "  "
            ]
          },
          "metadata": {}
        },
        {
          "output_type": "display_data",
          "data": {
            "text/plain": [
              "<IPython.core.display.Javascript object>"
            ],
            "application/javascript": [
              "download(\"download_2c6f0b89-3285-4a25-bfb3-cb68f376936c\", \"40x40_pca-0.25.csv\", 39009)"
            ]
          },
          "metadata": {}
        },
        {
          "output_type": "stream",
          "name": "stdout",
          "text": [
            "hog de 40x40 e pca de 0.3\n",
            "shape: (800, 3)\n",
            "\n"
          ]
        },
        {
          "output_type": "display_data",
          "data": {
            "text/plain": [
              "<IPython.core.display.Javascript object>"
            ],
            "application/javascript": [
              "\n",
              "    async function download(id, filename, size) {\n",
              "      if (!google.colab.kernel.accessAllowed) {\n",
              "        return;\n",
              "      }\n",
              "      const div = document.createElement('div');\n",
              "      const label = document.createElement('label');\n",
              "      label.textContent = `Downloading \"${filename}\": `;\n",
              "      div.appendChild(label);\n",
              "      const progress = document.createElement('progress');\n",
              "      progress.max = size;\n",
              "      div.appendChild(progress);\n",
              "      document.body.appendChild(div);\n",
              "\n",
              "      const buffers = [];\n",
              "      let downloaded = 0;\n",
              "\n",
              "      const channel = await google.colab.kernel.comms.open(id);\n",
              "      // Send a message to notify the kernel that we're ready.\n",
              "      channel.send({})\n",
              "\n",
              "      for await (const message of channel.messages) {\n",
              "        // Send a message to notify the kernel that we're ready.\n",
              "        channel.send({})\n",
              "        if (message.buffers) {\n",
              "          for (const buffer of message.buffers) {\n",
              "            buffers.push(buffer);\n",
              "            downloaded += buffer.byteLength;\n",
              "            progress.value = downloaded;\n",
              "          }\n",
              "        }\n",
              "      }\n",
              "      const blob = new Blob(buffers, {type: 'application/binary'});\n",
              "      const a = document.createElement('a');\n",
              "      a.href = window.URL.createObjectURL(blob);\n",
              "      a.download = filename;\n",
              "      div.appendChild(a);\n",
              "      a.click();\n",
              "      div.remove();\n",
              "    }\n",
              "  "
            ]
          },
          "metadata": {}
        },
        {
          "output_type": "display_data",
          "data": {
            "text/plain": [
              "<IPython.core.display.Javascript object>"
            ],
            "application/javascript": [
              "download(\"download_eb15db3d-8b84-461a-ba9c-504f22800ea3\", \"40x40_pca-0.3.csv\", 54762)"
            ]
          },
          "metadata": {}
        },
        {
          "output_type": "stream",
          "name": "stdout",
          "text": [
            "hog de 40x40 e pca de 0.35\n",
            "shape: (800, 4)\n",
            "\n"
          ]
        },
        {
          "output_type": "display_data",
          "data": {
            "text/plain": [
              "<IPython.core.display.Javascript object>"
            ],
            "application/javascript": [
              "\n",
              "    async function download(id, filename, size) {\n",
              "      if (!google.colab.kernel.accessAllowed) {\n",
              "        return;\n",
              "      }\n",
              "      const div = document.createElement('div');\n",
              "      const label = document.createElement('label');\n",
              "      label.textContent = `Downloading \"${filename}\": `;\n",
              "      div.appendChild(label);\n",
              "      const progress = document.createElement('progress');\n",
              "      progress.max = size;\n",
              "      div.appendChild(progress);\n",
              "      document.body.appendChild(div);\n",
              "\n",
              "      const buffers = [];\n",
              "      let downloaded = 0;\n",
              "\n",
              "      const channel = await google.colab.kernel.comms.open(id);\n",
              "      // Send a message to notify the kernel that we're ready.\n",
              "      channel.send({})\n",
              "\n",
              "      for await (const message of channel.messages) {\n",
              "        // Send a message to notify the kernel that we're ready.\n",
              "        channel.send({})\n",
              "        if (message.buffers) {\n",
              "          for (const buffer of message.buffers) {\n",
              "            buffers.push(buffer);\n",
              "            downloaded += buffer.byteLength;\n",
              "            progress.value = downloaded;\n",
              "          }\n",
              "        }\n",
              "      }\n",
              "      const blob = new Blob(buffers, {type: 'application/binary'});\n",
              "      const a = document.createElement('a');\n",
              "      a.href = window.URL.createObjectURL(blob);\n",
              "      a.download = filename;\n",
              "      div.appendChild(a);\n",
              "      a.click();\n",
              "      div.remove();\n",
              "    }\n",
              "  "
            ]
          },
          "metadata": {}
        },
        {
          "output_type": "display_data",
          "data": {
            "text/plain": [
              "<IPython.core.display.Javascript object>"
            ],
            "application/javascript": [
              "download(\"download_977f4951-f124-48f8-9323-fca5eca38c2b\", \"40x40_pca-0.35.csv\", 70486)"
            ]
          },
          "metadata": {}
        },
        {
          "output_type": "stream",
          "name": "stdout",
          "text": [
            "hog de 40x40 e pca de 0.4\n",
            "shape: (800, 5)\n",
            "\n"
          ]
        },
        {
          "output_type": "display_data",
          "data": {
            "text/plain": [
              "<IPython.core.display.Javascript object>"
            ],
            "application/javascript": [
              "\n",
              "    async function download(id, filename, size) {\n",
              "      if (!google.colab.kernel.accessAllowed) {\n",
              "        return;\n",
              "      }\n",
              "      const div = document.createElement('div');\n",
              "      const label = document.createElement('label');\n",
              "      label.textContent = `Downloading \"${filename}\": `;\n",
              "      div.appendChild(label);\n",
              "      const progress = document.createElement('progress');\n",
              "      progress.max = size;\n",
              "      div.appendChild(progress);\n",
              "      document.body.appendChild(div);\n",
              "\n",
              "      const buffers = [];\n",
              "      let downloaded = 0;\n",
              "\n",
              "      const channel = await google.colab.kernel.comms.open(id);\n",
              "      // Send a message to notify the kernel that we're ready.\n",
              "      channel.send({})\n",
              "\n",
              "      for await (const message of channel.messages) {\n",
              "        // Send a message to notify the kernel that we're ready.\n",
              "        channel.send({})\n",
              "        if (message.buffers) {\n",
              "          for (const buffer of message.buffers) {\n",
              "            buffers.push(buffer);\n",
              "            downloaded += buffer.byteLength;\n",
              "            progress.value = downloaded;\n",
              "          }\n",
              "        }\n",
              "      }\n",
              "      const blob = new Blob(buffers, {type: 'application/binary'});\n",
              "      const a = document.createElement('a');\n",
              "      a.href = window.URL.createObjectURL(blob);\n",
              "      a.download = filename;\n",
              "      div.appendChild(a);\n",
              "      a.click();\n",
              "      div.remove();\n",
              "    }\n",
              "  "
            ]
          },
          "metadata": {}
        },
        {
          "output_type": "display_data",
          "data": {
            "text/plain": [
              "<IPython.core.display.Javascript object>"
            ],
            "application/javascript": [
              "download(\"download_645ad039-ed91-446d-a9a7-3f6b806f8492\", \"40x40_pca-0.4.csv\", 86225)"
            ]
          },
          "metadata": {}
        },
        {
          "output_type": "stream",
          "name": "stdout",
          "text": [
            "hog de 40x40 e pca de 0.45\n",
            "shape: (800, 6)\n",
            "\n"
          ]
        },
        {
          "output_type": "display_data",
          "data": {
            "text/plain": [
              "<IPython.core.display.Javascript object>"
            ],
            "application/javascript": [
              "\n",
              "    async function download(id, filename, size) {\n",
              "      if (!google.colab.kernel.accessAllowed) {\n",
              "        return;\n",
              "      }\n",
              "      const div = document.createElement('div');\n",
              "      const label = document.createElement('label');\n",
              "      label.textContent = `Downloading \"${filename}\": `;\n",
              "      div.appendChild(label);\n",
              "      const progress = document.createElement('progress');\n",
              "      progress.max = size;\n",
              "      div.appendChild(progress);\n",
              "      document.body.appendChild(div);\n",
              "\n",
              "      const buffers = [];\n",
              "      let downloaded = 0;\n",
              "\n",
              "      const channel = await google.colab.kernel.comms.open(id);\n",
              "      // Send a message to notify the kernel that we're ready.\n",
              "      channel.send({})\n",
              "\n",
              "      for await (const message of channel.messages) {\n",
              "        // Send a message to notify the kernel that we're ready.\n",
              "        channel.send({})\n",
              "        if (message.buffers) {\n",
              "          for (const buffer of message.buffers) {\n",
              "            buffers.push(buffer);\n",
              "            downloaded += buffer.byteLength;\n",
              "            progress.value = downloaded;\n",
              "          }\n",
              "        }\n",
              "      }\n",
              "      const blob = new Blob(buffers, {type: 'application/binary'});\n",
              "      const a = document.createElement('a');\n",
              "      a.href = window.URL.createObjectURL(blob);\n",
              "      a.download = filename;\n",
              "      div.appendChild(a);\n",
              "      a.click();\n",
              "      div.remove();\n",
              "    }\n",
              "  "
            ]
          },
          "metadata": {}
        },
        {
          "output_type": "display_data",
          "data": {
            "text/plain": [
              "<IPython.core.display.Javascript object>"
            ],
            "application/javascript": [
              "download(\"download_a9ebb69c-e43d-4d97-beba-54c18dd9542e\", \"40x40_pca-0.45.csv\", 101947)"
            ]
          },
          "metadata": {}
        },
        {
          "output_type": "stream",
          "name": "stdout",
          "text": [
            "hog de 40x40 e pca de 0.5\n",
            "shape: (800, 7)\n",
            "\n"
          ]
        },
        {
          "output_type": "display_data",
          "data": {
            "text/plain": [
              "<IPython.core.display.Javascript object>"
            ],
            "application/javascript": [
              "\n",
              "    async function download(id, filename, size) {\n",
              "      if (!google.colab.kernel.accessAllowed) {\n",
              "        return;\n",
              "      }\n",
              "      const div = document.createElement('div');\n",
              "      const label = document.createElement('label');\n",
              "      label.textContent = `Downloading \"${filename}\": `;\n",
              "      div.appendChild(label);\n",
              "      const progress = document.createElement('progress');\n",
              "      progress.max = size;\n",
              "      div.appendChild(progress);\n",
              "      document.body.appendChild(div);\n",
              "\n",
              "      const buffers = [];\n",
              "      let downloaded = 0;\n",
              "\n",
              "      const channel = await google.colab.kernel.comms.open(id);\n",
              "      // Send a message to notify the kernel that we're ready.\n",
              "      channel.send({})\n",
              "\n",
              "      for await (const message of channel.messages) {\n",
              "        // Send a message to notify the kernel that we're ready.\n",
              "        channel.send({})\n",
              "        if (message.buffers) {\n",
              "          for (const buffer of message.buffers) {\n",
              "            buffers.push(buffer);\n",
              "            downloaded += buffer.byteLength;\n",
              "            progress.value = downloaded;\n",
              "          }\n",
              "        }\n",
              "      }\n",
              "      const blob = new Blob(buffers, {type: 'application/binary'});\n",
              "      const a = document.createElement('a');\n",
              "      a.href = window.URL.createObjectURL(blob);\n",
              "      a.download = filename;\n",
              "      div.appendChild(a);\n",
              "      a.click();\n",
              "      div.remove();\n",
              "    }\n",
              "  "
            ]
          },
          "metadata": {}
        },
        {
          "output_type": "display_data",
          "data": {
            "text/plain": [
              "<IPython.core.display.Javascript object>"
            ],
            "application/javascript": [
              "download(\"download_3d5ea6e8-af4b-4ce5-ad95-bf848ebd47e7\", \"40x40_pca-0.5.csv\", 117658)"
            ]
          },
          "metadata": {}
        },
        {
          "output_type": "stream",
          "name": "stdout",
          "text": [
            "hog de 40x40 e pca de 0.55\n",
            "shape: (800, 9)\n",
            "\n"
          ]
        },
        {
          "output_type": "display_data",
          "data": {
            "text/plain": [
              "<IPython.core.display.Javascript object>"
            ],
            "application/javascript": [
              "\n",
              "    async function download(id, filename, size) {\n",
              "      if (!google.colab.kernel.accessAllowed) {\n",
              "        return;\n",
              "      }\n",
              "      const div = document.createElement('div');\n",
              "      const label = document.createElement('label');\n",
              "      label.textContent = `Downloading \"${filename}\": `;\n",
              "      div.appendChild(label);\n",
              "      const progress = document.createElement('progress');\n",
              "      progress.max = size;\n",
              "      div.appendChild(progress);\n",
              "      document.body.appendChild(div);\n",
              "\n",
              "      const buffers = [];\n",
              "      let downloaded = 0;\n",
              "\n",
              "      const channel = await google.colab.kernel.comms.open(id);\n",
              "      // Send a message to notify the kernel that we're ready.\n",
              "      channel.send({})\n",
              "\n",
              "      for await (const message of channel.messages) {\n",
              "        // Send a message to notify the kernel that we're ready.\n",
              "        channel.send({})\n",
              "        if (message.buffers) {\n",
              "          for (const buffer of message.buffers) {\n",
              "            buffers.push(buffer);\n",
              "            downloaded += buffer.byteLength;\n",
              "            progress.value = downloaded;\n",
              "          }\n",
              "        }\n",
              "      }\n",
              "      const blob = new Blob(buffers, {type: 'application/binary'});\n",
              "      const a = document.createElement('a');\n",
              "      a.href = window.URL.createObjectURL(blob);\n",
              "      a.download = filename;\n",
              "      div.appendChild(a);\n",
              "      a.click();\n",
              "      div.remove();\n",
              "    }\n",
              "  "
            ]
          },
          "metadata": {}
        },
        {
          "output_type": "display_data",
          "data": {
            "text/plain": [
              "<IPython.core.display.Javascript object>"
            ],
            "application/javascript": [
              "download(\"download_3efae64e-6500-47bd-acda-9d2e8d75852e\", \"40x40_pca-0.55.csv\", 149091)"
            ]
          },
          "metadata": {}
        },
        {
          "output_type": "stream",
          "name": "stdout",
          "text": [
            "hog de 40x40 e pca de 0.6\n",
            "shape: (800, 11)\n",
            "\n"
          ]
        },
        {
          "output_type": "display_data",
          "data": {
            "text/plain": [
              "<IPython.core.display.Javascript object>"
            ],
            "application/javascript": [
              "\n",
              "    async function download(id, filename, size) {\n",
              "      if (!google.colab.kernel.accessAllowed) {\n",
              "        return;\n",
              "      }\n",
              "      const div = document.createElement('div');\n",
              "      const label = document.createElement('label');\n",
              "      label.textContent = `Downloading \"${filename}\": `;\n",
              "      div.appendChild(label);\n",
              "      const progress = document.createElement('progress');\n",
              "      progress.max = size;\n",
              "      div.appendChild(progress);\n",
              "      document.body.appendChild(div);\n",
              "\n",
              "      const buffers = [];\n",
              "      let downloaded = 0;\n",
              "\n",
              "      const channel = await google.colab.kernel.comms.open(id);\n",
              "      // Send a message to notify the kernel that we're ready.\n",
              "      channel.send({})\n",
              "\n",
              "      for await (const message of channel.messages) {\n",
              "        // Send a message to notify the kernel that we're ready.\n",
              "        channel.send({})\n",
              "        if (message.buffers) {\n",
              "          for (const buffer of message.buffers) {\n",
              "            buffers.push(buffer);\n",
              "            downloaded += buffer.byteLength;\n",
              "            progress.value = downloaded;\n",
              "          }\n",
              "        }\n",
              "      }\n",
              "      const blob = new Blob(buffers, {type: 'application/binary'});\n",
              "      const a = document.createElement('a');\n",
              "      a.href = window.URL.createObjectURL(blob);\n",
              "      a.download = filename;\n",
              "      div.appendChild(a);\n",
              "      a.click();\n",
              "      div.remove();\n",
              "    }\n",
              "  "
            ]
          },
          "metadata": {}
        },
        {
          "output_type": "display_data",
          "data": {
            "text/plain": [
              "<IPython.core.display.Javascript object>"
            ],
            "application/javascript": [
              "download(\"download_8c075b47-cfc7-4f7f-964f-73cbb34e4244\", \"40x40_pca-0.6.csv\", 180611)"
            ]
          },
          "metadata": {}
        },
        {
          "output_type": "stream",
          "name": "stdout",
          "text": [
            "hog de 40x40 e pca de 0.65\n",
            "shape: (800, 13)\n",
            "\n"
          ]
        },
        {
          "output_type": "display_data",
          "data": {
            "text/plain": [
              "<IPython.core.display.Javascript object>"
            ],
            "application/javascript": [
              "\n",
              "    async function download(id, filename, size) {\n",
              "      if (!google.colab.kernel.accessAllowed) {\n",
              "        return;\n",
              "      }\n",
              "      const div = document.createElement('div');\n",
              "      const label = document.createElement('label');\n",
              "      label.textContent = `Downloading \"${filename}\": `;\n",
              "      div.appendChild(label);\n",
              "      const progress = document.createElement('progress');\n",
              "      progress.max = size;\n",
              "      div.appendChild(progress);\n",
              "      document.body.appendChild(div);\n",
              "\n",
              "      const buffers = [];\n",
              "      let downloaded = 0;\n",
              "\n",
              "      const channel = await google.colab.kernel.comms.open(id);\n",
              "      // Send a message to notify the kernel that we're ready.\n",
              "      channel.send({})\n",
              "\n",
              "      for await (const message of channel.messages) {\n",
              "        // Send a message to notify the kernel that we're ready.\n",
              "        channel.send({})\n",
              "        if (message.buffers) {\n",
              "          for (const buffer of message.buffers) {\n",
              "            buffers.push(buffer);\n",
              "            downloaded += buffer.byteLength;\n",
              "            progress.value = downloaded;\n",
              "          }\n",
              "        }\n",
              "      }\n",
              "      const blob = new Blob(buffers, {type: 'application/binary'});\n",
              "      const a = document.createElement('a');\n",
              "      a.href = window.URL.createObjectURL(blob);\n",
              "      a.download = filename;\n",
              "      div.appendChild(a);\n",
              "      a.click();\n",
              "      div.remove();\n",
              "    }\n",
              "  "
            ]
          },
          "metadata": {}
        },
        {
          "output_type": "display_data",
          "data": {
            "text/plain": [
              "<IPython.core.display.Javascript object>"
            ],
            "application/javascript": [
              "download(\"download_e69ed2ab-d63a-4aac-a021-cd7c2e87423b\", \"40x40_pca-0.65.csv\", 212083)"
            ]
          },
          "metadata": {}
        },
        {
          "output_type": "stream",
          "name": "stdout",
          "text": [
            "hog de 40x40 e pca de 0.7\n",
            "shape: (800, 15)\n",
            "\n"
          ]
        },
        {
          "output_type": "display_data",
          "data": {
            "text/plain": [
              "<IPython.core.display.Javascript object>"
            ],
            "application/javascript": [
              "\n",
              "    async function download(id, filename, size) {\n",
              "      if (!google.colab.kernel.accessAllowed) {\n",
              "        return;\n",
              "      }\n",
              "      const div = document.createElement('div');\n",
              "      const label = document.createElement('label');\n",
              "      label.textContent = `Downloading \"${filename}\": `;\n",
              "      div.appendChild(label);\n",
              "      const progress = document.createElement('progress');\n",
              "      progress.max = size;\n",
              "      div.appendChild(progress);\n",
              "      document.body.appendChild(div);\n",
              "\n",
              "      const buffers = [];\n",
              "      let downloaded = 0;\n",
              "\n",
              "      const channel = await google.colab.kernel.comms.open(id);\n",
              "      // Send a message to notify the kernel that we're ready.\n",
              "      channel.send({})\n",
              "\n",
              "      for await (const message of channel.messages) {\n",
              "        // Send a message to notify the kernel that we're ready.\n",
              "        channel.send({})\n",
              "        if (message.buffers) {\n",
              "          for (const buffer of message.buffers) {\n",
              "            buffers.push(buffer);\n",
              "            downloaded += buffer.byteLength;\n",
              "            progress.value = downloaded;\n",
              "          }\n",
              "        }\n",
              "      }\n",
              "      const blob = new Blob(buffers, {type: 'application/binary'});\n",
              "      const a = document.createElement('a');\n",
              "      a.href = window.URL.createObjectURL(blob);\n",
              "      a.download = filename;\n",
              "      div.appendChild(a);\n",
              "      a.click();\n",
              "      div.remove();\n",
              "    }\n",
              "  "
            ]
          },
          "metadata": {}
        },
        {
          "output_type": "display_data",
          "data": {
            "text/plain": [
              "<IPython.core.display.Javascript object>"
            ],
            "application/javascript": [
              "download(\"download_4ef5fd93-eb25-4268-9213-fccca939f370\", \"40x40_pca-0.7.csv\", 243587)"
            ]
          },
          "metadata": {}
        },
        {
          "output_type": "stream",
          "name": "stdout",
          "text": [
            "hog de 40x40 e pca de 0.75\n",
            "shape: (800, 18)\n",
            "\n"
          ]
        },
        {
          "output_type": "display_data",
          "data": {
            "text/plain": [
              "<IPython.core.display.Javascript object>"
            ],
            "application/javascript": [
              "\n",
              "    async function download(id, filename, size) {\n",
              "      if (!google.colab.kernel.accessAllowed) {\n",
              "        return;\n",
              "      }\n",
              "      const div = document.createElement('div');\n",
              "      const label = document.createElement('label');\n",
              "      label.textContent = `Downloading \"${filename}\": `;\n",
              "      div.appendChild(label);\n",
              "      const progress = document.createElement('progress');\n",
              "      progress.max = size;\n",
              "      div.appendChild(progress);\n",
              "      document.body.appendChild(div);\n",
              "\n",
              "      const buffers = [];\n",
              "      let downloaded = 0;\n",
              "\n",
              "      const channel = await google.colab.kernel.comms.open(id);\n",
              "      // Send a message to notify the kernel that we're ready.\n",
              "      channel.send({})\n",
              "\n",
              "      for await (const message of channel.messages) {\n",
              "        // Send a message to notify the kernel that we're ready.\n",
              "        channel.send({})\n",
              "        if (message.buffers) {\n",
              "          for (const buffer of message.buffers) {\n",
              "            buffers.push(buffer);\n",
              "            downloaded += buffer.byteLength;\n",
              "            progress.value = downloaded;\n",
              "          }\n",
              "        }\n",
              "      }\n",
              "      const blob = new Blob(buffers, {type: 'application/binary'});\n",
              "      const a = document.createElement('a');\n",
              "      a.href = window.URL.createObjectURL(blob);\n",
              "      a.download = filename;\n",
              "      div.appendChild(a);\n",
              "      a.click();\n",
              "      div.remove();\n",
              "    }\n",
              "  "
            ]
          },
          "metadata": {}
        },
        {
          "output_type": "display_data",
          "data": {
            "text/plain": [
              "<IPython.core.display.Javascript object>"
            ],
            "application/javascript": [
              "download(\"download_6438b10b-424e-4831-8939-294b85ca42f3\", \"40x40_pca-0.75.csv\", 290736)"
            ]
          },
          "metadata": {}
        },
        {
          "output_type": "stream",
          "name": "stdout",
          "text": [
            "hog de 40x40 e pca de 0.8\n",
            "shape: (800, 22)\n",
            "\n"
          ]
        },
        {
          "output_type": "display_data",
          "data": {
            "text/plain": [
              "<IPython.core.display.Javascript object>"
            ],
            "application/javascript": [
              "\n",
              "    async function download(id, filename, size) {\n",
              "      if (!google.colab.kernel.accessAllowed) {\n",
              "        return;\n",
              "      }\n",
              "      const div = document.createElement('div');\n",
              "      const label = document.createElement('label');\n",
              "      label.textContent = `Downloading \"${filename}\": `;\n",
              "      div.appendChild(label);\n",
              "      const progress = document.createElement('progress');\n",
              "      progress.max = size;\n",
              "      div.appendChild(progress);\n",
              "      document.body.appendChild(div);\n",
              "\n",
              "      const buffers = [];\n",
              "      let downloaded = 0;\n",
              "\n",
              "      const channel = await google.colab.kernel.comms.open(id);\n",
              "      // Send a message to notify the kernel that we're ready.\n",
              "      channel.send({})\n",
              "\n",
              "      for await (const message of channel.messages) {\n",
              "        // Send a message to notify the kernel that we're ready.\n",
              "        channel.send({})\n",
              "        if (message.buffers) {\n",
              "          for (const buffer of message.buffers) {\n",
              "            buffers.push(buffer);\n",
              "            downloaded += buffer.byteLength;\n",
              "            progress.value = downloaded;\n",
              "          }\n",
              "        }\n",
              "      }\n",
              "      const blob = new Blob(buffers, {type: 'application/binary'});\n",
              "      const a = document.createElement('a');\n",
              "      a.href = window.URL.createObjectURL(blob);\n",
              "      a.download = filename;\n",
              "      div.appendChild(a);\n",
              "      a.click();\n",
              "      div.remove();\n",
              "    }\n",
              "  "
            ]
          },
          "metadata": {}
        },
        {
          "output_type": "display_data",
          "data": {
            "text/plain": [
              "<IPython.core.display.Javascript object>"
            ],
            "application/javascript": [
              "download(\"download_99c1c7c6-334b-4822-95ff-3f80e65c2d41\", \"40x40_pca-0.8.csv\", 353626)"
            ]
          },
          "metadata": {}
        },
        {
          "output_type": "stream",
          "name": "stdout",
          "text": [
            "hog de 40x40 e pca de 0.85\n",
            "shape: (800, 27)\n",
            "\n"
          ]
        },
        {
          "output_type": "display_data",
          "data": {
            "text/plain": [
              "<IPython.core.display.Javascript object>"
            ],
            "application/javascript": [
              "\n",
              "    async function download(id, filename, size) {\n",
              "      if (!google.colab.kernel.accessAllowed) {\n",
              "        return;\n",
              "      }\n",
              "      const div = document.createElement('div');\n",
              "      const label = document.createElement('label');\n",
              "      label.textContent = `Downloading \"${filename}\": `;\n",
              "      div.appendChild(label);\n",
              "      const progress = document.createElement('progress');\n",
              "      progress.max = size;\n",
              "      div.appendChild(progress);\n",
              "      document.body.appendChild(div);\n",
              "\n",
              "      const buffers = [];\n",
              "      let downloaded = 0;\n",
              "\n",
              "      const channel = await google.colab.kernel.comms.open(id);\n",
              "      // Send a message to notify the kernel that we're ready.\n",
              "      channel.send({})\n",
              "\n",
              "      for await (const message of channel.messages) {\n",
              "        // Send a message to notify the kernel that we're ready.\n",
              "        channel.send({})\n",
              "        if (message.buffers) {\n",
              "          for (const buffer of message.buffers) {\n",
              "            buffers.push(buffer);\n",
              "            downloaded += buffer.byteLength;\n",
              "            progress.value = downloaded;\n",
              "          }\n",
              "        }\n",
              "      }\n",
              "      const blob = new Blob(buffers, {type: 'application/binary'});\n",
              "      const a = document.createElement('a');\n",
              "      a.href = window.URL.createObjectURL(blob);\n",
              "      a.download = filename;\n",
              "      div.appendChild(a);\n",
              "      a.click();\n",
              "      div.remove();\n",
              "    }\n",
              "  "
            ]
          },
          "metadata": {}
        },
        {
          "output_type": "display_data",
          "data": {
            "text/plain": [
              "<IPython.core.display.Javascript object>"
            ],
            "application/javascript": [
              "download(\"download_79a5c3fb-1cd8-426c-99e5-1b5f38cbdef3\", \"40x40_pca-0.85.csv\", 432268)"
            ]
          },
          "metadata": {}
        },
        {
          "output_type": "stream",
          "name": "stdout",
          "text": [
            "hog de 40x40 e pca de 0.9\n",
            "shape: (800, 35)\n",
            "\n"
          ]
        },
        {
          "output_type": "display_data",
          "data": {
            "text/plain": [
              "<IPython.core.display.Javascript object>"
            ],
            "application/javascript": [
              "\n",
              "    async function download(id, filename, size) {\n",
              "      if (!google.colab.kernel.accessAllowed) {\n",
              "        return;\n",
              "      }\n",
              "      const div = document.createElement('div');\n",
              "      const label = document.createElement('label');\n",
              "      label.textContent = `Downloading \"${filename}\": `;\n",
              "      div.appendChild(label);\n",
              "      const progress = document.createElement('progress');\n",
              "      progress.max = size;\n",
              "      div.appendChild(progress);\n",
              "      document.body.appendChild(div);\n",
              "\n",
              "      const buffers = [];\n",
              "      let downloaded = 0;\n",
              "\n",
              "      const channel = await google.colab.kernel.comms.open(id);\n",
              "      // Send a message to notify the kernel that we're ready.\n",
              "      channel.send({})\n",
              "\n",
              "      for await (const message of channel.messages) {\n",
              "        // Send a message to notify the kernel that we're ready.\n",
              "        channel.send({})\n",
              "        if (message.buffers) {\n",
              "          for (const buffer of message.buffers) {\n",
              "            buffers.push(buffer);\n",
              "            downloaded += buffer.byteLength;\n",
              "            progress.value = downloaded;\n",
              "          }\n",
              "        }\n",
              "      }\n",
              "      const blob = new Blob(buffers, {type: 'application/binary'});\n",
              "      const a = document.createElement('a');\n",
              "      a.href = window.URL.createObjectURL(blob);\n",
              "      a.download = filename;\n",
              "      div.appendChild(a);\n",
              "      a.click();\n",
              "      div.remove();\n",
              "    }\n",
              "  "
            ]
          },
          "metadata": {}
        },
        {
          "output_type": "display_data",
          "data": {
            "text/plain": [
              "<IPython.core.display.Javascript object>"
            ],
            "application/javascript": [
              "download(\"download_6edbf1f7-94ac-45af-8e8d-dd642a154ccf\", \"40x40_pca-0.9.csv\", 558104)"
            ]
          },
          "metadata": {}
        },
        {
          "output_type": "stream",
          "name": "stdout",
          "text": [
            "hog de 40x40 e pca de 0.95\n",
            "shape: (800, 51)\n",
            "\n"
          ]
        },
        {
          "output_type": "display_data",
          "data": {
            "text/plain": [
              "<IPython.core.display.Javascript object>"
            ],
            "application/javascript": [
              "\n",
              "    async function download(id, filename, size) {\n",
              "      if (!google.colab.kernel.accessAllowed) {\n",
              "        return;\n",
              "      }\n",
              "      const div = document.createElement('div');\n",
              "      const label = document.createElement('label');\n",
              "      label.textContent = `Downloading \"${filename}\": `;\n",
              "      div.appendChild(label);\n",
              "      const progress = document.createElement('progress');\n",
              "      progress.max = size;\n",
              "      div.appendChild(progress);\n",
              "      document.body.appendChild(div);\n",
              "\n",
              "      const buffers = [];\n",
              "      let downloaded = 0;\n",
              "\n",
              "      const channel = await google.colab.kernel.comms.open(id);\n",
              "      // Send a message to notify the kernel that we're ready.\n",
              "      channel.send({})\n",
              "\n",
              "      for await (const message of channel.messages) {\n",
              "        // Send a message to notify the kernel that we're ready.\n",
              "        channel.send({})\n",
              "        if (message.buffers) {\n",
              "          for (const buffer of message.buffers) {\n",
              "            buffers.push(buffer);\n",
              "            downloaded += buffer.byteLength;\n",
              "            progress.value = downloaded;\n",
              "          }\n",
              "        }\n",
              "      }\n",
              "      const blob = new Blob(buffers, {type: 'application/binary'});\n",
              "      const a = document.createElement('a');\n",
              "      a.href = window.URL.createObjectURL(blob);\n",
              "      a.download = filename;\n",
              "      div.appendChild(a);\n",
              "      a.click();\n",
              "      div.remove();\n",
              "    }\n",
              "  "
            ]
          },
          "metadata": {}
        },
        {
          "output_type": "display_data",
          "data": {
            "text/plain": [
              "<IPython.core.display.Javascript object>"
            ],
            "application/javascript": [
              "download(\"download_b6603714-a50e-4cc5-87ef-88c83eb7105d\", \"40x40_pca-0.95.csv\", 809782)"
            ]
          },
          "metadata": {}
        }
      ]
    },
    {
      "cell_type": "markdown",
      "source": [
        "# TREINAMENTO"
      ],
      "metadata": {
        "id": "iUNS-WeJz5kK"
      }
    },
    {
      "cell_type": "code",
      "source": [
        "import matplotlib.pyplot as plt\n",
        "from sklearn.neighbors import KNeighborsClassifier\n",
        "from sklearn.model_selection import train_test_split\n",
        "from sklearn import metrics\n",
        "from sklearn.metrics import confusion_matrix\n",
        "\n",
        "# Dicionário para armazenar as acurácias por tamanho de HOG\n",
        "hog_accuracies = {}\n",
        "# Lista para armazenar todas as acurácias\n",
        "all_accuracies = []\n",
        "\n",
        "# Criar uma figura com 6 subplots\n",
        "fig, axs = plt.subplots(2, 3, figsize=(16, 8))\n",
        "fig.tight_layout(pad=5.0)\n",
        "\n",
        "for hogs_vetor in hogs_pcas:\n",
        "  hog_size = hogs_vetor[0]\n",
        "  porcent = hogs_vetor[1]\n",
        "  data = hogs_vetor[2]\n",
        "\n",
        "  y = data.classe  # Target variable\n",
        "  X = data.copy().drop('classe', axis=1)  # Features\n",
        "\n",
        "  # Split dataset into training set and test set\n",
        "  X_train_70, X_test_30, y_train_70, y_test_30 = train_test_split(X, y, test_size=0.3, random_state=73)  # 70% training and 30% test\n",
        "\n",
        "  # Create KNeighborsClassifier object\n",
        "  knn = KNeighborsClassifier(n_neighbors=5, metric='euclidean') #utilizando o n_neighbors = 5 por ser mais indicado\n",
        "  knn.fit(X_train_70, y_train_70)\n",
        "\n",
        "  # Predict the response for the test dataset\n",
        "  y_pred = knn.predict(X_test_30)\n",
        "\n",
        "  # Model Accuracy\n",
        "  acuracia = metrics.accuracy_score(y_test_30, y_pred)\n",
        "\n",
        "  print(f'hog de {hog_size}x{hog_size} e pca de {porcent}')\n",
        "  print('Accuracy: %.3f' % acuracia)\n",
        "\n",
        "  # Armazenar a acurácia no dicionário usando o tamanho do HOG como chave\n",
        "  if hog_size not in hog_accuracies:\n",
        "    hog_accuracies[hog_size] = {'porcent': [], 'accuracies': []}\n",
        "  hog_accuracies[hog_size]['porcent'].append(porcent)\n",
        "  hog_accuracies[hog_size]['accuracies'].append(acuracia)\n",
        "\n",
        "  # Matriz de confusão para 30%\n",
        "  print(confusion_matrix(y_test_30, y_pred))\n",
        "  print()\n",
        "  # Adicionar a acurácia à lista geral\n",
        "  all_accuracies.append((hog_size, porcent, acuracia))\n",
        "\n",
        "# Criar um gráfico de linha para cada tamanho de HOG em subplots separados\n",
        "for idx, (hog_size, data) in enumerate(hog_accuracies.items()):\n",
        "    row = idx // 3\n",
        "    col = idx % 3\n",
        "    axs[row, col].plot(data['porcent'], data['accuracies'], marker='o')\n",
        "    axs[row, col].set_xlabel('Porcentagem de PCA')\n",
        "    axs[row, col].set_ylabel('Acurácia')\n",
        "    axs[row, col].set_title(f'Tamanho do HOG {hog_size}x{hog_size}')\n",
        "\n",
        "\n",
        "# Criar um gráfico de linha para cada tamanho de HOG e adicione legendas\n",
        "plt.figure(figsize=(16, 6))\n",
        "for hog_size, data in hog_accuracies.items():\n",
        "  plt.plot(data['porcent'], data['accuracies'], marker='o', label=f'Tamanho do HOG {hog_size}x{hog_size}')\n",
        "\n",
        "# Adicionar rótulos aos eixos\n",
        "plt.xlabel('Porcentagem de PCA')\n",
        "plt.ylabel('Acurácia')\n",
        "\n",
        "# Adicionar um título ao gráfico\n",
        "plt.title('Acurácia vs. Porcentagem de PCA para Diferentes Tamanhos de HOG')\n",
        "\n",
        "# Adicionar uma legenda\n",
        "plt.legend(bbox_to_anchor=(1.05, 1), loc='upper left')\n",
        "\n",
        "# Exibir o gráfico\n",
        "plt.grid()\n",
        "plt.show()\n"
      ],
      "metadata": {
        "colab": {
          "base_uri": "https://localhost:8080/",
          "height": 1000
        },
        "id": "q-pVre72U35v",
        "outputId": "7d7dc675-949b-4c7d-fe01-c150a2d5682a"
      },
      "execution_count": 6,
      "outputs": [
        {
          "output_type": "stream",
          "name": "stdout",
          "text": [
            "hog de 16x16 e pca de 0.1\n",
            "Accuracy: 0.329\n",
            "[[32 12  3 13]\n",
            " [22 17  9  7]\n",
            " [17 18 24  4]\n",
            " [23 16 17  6]]\n",
            "\n",
            "hog de 16x16 e pca de 0.15\n",
            "Accuracy: 0.375\n",
            "[[32 12 11  5]\n",
            " [18 26  5  6]\n",
            " [ 9 22 21 11]\n",
            " [21 15 15 11]]\n",
            "\n",
            "hog de 16x16 e pca de 0.2\n",
            "Accuracy: 0.412\n",
            "[[33 14  6  7]\n",
            " [15 25  4 11]\n",
            " [ 8 10 26 19]\n",
            " [17 13 17 15]]\n",
            "\n",
            "hog de 16x16 e pca de 0.25\n",
            "Accuracy: 0.396\n",
            "[[27 15  9  9]\n",
            " [17 27  4  7]\n",
            " [ 5 13 24 21]\n",
            " [16 16 13 17]]\n",
            "\n",
            "hog de 16x16 e pca de 0.3\n",
            "Accuracy: 0.458\n",
            "[[26  9 11 14]\n",
            " [10 26  9 10]\n",
            " [ 4 10 29 20]\n",
            " [10 13 10 29]]\n",
            "\n",
            "hog de 16x16 e pca de 0.35\n",
            "Accuracy: 0.471\n",
            "[[24  9  8 19]\n",
            " [ 3 28  6 18]\n",
            " [ 3  5 36 19]\n",
            " [ 3 14 20 25]]\n",
            "\n",
            "hog de 16x16 e pca de 0.4\n",
            "Accuracy: 0.458\n",
            "[[24  9  7 20]\n",
            " [ 7 19  8 21]\n",
            " [ 3  7 35 18]\n",
            " [ 4  8 18 32]]\n",
            "\n",
            "hog de 16x16 e pca de 0.45\n",
            "Accuracy: 0.450\n",
            "[[15  7 15 23]\n",
            " [ 3 22 15 15]\n",
            " [ 1  1 36 25]\n",
            " [ 2  5 20 35]]\n",
            "\n",
            "hog de 16x16 e pca de 0.5\n",
            "Accuracy: 0.450\n",
            "[[11 12 15 22]\n",
            " [ 3 24 11 17]\n",
            " [ 0  3 35 25]\n",
            " [ 2  4 18 38]]\n",
            "\n",
            "hog de 16x16 e pca de 0.55\n",
            "Accuracy: 0.417\n",
            "[[13  9 16 22]\n",
            " [ 1 17 16 21]\n",
            " [ 0  3 34 26]\n",
            " [ 0  4 22 36]]\n",
            "\n",
            "hog de 16x16 e pca de 0.6\n",
            "Accuracy: 0.362\n",
            "[[ 8  6 22 24]\n",
            " [ 1 12 18 24]\n",
            " [ 0  0 28 35]\n",
            " [ 0  2 21 39]]\n",
            "\n",
            "hog de 16x16 e pca de 0.65\n",
            "Accuracy: 0.375\n",
            "[[ 7  1 21 31]\n",
            " [ 2  9 19 25]\n",
            " [ 0  0 31 32]\n",
            " [ 0  3 16 43]]\n",
            "\n",
            "hog de 16x16 e pca de 0.7\n",
            "Accuracy: 0.317\n",
            "[[ 3  0 26 31]\n",
            " [ 0  7 27 21]\n",
            " [ 0  1 28 34]\n",
            " [ 2  1 21 38]]\n",
            "\n",
            "hog de 16x16 e pca de 0.75\n",
            "Accuracy: 0.267\n",
            "[[ 1  1 22 36]\n",
            " [ 1  4 23 27]\n",
            " [ 1  1 18 43]\n",
            " [ 0  0 21 41]]\n",
            "\n",
            "hog de 16x16 e pca de 0.8\n",
            "Accuracy: 0.300\n",
            "[[ 1  1 22 36]\n",
            " [ 0  5 23 27]\n",
            " [ 0  0 23 40]\n",
            " [ 0  0 19 43]]\n",
            "\n",
            "hog de 16x16 e pca de 0.85\n",
            "Accuracy: 0.254\n",
            "[[ 0  0 24 36]\n",
            " [ 0  1 23 31]\n",
            " [ 0  0 20 43]\n",
            " [ 0  0 22 40]]\n",
            "\n",
            "hog de 16x16 e pca de 0.9\n",
            "Accuracy: 0.246\n",
            "[[ 0  0 31 29]\n",
            " [ 0  1 31 23]\n",
            " [ 0  0 25 38]\n",
            " [ 0  0 29 33]]\n",
            "\n",
            "hog de 16x16 e pca de 0.95\n",
            "Accuracy: 0.225\n",
            "[[ 0  0 34 26]\n",
            " [ 1  0 34 20]\n",
            " [ 0  0 30 33]\n",
            " [ 0  0 38 24]]\n",
            "\n",
            "hog de 20x20 e pca de 0.1\n",
            "Accuracy: 0.317\n",
            "[[31 15  7  7]\n",
            " [11 20 14 10]\n",
            " [14 17 18 14]\n",
            " [22 16 17  7]]\n",
            "\n",
            "hog de 20x20 e pca de 0.15\n",
            "Accuracy: 0.321\n",
            "[[31 14  6  9]\n",
            " [17 20 10  8]\n",
            " [14 22 19  8]\n",
            " [23 15 17  7]]\n",
            "\n",
            "hog de 20x20 e pca de 0.2\n",
            "Accuracy: 0.408\n",
            "[[32 11  8  9]\n",
            " [15 27 10  3]\n",
            " [11 17 27  8]\n",
            " [18 16 16 12]]\n",
            "\n",
            "hog de 20x20 e pca de 0.25\n",
            "Accuracy: 0.383\n",
            "[[29 13  9  9]\n",
            " [14 24  9  8]\n",
            " [13 15 24 11]\n",
            " [23 11 13 15]]\n",
            "\n",
            "hog de 20x20 e pca de 0.3\n",
            "Accuracy: 0.404\n",
            "[[33  9 12  6]\n",
            " [20 22  6  7]\n",
            " [10  6 27 20]\n",
            " [12 22 13 15]]\n",
            "\n",
            "hog de 20x20 e pca de 0.35\n",
            "Accuracy: 0.487\n",
            "[[35  9  5 11]\n",
            " [15 22  7 11]\n",
            " [ 9  8 33 13]\n",
            " [ 8 13 14 27]]\n",
            "\n",
            "hog de 20x20 e pca de 0.4\n",
            "Accuracy: 0.463\n",
            "[[26 10 11 13]\n",
            " [12 28  5 10]\n",
            " [ 8  4 32 19]\n",
            " [ 5 13 19 25]]\n",
            "\n",
            "hog de 20x20 e pca de 0.45\n",
            "Accuracy: 0.537\n",
            "[[28 10  8 14]\n",
            " [ 8 27  9 11]\n",
            " [ 5  2 41 15]\n",
            " [ 4 10 15 33]]\n",
            "\n",
            "hog de 20x20 e pca de 0.5\n",
            "Accuracy: 0.537\n",
            "[[21 11 12 16]\n",
            " [ 2 29  9 15]\n",
            " [ 1  2 38 22]\n",
            " [ 2  4 15 41]]\n",
            "\n",
            "hog de 20x20 e pca de 0.55\n",
            "Accuracy: 0.479\n",
            "[[19 14 16 11]\n",
            " [ 4 25 13 13]\n",
            " [ 3  3 31 26]\n",
            " [ 2  5 15 40]]\n",
            "\n",
            "hog de 20x20 e pca de 0.6\n",
            "Accuracy: 0.450\n",
            "[[20  7 15 18]\n",
            " [ 3 22  8 22]\n",
            " [ 2  4 28 29]\n",
            " [ 0  5 19 38]]\n",
            "\n",
            "hog de 20x20 e pca de 0.65\n",
            "Accuracy: 0.408\n",
            "[[13  7 13 27]\n",
            " [ 2 18 10 25]\n",
            " [ 2  2 26 33]\n",
            " [ 1  4 16 41]]\n",
            "\n",
            "hog de 20x20 e pca de 0.7\n",
            "Accuracy: 0.446\n",
            "[[10 11 18 21]\n",
            " [ 1 20 14 20]\n",
            " [ 0  1 30 32]\n",
            " [ 1  3 11 47]]\n",
            "\n",
            "hog de 20x20 e pca de 0.75\n",
            "Accuracy: 0.429\n",
            "[[10  8 17 25]\n",
            " [ 1 21 11 22]\n",
            " [ 0  0 31 32]\n",
            " [ 0  2 19 41]]\n",
            "\n",
            "hog de 20x20 e pca de 0.8\n",
            "Accuracy: 0.388\n",
            "[[ 8  6 19 27]\n",
            " [ 1 14 20 20]\n",
            " [ 0  1 21 41]\n",
            " [ 0  2 10 50]]\n",
            "\n",
            "hog de 20x20 e pca de 0.85\n",
            "Accuracy: 0.308\n",
            "[[ 4  4 21 31]\n",
            " [ 0  4 19 32]\n",
            " [ 0  0 27 36]\n",
            " [ 0  1 22 39]]\n",
            "\n",
            "hog de 20x20 e pca de 0.9\n",
            "Accuracy: 0.246\n",
            "[[ 2  0 27 31]\n",
            " [ 0  3 22 30]\n",
            " [ 1  0 19 43]\n",
            " [ 0  0 27 35]]\n",
            "\n",
            "hog de 20x20 e pca de 0.95\n",
            "Accuracy: 0.279\n",
            "[[ 1  0 21 38]\n",
            " [ 0  2 23 30]\n",
            " [ 0  0 27 36]\n",
            " [ 0  0 25 37]]\n",
            "\n",
            "hog de 24x24 e pca de 0.1\n",
            "Accuracy: 0.304\n",
            "[[23 16 14  7]\n",
            " [22 18 12  3]\n",
            " [13 15 25 10]\n",
            " [22 14 19  7]]\n",
            "\n",
            "hog de 24x24 e pca de 0.15\n",
            "Accuracy: 0.375\n",
            "[[28 19  7  6]\n",
            " [18 21  9  7]\n",
            " [11 16 26 10]\n",
            " [17 18 12 15]]\n",
            "\n",
            "hog de 24x24 e pca de 0.2\n",
            "Accuracy: 0.371\n",
            "[[36 14  6  4]\n",
            " [18 16 16  5]\n",
            " [11 14 28 10]\n",
            " [17 21 15  9]]\n",
            "\n",
            "hog de 24x24 e pca de 0.25\n",
            "Accuracy: 0.433\n",
            "[[33 11  6 10]\n",
            " [13 24 11  7]\n",
            " [ 9 14 31  9]\n",
            " [10 19 17 16]]\n",
            "\n",
            "hog de 24x24 e pca de 0.3\n",
            "Accuracy: 0.412\n",
            "[[32 14  5  9]\n",
            " [13 25  9  8]\n",
            " [11 15 25 12]\n",
            " [16 14 15 17]]\n",
            "\n",
            "hog de 24x24 e pca de 0.35\n",
            "Accuracy: 0.446\n",
            "[[31  9  9 11]\n",
            " [12 27 10  6]\n",
            " [ 8  8 35 12]\n",
            " [13 18 17 14]]\n",
            "\n",
            "hog de 24x24 e pca de 0.4\n",
            "Accuracy: 0.404\n",
            "[[24  8 14 14]\n",
            " [12 22  7 14]\n",
            " [11  8 31 13]\n",
            " [13 13 16 20]]\n",
            "\n",
            "hog de 24x24 e pca de 0.45\n",
            "Accuracy: 0.450\n",
            "[[22  7 13 18]\n",
            " [14 27  3 11]\n",
            " [ 7  7 34 15]\n",
            " [ 9 11 17 25]]\n",
            "\n",
            "hog de 24x24 e pca de 0.5\n",
            "Accuracy: 0.483\n",
            "[[25 11 11 13]\n",
            " [ 9 29  3 14]\n",
            " [ 5  4 33 21]\n",
            " [ 5  9 19 29]]\n",
            "\n",
            "hog de 24x24 e pca de 0.55\n",
            "Accuracy: 0.433\n",
            "[[22 11 13 14]\n",
            " [ 5 23 11 16]\n",
            " [ 6  6 31 20]\n",
            " [ 4 12 18 28]]\n",
            "\n",
            "hog de 24x24 e pca de 0.6\n",
            "Accuracy: 0.467\n",
            "[[21 12 13 14]\n",
            " [ 4 25  8 18]\n",
            " [ 3  4 31 25]\n",
            " [ 2  9 16 35]]\n",
            "\n",
            "hog de 24x24 e pca de 0.65\n",
            "Accuracy: 0.450\n",
            "[[14 12 18 16]\n",
            " [ 2 26  6 21]\n",
            " [ 3  5 30 25]\n",
            " [ 0  7 17 38]]\n",
            "\n",
            "hog de 24x24 e pca de 0.7\n",
            "Accuracy: 0.396\n",
            "[[15  9 15 21]\n",
            " [ 3 19  9 24]\n",
            " [ 2  3 29 29]\n",
            " [ 2  7 21 32]]\n",
            "\n",
            "hog de 24x24 e pca de 0.75\n",
            "Accuracy: 0.412\n",
            "[[11 14 18 17]\n",
            " [ 1 19 17 18]\n",
            " [ 0  2 34 27]\n",
            " [ 3  3 21 35]]\n",
            "\n",
            "hog de 24x24 e pca de 0.8\n",
            "Accuracy: 0.433\n",
            "[[13  8 19 20]\n",
            " [ 1 16 13 25]\n",
            " [ 1  1 31 30]\n",
            " [ 1  3 14 44]]\n",
            "\n",
            "hog de 24x24 e pca de 0.85\n",
            "Accuracy: 0.392\n",
            "[[10  3 20 27]\n",
            " [ 2 13 16 24]\n",
            " [ 0  1 19 43]\n",
            " [ 0  1  9 52]]\n",
            "\n",
            "hog de 24x24 e pca de 0.9\n",
            "Accuracy: 0.321\n",
            "[[ 4  1 23 32]\n",
            " [ 0 10 17 28]\n",
            " [ 1  0 26 36]\n",
            " [ 1  3 21 37]]\n",
            "\n",
            "hog de 24x24 e pca de 0.95\n",
            "Accuracy: 0.329\n",
            "[[ 2  2 32 24]\n",
            " [ 0  2 21 32]\n",
            " [ 0  0 30 33]\n",
            " [ 0  0 17 45]]\n",
            "\n",
            "hog de 28x28 e pca de 0.1\n",
            "Accuracy: 0.279\n",
            "[[23 15 15  7]\n",
            " [24 20  6  5]\n",
            " [21 19 13 10]\n",
            " [19 15 17 11]]\n",
            "\n",
            "hog de 28x28 e pca de 0.15\n",
            "Accuracy: 0.329\n",
            "[[20 24  8  8]\n",
            " [13 25 12  5]\n",
            " [14 18 25  6]\n",
            " [15 22 16  9]]\n",
            "\n",
            "hog de 28x28 e pca de 0.2\n",
            "Accuracy: 0.362\n",
            "[[33 13  6  8]\n",
            " [21 20  8  6]\n",
            " [11 17 25 10]\n",
            " [19 18 16  9]]\n",
            "\n",
            "hog de 28x28 e pca de 0.25\n",
            "Accuracy: 0.383\n",
            "[[26 18 10  6]\n",
            " [16 20 13  6]\n",
            " [ 7 12 31 13]\n",
            " [12 15 20 15]]\n",
            "\n",
            "hog de 28x28 e pca de 0.3\n",
            "Accuracy: 0.412\n",
            "[[29  9 11 11]\n",
            " [12 25 13  5]\n",
            " [ 5 13 34 11]\n",
            " [13 19 19 11]]\n",
            "\n",
            "hog de 28x28 e pca de 0.35\n",
            "Accuracy: 0.412\n",
            "[[24 19 10  7]\n",
            " [17 23  9  6]\n",
            " [ 7  9 32 15]\n",
            " [11 15 16 20]]\n",
            "\n",
            "hog de 28x28 e pca de 0.4\n",
            "Accuracy: 0.450\n",
            "[[30 12  8 10]\n",
            " [13 23 10  9]\n",
            " [ 5  9 34 15]\n",
            " [18 10 13 21]]\n",
            "\n",
            "hog de 28x28 e pca de 0.45\n",
            "Accuracy: 0.442\n",
            "[[28  9 10 13]\n",
            " [12 26 14  3]\n",
            " [ 8  7 34 14]\n",
            " [14 15 15 18]]\n",
            "\n",
            "hog de 28x28 e pca de 0.5\n",
            "Accuracy: 0.438\n",
            "[[27 16 10  7]\n",
            " [15 27  6  7]\n",
            " [ 6 11 30 16]\n",
            " [11 11 19 21]]\n",
            "\n",
            "hog de 28x28 e pca de 0.55\n",
            "Accuracy: 0.475\n",
            "[[27 15  9  9]\n",
            " [ 8 27 10 10]\n",
            " [ 7  5 36 15]\n",
            " [ 7 12 19 24]]\n",
            "\n",
            "hog de 28x28 e pca de 0.6\n",
            "Accuracy: 0.450\n",
            "[[24 13 12 11]\n",
            " [ 5 25 14 11]\n",
            " [ 2  9 30 22]\n",
            " [ 6 14 13 29]]\n",
            "\n",
            "hog de 28x28 e pca de 0.65\n",
            "Accuracy: 0.479\n",
            "[[22 15 14  9]\n",
            " [ 3 27 11 14]\n",
            " [ 1  8 34 20]\n",
            " [ 2 11 17 32]]\n",
            "\n",
            "hog de 28x28 e pca de 0.7\n",
            "Accuracy: 0.450\n",
            "[[18 15 13 14]\n",
            " [ 5 24  9 17]\n",
            " [ 1  5 33 24]\n",
            " [ 1 11 17 33]]\n",
            "\n",
            "hog de 28x28 e pca de 0.75\n",
            "Accuracy: 0.450\n",
            "[[21  8 14 17]\n",
            " [ 5 21 11 18]\n",
            " [ 2  2 31 28]\n",
            " [ 3  8 16 35]]\n",
            "\n",
            "hog de 28x28 e pca de 0.8\n",
            "Accuracy: 0.412\n",
            "[[17  8 19 16]\n",
            " [ 5 19 17 14]\n",
            " [ 2  5 25 31]\n",
            " [ 1  8 15 38]]\n",
            "\n",
            "hog de 28x28 e pca de 0.85\n",
            "Accuracy: 0.408\n",
            "[[13  9 18 20]\n",
            " [ 1 22 15 17]\n",
            " [ 1  1 25 36]\n",
            " [ 1  9 14 38]]\n",
            "\n",
            "hog de 28x28 e pca de 0.9\n",
            "Accuracy: 0.417\n",
            "[[ 9  5 18 28]\n",
            " [ 2 16 16 21]\n",
            " [ 1  2 27 33]\n",
            " [ 0  5  9 48]]\n",
            "\n",
            "hog de 28x28 e pca de 0.95\n",
            "Accuracy: 0.350\n",
            "[[ 4  3 25 28]\n",
            " [ 0  7 24 24]\n",
            " [ 0  1 32 30]\n",
            " [ 2  6 13 41]]\n",
            "\n",
            "hog de 32x32 e pca de 0.1\n",
            "Accuracy: 0.279\n",
            "[[23 13 13 11]\n",
            " [19 15  4 17]\n",
            " [18 15 22  8]\n",
            " [29 14 12  7]]\n",
            "\n",
            "hog de 32x32 e pca de 0.15\n",
            "Accuracy: 0.308\n",
            "[[28 11 14  7]\n",
            " [20 15 16  4]\n",
            " [11 20 26  6]\n",
            " [25 17 15  5]]\n",
            "\n",
            "hog de 32x32 e pca de 0.2\n",
            "Accuracy: 0.358\n",
            "[[28 16  5 11]\n",
            " [21 19  9  6]\n",
            " [14 14 29  6]\n",
            " [16 19 17 10]]\n",
            "\n",
            "hog de 32x32 e pca de 0.25\n",
            "Accuracy: 0.325\n",
            "[[23 20  7 10]\n",
            " [17 23  7  8]\n",
            " [10 19 23 11]\n",
            " [19 15 19  9]]\n",
            "\n",
            "hog de 32x32 e pca de 0.3\n",
            "Accuracy: 0.367\n",
            "[[23 15  6 16]\n",
            " [15 25 10  5]\n",
            " [ 9 19 27  8]\n",
            " [14 18 17 13]]\n",
            "\n",
            "hog de 32x32 e pca de 0.35\n",
            "Accuracy: 0.375\n",
            "[[24 18  7 11]\n",
            " [16 23  8  8]\n",
            " [10 15 31  7]\n",
            " [17 15 18 12]]\n",
            "\n",
            "hog de 32x32 e pca de 0.4\n",
            "Accuracy: 0.371\n",
            "[[20 15  7 18]\n",
            " [13 25  8  9]\n",
            " [12 10 30 11]\n",
            " [17 13 18 14]]\n",
            "\n",
            "hog de 32x32 e pca de 0.45\n",
            "Accuracy: 0.425\n",
            "[[23 16  4 17]\n",
            " [14 28  6  7]\n",
            " [ 6  6 36 15]\n",
            " [14 11 22 15]]\n",
            "\n",
            "hog de 32x32 e pca de 0.5\n",
            "Accuracy: 0.438\n",
            "[[25 15  9 11]\n",
            " [12 27  7  9]\n",
            " [ 3  9 35 16]\n",
            " [ 8 14 22 18]]\n",
            "\n",
            "hog de 32x32 e pca de 0.55\n",
            "Accuracy: 0.467\n",
            "[[24  8 13 15]\n",
            " [13 25  5 12]\n",
            " [ 4  6 36 17]\n",
            " [ 8 13 14 27]]\n",
            "\n",
            "hog de 32x32 e pca de 0.6\n",
            "Accuracy: 0.496\n",
            "[[21 11 14 14]\n",
            " [ 7 31  4 13]\n",
            " [ 3  6 39 15]\n",
            " [ 8 14 12 28]]\n",
            "\n",
            "hog de 32x32 e pca de 0.65\n",
            "Accuracy: 0.487\n",
            "[[22 11 11 16]\n",
            " [ 7 26  9 13]\n",
            " [ 2  7 34 20]\n",
            " [ 3  9 15 35]]\n",
            "\n",
            "hog de 32x32 e pca de 0.7\n",
            "Accuracy: 0.500\n",
            "[[21 12 13 14]\n",
            " [ 3 26  7 19]\n",
            " [ 2  4 29 28]\n",
            " [ 1  9  8 44]]\n",
            "\n",
            "hog de 32x32 e pca de 0.75\n",
            "Accuracy: 0.512\n",
            "[[20 11 10 19]\n",
            " [ 4 30  6 15]\n",
            " [ 0  4 29 30]\n",
            " [ 2  8  8 44]]\n",
            "\n",
            "hog de 32x32 e pca de 0.8\n",
            "Accuracy: 0.438\n",
            "[[15 10 15 20]\n",
            " [ 5 22 13 15]\n",
            " [ 0  5 26 32]\n",
            " [ 1  4 15 42]]\n",
            "\n",
            "hog de 32x32 e pca de 0.85\n",
            "Accuracy: 0.433\n",
            "[[12  7 18 23]\n",
            " [ 2 23 14 16]\n",
            " [ 1  2 27 33]\n",
            " [ 2  8 10 42]]\n",
            "\n",
            "hog de 32x32 e pca de 0.9\n",
            "Accuracy: 0.379\n",
            "[[11  4 21 24]\n",
            " [ 1 15 16 23]\n",
            " [ 1  1 24 37]\n",
            " [ 2  6 13 41]]\n",
            "\n",
            "hog de 32x32 e pca de 0.95\n",
            "Accuracy: 0.308\n",
            "[[ 2  3 20 35]\n",
            " [ 0  8 17 30]\n",
            " [ 0  2 20 41]\n",
            " [ 1  1 16 44]]\n",
            "\n",
            "hog de 40x40 e pca de 0.1\n",
            "Accuracy: 0.250\n",
            "[[19 14 22  5]\n",
            " [15 18 15  7]\n",
            " [23 16 14 10]\n",
            " [29 12 12  9]]\n",
            "\n",
            "hog de 40x40 e pca de 0.15\n",
            "Accuracy: 0.250\n",
            "[[19 14 22  5]\n",
            " [15 18 15  7]\n",
            " [23 16 14 10]\n",
            " [29 12 12  9]]\n",
            "\n",
            "hog de 40x40 e pca de 0.2\n",
            "Accuracy: 0.325\n",
            "[[21 19 14  6]\n",
            " [13 18 16  8]\n",
            " [17 12 26  8]\n",
            " [17 19 13 13]]\n",
            "\n",
            "hog de 40x40 e pca de 0.25\n",
            "Accuracy: 0.325\n",
            "[[21 19 14  6]\n",
            " [13 18 16  8]\n",
            " [17 12 26  8]\n",
            " [17 19 13 13]]\n",
            "\n",
            "hog de 40x40 e pca de 0.3\n",
            "Accuracy: 0.354\n",
            "[[27 16 13  4]\n",
            " [14 25  7  9]\n",
            " [16 15 25  7]\n",
            " [19 19 16  8]]\n",
            "\n",
            "hog de 40x40 e pca de 0.35\n",
            "Accuracy: 0.346\n",
            "[[21 16 13 10]\n",
            " [21 19 10  5]\n",
            " [11 14 30  8]\n",
            " [16 15 18 13]]\n",
            "\n",
            "hog de 40x40 e pca de 0.4\n",
            "Accuracy: 0.333\n",
            "[[18 15 14 13]\n",
            " [13 26 10  6]\n",
            " [10 13 24 16]\n",
            " [14 17 19 12]]\n",
            "\n",
            "hog de 40x40 e pca de 0.45\n",
            "Accuracy: 0.362\n",
            "[[23 13 12 12]\n",
            " [16 20 10  9]\n",
            " [12  9 26 16]\n",
            " [16 13 15 18]]\n",
            "\n",
            "hog de 40x40 e pca de 0.5\n",
            "Accuracy: 0.388\n",
            "[[26 10 14 10]\n",
            " [ 9 25  7 14]\n",
            " [ 7 10 30 16]\n",
            " [15 13 22 12]]\n",
            "\n",
            "hog de 40x40 e pca de 0.55\n",
            "Accuracy: 0.408\n",
            "[[26 10 13 11]\n",
            " [10 26  6 13]\n",
            " [11  8 34 10]\n",
            " [18  9 23 12]]\n",
            "\n",
            "hog de 40x40 e pca de 0.6\n",
            "Accuracy: 0.429\n",
            "[[23 10 13 14]\n",
            " [12 28  8  7]\n",
            " [ 8  5 38 12]\n",
            " [10 17 21 14]]\n",
            "\n",
            "hog de 40x40 e pca de 0.65\n",
            "Accuracy: 0.442\n",
            "[[22 11 11 16]\n",
            " [16 22  8  9]\n",
            " [ 3  4 40 16]\n",
            " [ 9 13 18 22]]\n",
            "\n",
            "hog de 40x40 e pca de 0.7\n",
            "Accuracy: 0.425\n",
            "[[21 12 11 16]\n",
            " [13 23  7 12]\n",
            " [ 6  8 35 14]\n",
            " [ 8 10 21 23]]\n",
            "\n",
            "hog de 40x40 e pca de 0.75\n",
            "Accuracy: 0.454\n",
            "[[27 12 11 10]\n",
            " [ 5 21 11 18]\n",
            " [ 4 12 34 13]\n",
            " [ 5 12 18 27]]\n",
            "\n",
            "hog de 40x40 e pca de 0.8\n",
            "Accuracy: 0.425\n",
            "[[20 10 17 13]\n",
            " [ 7 25  6 17]\n",
            " [ 2 17 30 14]\n",
            " [ 7 11 17 27]]\n",
            "\n",
            "hog de 40x40 e pca de 0.85\n",
            "Accuracy: 0.429\n",
            "[[19 10 14 17]\n",
            " [ 5 24 12 14]\n",
            " [ 2  8 27 26]\n",
            " [ 2  9 18 33]]\n",
            "\n",
            "hog de 40x40 e pca de 0.9\n",
            "Accuracy: 0.400\n",
            "[[15 10 22 13]\n",
            " [ 5 25 15 10]\n",
            " [ 4  7 32 20]\n",
            " [ 8  6 24 24]]\n",
            "\n",
            "hog de 40x40 e pca de 0.95\n",
            "Accuracy: 0.421\n",
            "[[12  9 19 20]\n",
            " [ 2 17 20 16]\n",
            " [ 0  2 30 31]\n",
            " [ 3  1 16 42]]\n",
            "\n"
          ]
        },
        {
          "output_type": "display_data",
          "data": {
            "text/plain": [
              "<Figure size 1600x800 with 6 Axes>"
            ],
            "image/png": "[encoded data removed]"
          },
          "metadata": {}
        },
        {
          "output_type": "display_data",
          "data": {
            "text/plain": [
              "<Figure size 1600x600 with 1 Axes>"
            ],
            "image/png": "[encoded data removed]"
          },
          "metadata": {}
        }
      ]
    },
    {
      "cell_type": "markdown",
      "source": [
        "# Análise de resultados\n",
        "\n",
        "Foi visto que o hog de 20x20 obteve os 2 melhores resultados, o qual o melhor foi o com PCA de 45% com acurácia de 0.537"
      ],
      "metadata": {
        "id": "OwpkrdFMn7Ke"
      }
    }
  ]
}