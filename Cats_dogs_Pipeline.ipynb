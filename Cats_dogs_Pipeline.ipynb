{
  "nbformat": 4,
  "nbformat_minor": 0,
  "metadata": {
    "colab": {
      "provenance": []
    },
    "kernelspec": {
      "name": "python3",
      "display_name": "Python 3"
    },
    "language_info": {
      "name": "python"
    }
  },
  "cells": [
    {
      "cell_type": "code",
      "source": [
        "!git clone --depth 1 --branch main --single-branch https://github.com/CaiqueBorges/Projeto_cats-dogs.git images_cats-dogs"
      ],
      "metadata": {
        "colab": {
          "base_uri": "https://localhost:8080/"
        },
        "id": "VCpkHsUYikXl",
        "outputId": "ce881a86-7380-4322-eba5-3aa24a56f3af"
      },
      "execution_count": 12,
      "outputs": [
        {
          "output_type": "stream",
          "name": "stdout",
          "text": [
            "Cloning into 'images_cats-dogs'...\n",
            "remote: Enumerating objects: 850, done.\u001b[K\n",
            "remote: Counting objects: 100% (850/850), done.\u001b[K\n",
            "remote: Compressing objects: 100% (817/817), done.\u001b[K\n",
            "remote: Total 850 (delta 33), reused 847 (delta 33), pack-reused 0\u001b[K\n",
            "Receiving objects: 100% (850/850), 90.57 MiB | 30.86 MiB/s, done.\n",
            "Resolving deltas: 100% (33/33), done.\n"
          ]
        }
      ]
    },
    {
      "cell_type": "code",
      "execution_count": 1,
      "metadata": {
        "colab": {
          "base_uri": "https://localhost:8080/",
          "height": 1000
        },
        "id": "8p0PQRrtk76i",
        "outputId": "954915a3-33aa-4a32-bfdd-21318a6ed0b4"
      },
      "outputs": [
        {
          "output_type": "display_data",
          "data": {
            "text/plain": [
              "<IPython.core.display.HTML object>"
            ],
            "text/html": [
              "\n",
              "     <input type=\"file\" id=\"files-fc4bfaae-7d52-4032-9ed8-07331d8b3a50\" name=\"files[]\" multiple disabled\n",
              "        style=\"border:none\" />\n",
              "     <output id=\"result-fc4bfaae-7d52-4032-9ed8-07331d8b3a50\">\n",
              "      Upload widget is only available when the cell has been executed in the\n",
              "      current browser session. Please rerun this cell to enable.\n",
              "      </output>\n",
              "      <script>// Copyright 2017 Google LLC\n",
              "//\n",
              "// Licensed under the Apache License, Version 2.0 (the \"License\");\n",
              "// you may not use this file except in compliance with the License.\n",
              "// You may obtain a copy of the License at\n",
              "//\n",
              "//      http://www.apache.org/licenses/LICENSE-2.0\n",
              "//\n",
              "// Unless required by applicable law or agreed to in writing, software\n",
              "// distributed under the License is distributed on an \"AS IS\" BASIS,\n",
              "// WITHOUT WARRANTIES OR CONDITIONS OF ANY KIND, either express or implied.\n",
              "// See the License for the specific language governing permissions and\n",
              "// limitations under the License.\n",
              "\n",
              "/**\n",
              " * @fileoverview Helpers for google.colab Python module.\n",
              " */\n",
              "(function(scope) {\n",
              "function span(text, styleAttributes = {}) {\n",
              "  const element = document.createElement('span');\n",
              "  element.textContent = text;\n",
              "  for (const key of Object.keys(styleAttributes)) {\n",
              "    element.style[key] = styleAttributes[key];\n",
              "  }\n",
              "  return element;\n",
              "}\n",
              "\n",
              "// Max number of bytes which will be uploaded at a time.\n",
              "const MAX_PAYLOAD_SIZE = 100 * 1024;\n",
              "\n",
              "function _uploadFiles(inputId, outputId) {\n",
              "  const steps = uploadFilesStep(inputId, outputId);\n",
              "  const outputElement = document.getElementById(outputId);\n",
              "  // Cache steps on the outputElement to make it available for the next call\n",
              "  // to uploadFilesContinue from Python.\n",
              "  outputElement.steps = steps;\n",
              "\n",
              "  return _uploadFilesContinue(outputId);\n",
              "}\n",
              "\n",
              "// This is roughly an async generator (not supported in the browser yet),\n",
              "// where there are multiple asynchronous steps and the Python side is going\n",
              "// to poll for completion of each step.\n",
              "// This uses a Promise to block the python side on completion of each step,\n",
              "// then passes the result of the previous step as the input to the next step.\n",
              "function _uploadFilesContinue(outputId) {\n",
              "  const outputElement = document.getElementById(outputId);\n",
              "  const steps = outputElement.steps;\n",
              "\n",
              "  const next = steps.next(outputElement.lastPromiseValue);\n",
              "  return Promise.resolve(next.value.promise).then((value) => {\n",
              "    // Cache the last promise value to make it available to the next\n",
              "    // step of the generator.\n",
              "    outputElement.lastPromiseValue = value;\n",
              "    return next.value.response;\n",
              "  });\n",
              "}\n",
              "\n",
              "/**\n",
              " * Generator function which is called between each async step of the upload\n",
              " * process.\n",
              " * @param {string} inputId Element ID of the input file picker element.\n",
              " * @param {string} outputId Element ID of the output display.\n",
              " * @return {!Iterable<!Object>} Iterable of next steps.\n",
              " */\n",
              "function* uploadFilesStep(inputId, outputId) {\n",
              "  const inputElement = document.getElementById(inputId);\n",
              "  inputElement.disabled = false;\n",
              "\n",
              "  const outputElement = document.getElementById(outputId);\n",
              "  outputElement.innerHTML = '';\n",
              "\n",
              "  const pickedPromise = new Promise((resolve) => {\n",
              "    inputElement.addEventListener('change', (e) => {\n",
              "      resolve(e.target.files);\n",
              "    });\n",
              "  });\n",
              "\n",
              "  const cancel = document.createElement('button');\n",
              "  inputElement.parentElement.appendChild(cancel);\n",
              "  cancel.textContent = 'Cancel upload';\n",
              "  const cancelPromise = new Promise((resolve) => {\n",
              "    cancel.onclick = () => {\n",
              "      resolve(null);\n",
              "    };\n",
              "  });\n",
              "\n",
              "  // Wait for the user to pick the files.\n",
              "  const files = yield {\n",
              "    promise: Promise.race([pickedPromise, cancelPromise]),\n",
              "    response: {\n",
              "      action: 'starting',\n",
              "    }\n",
              "  };\n",
              "\n",
              "  cancel.remove();\n",
              "\n",
              "  // Disable the input element since further picks are not allowed.\n",
              "  inputElement.disabled = true;\n",
              "\n",
              "  if (!files) {\n",
              "    return {\n",
              "      response: {\n",
              "        action: 'complete',\n",
              "      }\n",
              "    };\n",
              "  }\n",
              "\n",
              "  for (const file of files) {\n",
              "    const li = document.createElement('li');\n",
              "    li.append(span(file.name, {fontWeight: 'bold'}));\n",
              "    li.append(span(\n",
              "        `(${file.type || 'n/a'}) - ${file.size} bytes, ` +\n",
              "        `last modified: ${\n",
              "            file.lastModifiedDate ? file.lastModifiedDate.toLocaleDateString() :\n",
              "                                    'n/a'} - `));\n",
              "    const percent = span('0% done');\n",
              "    li.appendChild(percent);\n",
              "\n",
              "    outputElement.appendChild(li);\n",
              "\n",
              "    const fileDataPromise = new Promise((resolve) => {\n",
              "      const reader = new FileReader();\n",
              "      reader.onload = (e) => {\n",
              "        resolve(e.target.result);\n",
              "      };\n",
              "      reader.readAsArrayBuffer(file);\n",
              "    });\n",
              "    // Wait for the data to be ready.\n",
              "    let fileData = yield {\n",
              "      promise: fileDataPromise,\n",
              "      response: {\n",
              "        action: 'continue',\n",
              "      }\n",
              "    };\n",
              "\n",
              "    // Use a chunked sending to avoid message size limits. See b/62115660.\n",
              "    let position = 0;\n",
              "    do {\n",
              "      const length = Math.min(fileData.byteLength - position, MAX_PAYLOAD_SIZE);\n",
              "      const chunk = new Uint8Array(fileData, position, length);\n",
              "      position += length;\n",
              "\n",
              "      const base64 = btoa(String.fromCharCode.apply(null, chunk));\n",
              "      yield {\n",
              "        response: {\n",
              "          action: 'append',\n",
              "          file: file.name,\n",
              "          data: base64,\n",
              "        },\n",
              "      };\n",
              "\n",
              "      let percentDone = fileData.byteLength === 0 ?\n",
              "          100 :\n",
              "          Math.round((position / fileData.byteLength) * 100);\n",
              "      percent.textContent = `${percentDone}% done`;\n",
              "\n",
              "    } while (position < fileData.byteLength);\n",
              "  }\n",
              "\n",
              "  // All done.\n",
              "  yield {\n",
              "    response: {\n",
              "      action: 'complete',\n",
              "    }\n",
              "  };\n",
              "}\n",
              "\n",
              "scope.google = scope.google || {};\n",
              "scope.google.colab = scope.google.colab || {};\n",
              "scope.google.colab._files = {\n",
              "  _uploadFiles,\n",
              "  _uploadFilesContinue,\n",
              "};\n",
              "})(self);\n",
              "</script> "
            ]
          },
          "metadata": {}
        },
        {
          "output_type": "stream",
          "name": "stdout",
          "text": [
            "Saving Abyssinian_1.jpg to Abyssinian_1.jpg\n",
            "Saving Abyssinian_2.jpg to Abyssinian_2.jpg\n",
            "Saving Abyssinian_3.jpg to Abyssinian_3.jpg\n",
            "Saving Abyssinian_4.jpg to Abyssinian_4.jpg\n",
            "Saving Abyssinian_5.jpg to Abyssinian_5.jpg\n",
            "Saving Abyssinian_6.jpg to Abyssinian_6.jpg\n",
            "Saving Abyssinian_7.jpg to Abyssinian_7.jpg\n",
            "Saving Abyssinian_8.jpg to Abyssinian_8.jpg\n",
            "Saving Abyssinian_9.jpg to Abyssinian_9.jpg\n",
            "Saving Abyssinian_10.jpg to Abyssinian_10.jpg\n",
            "Saving Abyssinian_11.jpg to Abyssinian_11.jpg\n",
            "Saving Abyssinian_12.jpg to Abyssinian_12.jpg\n",
            "Saving Abyssinian_13.jpg to Abyssinian_13.jpg\n",
            "Saving Abyssinian_14.jpg to Abyssinian_14.jpg\n",
            "Saving Abyssinian_15.jpg to Abyssinian_15.jpg\n",
            "Saving Abyssinian_16.jpg to Abyssinian_16.jpg\n",
            "Saving Abyssinian_17.jpg to Abyssinian_17.jpg\n",
            "Saving Abyssinian_18.jpg to Abyssinian_18.jpg\n",
            "Saving Abyssinian_19.jpg to Abyssinian_19.jpg\n",
            "Saving Abyssinian_20.jpg to Abyssinian_20.jpg\n",
            "Saving Abyssinian_21.jpg to Abyssinian_21.jpg\n",
            "Saving Abyssinian_22.jpg to Abyssinian_22.jpg\n",
            "Saving Abyssinian_24.jpg to Abyssinian_24.jpg\n",
            "Saving Abyssinian_25.jpg to Abyssinian_25.jpg\n",
            "Saving Abyssinian_26.jpg to Abyssinian_26.jpg\n",
            "Saving Abyssinian_27.jpg to Abyssinian_27.jpg\n",
            "Saving Abyssinian_29.jpg to Abyssinian_29.jpg\n",
            "Saving Abyssinian_30.jpg to Abyssinian_30.jpg\n",
            "Saving Abyssinian_31.jpg to Abyssinian_31.jpg\n",
            "Saving Abyssinian_32.jpg to Abyssinian_32.jpg\n",
            "Saving Abyssinian_33.jpg to Abyssinian_33.jpg\n",
            "Saving Abyssinian_34.jpg to Abyssinian_34.jpg\n",
            "Saving Abyssinian_36.jpg to Abyssinian_36.jpg\n",
            "Saving Abyssinian_37.jpg to Abyssinian_37.jpg\n",
            "Saving Abyssinian_40.jpg to Abyssinian_40.jpg\n",
            "Saving Abyssinian_43.jpg to Abyssinian_43.jpg\n",
            "Saving Abyssinian_44.jpg to Abyssinian_44.jpg\n",
            "Saving Abyssinian_45.jpg to Abyssinian_45.jpg\n",
            "Saving Abyssinian_46.jpg to Abyssinian_46.jpg\n",
            "Saving Abyssinian_47.jpg to Abyssinian_47.jpg\n",
            "Saving Abyssinian_48.jpg to Abyssinian_48.jpg\n",
            "Saving Abyssinian_49.jpg to Abyssinian_49.jpg\n",
            "Saving Abyssinian_50.jpg to Abyssinian_50.jpg\n",
            "Saving Abyssinian_51.jpg to Abyssinian_51.jpg\n",
            "Saving Abyssinian_52.jpg to Abyssinian_52.jpg\n",
            "Saving Abyssinian_54.jpg to Abyssinian_54.jpg\n",
            "Saving Abyssinian_55.jpg to Abyssinian_55.jpg\n",
            "Saving Abyssinian_56.jpg to Abyssinian_56.jpg\n",
            "Saving Abyssinian_57.jpg to Abyssinian_57.jpg\n",
            "Saving Abyssinian_58.jpg to Abyssinian_58.jpg\n",
            "Saving Abyssinian_60.jpg to Abyssinian_60.jpg\n",
            "Saving Abyssinian_61.jpg to Abyssinian_61.jpg\n",
            "Saving Abyssinian_62.jpg to Abyssinian_62.jpg\n",
            "Saving Abyssinian_63.jpg to Abyssinian_63.jpg\n",
            "Saving Abyssinian_65.jpg to Abyssinian_65.jpg\n",
            "Saving Abyssinian_66.jpg to Abyssinian_66.jpg\n",
            "Saving Abyssinian_67.jpg to Abyssinian_67.jpg\n",
            "Saving Abyssinian_68.jpg to Abyssinian_68.jpg\n",
            "Saving Abyssinian_69.jpg to Abyssinian_69.jpg\n",
            "Saving Abyssinian_70.jpg to Abyssinian_70.jpg\n",
            "Saving Abyssinian_71.jpg to Abyssinian_71.jpg\n",
            "Saving Abyssinian_72.jpg to Abyssinian_72.jpg\n",
            "Saving Abyssinian_73.jpg to Abyssinian_73.jpg\n",
            "Saving Abyssinian_74.jpg to Abyssinian_74.jpg\n",
            "Saving Abyssinian_75.jpg to Abyssinian_75.jpg\n",
            "Saving Abyssinian_76.jpg to Abyssinian_76.jpg\n",
            "Saving Abyssinian_77.jpg to Abyssinian_77.jpg\n",
            "Saving Abyssinian_78.jpg to Abyssinian_78.jpg\n",
            "Saving Abyssinian_79.jpg to Abyssinian_79.jpg\n",
            "Saving Abyssinian_80.jpg to Abyssinian_80.jpg\n",
            "Saving Abyssinian_81.jpg to Abyssinian_81.jpg\n",
            "Saving Abyssinian_82.jpg to Abyssinian_82.jpg\n",
            "Saving Abyssinian_83.jpg to Abyssinian_83.jpg\n",
            "Saving Abyssinian_84.jpg to Abyssinian_84.jpg\n",
            "Saving Abyssinian_85.jpg to Abyssinian_85.jpg\n",
            "Saving Abyssinian_86.jpg to Abyssinian_86.jpg\n",
            "Saving Abyssinian_87.jpg to Abyssinian_87.jpg\n",
            "Saving Abyssinian_88.jpg to Abyssinian_88.jpg\n",
            "Saving Abyssinian_89.jpg to Abyssinian_89.jpg\n",
            "Saving Abyssinian_90.jpg to Abyssinian_90.jpg\n",
            "Saving Abyssinian_91.jpg to Abyssinian_91.jpg\n",
            "Saving Abyssinian_92.jpg to Abyssinian_92.jpg\n",
            "Saving Abyssinian_93.jpg to Abyssinian_93.jpg\n",
            "Saving Abyssinian_94.jpg to Abyssinian_94.jpg\n",
            "Saving Abyssinian_95.jpg to Abyssinian_95.jpg\n",
            "Saving Abyssinian_96.jpg to Abyssinian_96.jpg\n",
            "Saving Abyssinian_97.jpg to Abyssinian_97.jpg\n",
            "Saving Abyssinian_98.jpg to Abyssinian_98.jpg\n",
            "Saving Abyssinian_99.jpg to Abyssinian_99.jpg\n",
            "Saving Abyssinian_100.jpg to Abyssinian_100.jpg\n",
            "Saving Abyssinian_101.jpg to Abyssinian_101.jpg\n",
            "Saving Abyssinian_102.jpg to Abyssinian_102.jpg\n",
            "Saving Abyssinian_103.jpg to Abyssinian_103.jpg\n",
            "Saving Abyssinian_104.jpg to Abyssinian_104.jpg\n",
            "Saving Abyssinian_105.jpg to Abyssinian_105.jpg\n",
            "Saving Abyssinian_106.jpg to Abyssinian_106.jpg\n",
            "Saving Abyssinian_107.jpg to Abyssinian_107.jpg\n",
            "Saving Abyssinian_108.jpg to Abyssinian_108.jpg\n",
            "Saving Abyssinian_109.jpg to Abyssinian_109.jpg\n",
            "Saving Abyssinian_110.jpg to Abyssinian_110.jpg\n",
            "Saving Abyssinian_111.jpg to Abyssinian_111.jpg\n",
            "Saving Abyssinian_112.jpg to Abyssinian_112.jpg\n",
            "Saving Abyssinian_113.jpg to Abyssinian_113.jpg\n",
            "Saving Abyssinian_114.jpg to Abyssinian_114.jpg\n",
            "Saving Abyssinian_115.jpg to Abyssinian_115.jpg\n",
            "Saving Abyssinian_116.jpg to Abyssinian_116.jpg\n",
            "Saving Abyssinian_117.jpg to Abyssinian_117.jpg\n",
            "Saving Abyssinian_118.jpg to Abyssinian_118.jpg\n",
            "Saving Abyssinian_119.jpg to Abyssinian_119.jpg\n",
            "Saving Abyssinian_120.jpg to Abyssinian_120.jpg\n",
            "Saving Abyssinian_121.jpg to Abyssinian_121.jpg\n",
            "Saving Abyssinian_122.jpg to Abyssinian_122.jpg\n",
            "Saving Abyssinian_123.jpg to Abyssinian_123.jpg\n",
            "Saving Abyssinian_124.jpg to Abyssinian_124.jpg\n",
            "Saving Abyssinian_125.jpg to Abyssinian_125.jpg\n",
            "Saving Abyssinian_126.jpg to Abyssinian_126.jpg\n",
            "Saving Abyssinian_127.jpg to Abyssinian_127.jpg\n",
            "Saving Abyssinian_128.jpg to Abyssinian_128.jpg\n",
            "Saving Abyssinian_129.jpg to Abyssinian_129.jpg\n",
            "Saving Abyssinian_130.jpg to Abyssinian_130.jpg\n",
            "Saving Abyssinian_131.jpg to Abyssinian_131.jpg\n",
            "Saving Abyssinian_132.jpg to Abyssinian_132.jpg\n",
            "Saving Abyssinian_133.jpg to Abyssinian_133.jpg\n",
            "Saving Abyssinian_134.jpg to Abyssinian_134.jpg\n",
            "Saving Abyssinian_135.jpg to Abyssinian_135.jpg\n",
            "Saving Abyssinian_136.jpg to Abyssinian_136.jpg\n",
            "Saving Abyssinian_137.jpg to Abyssinian_137.jpg\n",
            "Saving Abyssinian_138.jpg to Abyssinian_138.jpg\n",
            "Saving Abyssinian_139.jpg to Abyssinian_139.jpg\n",
            "Saving Abyssinian_140.jpg to Abyssinian_140.jpg\n",
            "Saving Abyssinian_141.jpg to Abyssinian_141.jpg\n",
            "Saving Abyssinian_142.jpg to Abyssinian_142.jpg\n",
            "Saving Abyssinian_143.jpg to Abyssinian_143.jpg\n",
            "Saving Abyssinian_144.jpg to Abyssinian_144.jpg\n",
            "Saving Abyssinian_145.jpg to Abyssinian_145.jpg\n",
            "Saving Abyssinian_146.jpg to Abyssinian_146.jpg\n",
            "Saving Abyssinian_148.jpg to Abyssinian_148.jpg\n",
            "Saving Abyssinian_149.jpg to Abyssinian_149.jpg\n",
            "Saving Abyssinian_150.jpg to Abyssinian_150.jpg\n",
            "Saving Abyssinian_151.jpg to Abyssinian_151.jpg\n",
            "Saving Abyssinian_152.jpg to Abyssinian_152.jpg\n",
            "Saving Abyssinian_153.jpg to Abyssinian_153.jpg\n",
            "Saving Abyssinian_154.jpg to Abyssinian_154.jpg\n",
            "Saving Abyssinian_155.jpg to Abyssinian_155.jpg\n",
            "Saving Abyssinian_156.jpg to Abyssinian_156.jpg\n",
            "Saving Abyssinian_157.jpg to Abyssinian_157.jpg\n",
            "Saving Abyssinian_158.jpg to Abyssinian_158.jpg\n",
            "Saving Abyssinian_159.jpg to Abyssinian_159.jpg\n",
            "Saving Abyssinian_160.jpg to Abyssinian_160.jpg\n",
            "Saving Abyssinian_161.jpg to Abyssinian_161.jpg\n",
            "Saving Abyssinian_164.jpg to Abyssinian_164.jpg\n",
            "Saving Abyssinian_165.jpg to Abyssinian_165.jpg\n",
            "Saving Abyssinian_166.jpg to Abyssinian_166.jpg\n",
            "Saving Abyssinian_167.jpg to Abyssinian_167.jpg\n",
            "Saving Abyssinian_168.jpg to Abyssinian_168.jpg\n",
            "Saving Abyssinian_169.jpg to Abyssinian_169.jpg\n",
            "Saving Abyssinian_170.jpg to Abyssinian_170.jpg\n",
            "Saving Abyssinian_172.jpg to Abyssinian_172.jpg\n",
            "Saving Abyssinian_173.jpg to Abyssinian_173.jpg\n",
            "Saving Abyssinian_174.jpg to Abyssinian_174.jpg\n",
            "Saving Abyssinian_175.jpg to Abyssinian_175.jpg\n",
            "Saving Abyssinian_176.jpg to Abyssinian_176.jpg\n",
            "Saving Abyssinian_177.jpg to Abyssinian_177.jpg\n",
            "Saving Abyssinian_178.jpg to Abyssinian_178.jpg\n",
            "Saving Abyssinian_179.jpg to Abyssinian_179.jpg\n",
            "Saving Abyssinian_180.jpg to Abyssinian_180.jpg\n",
            "Saving Abyssinian_181.jpg to Abyssinian_181.jpg\n",
            "Saving Abyssinian_182.jpg to Abyssinian_182.jpg\n",
            "Saving Abyssinian_183.jpg to Abyssinian_183.jpg\n",
            "Saving Abyssinian_184.jpg to Abyssinian_184.jpg\n",
            "Saving Abyssinian_185.jpg to Abyssinian_185.jpg\n",
            "Saving Abyssinian_190.jpg to Abyssinian_190.jpg\n",
            "Saving Abyssinian_191.jpg to Abyssinian_191.jpg\n",
            "Saving Abyssinian_192.jpg to Abyssinian_192.jpg\n",
            "Saving Abyssinian_193.jpg to Abyssinian_193.jpg\n",
            "Saving Abyssinian_195.jpg to Abyssinian_195.jpg\n",
            "Saving Abyssinian_196.jpg to Abyssinian_196.jpg\n",
            "Saving Abyssinian_197.jpg to Abyssinian_197.jpg\n",
            "Saving Abyssinian_201.jpg to Abyssinian_201.jpg\n",
            "Saving Abyssinian_202.jpg to Abyssinian_202.jpg\n",
            "Saving Abyssinian_204.jpg to Abyssinian_204.jpg\n",
            "Saving Abyssinian_205.jpg to Abyssinian_205.jpg\n",
            "Saving Abyssinian_206.jpg to Abyssinian_206.jpg\n",
            "Saving Abyssinian_207.jpg to Abyssinian_207.jpg\n",
            "Saving Abyssinian_210.jpg to Abyssinian_210.jpg\n",
            "Saving Abyssinian_212.jpg to Abyssinian_212.jpg\n",
            "Saving Abyssinian_213.jpg to Abyssinian_213.jpg\n",
            "Saving Abyssinian_215.jpg to Abyssinian_215.jpg\n",
            "Saving Abyssinian_216.jpg to Abyssinian_216.jpg\n",
            "Saving Abyssinian_217.jpg to Abyssinian_217.jpg\n",
            "Saving Abyssinian_219.jpg to Abyssinian_219.jpg\n",
            "Saving Abyssinian_220.jpg to Abyssinian_220.jpg\n",
            "Saving Abyssinian_221.jpg to Abyssinian_221.jpg\n",
            "Saving Abyssinian_223.jpg to Abyssinian_223.jpg\n",
            "Saving Abyssinian_224.jpg to Abyssinian_224.jpg\n",
            "Saving Abyssinian_225.jpg to Abyssinian_225.jpg\n",
            "Saving Abyssinian_226.jpg to Abyssinian_226.jpg\n",
            "Saving Abyssinian_228.jpg to Abyssinian_228.jpg\n",
            "Saving Abyssinian_230.jpg to Abyssinian_230.jpg\n",
            "Saving Abyssinian_232.jpg to Abyssinian_232.jpg\n",
            "Saving leonberger_1.jpg to leonberger_1.jpg\n",
            "Saving leonberger_2.jpg to leonberger_2.jpg\n",
            "Saving leonberger_3.jpg to leonberger_3.jpg\n",
            "Saving leonberger_4.jpg to leonberger_4.jpg\n",
            "Saving leonberger_5.jpg to leonberger_5.jpg\n",
            "Saving leonberger_6.jpg to leonberger_6.jpg\n",
            "Saving leonberger_7.jpg to leonberger_7.jpg\n",
            "Saving leonberger_8.jpg to leonberger_8.jpg\n",
            "Saving leonberger_9.jpg to leonberger_9.jpg\n",
            "Saving leonberger_10.jpg to leonberger_10.jpg\n",
            "Saving leonberger_11.jpg to leonberger_11.jpg\n",
            "Saving leonberger_12.jpg to leonberger_12.jpg\n",
            "Saving leonberger_13.jpg to leonberger_13.jpg\n",
            "Saving leonberger_14.jpg to leonberger_14.jpg\n",
            "Saving leonberger_15.jpg to leonberger_15.jpg\n",
            "Saving leonberger_16.jpg to leonberger_16.jpg\n",
            "Saving leonberger_17.jpg to leonberger_17.jpg\n",
            "Saving leonberger_18.jpg to leonberger_18.jpg\n",
            "Saving leonberger_19.jpg to leonberger_19.jpg\n",
            "Saving leonberger_20.jpg to leonberger_20.jpg\n",
            "Saving leonberger_21.jpg to leonberger_21.jpg\n",
            "Saving leonberger_22.jpg to leonberger_22.jpg\n",
            "Saving leonberger_23.jpg to leonberger_23.jpg\n",
            "Saving leonberger_24.jpg to leonberger_24.jpg\n",
            "Saving leonberger_25.jpg to leonberger_25.jpg\n",
            "Saving leonberger_26.jpg to leonberger_26.jpg\n",
            "Saving leonberger_27.jpg to leonberger_27.jpg\n",
            "Saving leonberger_28.jpg to leonberger_28.jpg\n",
            "Saving leonberger_29.jpg to leonberger_29.jpg\n",
            "Saving leonberger_30.jpg to leonberger_30.jpg\n",
            "Saving leonberger_31.jpg to leonberger_31.jpg\n",
            "Saving leonberger_32.jpg to leonberger_32.jpg\n",
            "Saving leonberger_33.jpg to leonberger_33.jpg\n",
            "Saving leonberger_34.jpg to leonberger_34.jpg\n",
            "Saving leonberger_35.jpg to leonberger_35.jpg\n",
            "Saving leonberger_36.jpg to leonberger_36.jpg\n",
            "Saving leonberger_37.jpg to leonberger_37.jpg\n",
            "Saving leonberger_38.jpg to leonberger_38.jpg\n",
            "Saving leonberger_39.jpg to leonberger_39.jpg\n",
            "Saving leonberger_40.jpg to leonberger_40.jpg\n",
            "Saving leonberger_41.jpg to leonberger_41.jpg\n",
            "Saving leonberger_42.jpg to leonberger_42.jpg\n",
            "Saving leonberger_43.jpg to leonberger_43.jpg\n",
            "Saving leonberger_44.jpg to leonberger_44.jpg\n",
            "Saving leonberger_45.jpg to leonberger_45.jpg\n",
            "Saving leonberger_46.jpg to leonberger_46.jpg\n",
            "Saving leonberger_47.jpg to leonberger_47.jpg\n",
            "Saving leonberger_48.jpg to leonberger_48.jpg\n",
            "Saving leonberger_49.jpg to leonberger_49.jpg\n",
            "Saving leonberger_50.jpg to leonberger_50.jpg\n",
            "Saving leonberger_51.jpg to leonberger_51.jpg\n",
            "Saving leonberger_52.jpg to leonberger_52.jpg\n",
            "Saving leonberger_53.jpg to leonberger_53.jpg\n",
            "Saving leonberger_54.jpg to leonberger_54.jpg\n",
            "Saving leonberger_55.jpg to leonberger_55.jpg\n",
            "Saving leonberger_56.jpg to leonberger_56.jpg\n",
            "Saving leonberger_57.jpg to leonberger_57.jpg\n",
            "Saving leonberger_58.jpg to leonberger_58.jpg\n",
            "Saving leonberger_59.jpg to leonberger_59.jpg\n",
            "Saving leonberger_60.jpg to leonberger_60.jpg\n",
            "Saving leonberger_61.jpg to leonberger_61.jpg\n",
            "Saving leonberger_62.jpg to leonberger_62.jpg\n",
            "Saving leonberger_63.jpg to leonberger_63.jpg\n",
            "Saving leonberger_64.jpg to leonberger_64.jpg\n",
            "Saving leonberger_65.jpg to leonberger_65.jpg\n",
            "Saving leonberger_66.jpg to leonberger_66.jpg\n",
            "Saving leonberger_67.jpg to leonberger_67.jpg\n",
            "Saving leonberger_68.jpg to leonberger_68.jpg\n",
            "Saving leonberger_69.jpg to leonberger_69.jpg\n",
            "Saving leonberger_70.jpg to leonberger_70.jpg\n",
            "Saving leonberger_71.jpg to leonberger_71.jpg\n",
            "Saving leonberger_72.jpg to leonberger_72.jpg\n",
            "Saving leonberger_73.jpg to leonberger_73.jpg\n",
            "Saving leonberger_74.jpg to leonberger_74.jpg\n",
            "Saving leonberger_75.jpg to leonberger_75.jpg\n",
            "Saving leonberger_76.jpg to leonberger_76.jpg\n",
            "Saving leonberger_77.jpg to leonberger_77.jpg\n",
            "Saving leonberger_78.jpg to leonberger_78.jpg\n",
            "Saving leonberger_79.jpg to leonberger_79.jpg\n",
            "Saving leonberger_80.jpg to leonberger_80.jpg\n",
            "Saving leonberger_81.jpg to leonberger_81.jpg\n",
            "Saving leonberger_82.jpg to leonberger_82.jpg\n",
            "Saving leonberger_83.jpg to leonberger_83.jpg\n",
            "Saving leonberger_84.jpg to leonberger_84.jpg\n",
            "Saving leonberger_85.jpg to leonberger_85.jpg\n",
            "Saving leonberger_86.jpg to leonberger_86.jpg\n",
            "Saving leonberger_87.jpg to leonberger_87.jpg\n",
            "Saving leonberger_88.jpg to leonberger_88.jpg\n",
            "Saving leonberger_89.jpg to leonberger_89.jpg\n",
            "Saving leonberger_90.jpg to leonberger_90.jpg\n",
            "Saving leonberger_91.jpg to leonberger_91.jpg\n",
            "Saving leonberger_92.jpg to leonberger_92.jpg\n",
            "Saving leonberger_93.jpg to leonberger_93.jpg\n",
            "Saving leonberger_94.jpg to leonberger_94.jpg\n",
            "Saving leonberger_95.jpg to leonberger_95.jpg\n",
            "Saving leonberger_96.jpg to leonberger_96.jpg\n",
            "Saving leonberger_97.jpg to leonberger_97.jpg\n",
            "Saving leonberger_98.jpg to leonberger_98.jpg\n",
            "Saving leonberger_99.jpg to leonberger_99.jpg\n",
            "Saving leonberger_100.jpg to leonberger_100.jpg\n",
            "Saving leonberger_101.jpg to leonberger_101.jpg\n",
            "Saving leonberger_102.jpg to leonberger_102.jpg\n",
            "Saving leonberger_103.jpg to leonberger_103.jpg\n",
            "Saving leonberger_104.jpg to leonberger_104.jpg\n",
            "Saving leonberger_105.jpg to leonberger_105.jpg\n",
            "Saving leonberger_106.jpg to leonberger_106.jpg\n",
            "Saving leonberger_107.jpg to leonberger_107.jpg\n",
            "Saving leonberger_108.jpg to leonberger_108.jpg\n",
            "Saving leonberger_109.jpg to leonberger_109.jpg\n",
            "Saving leonberger_110.jpg to leonberger_110.jpg\n",
            "Saving leonberger_111.jpg to leonberger_111.jpg\n",
            "Saving leonberger_112.jpg to leonberger_112.jpg\n",
            "Saving leonberger_113.jpg to leonberger_113.jpg\n",
            "Saving leonberger_114.jpg to leonberger_114.jpg\n",
            "Saving leonberger_115.jpg to leonberger_115.jpg\n",
            "Saving leonberger_116.jpg to leonberger_116.jpg\n",
            "Saving leonberger_117.jpg to leonberger_117.jpg\n",
            "Saving leonberger_118.jpg to leonberger_118.jpg\n",
            "Saving leonberger_119.jpg to leonberger_119.jpg\n",
            "Saving leonberger_120.jpg to leonberger_120.jpg\n",
            "Saving leonberger_121.jpg to leonberger_121.jpg\n",
            "Saving leonberger_122.jpg to leonberger_122.jpg\n",
            "Saving leonberger_123.jpg to leonberger_123.jpg\n",
            "Saving leonberger_124.jpg to leonberger_124.jpg\n",
            "Saving leonberger_125.jpg to leonberger_125.jpg\n",
            "Saving leonberger_126.jpg to leonberger_126.jpg\n",
            "Saving leonberger_127.jpg to leonberger_127.jpg\n",
            "Saving leonberger_128.jpg to leonberger_128.jpg\n",
            "Saving leonberger_129.jpg to leonberger_129.jpg\n",
            "Saving leonberger_130.jpg to leonberger_130.jpg\n",
            "Saving leonberger_131.jpg to leonberger_131.jpg\n",
            "Saving leonberger_132.jpg to leonberger_132.jpg\n",
            "Saving leonberger_133.jpg to leonberger_133.jpg\n",
            "Saving leonberger_134.jpg to leonberger_134.jpg\n",
            "Saving leonberger_135.jpg to leonberger_135.jpg\n",
            "Saving leonberger_136.jpg to leonberger_136.jpg\n",
            "Saving leonberger_137.jpg to leonberger_137.jpg\n",
            "Saving leonberger_138.jpg to leonberger_138.jpg\n",
            "Saving leonberger_139.jpg to leonberger_139.jpg\n",
            "Saving leonberger_140.jpg to leonberger_140.jpg\n",
            "Saving leonberger_141.jpg to leonberger_141.jpg\n",
            "Saving leonberger_142.jpg to leonberger_142.jpg\n",
            "Saving leonberger_143.jpg to leonberger_143.jpg\n",
            "Saving leonberger_144.jpg to leonberger_144.jpg\n",
            "Saving leonberger_145.jpg to leonberger_145.jpg\n",
            "Saving leonberger_146.jpg to leonberger_146.jpg\n",
            "Saving leonberger_147.jpg to leonberger_147.jpg\n",
            "Saving leonberger_148.jpg to leonberger_148.jpg\n",
            "Saving leonberger_149.jpg to leonberger_149.jpg\n",
            "Saving leonberger_150.jpg to leonberger_150.jpg\n",
            "Saving leonberger_151.jpg to leonberger_151.jpg\n",
            "Saving leonberger_152.jpg to leonberger_152.jpg\n",
            "Saving leonberger_153.jpg to leonberger_153.jpg\n",
            "Saving leonberger_154.jpg to leonberger_154.jpg\n",
            "Saving leonberger_155.jpg to leonberger_155.jpg\n",
            "Saving leonberger_156.jpg to leonberger_156.jpg\n",
            "Saving leonberger_157.jpg to leonberger_157.jpg\n",
            "Saving leonberger_158.jpg to leonberger_158.jpg\n",
            "Saving leonberger_159.jpg to leonberger_159.jpg\n",
            "Saving leonberger_160.jpg to leonberger_160.jpg\n",
            "Saving leonberger_161.jpg to leonberger_161.jpg\n",
            "Saving leonberger_162.jpg to leonberger_162.jpg\n",
            "Saving leonberger_163.jpg to leonberger_163.jpg\n",
            "Saving leonberger_164.jpg to leonberger_164.jpg\n",
            "Saving leonberger_165.jpg to leonberger_165.jpg\n",
            "Saving leonberger_166.jpg to leonberger_166.jpg\n",
            "Saving leonberger_167.jpg to leonberger_167.jpg\n",
            "Saving leonberger_168.jpg to leonberger_168.jpg\n",
            "Saving leonberger_169.jpg to leonberger_169.jpg\n",
            "Saving leonberger_170.jpg to leonberger_170.jpg\n",
            "Saving leonberger_171.jpg to leonberger_171.jpg\n",
            "Saving leonberger_172.jpg to leonberger_172.jpg\n",
            "Saving leonberger_173.jpg to leonberger_173.jpg\n",
            "Saving leonberger_174.jpg to leonberger_174.jpg\n",
            "Saving leonberger_175.jpg to leonberger_175.jpg\n",
            "Saving leonberger_176.jpg to leonberger_176.jpg\n",
            "Saving leonberger_177.jpg to leonberger_177.jpg\n",
            "Saving leonberger_178.jpg to leonberger_178.jpg\n",
            "Saving leonberger_179.jpg to leonberger_179.jpg\n",
            "Saving leonberger_180.jpg to leonberger_180.jpg\n",
            "Saving leonberger_181.jpg to leonberger_181.jpg\n",
            "Saving leonberger_182.jpg to leonberger_182.jpg\n",
            "Saving leonberger_183.jpg to leonberger_183.jpg\n",
            "Saving leonberger_184.jpg to leonberger_184.jpg\n",
            "Saving leonberger_185.jpg to leonberger_185.jpg\n",
            "Saving leonberger_186.jpg to leonberger_186.jpg\n",
            "Saving leonberger_187.jpg to leonberger_187.jpg\n",
            "Saving leonberger_188.jpg to leonberger_188.jpg\n",
            "Saving leonberger_189.jpg to leonberger_189.jpg\n",
            "Saving leonberger_190.jpg to leonberger_190.jpg\n",
            "Saving leonberger_191.jpg to leonberger_191.jpg\n",
            "Saving leonberger_192.jpg to leonberger_192.jpg\n",
            "Saving leonberger_193.jpg to leonberger_193.jpg\n",
            "Saving leonberger_194.jpg to leonberger_194.jpg\n",
            "Saving leonberger_195.jpg to leonberger_195.jpg\n",
            "Saving leonberger_196.jpg to leonberger_196.jpg\n",
            "Saving leonberger_197.jpg to leonberger_197.jpg\n",
            "Saving leonberger_198.jpg to leonberger_198.jpg\n",
            "Saving leonberger_199.jpg to leonberger_199.jpg\n",
            "Saving leonberger_200.jpg to leonberger_200.jpg\n",
            "Saving Persian_1.jpg to Persian_1.jpg\n",
            "Saving Persian_2.jpg to Persian_2.jpg\n",
            "Saving Persian_3.jpg to Persian_3.jpg\n",
            "Saving Persian_4.jpg to Persian_4.jpg\n",
            "Saving Persian_5.jpg to Persian_5.jpg\n",
            "Saving Persian_6.jpg to Persian_6.jpg\n",
            "Saving Persian_7.jpg to Persian_7.jpg\n",
            "Saving Persian_8.jpg to Persian_8.jpg\n",
            "Saving Persian_9.jpg to Persian_9.jpg\n",
            "Saving Persian_10.jpg to Persian_10.jpg\n",
            "Saving Persian_11.jpg to Persian_11.jpg\n",
            "Saving Persian_12.jpg to Persian_12.jpg\n",
            "Saving Persian_13.jpg to Persian_13.jpg\n",
            "Saving Persian_14.jpg to Persian_14.jpg\n",
            "Saving Persian_15.jpg to Persian_15.jpg\n",
            "Saving Persian_16.jpg to Persian_16.jpg\n",
            "Saving Persian_17.jpg to Persian_17.jpg\n",
            "Saving Persian_18.jpg to Persian_18.jpg\n",
            "Saving Persian_19.jpg to Persian_19.jpg\n",
            "Saving Persian_20.jpg to Persian_20.jpg\n",
            "Saving Persian_21.jpg to Persian_21.jpg\n",
            "Saving Persian_22.jpg to Persian_22.jpg\n",
            "Saving Persian_25.jpg to Persian_25.jpg\n",
            "Saving Persian_26.jpg to Persian_26.jpg\n",
            "Saving Persian_27.jpg to Persian_27.jpg\n",
            "Saving Persian_28.jpg to Persian_28.jpg\n",
            "Saving Persian_29.jpg to Persian_29.jpg\n",
            "Saving Persian_30.jpg to Persian_30.jpg\n",
            "Saving Persian_31.jpg to Persian_31.jpg\n",
            "Saving Persian_32.jpg to Persian_32.jpg\n",
            "Saving Persian_34.jpg to Persian_34.jpg\n",
            "Saving Persian_36.jpg to Persian_36.jpg\n",
            "Saving Persian_37.jpg to Persian_37.jpg\n",
            "Saving Persian_38.jpg to Persian_38.jpg\n",
            "Saving Persian_39.jpg to Persian_39.jpg\n",
            "Saving Persian_40.jpg to Persian_40.jpg\n",
            "Saving Persian_41.jpg to Persian_41.jpg\n",
            "Saving Persian_42.jpg to Persian_42.jpg\n",
            "Saving Persian_43.jpg to Persian_43.jpg\n",
            "Saving Persian_44.jpg to Persian_44.jpg\n",
            "Saving Persian_45.jpg to Persian_45.jpg\n",
            "Saving Persian_46.jpg to Persian_46.jpg\n",
            "Saving Persian_47.jpg to Persian_47.jpg\n",
            "Saving Persian_49.jpg to Persian_49.jpg\n",
            "Saving Persian_51.jpg to Persian_51.jpg\n",
            "Saving Persian_52.jpg to Persian_52.jpg\n",
            "Saving Persian_53.jpg to Persian_53.jpg\n",
            "Saving Persian_54.jpg to Persian_54.jpg\n",
            "Saving Persian_55.jpg to Persian_55.jpg\n",
            "Saving Persian_56.jpg to Persian_56.jpg\n",
            "Saving Persian_58.jpg to Persian_58.jpg\n",
            "Saving Persian_59.jpg to Persian_59.jpg\n",
            "Saving Persian_60.jpg to Persian_60.jpg\n",
            "Saving Persian_61.jpg to Persian_61.jpg\n",
            "Saving Persian_62.jpg to Persian_62.jpg\n",
            "Saving Persian_63.jpg to Persian_63.jpg\n",
            "Saving Persian_64.jpg to Persian_64.jpg\n",
            "Saving Persian_65.jpg to Persian_65.jpg\n",
            "Saving Persian_66.jpg to Persian_66.jpg\n",
            "Saving Persian_67.jpg to Persian_67.jpg\n",
            "Saving Persian_68.jpg to Persian_68.jpg\n",
            "Saving Persian_69.jpg to Persian_69.jpg\n",
            "Saving Persian_70.jpg to Persian_70.jpg\n",
            "Saving Persian_71.jpg to Persian_71.jpg\n",
            "Saving Persian_72.jpg to Persian_72.jpg\n",
            "Saving Persian_74.jpg to Persian_74.jpg\n",
            "Saving Persian_75.jpg to Persian_75.jpg\n",
            "Saving Persian_76.jpg to Persian_76.jpg\n",
            "Saving Persian_77.jpg to Persian_77.jpg\n",
            "Saving Persian_78.jpg to Persian_78.jpg\n",
            "Saving Persian_79.jpg to Persian_79.jpg\n",
            "Saving Persian_80.jpg to Persian_80.jpg\n",
            "Saving Persian_81.jpg to Persian_81.jpg\n",
            "Saving Persian_82.jpg to Persian_82.jpg\n",
            "Saving Persian_83.jpg to Persian_83.jpg\n",
            "Saving Persian_84.jpg to Persian_84.jpg\n",
            "Saving Persian_85.jpg to Persian_85.jpg\n",
            "Saving Persian_86.jpg to Persian_86.jpg\n",
            "Saving Persian_87.jpg to Persian_87.jpg\n",
            "Saving Persian_88.jpg to Persian_88.jpg\n",
            "Saving Persian_89.jpg to Persian_89.jpg\n",
            "Saving Persian_90.jpg to Persian_90.jpg\n",
            "Saving Persian_91.jpg to Persian_91.jpg\n",
            "Saving Persian_94.jpg to Persian_94.jpg\n",
            "Saving Persian_95.jpg to Persian_95.jpg\n",
            "Saving Persian_97.jpg to Persian_97.jpg\n",
            "Saving Persian_98.jpg to Persian_98.jpg\n",
            "Saving Persian_99.jpg to Persian_99.jpg\n",
            "Saving Persian_100.jpg to Persian_100.jpg\n",
            "Saving Persian_101.jpg to Persian_101.jpg\n",
            "Saving Persian_102.jpg to Persian_102.jpg\n",
            "Saving Persian_103.jpg to Persian_103.jpg\n",
            "Saving Persian_104.jpg to Persian_104.jpg\n",
            "Saving Persian_105.jpg to Persian_105.jpg\n",
            "Saving Persian_106.jpg to Persian_106.jpg\n",
            "Saving Persian_107.jpg to Persian_107.jpg\n",
            "Saving Persian_108.jpg to Persian_108.jpg\n",
            "Saving Persian_111.jpg to Persian_111.jpg\n",
            "Saving Persian_112.jpg to Persian_112.jpg\n",
            "Saving Persian_114.jpg to Persian_114.jpg\n",
            "Saving Persian_115.jpg to Persian_115.jpg\n",
            "Saving Persian_116.jpg to Persian_116.jpg\n",
            "Saving Persian_117.jpg to Persian_117.jpg\n",
            "Saving Persian_118.jpg to Persian_118.jpg\n",
            "Saving Persian_120.jpg to Persian_120.jpg\n",
            "Saving Persian_121.jpg to Persian_121.jpg\n",
            "Saving Persian_122.jpg to Persian_122.jpg\n",
            "Saving Persian_123.jpg to Persian_123.jpg\n",
            "Saving Persian_125.jpg to Persian_125.jpg\n",
            "Saving Persian_126.jpg to Persian_126.jpg\n",
            "Saving Persian_128.jpg to Persian_128.jpg\n",
            "Saving Persian_129.jpg to Persian_129.jpg\n",
            "Saving Persian_131.jpg to Persian_131.jpg\n",
            "Saving Persian_132.jpg to Persian_132.jpg\n",
            "Saving Persian_133.jpg to Persian_133.jpg\n",
            "Saving Persian_134.jpg to Persian_134.jpg\n",
            "Saving Persian_135.jpg to Persian_135.jpg\n",
            "Saving Persian_136.jpg to Persian_136.jpg\n",
            "Saving Persian_137.jpg to Persian_137.jpg\n",
            "Saving Persian_138.jpg to Persian_138.jpg\n",
            "Saving Persian_139.jpg to Persian_139.jpg\n",
            "Saving Persian_140.jpg to Persian_140.jpg\n",
            "Saving Persian_141.jpg to Persian_141.jpg\n",
            "Saving Persian_143.jpg to Persian_143.jpg\n",
            "Saving Persian_144.jpg to Persian_144.jpg\n",
            "Saving Persian_145.jpg to Persian_145.jpg\n",
            "Saving Persian_147.jpg to Persian_147.jpg\n",
            "Saving Persian_149.jpg to Persian_149.jpg\n",
            "Saving Persian_150.jpg to Persian_150.jpg\n",
            "Saving Persian_152.jpg to Persian_152.jpg\n",
            "Saving Persian_153.jpg to Persian_153.jpg\n",
            "Saving Persian_155.jpg to Persian_155.jpg\n",
            "Saving Persian_156.jpg to Persian_156.jpg\n",
            "Saving Persian_158.jpg to Persian_158.jpg\n",
            "Saving Persian_159.jpg to Persian_159.jpg\n",
            "Saving Persian_160.jpg to Persian_160.jpg\n",
            "Saving Persian_161.jpg to Persian_161.jpg\n",
            "Saving Persian_162.jpg to Persian_162.jpg\n",
            "Saving Persian_163.jpg to Persian_163.jpg\n",
            "Saving Persian_164.jpg to Persian_164.jpg\n",
            "Saving Persian_165.jpg to Persian_165.jpg\n",
            "Saving Persian_166.jpg to Persian_166.jpg\n",
            "Saving Persian_168.jpg to Persian_168.jpg\n",
            "Saving Persian_169.jpg to Persian_169.jpg\n",
            "Saving Persian_170.jpg to Persian_170.jpg\n",
            "Saving Persian_171.jpg to Persian_171.jpg\n",
            "Saving Persian_172.jpg to Persian_172.jpg\n",
            "Saving Persian_173.jpg to Persian_173.jpg\n",
            "Saving Persian_174.jpg to Persian_174.jpg\n",
            "Saving Persian_175.jpg to Persian_175.jpg\n",
            "Saving Persian_176.jpg to Persian_176.jpg\n",
            "Saving Persian_179.jpg to Persian_179.jpg\n",
            "Saving Persian_180.jpg to Persian_180.jpg\n",
            "Saving Persian_181.jpg to Persian_181.jpg\n",
            "Saving Persian_182.jpg to Persian_182.jpg\n",
            "Saving Persian_183.jpg to Persian_183.jpg\n",
            "Saving Persian_184.jpg to Persian_184.jpg\n",
            "Saving Persian_185.jpg to Persian_185.jpg\n",
            "Saving Persian_186.jpg to Persian_186.jpg\n",
            "Saving Persian_187.jpg to Persian_187.jpg\n",
            "Saving Persian_188.jpg to Persian_188.jpg\n",
            "Saving Persian_189.jpg to Persian_189.jpg\n",
            "Saving Persian_190.jpg to Persian_190.jpg\n",
            "Saving Persian_191.jpg to Persian_191.jpg\n",
            "Saving Persian_192.jpg to Persian_192.jpg\n",
            "Saving Persian_193.jpg to Persian_193.jpg\n",
            "Saving Persian_194.jpg to Persian_194.jpg\n",
            "Saving Persian_195.jpg to Persian_195.jpg\n",
            "Saving Persian_196.jpg to Persian_196.jpg\n",
            "Saving Persian_197.jpg to Persian_197.jpg\n",
            "Saving Persian_200.jpg to Persian_200.jpg\n",
            "Saving Persian_201.jpg to Persian_201.jpg\n",
            "Saving Persian_202.jpg to Persian_202.jpg\n",
            "Saving Persian_206.jpg to Persian_206.jpg\n",
            "Saving Persian_213.jpg to Persian_213.jpg\n",
            "Saving Persian_217.jpg to Persian_217.jpg\n",
            "Saving Persian_221.jpg to Persian_221.jpg\n",
            "Saving Persian_224.jpg to Persian_224.jpg\n",
            "Saving Persian_228.jpg to Persian_228.jpg\n",
            "Saving Persian_233.jpg to Persian_233.jpg\n",
            "Saving Persian_239.jpg to Persian_239.jpg\n",
            "Saving Persian_255.jpg to Persian_255.jpg\n",
            "Saving Persian_256.jpg to Persian_256.jpg\n",
            "Saving Persian_257.jpg to Persian_257.jpg\n",
            "Saving Persian_258.jpg to Persian_258.jpg\n",
            "Saving Persian_259.jpg to Persian_259.jpg\n",
            "Saving Persian_260.jpg to Persian_260.jpg\n",
            "Saving Persian_261.jpg to Persian_261.jpg\n",
            "Saving Persian_262.jpg to Persian_262.jpg\n",
            "Saving Persian_263.jpg to Persian_263.jpg\n",
            "Saving Persian_264.jpg to Persian_264.jpg\n",
            "Saving Persian_265.jpg to Persian_265.jpg\n",
            "Saving Persian_266.jpg to Persian_266.jpg\n",
            "Saving Persian_267.jpg to Persian_267.jpg\n",
            "Saving Persian_268.jpg to Persian_268.jpg\n",
            "Saving Persian_269.jpg to Persian_269.jpg\n",
            "Saving Persian_270.jpg to Persian_270.jpg\n",
            "Saving Persian_271.jpg to Persian_271.jpg\n",
            "Saving Persian_272.jpg to Persian_272.jpg\n",
            "Saving Persian_273.jpg to Persian_273.jpg\n",
            "Saving wheaten_terrier_1.jpg to wheaten_terrier_1.jpg\n",
            "Saving wheaten_terrier_2.jpg to wheaten_terrier_2.jpg\n",
            "Saving wheaten_terrier_3.jpg to wheaten_terrier_3.jpg\n",
            "Saving wheaten_terrier_4.jpg to wheaten_terrier_4.jpg\n",
            "Saving wheaten_terrier_5.jpg to wheaten_terrier_5.jpg\n",
            "Saving wheaten_terrier_6.jpg to wheaten_terrier_6.jpg\n",
            "Saving wheaten_terrier_7.jpg to wheaten_terrier_7.jpg\n",
            "Saving wheaten_terrier_8.jpg to wheaten_terrier_8.jpg\n",
            "Saving wheaten_terrier_9.jpg to wheaten_terrier_9.jpg\n",
            "Saving wheaten_terrier_10.jpg to wheaten_terrier_10.jpg\n",
            "Saving wheaten_terrier_11.jpg to wheaten_terrier_11.jpg\n",
            "Saving wheaten_terrier_12.jpg to wheaten_terrier_12.jpg\n",
            "Saving wheaten_terrier_13.jpg to wheaten_terrier_13.jpg\n",
            "Saving wheaten_terrier_14.jpg to wheaten_terrier_14.jpg\n",
            "Saving wheaten_terrier_15.jpg to wheaten_terrier_15.jpg\n",
            "Saving wheaten_terrier_16.jpg to wheaten_terrier_16.jpg\n",
            "Saving wheaten_terrier_17.jpg to wheaten_terrier_17.jpg\n",
            "Saving wheaten_terrier_18.jpg to wheaten_terrier_18.jpg\n",
            "Saving wheaten_terrier_19.jpg to wheaten_terrier_19.jpg\n",
            "Saving wheaten_terrier_20.jpg to wheaten_terrier_20.jpg\n",
            "Saving wheaten_terrier_21.jpg to wheaten_terrier_21.jpg\n",
            "Saving wheaten_terrier_22.jpg to wheaten_terrier_22.jpg\n",
            "Saving wheaten_terrier_23.jpg to wheaten_terrier_23.jpg\n",
            "Saving wheaten_terrier_24.jpg to wheaten_terrier_24.jpg\n",
            "Saving wheaten_terrier_25.jpg to wheaten_terrier_25.jpg\n",
            "Saving wheaten_terrier_26.jpg to wheaten_terrier_26.jpg\n",
            "Saving wheaten_terrier_27.jpg to wheaten_terrier_27.jpg\n",
            "Saving wheaten_terrier_28.jpg to wheaten_terrier_28.jpg\n",
            "Saving wheaten_terrier_29.jpg to wheaten_terrier_29.jpg\n",
            "Saving wheaten_terrier_30.jpg to wheaten_terrier_30.jpg\n",
            "Saving wheaten_terrier_31.jpg to wheaten_terrier_31.jpg\n",
            "Saving wheaten_terrier_32.jpg to wheaten_terrier_32.jpg\n",
            "Saving wheaten_terrier_33.jpg to wheaten_terrier_33.jpg\n",
            "Saving wheaten_terrier_34.jpg to wheaten_terrier_34.jpg\n",
            "Saving wheaten_terrier_35.jpg to wheaten_terrier_35.jpg\n",
            "Saving wheaten_terrier_36.jpg to wheaten_terrier_36.jpg\n",
            "Saving wheaten_terrier_37.jpg to wheaten_terrier_37.jpg\n",
            "Saving wheaten_terrier_38.jpg to wheaten_terrier_38.jpg\n",
            "Saving wheaten_terrier_39.jpg to wheaten_terrier_39.jpg\n",
            "Saving wheaten_terrier_40.jpg to wheaten_terrier_40.jpg\n",
            "Saving wheaten_terrier_41.jpg to wheaten_terrier_41.jpg\n",
            "Saving wheaten_terrier_42.jpg to wheaten_terrier_42.jpg\n",
            "Saving wheaten_terrier_43.jpg to wheaten_terrier_43.jpg\n",
            "Saving wheaten_terrier_44.jpg to wheaten_terrier_44.jpg\n",
            "Saving wheaten_terrier_45.jpg to wheaten_terrier_45.jpg\n",
            "Saving wheaten_terrier_46.jpg to wheaten_terrier_46.jpg\n",
            "Saving wheaten_terrier_47.jpg to wheaten_terrier_47.jpg\n",
            "Saving wheaten_terrier_48.jpg to wheaten_terrier_48.jpg\n",
            "Saving wheaten_terrier_49.jpg to wheaten_terrier_49.jpg\n",
            "Saving wheaten_terrier_50.jpg to wheaten_terrier_50.jpg\n",
            "Saving wheaten_terrier_51.jpg to wheaten_terrier_51.jpg\n",
            "Saving wheaten_terrier_52.jpg to wheaten_terrier_52.jpg\n",
            "Saving wheaten_terrier_53.jpg to wheaten_terrier_53.jpg\n",
            "Saving wheaten_terrier_54.jpg to wheaten_terrier_54.jpg\n",
            "Saving wheaten_terrier_55.jpg to wheaten_terrier_55.jpg\n",
            "Saving wheaten_terrier_56.jpg to wheaten_terrier_56.jpg\n",
            "Saving wheaten_terrier_57.jpg to wheaten_terrier_57.jpg\n",
            "Saving wheaten_terrier_58.jpg to wheaten_terrier_58.jpg\n",
            "Saving wheaten_terrier_59.jpg to wheaten_terrier_59.jpg\n",
            "Saving wheaten_terrier_60.jpg to wheaten_terrier_60.jpg\n",
            "Saving wheaten_terrier_61.jpg to wheaten_terrier_61.jpg\n",
            "Saving wheaten_terrier_62.jpg to wheaten_terrier_62.jpg\n",
            "Saving wheaten_terrier_63.jpg to wheaten_terrier_63.jpg\n",
            "Saving wheaten_terrier_64.jpg to wheaten_terrier_64.jpg\n",
            "Saving wheaten_terrier_65.jpg to wheaten_terrier_65.jpg\n",
            "Saving wheaten_terrier_66.jpg to wheaten_terrier_66.jpg\n",
            "Saving wheaten_terrier_67.jpg to wheaten_terrier_67.jpg\n",
            "Saving wheaten_terrier_68.jpg to wheaten_terrier_68.jpg\n",
            "Saving wheaten_terrier_69.jpg to wheaten_terrier_69.jpg\n",
            "Saving wheaten_terrier_70.jpg to wheaten_terrier_70.jpg\n",
            "Saving wheaten_terrier_71.jpg to wheaten_terrier_71.jpg\n",
            "Saving wheaten_terrier_72.jpg to wheaten_terrier_72.jpg\n",
            "Saving wheaten_terrier_73.jpg to wheaten_terrier_73.jpg\n",
            "Saving wheaten_terrier_74.jpg to wheaten_terrier_74.jpg\n",
            "Saving wheaten_terrier_75.jpg to wheaten_terrier_75.jpg\n",
            "Saving wheaten_terrier_76.jpg to wheaten_terrier_76.jpg\n",
            "Saving wheaten_terrier_77.jpg to wheaten_terrier_77.jpg\n",
            "Saving wheaten_terrier_78.jpg to wheaten_terrier_78.jpg\n",
            "Saving wheaten_terrier_79.jpg to wheaten_terrier_79.jpg\n",
            "Saving wheaten_terrier_80.jpg to wheaten_terrier_80.jpg\n",
            "Saving wheaten_terrier_81.jpg to wheaten_terrier_81.jpg\n",
            "Saving wheaten_terrier_82.jpg to wheaten_terrier_82.jpg\n",
            "Saving wheaten_terrier_83.jpg to wheaten_terrier_83.jpg\n",
            "Saving wheaten_terrier_84.jpg to wheaten_terrier_84.jpg\n",
            "Saving wheaten_terrier_85.jpg to wheaten_terrier_85.jpg\n",
            "Saving wheaten_terrier_86.jpg to wheaten_terrier_86.jpg\n",
            "Saving wheaten_terrier_87.jpg to wheaten_terrier_87.jpg\n",
            "Saving wheaten_terrier_88.jpg to wheaten_terrier_88.jpg\n",
            "Saving wheaten_terrier_89.jpg to wheaten_terrier_89.jpg\n",
            "Saving wheaten_terrier_90.jpg to wheaten_terrier_90.jpg\n",
            "Saving wheaten_terrier_91.jpg to wheaten_terrier_91.jpg\n",
            "Saving wheaten_terrier_92.jpg to wheaten_terrier_92.jpg\n",
            "Saving wheaten_terrier_93.jpg to wheaten_terrier_93.jpg\n",
            "Saving wheaten_terrier_94.jpg to wheaten_terrier_94.jpg\n",
            "Saving wheaten_terrier_95.jpg to wheaten_terrier_95.jpg\n",
            "Saving wheaten_terrier_96.jpg to wheaten_terrier_96.jpg\n",
            "Saving wheaten_terrier_97.jpg to wheaten_terrier_97.jpg\n",
            "Saving wheaten_terrier_98.jpg to wheaten_terrier_98.jpg\n",
            "Saving wheaten_terrier_99.jpg to wheaten_terrier_99.jpg\n",
            "Saving wheaten_terrier_100.jpg to wheaten_terrier_100.jpg\n",
            "Saving wheaten_terrier_101.jpg to wheaten_terrier_101.jpg\n",
            "Saving wheaten_terrier_102.jpg to wheaten_terrier_102.jpg\n",
            "Saving wheaten_terrier_103.jpg to wheaten_terrier_103.jpg\n",
            "Saving wheaten_terrier_104.jpg to wheaten_terrier_104.jpg\n",
            "Saving wheaten_terrier_105.jpg to wheaten_terrier_105.jpg\n",
            "Saving wheaten_terrier_106.jpg to wheaten_terrier_106.jpg\n",
            "Saving wheaten_terrier_107.jpg to wheaten_terrier_107.jpg\n",
            "Saving wheaten_terrier_108.jpg to wheaten_terrier_108.jpg\n",
            "Saving wheaten_terrier_109.jpg to wheaten_terrier_109.jpg\n",
            "Saving wheaten_terrier_110.jpg to wheaten_terrier_110.jpg\n",
            "Saving wheaten_terrier_111.jpg to wheaten_terrier_111.jpg\n",
            "Saving wheaten_terrier_112.jpg to wheaten_terrier_112.jpg\n",
            "Saving wheaten_terrier_113.jpg to wheaten_terrier_113.jpg\n",
            "Saving wheaten_terrier_114.jpg to wheaten_terrier_114.jpg\n",
            "Saving wheaten_terrier_115.jpg to wheaten_terrier_115.jpg\n",
            "Saving wheaten_terrier_116.jpg to wheaten_terrier_116.jpg\n",
            "Saving wheaten_terrier_117.jpg to wheaten_terrier_117.jpg\n",
            "Saving wheaten_terrier_118.jpg to wheaten_terrier_118.jpg\n",
            "Saving wheaten_terrier_119.jpg to wheaten_terrier_119.jpg\n",
            "Saving wheaten_terrier_120.jpg to wheaten_terrier_120.jpg\n",
            "Saving wheaten_terrier_121.jpg to wheaten_terrier_121.jpg\n",
            "Saving wheaten_terrier_122.jpg to wheaten_terrier_122.jpg\n",
            "Saving wheaten_terrier_123.jpg to wheaten_terrier_123.jpg\n",
            "Saving wheaten_terrier_124.jpg to wheaten_terrier_124.jpg\n",
            "Saving wheaten_terrier_125.jpg to wheaten_terrier_125.jpg\n",
            "Saving wheaten_terrier_126.jpg to wheaten_terrier_126.jpg\n",
            "Saving wheaten_terrier_127.jpg to wheaten_terrier_127.jpg\n",
            "Saving wheaten_terrier_128.jpg to wheaten_terrier_128.jpg\n",
            "Saving wheaten_terrier_129.jpg to wheaten_terrier_129.jpg\n",
            "Saving wheaten_terrier_130.jpg to wheaten_terrier_130.jpg\n",
            "Saving wheaten_terrier_131.jpg to wheaten_terrier_131.jpg\n",
            "Saving wheaten_terrier_132.jpg to wheaten_terrier_132.jpg\n",
            "Saving wheaten_terrier_133.jpg to wheaten_terrier_133.jpg\n",
            "Saving wheaten_terrier_134.jpg to wheaten_terrier_134.jpg\n",
            "Saving wheaten_terrier_135.jpg to wheaten_terrier_135.jpg\n",
            "Saving wheaten_terrier_136.jpg to wheaten_terrier_136.jpg\n",
            "Saving wheaten_terrier_137.jpg to wheaten_terrier_137.jpg\n",
            "Saving wheaten_terrier_138.jpg to wheaten_terrier_138.jpg\n",
            "Saving wheaten_terrier_139.jpg to wheaten_terrier_139.jpg\n",
            "Saving wheaten_terrier_140.jpg to wheaten_terrier_140.jpg\n",
            "Saving wheaten_terrier_141.jpg to wheaten_terrier_141.jpg\n",
            "Saving wheaten_terrier_142.jpg to wheaten_terrier_142.jpg\n",
            "Saving wheaten_terrier_143.jpg to wheaten_terrier_143.jpg\n",
            "Saving wheaten_terrier_144.jpg to wheaten_terrier_144.jpg\n",
            "Saving wheaten_terrier_145.jpg to wheaten_terrier_145.jpg\n",
            "Saving wheaten_terrier_146.jpg to wheaten_terrier_146.jpg\n",
            "Saving wheaten_terrier_147.jpg to wheaten_terrier_147.jpg\n",
            "Saving wheaten_terrier_148.jpg to wheaten_terrier_148.jpg\n",
            "Saving wheaten_terrier_149.jpg to wheaten_terrier_149.jpg\n",
            "Saving wheaten_terrier_150.jpg to wheaten_terrier_150.jpg\n",
            "Saving wheaten_terrier_151.jpg to wheaten_terrier_151.jpg\n",
            "Saving wheaten_terrier_152.jpg to wheaten_terrier_152.jpg\n",
            "Saving wheaten_terrier_153.jpg to wheaten_terrier_153.jpg\n",
            "Saving wheaten_terrier_154.jpg to wheaten_terrier_154.jpg\n",
            "Saving wheaten_terrier_155.jpg to wheaten_terrier_155.jpg\n",
            "Saving wheaten_terrier_156.jpg to wheaten_terrier_156.jpg\n",
            "Saving wheaten_terrier_157.jpg to wheaten_terrier_157.jpg\n",
            "Saving wheaten_terrier_158.jpg to wheaten_terrier_158.jpg\n",
            "Saving wheaten_terrier_159.jpg to wheaten_terrier_159.jpg\n",
            "Saving wheaten_terrier_160.jpg to wheaten_terrier_160.jpg\n",
            "Saving wheaten_terrier_161.jpg to wheaten_terrier_161.jpg\n",
            "Saving wheaten_terrier_162.jpg to wheaten_terrier_162.jpg\n",
            "Saving wheaten_terrier_163.jpg to wheaten_terrier_163.jpg\n",
            "Saving wheaten_terrier_164.jpg to wheaten_terrier_164.jpg\n",
            "Saving wheaten_terrier_165.jpg to wheaten_terrier_165.jpg\n",
            "Saving wheaten_terrier_166.jpg to wheaten_terrier_166.jpg\n",
            "Saving wheaten_terrier_167.jpg to wheaten_terrier_167.jpg\n",
            "Saving wheaten_terrier_168.jpg to wheaten_terrier_168.jpg\n",
            "Saving wheaten_terrier_169.jpg to wheaten_terrier_169.jpg\n",
            "Saving wheaten_terrier_170.jpg to wheaten_terrier_170.jpg\n",
            "Saving wheaten_terrier_171.jpg to wheaten_terrier_171.jpg\n",
            "Saving wheaten_terrier_172.jpg to wheaten_terrier_172.jpg\n",
            "Saving wheaten_terrier_173.jpg to wheaten_terrier_173.jpg\n",
            "Saving wheaten_terrier_174.jpg to wheaten_terrier_174.jpg\n",
            "Saving wheaten_terrier_175.jpg to wheaten_terrier_175.jpg\n",
            "Saving wheaten_terrier_176.jpg to wheaten_terrier_176.jpg\n",
            "Saving wheaten_terrier_177.jpg to wheaten_terrier_177.jpg\n",
            "Saving wheaten_terrier_178.jpg to wheaten_terrier_178.jpg\n",
            "Saving wheaten_terrier_179.jpg to wheaten_terrier_179.jpg\n",
            "Saving wheaten_terrier_180.jpg to wheaten_terrier_180.jpg\n",
            "Saving wheaten_terrier_181.jpg to wheaten_terrier_181.jpg\n",
            "Saving wheaten_terrier_182.jpg to wheaten_terrier_182.jpg\n",
            "Saving wheaten_terrier_183.jpg to wheaten_terrier_183.jpg\n",
            "Saving wheaten_terrier_184.jpg to wheaten_terrier_184.jpg\n",
            "Saving wheaten_terrier_185.jpg to wheaten_terrier_185.jpg\n",
            "Saving wheaten_terrier_186.jpg to wheaten_terrier_186.jpg\n",
            "Saving wheaten_terrier_187.jpg to wheaten_terrier_187.jpg\n",
            "Saving wheaten_terrier_188.jpg to wheaten_terrier_188.jpg\n",
            "Saving wheaten_terrier_189.jpg to wheaten_terrier_189.jpg\n",
            "Saving wheaten_terrier_190.jpg to wheaten_terrier_190.jpg\n",
            "Saving wheaten_terrier_191.jpg to wheaten_terrier_191.jpg\n",
            "Saving wheaten_terrier_192.jpg to wheaten_terrier_192.jpg\n",
            "Saving wheaten_terrier_193.jpg to wheaten_terrier_193.jpg\n",
            "Saving wheaten_terrier_194.jpg to wheaten_terrier_194.jpg\n",
            "Saving wheaten_terrier_195.jpg to wheaten_terrier_195.jpg\n",
            "Saving wheaten_terrier_196.jpg to wheaten_terrier_196.jpg\n",
            "Saving wheaten_terrier_197.jpg to wheaten_terrier_197.jpg\n",
            "Saving wheaten_terrier_198.jpg to wheaten_terrier_198.jpg\n",
            "Saving wheaten_terrier_199.jpg to wheaten_terrier_199.jpg\n",
            "Saving wheaten_terrier_200.jpg to wheaten_terrier_200.jpg\n"
          ]
        }
      ],
      "source": [
        "## Importando as libs necessárias\n",
        "from google.colab import files\n",
        "import os, io, time\n",
        "\n",
        "# Criando o diretório inicial: /content/\n",
        "os.chdir('/content/')\n",
        "try:\n",
        "  os.mkdir('Imagens', )\n",
        "except:\n",
        "  print('A pasta já existe.')\n",
        "os.chdir('./Imagens')\n",
        "os.listdir()\n",
        "uploaded_images = files.upload()"
      ]
    },
    {
      "cell_type": "markdown",
      "source": [
        "# HOG COM PCA"
      ],
      "metadata": {
        "id": "wCBX15ds4fRN"
      }
    },
    {
      "cell_type": "markdown",
      "source": [
        "## Aplicando HOG e PCA"
      ],
      "metadata": {
        "id": "Ne41VyI_IUHq"
      }
    },
    {
      "cell_type": "code",
      "source": [
        "## Reduzir as imagens\n",
        "from skimage.io import imread, imshow\n",
        "from skimage.transform import resize\n",
        "from skimage.feature import hog\n",
        "## pandas\n",
        "import pandas as pd\n",
        "## Importando PCA do SkLearn\n",
        "from sklearn.decomposition import PCA\n",
        "\n",
        "hogs = [16,20,24,28,32,40]\n",
        "pcas = [.10,.15,.20,.25,.30,.35,.40,.45,.50,.55,.60,.65,.70,.75,.80,.85,.90,.95]\n",
        "\n",
        "\n",
        "hogs_pcas = []\n",
        "\n",
        "for hog_size in hogs:\n",
        "  hog_features = []\n",
        "  for filename in uploaded_images.keys():\n",
        "    image = imread(filename)\n",
        "    image_resized = resize(image, (128,128))\n",
        "    fd, hog_image = hog(image_resized, orientations=9, pixels_per_cell=(hog_size, hog_size),\n",
        "                      cells_per_block=(2, 2), visualize=True, channel_axis=-1)\n",
        "    hog_features.append(fd)\n",
        "\n",
        "  ## Adicionar as colunas com os valores do hog para cada um\n",
        "  data = {\"pathfile\": uploaded_images.keys(), \"hog_features\": hog_features}\n",
        "  df = pd.DataFrame(data)\n",
        "  df['classe'] = df['pathfile'].str.split('_').str[0]\n",
        "  df = df.drop('pathfile', axis=1)\n",
        "\n",
        "  # transformando cada valor do hog_feature em um atributo (coluna)\n",
        "  df2 = pd.DataFrame(df['hog_features'].tolist())\n",
        "  df2.columns = df2.columns.map(lambda x: f'hog_feature_{x+1}')\n",
        "  df = pd.concat([df.drop('hog_features', axis=1), df2], axis=1)\n",
        "\n",
        "  # ----- COMEÇANDO PCA ------\n",
        "  for porcent in pcas:\n",
        "    y = df.classe # Target variable (classe)\n",
        "    X = df.copy().drop('classe', axis=1) # Features\n",
        "\n",
        "    ##pca_obj = PCA(n_components=4) #para dizer quantos componentes quero ter\n",
        "    pca_obj = PCA(n_components=porcent, whiten=True) #qual porcentagem de informação eu quero\n",
        "    pca_result = pca_obj.fit_transform(X)\n",
        "\n",
        "    print(f'hog de {hog_size}x{hog_size} e pca de {porcent}')\n",
        "    print(f'shape: {pca_result.shape}')\n",
        "    print()\n",
        "\n",
        "    colunas = []\n",
        "    for i in range(pca_result.shape[1]):\n",
        "      colunas.append('pca_'+str(i))\n",
        "\n",
        "    pca_dataset = pd.DataFrame(data = pca_result, columns = colunas) # Atual\n",
        "\n",
        "    ## Juntando o atributo classe\n",
        "    final_data = pca_dataset.join(y)\n",
        "\n",
        "    # Salvando Pessoa.csv transformado\n",
        "    df_hog_pca = pd.DataFrame(final_data)\n",
        "    df_hog_pca.to_csv(f'{hog_size}x{hog_size}_pca-{porcent}.csv', index=False)\n",
        "\n",
        "    # Importando arquivo transformado\n",
        "    from google.colab import files\n",
        "    files.download(f'{hog_size}x{hog_size}_pca-{porcent}.csv')\n",
        "    hogs_pcas.append([hog_size, porcent, df_hog_pca])\n",
        "\n"
      ],
      "metadata": {
        "id": "Wg3MMTSgoRcF",
        "colab": {
          "base_uri": "https://localhost:8080/",
          "height": 1000
        },
        "outputId": "cb1b6a80-8dfb-47d6-99ba-a1ea5a7e5464"
      },
      "execution_count": 2,
      "outputs": [
        {
          "output_type": "stream",
          "name": "stdout",
          "text": [
            "hog de 16x16 e pca de 0.1\n",
            "shape: (800, 2)\n",
            "\n"
          ]
        },
        {
          "output_type": "display_data",
          "data": {
            "text/plain": [
              "<IPython.core.display.Javascript object>"
            ],
            "application/javascript": [
              "\n",
              "    async function download(id, filename, size) {\n",
              "      if (!google.colab.kernel.accessAllowed) {\n",
              "        return;\n",
              "      }\n",
              "      const div = document.createElement('div');\n",
              "      const label = document.createElement('label');\n",
              "      label.textContent = `Downloading \"${filename}\": `;\n",
              "      div.appendChild(label);\n",
              "      const progress = document.createElement('progress');\n",
              "      progress.max = size;\n",
              "      div.appendChild(progress);\n",
              "      document.body.appendChild(div);\n",
              "\n",
              "      const buffers = [];\n",
              "      let downloaded = 0;\n",
              "\n",
              "      const channel = await google.colab.kernel.comms.open(id);\n",
              "      // Send a message to notify the kernel that we're ready.\n",
              "      channel.send({})\n",
              "\n",
              "      for await (const message of channel.messages) {\n",
              "        // Send a message to notify the kernel that we're ready.\n",
              "        channel.send({})\n",
              "        if (message.buffers) {\n",
              "          for (const buffer of message.buffers) {\n",
              "            buffers.push(buffer);\n",
              "            downloaded += buffer.byteLength;\n",
              "            progress.value = downloaded;\n",
              "          }\n",
              "        }\n",
              "      }\n",
              "      const blob = new Blob(buffers, {type: 'application/binary'});\n",
              "      const a = document.createElement('a');\n",
              "      a.href = window.URL.createObjectURL(blob);\n",
              "      a.download = filename;\n",
              "      div.appendChild(a);\n",
              "      a.click();\n",
              "      div.remove();\n",
              "    }\n",
              "  "
            ]
          },
          "metadata": {}
        },
        {
          "output_type": "display_data",
          "data": {
            "text/plain": [
              "<IPython.core.display.Javascript object>"
            ],
            "application/javascript": [
              "download(\"download_195bdf18-0cbb-4e3c-a6b7-2efe33d2a372\", \"16x16_pca-0.1.csv\", 38966)"
            ]
          },
          "metadata": {}
        },
        {
          "output_type": "stream",
          "name": "stdout",
          "text": [
            "hog de 16x16 e pca de 0.15\n",
            "shape: (800, 4)\n",
            "\n"
          ]
        },
        {
          "output_type": "display_data",
          "data": {
            "text/plain": [
              "<IPython.core.display.Javascript object>"
            ],
            "application/javascript": [
              "\n",
              "    async function download(id, filename, size) {\n",
              "      if (!google.colab.kernel.accessAllowed) {\n",
              "        return;\n",
              "      }\n",
              "      const div = document.createElement('div');\n",
              "      const label = document.createElement('label');\n",
              "      label.textContent = `Downloading \"${filename}\": `;\n",
              "      div.appendChild(label);\n",
              "      const progress = document.createElement('progress');\n",
              "      progress.max = size;\n",
              "      div.appendChild(progress);\n",
              "      document.body.appendChild(div);\n",
              "\n",
              "      const buffers = [];\n",
              "      let downloaded = 0;\n",
              "\n",
              "      const channel = await google.colab.kernel.comms.open(id);\n",
              "      // Send a message to notify the kernel that we're ready.\n",
              "      channel.send({})\n",
              "\n",
              "      for await (const message of channel.messages) {\n",
              "        // Send a message to notify the kernel that we're ready.\n",
              "        channel.send({})\n",
              "        if (message.buffers) {\n",
              "          for (const buffer of message.buffers) {\n",
              "            buffers.push(buffer);\n",
              "            downloaded += buffer.byteLength;\n",
              "            progress.value = downloaded;\n",
              "          }\n",
              "        }\n",
              "      }\n",
              "      const blob = new Blob(buffers, {type: 'application/binary'});\n",
              "      const a = document.createElement('a');\n",
              "      a.href = window.URL.createObjectURL(blob);\n",
              "      a.download = filename;\n",
              "      div.appendChild(a);\n",
              "      a.click();\n",
              "      div.remove();\n",
              "    }\n",
              "  "
            ]
          },
          "metadata": {}
        },
        {
          "output_type": "display_data",
          "data": {
            "text/plain": [
              "<IPython.core.display.Javascript object>"
            ],
            "application/javascript": [
              "download(\"download_acc943c1-b269-4807-94d0-8c3919cfc6f1\", \"16x16_pca-0.15.csv\", 70405)"
            ]
          },
          "metadata": {}
        },
        {
          "output_type": "stream",
          "name": "stdout",
          "text": [
            "hog de 16x16 e pca de 0.2\n",
            "shape: (800, 7)\n",
            "\n"
          ]
        },
        {
          "output_type": "display_data",
          "data": {
            "text/plain": [
              "<IPython.core.display.Javascript object>"
            ],
            "application/javascript": [
              "\n",
              "    async function download(id, filename, size) {\n",
              "      if (!google.colab.kernel.accessAllowed) {\n",
              "        return;\n",
              "      }\n",
              "      const div = document.createElement('div');\n",
              "      const label = document.createElement('label');\n",
              "      label.textContent = `Downloading \"${filename}\": `;\n",
              "      div.appendChild(label);\n",
              "      const progress = document.createElement('progress');\n",
              "      progress.max = size;\n",
              "      div.appendChild(progress);\n",
              "      document.body.appendChild(div);\n",
              "\n",
              "      const buffers = [];\n",
              "      let downloaded = 0;\n",
              "\n",
              "      const channel = await google.colab.kernel.comms.open(id);\n",
              "      // Send a message to notify the kernel that we're ready.\n",
              "      channel.send({})\n",
              "\n",
              "      for await (const message of channel.messages) {\n",
              "        // Send a message to notify the kernel that we're ready.\n",
              "        channel.send({})\n",
              "        if (message.buffers) {\n",
              "          for (const buffer of message.buffers) {\n",
              "            buffers.push(buffer);\n",
              "            downloaded += buffer.byteLength;\n",
              "            progress.value = downloaded;\n",
              "          }\n",
              "        }\n",
              "      }\n",
              "      const blob = new Blob(buffers, {type: 'application/binary'});\n",
              "      const a = document.createElement('a');\n",
              "      a.href = window.URL.createObjectURL(blob);\n",
              "      a.download = filename;\n",
              "      div.appendChild(a);\n",
              "      a.click();\n",
              "      div.remove();\n",
              "    }\n",
              "  "
            ]
          },
          "metadata": {}
        },
        {
          "output_type": "display_data",
          "data": {
            "text/plain": [
              "<IPython.core.display.Javascript object>"
            ],
            "application/javascript": [
              "download(\"download_16b25676-4c4c-4b1c-a696-a2fbb8db57ab\", \"16x16_pca-0.2.csv\", 117582)"
            ]
          },
          "metadata": {}
        },
        {
          "output_type": "stream",
          "name": "stdout",
          "text": [
            "hog de 16x16 e pca de 0.25\n",
            "shape: (800, 10)\n",
            "\n"
          ]
        },
        {
          "output_type": "display_data",
          "data": {
            "text/plain": [
              "<IPython.core.display.Javascript object>"
            ],
            "application/javascript": [
              "\n",
              "    async function download(id, filename, size) {\n",
              "      if (!google.colab.kernel.accessAllowed) {\n",
              "        return;\n",
              "      }\n",
              "      const div = document.createElement('div');\n",
              "      const label = document.createElement('label');\n",
              "      label.textContent = `Downloading \"${filename}\": `;\n",
              "      div.appendChild(label);\n",
              "      const progress = document.createElement('progress');\n",
              "      progress.max = size;\n",
              "      div.appendChild(progress);\n",
              "      document.body.appendChild(div);\n",
              "\n",
              "      const buffers = [];\n",
              "      let downloaded = 0;\n",
              "\n",
              "      const channel = await google.colab.kernel.comms.open(id);\n",
              "      // Send a message to notify the kernel that we're ready.\n",
              "      channel.send({})\n",
              "\n",
              "      for await (const message of channel.messages) {\n",
              "        // Send a message to notify the kernel that we're ready.\n",
              "        channel.send({})\n",
              "        if (message.buffers) {\n",
              "          for (const buffer of message.buffers) {\n",
              "            buffers.push(buffer);\n",
              "            downloaded += buffer.byteLength;\n",
              "            progress.value = downloaded;\n",
              "          }\n",
              "        }\n",
              "      }\n",
              "      const blob = new Blob(buffers, {type: 'application/binary'});\n",
              "      const a = document.createElement('a');\n",
              "      a.href = window.URL.createObjectURL(blob);\n",
              "      a.download = filename;\n",
              "      div.appendChild(a);\n",
              "      a.click();\n",
              "      div.remove();\n",
              "    }\n",
              "  "
            ]
          },
          "metadata": {}
        },
        {
          "output_type": "display_data",
          "data": {
            "text/plain": [
              "<IPython.core.display.Javascript object>"
            ],
            "application/javascript": [
              "download(\"download_41dbf04b-c125-4abd-a2f7-ce25ba7acc30\", \"16x16_pca-0.25.csv\", 164817)"
            ]
          },
          "metadata": {}
        },
        {
          "output_type": "stream",
          "name": "stdout",
          "text": [
            "hog de 16x16 e pca de 0.3\n",
            "shape: (800, 14)\n",
            "\n"
          ]
        },
        {
          "output_type": "display_data",
          "data": {
            "text/plain": [
              "<IPython.core.display.Javascript object>"
            ],
            "application/javascript": [
              "\n",
              "    async function download(id, filename, size) {\n",
              "      if (!google.colab.kernel.accessAllowed) {\n",
              "        return;\n",
              "      }\n",
              "      const div = document.createElement('div');\n",
              "      const label = document.createElement('label');\n",
              "      label.textContent = `Downloading \"${filename}\": `;\n",
              "      div.appendChild(label);\n",
              "      const progress = document.createElement('progress');\n",
              "      progress.max = size;\n",
              "      div.appendChild(progress);\n",
              "      document.body.appendChild(div);\n",
              "\n",
              "      const buffers = [];\n",
              "      let downloaded = 0;\n",
              "\n",
              "      const channel = await google.colab.kernel.comms.open(id);\n",
              "      // Send a message to notify the kernel that we're ready.\n",
              "      channel.send({})\n",
              "\n",
              "      for await (const message of channel.messages) {\n",
              "        // Send a message to notify the kernel that we're ready.\n",
              "        channel.send({})\n",
              "        if (message.buffers) {\n",
              "          for (const buffer of message.buffers) {\n",
              "            buffers.push(buffer);\n",
              "            downloaded += buffer.byteLength;\n",
              "            progress.value = downloaded;\n",
              "          }\n",
              "        }\n",
              "      }\n",
              "      const blob = new Blob(buffers, {type: 'application/binary'});\n",
              "      const a = document.createElement('a');\n",
              "      a.href = window.URL.createObjectURL(blob);\n",
              "      a.download = filename;\n",
              "      div.appendChild(a);\n",
              "      a.click();\n",
              "      div.remove();\n",
              "    }\n",
              "  "
            ]
          },
          "metadata": {}
        },
        {
          "output_type": "display_data",
          "data": {
            "text/plain": [
              "<IPython.core.display.Javascript object>"
            ],
            "application/javascript": [
              "download(\"download_a6b4172d-608a-4325-9b03-1f0fd37f43be\", \"16x16_pca-0.3.csv\", 227761)"
            ]
          },
          "metadata": {}
        },
        {
          "output_type": "stream",
          "name": "stdout",
          "text": [
            "hog de 16x16 e pca de 0.35\n",
            "shape: (800, 19)\n",
            "\n"
          ]
        },
        {
          "output_type": "display_data",
          "data": {
            "text/plain": [
              "<IPython.core.display.Javascript object>"
            ],
            "application/javascript": [
              "\n",
              "    async function download(id, filename, size) {\n",
              "      if (!google.colab.kernel.accessAllowed) {\n",
              "        return;\n",
              "      }\n",
              "      const div = document.createElement('div');\n",
              "      const label = document.createElement('label');\n",
              "      label.textContent = `Downloading \"${filename}\": `;\n",
              "      div.appendChild(label);\n",
              "      const progress = document.createElement('progress');\n",
              "      progress.max = size;\n",
              "      div.appendChild(progress);\n",
              "      document.body.appendChild(div);\n",
              "\n",
              "      const buffers = [];\n",
              "      let downloaded = 0;\n",
              "\n",
              "      const channel = await google.colab.kernel.comms.open(id);\n",
              "      // Send a message to notify the kernel that we're ready.\n",
              "      channel.send({})\n",
              "\n",
              "      for await (const message of channel.messages) {\n",
              "        // Send a message to notify the kernel that we're ready.\n",
              "        channel.send({})\n",
              "        if (message.buffers) {\n",
              "          for (const buffer of message.buffers) {\n",
              "            buffers.push(buffer);\n",
              "            downloaded += buffer.byteLength;\n",
              "            progress.value = downloaded;\n",
              "          }\n",
              "        }\n",
              "      }\n",
              "      const blob = new Blob(buffers, {type: 'application/binary'});\n",
              "      const a = document.createElement('a');\n",
              "      a.href = window.URL.createObjectURL(blob);\n",
              "      a.download = filename;\n",
              "      div.appendChild(a);\n",
              "      a.click();\n",
              "      div.remove();\n",
              "    }\n",
              "  "
            ]
          },
          "metadata": {}
        },
        {
          "output_type": "display_data",
          "data": {
            "text/plain": [
              "<IPython.core.display.Javascript object>"
            ],
            "application/javascript": [
              "download(\"download_d12d5364-616a-4714-b9d0-eceffd09c90a\", \"16x16_pca-0.35.csv\", 306471)"
            ]
          },
          "metadata": {}
        },
        {
          "output_type": "stream",
          "name": "stdout",
          "text": [
            "hog de 16x16 e pca de 0.4\n",
            "shape: (800, 24)\n",
            "\n"
          ]
        },
        {
          "output_type": "display_data",
          "data": {
            "text/plain": [
              "<IPython.core.display.Javascript object>"
            ],
            "application/javascript": [
              "\n",
              "    async function download(id, filename, size) {\n",
              "      if (!google.colab.kernel.accessAllowed) {\n",
              "        return;\n",
              "      }\n",
              "      const div = document.createElement('div');\n",
              "      const label = document.createElement('label');\n",
              "      label.textContent = `Downloading \"${filename}\": `;\n",
              "      div.appendChild(label);\n",
              "      const progress = document.createElement('progress');\n",
              "      progress.max = size;\n",
              "      div.appendChild(progress);\n",
              "      document.body.appendChild(div);\n",
              "\n",
              "      const buffers = [];\n",
              "      let downloaded = 0;\n",
              "\n",
              "      const channel = await google.colab.kernel.comms.open(id);\n",
              "      // Send a message to notify the kernel that we're ready.\n",
              "      channel.send({})\n",
              "\n",
              "      for await (const message of channel.messages) {\n",
              "        // Send a message to notify the kernel that we're ready.\n",
              "        channel.send({})\n",
              "        if (message.buffers) {\n",
              "          for (const buffer of message.buffers) {\n",
              "            buffers.push(buffer);\n",
              "            downloaded += buffer.byteLength;\n",
              "            progress.value = downloaded;\n",
              "          }\n",
              "        }\n",
              "      }\n",
              "      const blob = new Blob(buffers, {type: 'application/binary'});\n",
              "      const a = document.createElement('a');\n",
              "      a.href = window.URL.createObjectURL(blob);\n",
              "      a.download = filename;\n",
              "      div.appendChild(a);\n",
              "      a.click();\n",
              "      div.remove();\n",
              "    }\n",
              "  "
            ]
          },
          "metadata": {}
        },
        {
          "output_type": "display_data",
          "data": {
            "text/plain": [
              "<IPython.core.display.Javascript object>"
            ],
            "application/javascript": [
              "download(\"download_5d8fd639-8f12-487f-b3ef-d57a01e3aa70\", \"16x16_pca-0.4.csv\", 385123)"
            ]
          },
          "metadata": {}
        },
        {
          "output_type": "stream",
          "name": "stdout",
          "text": [
            "hog de 16x16 e pca de 0.45\n",
            "shape: (800, 31)\n",
            "\n"
          ]
        },
        {
          "output_type": "display_data",
          "data": {
            "text/plain": [
              "<IPython.core.display.Javascript object>"
            ],
            "application/javascript": [
              "\n",
              "    async function download(id, filename, size) {\n",
              "      if (!google.colab.kernel.accessAllowed) {\n",
              "        return;\n",
              "      }\n",
              "      const div = document.createElement('div');\n",
              "      const label = document.createElement('label');\n",
              "      label.textContent = `Downloading \"${filename}\": `;\n",
              "      div.appendChild(label);\n",
              "      const progress = document.createElement('progress');\n",
              "      progress.max = size;\n",
              "      div.appendChild(progress);\n",
              "      document.body.appendChild(div);\n",
              "\n",
              "      const buffers = [];\n",
              "      let downloaded = 0;\n",
              "\n",
              "      const channel = await google.colab.kernel.comms.open(id);\n",
              "      // Send a message to notify the kernel that we're ready.\n",
              "      channel.send({})\n",
              "\n",
              "      for await (const message of channel.messages) {\n",
              "        // Send a message to notify the kernel that we're ready.\n",
              "        channel.send({})\n",
              "        if (message.buffers) {\n",
              "          for (const buffer of message.buffers) {\n",
              "            buffers.push(buffer);\n",
              "            downloaded += buffer.byteLength;\n",
              "            progress.value = downloaded;\n",
              "          }\n",
              "        }\n",
              "      }\n",
              "      const blob = new Blob(buffers, {type: 'application/binary'});\n",
              "      const a = document.createElement('a');\n",
              "      a.href = window.URL.createObjectURL(blob);\n",
              "      a.download = filename;\n",
              "      div.appendChild(a);\n",
              "      a.click();\n",
              "      div.remove();\n",
              "    }\n",
              "  "
            ]
          },
          "metadata": {}
        },
        {
          "output_type": "display_data",
          "data": {
            "text/plain": [
              "<IPython.core.display.Javascript object>"
            ],
            "application/javascript": [
              "download(\"download_df0d2be3-6a3f-4c90-a131-67b26fc5595e\", \"16x16_pca-0.45.csv\", 495249)"
            ]
          },
          "metadata": {}
        },
        {
          "output_type": "stream",
          "name": "stdout",
          "text": [
            "hog de 16x16 e pca de 0.5\n",
            "shape: (800, 39)\n",
            "\n"
          ]
        },
        {
          "output_type": "display_data",
          "data": {
            "text/plain": [
              "<IPython.core.display.Javascript object>"
            ],
            "application/javascript": [
              "\n",
              "    async function download(id, filename, size) {\n",
              "      if (!google.colab.kernel.accessAllowed) {\n",
              "        return;\n",
              "      }\n",
              "      const div = document.createElement('div');\n",
              "      const label = document.createElement('label');\n",
              "      label.textContent = `Downloading \"${filename}\": `;\n",
              "      div.appendChild(label);\n",
              "      const progress = document.createElement('progress');\n",
              "      progress.max = size;\n",
              "      div.appendChild(progress);\n",
              "      document.body.appendChild(div);\n",
              "\n",
              "      const buffers = [];\n",
              "      let downloaded = 0;\n",
              "\n",
              "      const channel = await google.colab.kernel.comms.open(id);\n",
              "      // Send a message to notify the kernel that we're ready.\n",
              "      channel.send({})\n",
              "\n",
              "      for await (const message of channel.messages) {\n",
              "        // Send a message to notify the kernel that we're ready.\n",
              "        channel.send({})\n",
              "        if (message.buffers) {\n",
              "          for (const buffer of message.buffers) {\n",
              "            buffers.push(buffer);\n",
              "            downloaded += buffer.byteLength;\n",
              "            progress.value = downloaded;\n",
              "          }\n",
              "        }\n",
              "      }\n",
              "      const blob = new Blob(buffers, {type: 'application/binary'});\n",
              "      const a = document.createElement('a');\n",
              "      a.href = window.URL.createObjectURL(blob);\n",
              "      a.download = filename;\n",
              "      div.appendChild(a);\n",
              "      a.click();\n",
              "      div.remove();\n",
              "    }\n",
              "  "
            ]
          },
          "metadata": {}
        },
        {
          "output_type": "display_data",
          "data": {
            "text/plain": [
              "<IPython.core.display.Javascript object>"
            ],
            "application/javascript": [
              "download(\"download_2ce85a99-10ce-41e4-b4a9-c698c6bedb33\", \"16x16_pca-0.5.csv\", 621123)"
            ]
          },
          "metadata": {}
        },
        {
          "output_type": "stream",
          "name": "stdout",
          "text": [
            "hog de 16x16 e pca de 0.55\n",
            "shape: (800, 49)\n",
            "\n"
          ]
        },
        {
          "output_type": "display_data",
          "data": {
            "text/plain": [
              "<IPython.core.display.Javascript object>"
            ],
            "application/javascript": [
              "\n",
              "    async function download(id, filename, size) {\n",
              "      if (!google.colab.kernel.accessAllowed) {\n",
              "        return;\n",
              "      }\n",
              "      const div = document.createElement('div');\n",
              "      const label = document.createElement('label');\n",
              "      label.textContent = `Downloading \"${filename}\": `;\n",
              "      div.appendChild(label);\n",
              "      const progress = document.createElement('progress');\n",
              "      progress.max = size;\n",
              "      div.appendChild(progress);\n",
              "      document.body.appendChild(div);\n",
              "\n",
              "      const buffers = [];\n",
              "      let downloaded = 0;\n",
              "\n",
              "      const channel = await google.colab.kernel.comms.open(id);\n",
              "      // Send a message to notify the kernel that we're ready.\n",
              "      channel.send({})\n",
              "\n",
              "      for await (const message of channel.messages) {\n",
              "        // Send a message to notify the kernel that we're ready.\n",
              "        channel.send({})\n",
              "        if (message.buffers) {\n",
              "          for (const buffer of message.buffers) {\n",
              "            buffers.push(buffer);\n",
              "            downloaded += buffer.byteLength;\n",
              "            progress.value = downloaded;\n",
              "          }\n",
              "        }\n",
              "      }\n",
              "      const blob = new Blob(buffers, {type: 'application/binary'});\n",
              "      const a = document.createElement('a');\n",
              "      a.href = window.URL.createObjectURL(blob);\n",
              "      a.download = filename;\n",
              "      div.appendChild(a);\n",
              "      a.click();\n",
              "      div.remove();\n",
              "    }\n",
              "  "
            ]
          },
          "metadata": {}
        },
        {
          "output_type": "display_data",
          "data": {
            "text/plain": [
              "<IPython.core.display.Javascript object>"
            ],
            "application/javascript": [
              "download(\"download_a6520dd1-6aa0-4aae-9e49-426a99650e80\", \"16x16_pca-0.55.csv\", 778528)"
            ]
          },
          "metadata": {}
        },
        {
          "output_type": "stream",
          "name": "stdout",
          "text": [
            "hog de 16x16 e pca de 0.6\n",
            "shape: (800, 60)\n",
            "\n"
          ]
        },
        {
          "output_type": "display_data",
          "data": {
            "text/plain": [
              "<IPython.core.display.Javascript object>"
            ],
            "application/javascript": [
              "\n",
              "    async function download(id, filename, size) {\n",
              "      if (!google.colab.kernel.accessAllowed) {\n",
              "        return;\n",
              "      }\n",
              "      const div = document.createElement('div');\n",
              "      const label = document.createElement('label');\n",
              "      label.textContent = `Downloading \"${filename}\": `;\n",
              "      div.appendChild(label);\n",
              "      const progress = document.createElement('progress');\n",
              "      progress.max = size;\n",
              "      div.appendChild(progress);\n",
              "      document.body.appendChild(div);\n",
              "\n",
              "      const buffers = [];\n",
              "      let downloaded = 0;\n",
              "\n",
              "      const channel = await google.colab.kernel.comms.open(id);\n",
              "      // Send a message to notify the kernel that we're ready.\n",
              "      channel.send({})\n",
              "\n",
              "      for await (const message of channel.messages) {\n",
              "        // Send a message to notify the kernel that we're ready.\n",
              "        channel.send({})\n",
              "        if (message.buffers) {\n",
              "          for (const buffer of message.buffers) {\n",
              "            buffers.push(buffer);\n",
              "            downloaded += buffer.byteLength;\n",
              "            progress.value = downloaded;\n",
              "          }\n",
              "        }\n",
              "      }\n",
              "      const blob = new Blob(buffers, {type: 'application/binary'});\n",
              "      const a = document.createElement('a');\n",
              "      a.href = window.URL.createObjectURL(blob);\n",
              "      a.download = filename;\n",
              "      div.appendChild(a);\n",
              "      a.click();\n",
              "      div.remove();\n",
              "    }\n",
              "  "
            ]
          },
          "metadata": {}
        },
        {
          "output_type": "display_data",
          "data": {
            "text/plain": [
              "<IPython.core.display.Javascript object>"
            ],
            "application/javascript": [
              "download(\"download_433ce293-adc9-4b9b-8f33-3e3f688a8473\", \"16x16_pca-0.6.csv\", 951546)"
            ]
          },
          "metadata": {}
        },
        {
          "output_type": "stream",
          "name": "stdout",
          "text": [
            "hog de 16x16 e pca de 0.65\n",
            "shape: (800, 74)\n",
            "\n"
          ]
        },
        {
          "output_type": "display_data",
          "data": {
            "text/plain": [
              "<IPython.core.display.Javascript object>"
            ],
            "application/javascript": [
              "\n",
              "    async function download(id, filename, size) {\n",
              "      if (!google.colab.kernel.accessAllowed) {\n",
              "        return;\n",
              "      }\n",
              "      const div = document.createElement('div');\n",
              "      const label = document.createElement('label');\n",
              "      label.textContent = `Downloading \"${filename}\": `;\n",
              "      div.appendChild(label);\n",
              "      const progress = document.createElement('progress');\n",
              "      progress.max = size;\n",
              "      div.appendChild(progress);\n",
              "      document.body.appendChild(div);\n",
              "\n",
              "      const buffers = [];\n",
              "      let downloaded = 0;\n",
              "\n",
              "      const channel = await google.colab.kernel.comms.open(id);\n",
              "      // Send a message to notify the kernel that we're ready.\n",
              "      channel.send({})\n",
              "\n",
              "      for await (const message of channel.messages) {\n",
              "        // Send a message to notify the kernel that we're ready.\n",
              "        channel.send({})\n",
              "        if (message.buffers) {\n",
              "          for (const buffer of message.buffers) {\n",
              "            buffers.push(buffer);\n",
              "            downloaded += buffer.byteLength;\n",
              "            progress.value = downloaded;\n",
              "          }\n",
              "        }\n",
              "      }\n",
              "      const blob = new Blob(buffers, {type: 'application/binary'});\n",
              "      const a = document.createElement('a');\n",
              "      a.href = window.URL.createObjectURL(blob);\n",
              "      a.download = filename;\n",
              "      div.appendChild(a);\n",
              "      a.click();\n",
              "      div.remove();\n",
              "    }\n",
              "  "
            ]
          },
          "metadata": {}
        },
        {
          "output_type": "display_data",
          "data": {
            "text/plain": [
              "<IPython.core.display.Javascript object>"
            ],
            "application/javascript": [
              "download(\"download_bf03c0b1-37fa-456f-bfdc-bb3b8ab75bf1\", \"16x16_pca-0.65.csv\", 1171640)"
            ]
          },
          "metadata": {}
        },
        {
          "output_type": "stream",
          "name": "stdout",
          "text": [
            "hog de 16x16 e pca de 0.7\n",
            "shape: (800, 90)\n",
            "\n"
          ]
        },
        {
          "output_type": "display_data",
          "data": {
            "text/plain": [
              "<IPython.core.display.Javascript object>"
            ],
            "application/javascript": [
              "\n",
              "    async function download(id, filename, size) {\n",
              "      if (!google.colab.kernel.accessAllowed) {\n",
              "        return;\n",
              "      }\n",
              "      const div = document.createElement('div');\n",
              "      const label = document.createElement('label');\n",
              "      label.textContent = `Downloading \"${filename}\": `;\n",
              "      div.appendChild(label);\n",
              "      const progress = document.createElement('progress');\n",
              "      progress.max = size;\n",
              "      div.appendChild(progress);\n",
              "      document.body.appendChild(div);\n",
              "\n",
              "      const buffers = [];\n",
              "      let downloaded = 0;\n",
              "\n",
              "      const channel = await google.colab.kernel.comms.open(id);\n",
              "      // Send a message to notify the kernel that we're ready.\n",
              "      channel.send({})\n",
              "\n",
              "      for await (const message of channel.messages) {\n",
              "        // Send a message to notify the kernel that we're ready.\n",
              "        channel.send({})\n",
              "        if (message.buffers) {\n",
              "          for (const buffer of message.buffers) {\n",
              "            buffers.push(buffer);\n",
              "            downloaded += buffer.byteLength;\n",
              "            progress.value = downloaded;\n",
              "          }\n",
              "        }\n",
              "      }\n",
              "      const blob = new Blob(buffers, {type: 'application/binary'});\n",
              "      const a = document.createElement('a');\n",
              "      a.href = window.URL.createObjectURL(blob);\n",
              "      a.download = filename;\n",
              "      div.appendChild(a);\n",
              "      a.click();\n",
              "      div.remove();\n",
              "    }\n",
              "  "
            ]
          },
          "metadata": {}
        },
        {
          "output_type": "display_data",
          "data": {
            "text/plain": [
              "<IPython.core.display.Javascript object>"
            ],
            "application/javascript": [
              "download(\"download_08c1129e-f609-467d-800e-45cb352dcbef\", \"16x16_pca-0.7.csv\", 1423245)"
            ]
          },
          "metadata": {}
        },
        {
          "output_type": "stream",
          "name": "stdout",
          "text": [
            "hog de 16x16 e pca de 0.75\n",
            "shape: (800, 111)\n",
            "\n"
          ]
        },
        {
          "output_type": "display_data",
          "data": {
            "text/plain": [
              "<IPython.core.display.Javascript object>"
            ],
            "application/javascript": [
              "\n",
              "    async function download(id, filename, size) {\n",
              "      if (!google.colab.kernel.accessAllowed) {\n",
              "        return;\n",
              "      }\n",
              "      const div = document.createElement('div');\n",
              "      const label = document.createElement('label');\n",
              "      label.textContent = `Downloading \"${filename}\": `;\n",
              "      div.appendChild(label);\n",
              "      const progress = document.createElement('progress');\n",
              "      progress.max = size;\n",
              "      div.appendChild(progress);\n",
              "      document.body.appendChild(div);\n",
              "\n",
              "      const buffers = [];\n",
              "      let downloaded = 0;\n",
              "\n",
              "      const channel = await google.colab.kernel.comms.open(id);\n",
              "      // Send a message to notify the kernel that we're ready.\n",
              "      channel.send({})\n",
              "\n",
              "      for await (const message of channel.messages) {\n",
              "        // Send a message to notify the kernel that we're ready.\n",
              "        channel.send({})\n",
              "        if (message.buffers) {\n",
              "          for (const buffer of message.buffers) {\n",
              "            buffers.push(buffer);\n",
              "            downloaded += buffer.byteLength;\n",
              "            progress.value = downloaded;\n",
              "          }\n",
              "        }\n",
              "      }\n",
              "      const blob = new Blob(buffers, {type: 'application/binary'});\n",
              "      const a = document.createElement('a');\n",
              "      a.href = window.URL.createObjectURL(blob);\n",
              "      a.download = filename;\n",
              "      div.appendChild(a);\n",
              "      a.click();\n",
              "      div.remove();\n",
              "    }\n",
              "  "
            ]
          },
          "metadata": {}
        },
        {
          "output_type": "display_data",
          "data": {
            "text/plain": [
              "<IPython.core.display.Javascript object>"
            ],
            "application/javascript": [
              "download(\"download_baa4a380-a0b4-4c7e-96d9-431eb197054e\", \"16x16_pca-0.75.csv\", 1753423)"
            ]
          },
          "metadata": {}
        },
        {
          "output_type": "stream",
          "name": "stdout",
          "text": [
            "hog de 16x16 e pca de 0.8\n",
            "shape: (800, 138)\n",
            "\n"
          ]
        },
        {
          "output_type": "display_data",
          "data": {
            "text/plain": [
              "<IPython.core.display.Javascript object>"
            ],
            "application/javascript": [
              "\n",
              "    async function download(id, filename, size) {\n",
              "      if (!google.colab.kernel.accessAllowed) {\n",
              "        return;\n",
              "      }\n",
              "      const div = document.createElement('div');\n",
              "      const label = document.createElement('label');\n",
              "      label.textContent = `Downloading \"${filename}\": `;\n",
              "      div.appendChild(label);\n",
              "      const progress = document.createElement('progress');\n",
              "      progress.max = size;\n",
              "      div.appendChild(progress);\n",
              "      document.body.appendChild(div);\n",
              "\n",
              "      const buffers = [];\n",
              "      let downloaded = 0;\n",
              "\n",
              "      const channel = await google.colab.kernel.comms.open(id);\n",
              "      // Send a message to notify the kernel that we're ready.\n",
              "      channel.send({})\n",
              "\n",
              "      for await (const message of channel.messages) {\n",
              "        // Send a message to notify the kernel that we're ready.\n",
              "        channel.send({})\n",
              "        if (message.buffers) {\n",
              "          for (const buffer of message.buffers) {\n",
              "            buffers.push(buffer);\n",
              "            downloaded += buffer.byteLength;\n",
              "            progress.value = downloaded;\n",
              "          }\n",
              "        }\n",
              "      }\n",
              "      const blob = new Blob(buffers, {type: 'application/binary'});\n",
              "      const a = document.createElement('a');\n",
              "      a.href = window.URL.createObjectURL(blob);\n",
              "      a.download = filename;\n",
              "      div.appendChild(a);\n",
              "      a.click();\n",
              "      div.remove();\n",
              "    }\n",
              "  "
            ]
          },
          "metadata": {}
        },
        {
          "output_type": "display_data",
          "data": {
            "text/plain": [
              "<IPython.core.display.Javascript object>"
            ],
            "application/javascript": [
              "download(\"download_ce3726e1-1f8f-4ed8-9fb7-74efee92fff4\", \"16x16_pca-0.8.csv\", 2177923)"
            ]
          },
          "metadata": {}
        },
        {
          "output_type": "stream",
          "name": "stdout",
          "text": [
            "hog de 16x16 e pca de 0.85\n",
            "shape: (800, 173)\n",
            "\n"
          ]
        },
        {
          "output_type": "display_data",
          "data": {
            "text/plain": [
              "<IPython.core.display.Javascript object>"
            ],
            "application/javascript": [
              "\n",
              "    async function download(id, filename, size) {\n",
              "      if (!google.colab.kernel.accessAllowed) {\n",
              "        return;\n",
              "      }\n",
              "      const div = document.createElement('div');\n",
              "      const label = document.createElement('label');\n",
              "      label.textContent = `Downloading \"${filename}\": `;\n",
              "      div.appendChild(label);\n",
              "      const progress = document.createElement('progress');\n",
              "      progress.max = size;\n",
              "      div.appendChild(progress);\n",
              "      document.body.appendChild(div);\n",
              "\n",
              "      const buffers = [];\n",
              "      let downloaded = 0;\n",
              "\n",
              "      const channel = await google.colab.kernel.comms.open(id);\n",
              "      // Send a message to notify the kernel that we're ready.\n",
              "      channel.send({})\n",
              "\n",
              "      for await (const message of channel.messages) {\n",
              "        // Send a message to notify the kernel that we're ready.\n",
              "        channel.send({})\n",
              "        if (message.buffers) {\n",
              "          for (const buffer of message.buffers) {\n",
              "            buffers.push(buffer);\n",
              "            downloaded += buffer.byteLength;\n",
              "            progress.value = downloaded;\n",
              "          }\n",
              "        }\n",
              "      }\n",
              "      const blob = new Blob(buffers, {type: 'application/binary'});\n",
              "      const a = document.createElement('a');\n",
              "      a.href = window.URL.createObjectURL(blob);\n",
              "      a.download = filename;\n",
              "      div.appendChild(a);\n",
              "      a.click();\n",
              "      div.remove();\n",
              "    }\n",
              "  "
            ]
          },
          "metadata": {}
        },
        {
          "output_type": "display_data",
          "data": {
            "text/plain": [
              "<IPython.core.display.Javascript object>"
            ],
            "application/javascript": [
              "download(\"download_042f5214-7118-4fae-a0ca-ed923fc7befb\", \"16x16_pca-0.85.csv\", 2728116)"
            ]
          },
          "metadata": {}
        },
        {
          "output_type": "stream",
          "name": "stdout",
          "text": [
            "hog de 16x16 e pca de 0.9\n",
            "shape: (800, 225)\n",
            "\n"
          ]
        },
        {
          "output_type": "display_data",
          "data": {
            "text/plain": [
              "<IPython.core.display.Javascript object>"
            ],
            "application/javascript": [
              "\n",
              "    async function download(id, filename, size) {\n",
              "      if (!google.colab.kernel.accessAllowed) {\n",
              "        return;\n",
              "      }\n",
              "      const div = document.createElement('div');\n",
              "      const label = document.createElement('label');\n",
              "      label.textContent = `Downloading \"${filename}\": `;\n",
              "      div.appendChild(label);\n",
              "      const progress = document.createElement('progress');\n",
              "      progress.max = size;\n",
              "      div.appendChild(progress);\n",
              "      document.body.appendChild(div);\n",
              "\n",
              "      const buffers = [];\n",
              "      let downloaded = 0;\n",
              "\n",
              "      const channel = await google.colab.kernel.comms.open(id);\n",
              "      // Send a message to notify the kernel that we're ready.\n",
              "      channel.send({})\n",
              "\n",
              "      for await (const message of channel.messages) {\n",
              "        // Send a message to notify the kernel that we're ready.\n",
              "        channel.send({})\n",
              "        if (message.buffers) {\n",
              "          for (const buffer of message.buffers) {\n",
              "            buffers.push(buffer);\n",
              "            downloaded += buffer.byteLength;\n",
              "            progress.value = downloaded;\n",
              "          }\n",
              "        }\n",
              "      }\n",
              "      const blob = new Blob(buffers, {type: 'application/binary'});\n",
              "      const a = document.createElement('a');\n",
              "      a.href = window.URL.createObjectURL(blob);\n",
              "      a.download = filename;\n",
              "      div.appendChild(a);\n",
              "      a.click();\n",
              "      div.remove();\n",
              "    }\n",
              "  "
            ]
          },
          "metadata": {}
        },
        {
          "output_type": "display_data",
          "data": {
            "text/plain": [
              "<IPython.core.display.Javascript object>"
            ],
            "application/javascript": [
              "download(\"download_2bbecc7b-645c-4cde-b73f-6afaed3b539c\", \"16x16_pca-0.9.csv\", 3545541)"
            ]
          },
          "metadata": {}
        },
        {
          "output_type": "stream",
          "name": "stdout",
          "text": [
            "hog de 16x16 e pca de 0.95\n",
            "shape: (800, 313)\n",
            "\n"
          ]
        },
        {
          "output_type": "display_data",
          "data": {
            "text/plain": [
              "<IPython.core.display.Javascript object>"
            ],
            "application/javascript": [
              "\n",
              "    async function download(id, filename, size) {\n",
              "      if (!google.colab.kernel.accessAllowed) {\n",
              "        return;\n",
              "      }\n",
              "      const div = document.createElement('div');\n",
              "      const label = document.createElement('label');\n",
              "      label.textContent = `Downloading \"${filename}\": `;\n",
              "      div.appendChild(label);\n",
              "      const progress = document.createElement('progress');\n",
              "      progress.max = size;\n",
              "      div.appendChild(progress);\n",
              "      document.body.appendChild(div);\n",
              "\n",
              "      const buffers = [];\n",
              "      let downloaded = 0;\n",
              "\n",
              "      const channel = await google.colab.kernel.comms.open(id);\n",
              "      // Send a message to notify the kernel that we're ready.\n",
              "      channel.send({})\n",
              "\n",
              "      for await (const message of channel.messages) {\n",
              "        // Send a message to notify the kernel that we're ready.\n",
              "        channel.send({})\n",
              "        if (message.buffers) {\n",
              "          for (const buffer of message.buffers) {\n",
              "            buffers.push(buffer);\n",
              "            downloaded += buffer.byteLength;\n",
              "            progress.value = downloaded;\n",
              "          }\n",
              "        }\n",
              "      }\n",
              "      const blob = new Blob(buffers, {type: 'application/binary'});\n",
              "      const a = document.createElement('a');\n",
              "      a.href = window.URL.createObjectURL(blob);\n",
              "      a.download = filename;\n",
              "      div.appendChild(a);\n",
              "      a.click();\n",
              "      div.remove();\n",
              "    }\n",
              "  "
            ]
          },
          "metadata": {}
        },
        {
          "output_type": "display_data",
          "data": {
            "text/plain": [
              "<IPython.core.display.Javascript object>"
            ],
            "application/javascript": [
              "download(\"download_a6f7f5e3-2fd3-42ac-9ac3-5b3e700edcb3\", \"16x16_pca-0.95.csv\", 4928696)"
            ]
          },
          "metadata": {}
        },
        {
          "output_type": "stream",
          "name": "stdout",
          "text": [
            "hog de 20x20 e pca de 0.1\n",
            "shape: (800, 2)\n",
            "\n"
          ]
        },
        {
          "output_type": "display_data",
          "data": {
            "text/plain": [
              "<IPython.core.display.Javascript object>"
            ],
            "application/javascript": [
              "\n",
              "    async function download(id, filename, size) {\n",
              "      if (!google.colab.kernel.accessAllowed) {\n",
              "        return;\n",
              "      }\n",
              "      const div = document.createElement('div');\n",
              "      const label = document.createElement('label');\n",
              "      label.textContent = `Downloading \"${filename}\": `;\n",
              "      div.appendChild(label);\n",
              "      const progress = document.createElement('progress');\n",
              "      progress.max = size;\n",
              "      div.appendChild(progress);\n",
              "      document.body.appendChild(div);\n",
              "\n",
              "      const buffers = [];\n",
              "      let downloaded = 0;\n",
              "\n",
              "      const channel = await google.colab.kernel.comms.open(id);\n",
              "      // Send a message to notify the kernel that we're ready.\n",
              "      channel.send({})\n",
              "\n",
              "      for await (const message of channel.messages) {\n",
              "        // Send a message to notify the kernel that we're ready.\n",
              "        channel.send({})\n",
              "        if (message.buffers) {\n",
              "          for (const buffer of message.buffers) {\n",
              "            buffers.push(buffer);\n",
              "            downloaded += buffer.byteLength;\n",
              "            progress.value = downloaded;\n",
              "          }\n",
              "        }\n",
              "      }\n",
              "      const blob = new Blob(buffers, {type: 'application/binary'});\n",
              "      const a = document.createElement('a');\n",
              "      a.href = window.URL.createObjectURL(blob);\n",
              "      a.download = filename;\n",
              "      div.appendChild(a);\n",
              "      a.click();\n",
              "      div.remove();\n",
              "    }\n",
              "  "
            ]
          },
          "metadata": {}
        },
        {
          "output_type": "display_data",
          "data": {
            "text/plain": [
              "<IPython.core.display.Javascript object>"
            ],
            "application/javascript": [
              "download(\"download_ee64fda4-e3f9-4c6c-bdcf-66e77b9b5116\", \"20x20_pca-0.1.csv\", 38966)"
            ]
          },
          "metadata": {}
        },
        {
          "output_type": "stream",
          "name": "stdout",
          "text": [
            "hog de 20x20 e pca de 0.15\n",
            "shape: (800, 3)\n",
            "\n"
          ]
        },
        {
          "output_type": "display_data",
          "data": {
            "text/plain": [
              "<IPython.core.display.Javascript object>"
            ],
            "application/javascript": [
              "\n",
              "    async function download(id, filename, size) {\n",
              "      if (!google.colab.kernel.accessAllowed) {\n",
              "        return;\n",
              "      }\n",
              "      const div = document.createElement('div');\n",
              "      const label = document.createElement('label');\n",
              "      label.textContent = `Downloading \"${filename}\": `;\n",
              "      div.appendChild(label);\n",
              "      const progress = document.createElement('progress');\n",
              "      progress.max = size;\n",
              "      div.appendChild(progress);\n",
              "      document.body.appendChild(div);\n",
              "\n",
              "      const buffers = [];\n",
              "      let downloaded = 0;\n",
              "\n",
              "      const channel = await google.colab.kernel.comms.open(id);\n",
              "      // Send a message to notify the kernel that we're ready.\n",
              "      channel.send({})\n",
              "\n",
              "      for await (const message of channel.messages) {\n",
              "        // Send a message to notify the kernel that we're ready.\n",
              "        channel.send({})\n",
              "        if (message.buffers) {\n",
              "          for (const buffer of message.buffers) {\n",
              "            buffers.push(buffer);\n",
              "            downloaded += buffer.byteLength;\n",
              "            progress.value = downloaded;\n",
              "          }\n",
              "        }\n",
              "      }\n",
              "      const blob = new Blob(buffers, {type: 'application/binary'});\n",
              "      const a = document.createElement('a');\n",
              "      a.href = window.URL.createObjectURL(blob);\n",
              "      a.download = filename;\n",
              "      div.appendChild(a);\n",
              "      a.click();\n",
              "      div.remove();\n",
              "    }\n",
              "  "
            ]
          },
          "metadata": {}
        },
        {
          "output_type": "display_data",
          "data": {
            "text/plain": [
              "<IPython.core.display.Javascript object>"
            ],
            "application/javascript": [
              "download(\"download_0f6ca098-dca8-4d61-8692-f880432c89ba\", \"20x20_pca-0.15.csv\", 54720)"
            ]
          },
          "metadata": {}
        },
        {
          "output_type": "stream",
          "name": "stdout",
          "text": [
            "hog de 20x20 e pca de 0.2\n",
            "shape: (800, 5)\n",
            "\n"
          ]
        },
        {
          "output_type": "display_data",
          "data": {
            "text/plain": [
              "<IPython.core.display.Javascript object>"
            ],
            "application/javascript": [
              "\n",
              "    async function download(id, filename, size) {\n",
              "      if (!google.colab.kernel.accessAllowed) {\n",
              "        return;\n",
              "      }\n",
              "      const div = document.createElement('div');\n",
              "      const label = document.createElement('label');\n",
              "      label.textContent = `Downloading \"${filename}\": `;\n",
              "      div.appendChild(label);\n",
              "      const progress = document.createElement('progress');\n",
              "      progress.max = size;\n",
              "      div.appendChild(progress);\n",
              "      document.body.appendChild(div);\n",
              "\n",
              "      const buffers = [];\n",
              "      let downloaded = 0;\n",
              "\n",
              "      const channel = await google.colab.kernel.comms.open(id);\n",
              "      // Send a message to notify the kernel that we're ready.\n",
              "      channel.send({})\n",
              "\n",
              "      for await (const message of channel.messages) {\n",
              "        // Send a message to notify the kernel that we're ready.\n",
              "        channel.send({})\n",
              "        if (message.buffers) {\n",
              "          for (const buffer of message.buffers) {\n",
              "            buffers.push(buffer);\n",
              "            downloaded += buffer.byteLength;\n",
              "            progress.value = downloaded;\n",
              "          }\n",
              "        }\n",
              "      }\n",
              "      const blob = new Blob(buffers, {type: 'application/binary'});\n",
              "      const a = document.createElement('a');\n",
              "      a.href = window.URL.createObjectURL(blob);\n",
              "      a.download = filename;\n",
              "      div.appendChild(a);\n",
              "      a.click();\n",
              "      div.remove();\n",
              "    }\n",
              "  "
            ]
          },
          "metadata": {}
        },
        {
          "output_type": "display_data",
          "data": {
            "text/plain": [
              "<IPython.core.display.Javascript object>"
            ],
            "application/javascript": [
              "download(\"download_2d59e8b6-719e-422f-9b8d-ff64607622f2\", \"20x20_pca-0.2.csv\", 86143)"
            ]
          },
          "metadata": {}
        },
        {
          "output_type": "stream",
          "name": "stdout",
          "text": [
            "hog de 20x20 e pca de 0.25\n",
            "shape: (800, 7)\n",
            "\n"
          ]
        },
        {
          "output_type": "display_data",
          "data": {
            "text/plain": [
              "<IPython.core.display.Javascript object>"
            ],
            "application/javascript": [
              "\n",
              "    async function download(id, filename, size) {\n",
              "      if (!google.colab.kernel.accessAllowed) {\n",
              "        return;\n",
              "      }\n",
              "      const div = document.createElement('div');\n",
              "      const label = document.createElement('label');\n",
              "      label.textContent = `Downloading \"${filename}\": `;\n",
              "      div.appendChild(label);\n",
              "      const progress = document.createElement('progress');\n",
              "      progress.max = size;\n",
              "      div.appendChild(progress);\n",
              "      document.body.appendChild(div);\n",
              "\n",
              "      const buffers = [];\n",
              "      let downloaded = 0;\n",
              "\n",
              "      const channel = await google.colab.kernel.comms.open(id);\n",
              "      // Send a message to notify the kernel that we're ready.\n",
              "      channel.send({})\n",
              "\n",
              "      for await (const message of channel.messages) {\n",
              "        // Send a message to notify the kernel that we're ready.\n",
              "        channel.send({})\n",
              "        if (message.buffers) {\n",
              "          for (const buffer of message.buffers) {\n",
              "            buffers.push(buffer);\n",
              "            downloaded += buffer.byteLength;\n",
              "            progress.value = downloaded;\n",
              "          }\n",
              "        }\n",
              "      }\n",
              "      const blob = new Blob(buffers, {type: 'application/binary'});\n",
              "      const a = document.createElement('a');\n",
              "      a.href = window.URL.createObjectURL(blob);\n",
              "      a.download = filename;\n",
              "      div.appendChild(a);\n",
              "      a.click();\n",
              "      div.remove();\n",
              "    }\n",
              "  "
            ]
          },
          "metadata": {}
        },
        {
          "output_type": "display_data",
          "data": {
            "text/plain": [
              "<IPython.core.display.Javascript object>"
            ],
            "application/javascript": [
              "download(\"download_5d0c47a1-1cfd-4a63-8e19-cc68f7901e23\", \"20x20_pca-0.25.csv\", 117642)"
            ]
          },
          "metadata": {}
        },
        {
          "output_type": "stream",
          "name": "stdout",
          "text": [
            "hog de 20x20 e pca de 0.3\n",
            "shape: (800, 10)\n",
            "\n"
          ]
        },
        {
          "output_type": "display_data",
          "data": {
            "text/plain": [
              "<IPython.core.display.Javascript object>"
            ],
            "application/javascript": [
              "\n",
              "    async function download(id, filename, size) {\n",
              "      if (!google.colab.kernel.accessAllowed) {\n",
              "        return;\n",
              "      }\n",
              "      const div = document.createElement('div');\n",
              "      const label = document.createElement('label');\n",
              "      label.textContent = `Downloading \"${filename}\": `;\n",
              "      div.appendChild(label);\n",
              "      const progress = document.createElement('progress');\n",
              "      progress.max = size;\n",
              "      div.appendChild(progress);\n",
              "      document.body.appendChild(div);\n",
              "\n",
              "      const buffers = [];\n",
              "      let downloaded = 0;\n",
              "\n",
              "      const channel = await google.colab.kernel.comms.open(id);\n",
              "      // Send a message to notify the kernel that we're ready.\n",
              "      channel.send({})\n",
              "\n",
              "      for await (const message of channel.messages) {\n",
              "        // Send a message to notify the kernel that we're ready.\n",
              "        channel.send({})\n",
              "        if (message.buffers) {\n",
              "          for (const buffer of message.buffers) {\n",
              "            buffers.push(buffer);\n",
              "            downloaded += buffer.byteLength;\n",
              "            progress.value = downloaded;\n",
              "          }\n",
              "        }\n",
              "      }\n",
              "      const blob = new Blob(buffers, {type: 'application/binary'});\n",
              "      const a = document.createElement('a');\n",
              "      a.href = window.URL.createObjectURL(blob);\n",
              "      a.download = filename;\n",
              "      div.appendChild(a);\n",
              "      a.click();\n",
              "      div.remove();\n",
              "    }\n",
              "  "
            ]
          },
          "metadata": {}
        },
        {
          "output_type": "display_data",
          "data": {
            "text/plain": [
              "<IPython.core.display.Javascript object>"
            ],
            "application/javascript": [
              "download(\"download_b2cd53e2-cb44-4212-b4f4-4348a0ef7998\", \"20x20_pca-0.3.csv\", 164802)"
            ]
          },
          "metadata": {}
        },
        {
          "output_type": "stream",
          "name": "stdout",
          "text": [
            "hog de 20x20 e pca de 0.35\n",
            "shape: (800, 13)\n",
            "\n"
          ]
        },
        {
          "output_type": "display_data",
          "data": {
            "text/plain": [
              "<IPython.core.display.Javascript object>"
            ],
            "application/javascript": [
              "\n",
              "    async function download(id, filename, size) {\n",
              "      if (!google.colab.kernel.accessAllowed) {\n",
              "        return;\n",
              "      }\n",
              "      const div = document.createElement('div');\n",
              "      const label = document.createElement('label');\n",
              "      label.textContent = `Downloading \"${filename}\": `;\n",
              "      div.appendChild(label);\n",
              "      const progress = document.createElement('progress');\n",
              "      progress.max = size;\n",
              "      div.appendChild(progress);\n",
              "      document.body.appendChild(div);\n",
              "\n",
              "      const buffers = [];\n",
              "      let downloaded = 0;\n",
              "\n",
              "      const channel = await google.colab.kernel.comms.open(id);\n",
              "      // Send a message to notify the kernel that we're ready.\n",
              "      channel.send({})\n",
              "\n",
              "      for await (const message of channel.messages) {\n",
              "        // Send a message to notify the kernel that we're ready.\n",
              "        channel.send({})\n",
              "        if (message.buffers) {\n",
              "          for (const buffer of message.buffers) {\n",
              "            buffers.push(buffer);\n",
              "            downloaded += buffer.byteLength;\n",
              "            progress.value = downloaded;\n",
              "          }\n",
              "        }\n",
              "      }\n",
              "      const blob = new Blob(buffers, {type: 'application/binary'});\n",
              "      const a = document.createElement('a');\n",
              "      a.href = window.URL.createObjectURL(blob);\n",
              "      a.download = filename;\n",
              "      div.appendChild(a);\n",
              "      a.click();\n",
              "      div.remove();\n",
              "    }\n",
              "  "
            ]
          },
          "metadata": {}
        },
        {
          "output_type": "display_data",
          "data": {
            "text/plain": [
              "<IPython.core.display.Javascript object>"
            ],
            "application/javascript": [
              "download(\"download_4eeeb247-f73c-4791-b50a-720a1f896152\", \"20x20_pca-0.35.csv\", 211993)"
            ]
          },
          "metadata": {}
        },
        {
          "output_type": "stream",
          "name": "stdout",
          "text": [
            "hog de 20x20 e pca de 0.4\n",
            "shape: (800, 16)\n",
            "\n"
          ]
        },
        {
          "output_type": "display_data",
          "data": {
            "text/plain": [
              "<IPython.core.display.Javascript object>"
            ],
            "application/javascript": [
              "\n",
              "    async function download(id, filename, size) {\n",
              "      if (!google.colab.kernel.accessAllowed) {\n",
              "        return;\n",
              "      }\n",
              "      const div = document.createElement('div');\n",
              "      const label = document.createElement('label');\n",
              "      label.textContent = `Downloading \"${filename}\": `;\n",
              "      div.appendChild(label);\n",
              "      const progress = document.createElement('progress');\n",
              "      progress.max = size;\n",
              "      div.appendChild(progress);\n",
              "      document.body.appendChild(div);\n",
              "\n",
              "      const buffers = [];\n",
              "      let downloaded = 0;\n",
              "\n",
              "      const channel = await google.colab.kernel.comms.open(id);\n",
              "      // Send a message to notify the kernel that we're ready.\n",
              "      channel.send({})\n",
              "\n",
              "      for await (const message of channel.messages) {\n",
              "        // Send a message to notify the kernel that we're ready.\n",
              "        channel.send({})\n",
              "        if (message.buffers) {\n",
              "          for (const buffer of message.buffers) {\n",
              "            buffers.push(buffer);\n",
              "            downloaded += buffer.byteLength;\n",
              "            progress.value = downloaded;\n",
              "          }\n",
              "        }\n",
              "      }\n",
              "      const blob = new Blob(buffers, {type: 'application/binary'});\n",
              "      const a = document.createElement('a');\n",
              "      a.href = window.URL.createObjectURL(blob);\n",
              "      a.download = filename;\n",
              "      div.appendChild(a);\n",
              "      a.click();\n",
              "      div.remove();\n",
              "    }\n",
              "  "
            ]
          },
          "metadata": {}
        },
        {
          "output_type": "display_data",
          "data": {
            "text/plain": [
              "<IPython.core.display.Javascript object>"
            ],
            "application/javascript": [
              "download(\"download_29be1abd-71d9-48ea-a9f0-940d454e9f68\", \"20x20_pca-0.4.csv\", 259119)"
            ]
          },
          "metadata": {}
        },
        {
          "output_type": "stream",
          "name": "stdout",
          "text": [
            "hog de 20x20 e pca de 0.45\n",
            "shape: (800, 21)\n",
            "\n"
          ]
        },
        {
          "output_type": "display_data",
          "data": {
            "text/plain": [
              "<IPython.core.display.Javascript object>"
            ],
            "application/javascript": [
              "\n",
              "    async function download(id, filename, size) {\n",
              "      if (!google.colab.kernel.accessAllowed) {\n",
              "        return;\n",
              "      }\n",
              "      const div = document.createElement('div');\n",
              "      const label = document.createElement('label');\n",
              "      label.textContent = `Downloading \"${filename}\": `;\n",
              "      div.appendChild(label);\n",
              "      const progress = document.createElement('progress');\n",
              "      progress.max = size;\n",
              "      div.appendChild(progress);\n",
              "      document.body.appendChild(div);\n",
              "\n",
              "      const buffers = [];\n",
              "      let downloaded = 0;\n",
              "\n",
              "      const channel = await google.colab.kernel.comms.open(id);\n",
              "      // Send a message to notify the kernel that we're ready.\n",
              "      channel.send({})\n",
              "\n",
              "      for await (const message of channel.messages) {\n",
              "        // Send a message to notify the kernel that we're ready.\n",
              "        channel.send({})\n",
              "        if (message.buffers) {\n",
              "          for (const buffer of message.buffers) {\n",
              "            buffers.push(buffer);\n",
              "            downloaded += buffer.byteLength;\n",
              "            progress.value = downloaded;\n",
              "          }\n",
              "        }\n",
              "      }\n",
              "      const blob = new Blob(buffers, {type: 'application/binary'});\n",
              "      const a = document.createElement('a');\n",
              "      a.href = window.URL.createObjectURL(blob);\n",
              "      a.download = filename;\n",
              "      div.appendChild(a);\n",
              "      a.click();\n",
              "      div.remove();\n",
              "    }\n",
              "  "
            ]
          },
          "metadata": {}
        },
        {
          "output_type": "display_data",
          "data": {
            "text/plain": [
              "<IPython.core.display.Javascript object>"
            ],
            "application/javascript": [
              "download(\"download_1c9f7b91-8ba5-49b2-9025-343ef8aeb6d9\", \"20x20_pca-0.45.csv\", 337754)"
            ]
          },
          "metadata": {}
        },
        {
          "output_type": "stream",
          "name": "stdout",
          "text": [
            "hog de 20x20 e pca de 0.5\n",
            "shape: (800, 25)\n",
            "\n"
          ]
        },
        {
          "output_type": "display_data",
          "data": {
            "text/plain": [
              "<IPython.core.display.Javascript object>"
            ],
            "application/javascript": [
              "\n",
              "    async function download(id, filename, size) {\n",
              "      if (!google.colab.kernel.accessAllowed) {\n",
              "        return;\n",
              "      }\n",
              "      const div = document.createElement('div');\n",
              "      const label = document.createElement('label');\n",
              "      label.textContent = `Downloading \"${filename}\": `;\n",
              "      div.appendChild(label);\n",
              "      const progress = document.createElement('progress');\n",
              "      progress.max = size;\n",
              "      div.appendChild(progress);\n",
              "      document.body.appendChild(div);\n",
              "\n",
              "      const buffers = [];\n",
              "      let downloaded = 0;\n",
              "\n",
              "      const channel = await google.colab.kernel.comms.open(id);\n",
              "      // Send a message to notify the kernel that we're ready.\n",
              "      channel.send({})\n",
              "\n",
              "      for await (const message of channel.messages) {\n",
              "        // Send a message to notify the kernel that we're ready.\n",
              "        channel.send({})\n",
              "        if (message.buffers) {\n",
              "          for (const buffer of message.buffers) {\n",
              "            buffers.push(buffer);\n",
              "            downloaded += buffer.byteLength;\n",
              "            progress.value = downloaded;\n",
              "          }\n",
              "        }\n",
              "      }\n",
              "      const blob = new Blob(buffers, {type: 'application/binary'});\n",
              "      const a = document.createElement('a');\n",
              "      a.href = window.URL.createObjectURL(blob);\n",
              "      a.download = filename;\n",
              "      div.appendChild(a);\n",
              "      a.click();\n",
              "      div.remove();\n",
              "    }\n",
              "  "
            ]
          },
          "metadata": {}
        },
        {
          "output_type": "display_data",
          "data": {
            "text/plain": [
              "<IPython.core.display.Javascript object>"
            ],
            "application/javascript": [
              "download(\"download_e51cae30-9c57-402b-ad83-02ce1b1fe00b\", \"20x20_pca-0.5.csv\", 400679)"
            ]
          },
          "metadata": {}
        },
        {
          "output_type": "stream",
          "name": "stdout",
          "text": [
            "hog de 20x20 e pca de 0.55\n",
            "shape: (800, 31)\n",
            "\n"
          ]
        },
        {
          "output_type": "display_data",
          "data": {
            "text/plain": [
              "<IPython.core.display.Javascript object>"
            ],
            "application/javascript": [
              "\n",
              "    async function download(id, filename, size) {\n",
              "      if (!google.colab.kernel.accessAllowed) {\n",
              "        return;\n",
              "      }\n",
              "      const div = document.createElement('div');\n",
              "      const label = document.createElement('label');\n",
              "      label.textContent = `Downloading \"${filename}\": `;\n",
              "      div.appendChild(label);\n",
              "      const progress = document.createElement('progress');\n",
              "      progress.max = size;\n",
              "      div.appendChild(progress);\n",
              "      document.body.appendChild(div);\n",
              "\n",
              "      const buffers = [];\n",
              "      let downloaded = 0;\n",
              "\n",
              "      const channel = await google.colab.kernel.comms.open(id);\n",
              "      // Send a message to notify the kernel that we're ready.\n",
              "      channel.send({})\n",
              "\n",
              "      for await (const message of channel.messages) {\n",
              "        // Send a message to notify the kernel that we're ready.\n",
              "        channel.send({})\n",
              "        if (message.buffers) {\n",
              "          for (const buffer of message.buffers) {\n",
              "            buffers.push(buffer);\n",
              "            downloaded += buffer.byteLength;\n",
              "            progress.value = downloaded;\n",
              "          }\n",
              "        }\n",
              "      }\n",
              "      const blob = new Blob(buffers, {type: 'application/binary'});\n",
              "      const a = document.createElement('a');\n",
              "      a.href = window.URL.createObjectURL(blob);\n",
              "      a.download = filename;\n",
              "      div.appendChild(a);\n",
              "      a.click();\n",
              "      div.remove();\n",
              "    }\n",
              "  "
            ]
          },
          "metadata": {}
        },
        {
          "output_type": "display_data",
          "data": {
            "text/plain": [
              "<IPython.core.display.Javascript object>"
            ],
            "application/javascript": [
              "download(\"download_8e5a5d60-2569-4bac-b528-a8697ff089b8\", \"20x20_pca-0.55.csv\", 495036)"
            ]
          },
          "metadata": {}
        },
        {
          "output_type": "stream",
          "name": "stdout",
          "text": [
            "hog de 20x20 e pca de 0.6\n",
            "shape: (800, 38)\n",
            "\n"
          ]
        },
        {
          "output_type": "display_data",
          "data": {
            "text/plain": [
              "<IPython.core.display.Javascript object>"
            ],
            "application/javascript": [
              "\n",
              "    async function download(id, filename, size) {\n",
              "      if (!google.colab.kernel.accessAllowed) {\n",
              "        return;\n",
              "      }\n",
              "      const div = document.createElement('div');\n",
              "      const label = document.createElement('label');\n",
              "      label.textContent = `Downloading \"${filename}\": `;\n",
              "      div.appendChild(label);\n",
              "      const progress = document.createElement('progress');\n",
              "      progress.max = size;\n",
              "      div.appendChild(progress);\n",
              "      document.body.appendChild(div);\n",
              "\n",
              "      const buffers = [];\n",
              "      let downloaded = 0;\n",
              "\n",
              "      const channel = await google.colab.kernel.comms.open(id);\n",
              "      // Send a message to notify the kernel that we're ready.\n",
              "      channel.send({})\n",
              "\n",
              "      for await (const message of channel.messages) {\n",
              "        // Send a message to notify the kernel that we're ready.\n",
              "        channel.send({})\n",
              "        if (message.buffers) {\n",
              "          for (const buffer of message.buffers) {\n",
              "            buffers.push(buffer);\n",
              "            downloaded += buffer.byteLength;\n",
              "            progress.value = downloaded;\n",
              "          }\n",
              "        }\n",
              "      }\n",
              "      const blob = new Blob(buffers, {type: 'application/binary'});\n",
              "      const a = document.createElement('a');\n",
              "      a.href = window.URL.createObjectURL(blob);\n",
              "      a.download = filename;\n",
              "      div.appendChild(a);\n",
              "      a.click();\n",
              "      div.remove();\n",
              "    }\n",
              "  "
            ]
          },
          "metadata": {}
        },
        {
          "output_type": "display_data",
          "data": {
            "text/plain": [
              "<IPython.core.display.Javascript object>"
            ],
            "application/javascript": [
              "download(\"download_6e089718-bc57-4802-90c8-008fc61a5cea\", \"20x20_pca-0.6.csv\", 605092)"
            ]
          },
          "metadata": {}
        },
        {
          "output_type": "stream",
          "name": "stdout",
          "text": [
            "hog de 20x20 e pca de 0.65\n",
            "shape: (800, 46)\n",
            "\n"
          ]
        },
        {
          "output_type": "display_data",
          "data": {
            "text/plain": [
              "<IPython.core.display.Javascript object>"
            ],
            "application/javascript": [
              "\n",
              "    async function download(id, filename, size) {\n",
              "      if (!google.colab.kernel.accessAllowed) {\n",
              "        return;\n",
              "      }\n",
              "      const div = document.createElement('div');\n",
              "      const label = document.createElement('label');\n",
              "      label.textContent = `Downloading \"${filename}\": `;\n",
              "      div.appendChild(label);\n",
              "      const progress = document.createElement('progress');\n",
              "      progress.max = size;\n",
              "      div.appendChild(progress);\n",
              "      document.body.appendChild(div);\n",
              "\n",
              "      const buffers = [];\n",
              "      let downloaded = 0;\n",
              "\n",
              "      const channel = await google.colab.kernel.comms.open(id);\n",
              "      // Send a message to notify the kernel that we're ready.\n",
              "      channel.send({})\n",
              "\n",
              "      for await (const message of channel.messages) {\n",
              "        // Send a message to notify the kernel that we're ready.\n",
              "        channel.send({})\n",
              "        if (message.buffers) {\n",
              "          for (const buffer of message.buffers) {\n",
              "            buffers.push(buffer);\n",
              "            downloaded += buffer.byteLength;\n",
              "            progress.value = downloaded;\n",
              "          }\n",
              "        }\n",
              "      }\n",
              "      const blob = new Blob(buffers, {type: 'application/binary'});\n",
              "      const a = document.createElement('a');\n",
              "      a.href = window.URL.createObjectURL(blob);\n",
              "      a.download = filename;\n",
              "      div.appendChild(a);\n",
              "      a.click();\n",
              "      div.remove();\n",
              "    }\n",
              "  "
            ]
          },
          "metadata": {}
        },
        {
          "output_type": "display_data",
          "data": {
            "text/plain": [
              "<IPython.core.display.Javascript object>"
            ],
            "application/javascript": [
              "download(\"download_98d98b29-36c5-4d4c-ae23-e566ccac4463\", \"20x20_pca-0.65.csv\", 730777)"
            ]
          },
          "metadata": {}
        },
        {
          "output_type": "stream",
          "name": "stdout",
          "text": [
            "hog de 20x20 e pca de 0.7\n",
            "shape: (800, 56)\n",
            "\n"
          ]
        },
        {
          "output_type": "display_data",
          "data": {
            "text/plain": [
              "<IPython.core.display.Javascript object>"
            ],
            "application/javascript": [
              "\n",
              "    async function download(id, filename, size) {\n",
              "      if (!google.colab.kernel.accessAllowed) {\n",
              "        return;\n",
              "      }\n",
              "      const div = document.createElement('div');\n",
              "      const label = document.createElement('label');\n",
              "      label.textContent = `Downloading \"${filename}\": `;\n",
              "      div.appendChild(label);\n",
              "      const progress = document.createElement('progress');\n",
              "      progress.max = size;\n",
              "      div.appendChild(progress);\n",
              "      document.body.appendChild(div);\n",
              "\n",
              "      const buffers = [];\n",
              "      let downloaded = 0;\n",
              "\n",
              "      const channel = await google.colab.kernel.comms.open(id);\n",
              "      // Send a message to notify the kernel that we're ready.\n",
              "      channel.send({})\n",
              "\n",
              "      for await (const message of channel.messages) {\n",
              "        // Send a message to notify the kernel that we're ready.\n",
              "        channel.send({})\n",
              "        if (message.buffers) {\n",
              "          for (const buffer of message.buffers) {\n",
              "            buffers.push(buffer);\n",
              "            downloaded += buffer.byteLength;\n",
              "            progress.value = downloaded;\n",
              "          }\n",
              "        }\n",
              "      }\n",
              "      const blob = new Blob(buffers, {type: 'application/binary'});\n",
              "      const a = document.createElement('a');\n",
              "      a.href = window.URL.createObjectURL(blob);\n",
              "      a.download = filename;\n",
              "      div.appendChild(a);\n",
              "      a.click();\n",
              "      div.remove();\n",
              "    }\n",
              "  "
            ]
          },
          "metadata": {}
        },
        {
          "output_type": "display_data",
          "data": {
            "text/plain": [
              "<IPython.core.display.Javascript object>"
            ],
            "application/javascript": [
              "download(\"download_34dec5df-441d-43be-b9b2-f1c8e84c73e8\", \"20x20_pca-0.7.csv\", 887963)"
            ]
          },
          "metadata": {}
        },
        {
          "output_type": "stream",
          "name": "stdout",
          "text": [
            "hog de 20x20 e pca de 0.75\n",
            "shape: (800, 69)\n",
            "\n"
          ]
        },
        {
          "output_type": "display_data",
          "data": {
            "text/plain": [
              "<IPython.core.display.Javascript object>"
            ],
            "application/javascript": [
              "\n",
              "    async function download(id, filename, size) {\n",
              "      if (!google.colab.kernel.accessAllowed) {\n",
              "        return;\n",
              "      }\n",
              "      const div = document.createElement('div');\n",
              "      const label = document.createElement('label');\n",
              "      label.textContent = `Downloading \"${filename}\": `;\n",
              "      div.appendChild(label);\n",
              "      const progress = document.createElement('progress');\n",
              "      progress.max = size;\n",
              "      div.appendChild(progress);\n",
              "      document.body.appendChild(div);\n",
              "\n",
              "      const buffers = [];\n",
              "      let downloaded = 0;\n",
              "\n",
              "      const channel = await google.colab.kernel.comms.open(id);\n",
              "      // Send a message to notify the kernel that we're ready.\n",
              "      channel.send({})\n",
              "\n",
              "      for await (const message of channel.messages) {\n",
              "        // Send a message to notify the kernel that we're ready.\n",
              "        channel.send({})\n",
              "        if (message.buffers) {\n",
              "          for (const buffer of message.buffers) {\n",
              "            buffers.push(buffer);\n",
              "            downloaded += buffer.byteLength;\n",
              "            progress.value = downloaded;\n",
              "          }\n",
              "        }\n",
              "      }\n",
              "      const blob = new Blob(buffers, {type: 'application/binary'});\n",
              "      const a = document.createElement('a');\n",
              "      a.href = window.URL.createObjectURL(blob);\n",
              "      a.download = filename;\n",
              "      div.appendChild(a);\n",
              "      a.click();\n",
              "      div.remove();\n",
              "    }\n",
              "  "
            ]
          },
          "metadata": {}
        },
        {
          "output_type": "display_data",
          "data": {
            "text/plain": [
              "<IPython.core.display.Javascript object>"
            ],
            "application/javascript": [
              "download(\"download_ee1651e4-a833-4054-9715-14b0faa368aa\", \"20x20_pca-0.75.csv\", 1092406)"
            ]
          },
          "metadata": {}
        },
        {
          "output_type": "stream",
          "name": "stdout",
          "text": [
            "hog de 20x20 e pca de 0.8\n",
            "shape: (800, 85)\n",
            "\n"
          ]
        },
        {
          "output_type": "display_data",
          "data": {
            "text/plain": [
              "<IPython.core.display.Javascript object>"
            ],
            "application/javascript": [
              "\n",
              "    async function download(id, filename, size) {\n",
              "      if (!google.colab.kernel.accessAllowed) {\n",
              "        return;\n",
              "      }\n",
              "      const div = document.createElement('div');\n",
              "      const label = document.createElement('label');\n",
              "      label.textContent = `Downloading \"${filename}\": `;\n",
              "      div.appendChild(label);\n",
              "      const progress = document.createElement('progress');\n",
              "      progress.max = size;\n",
              "      div.appendChild(progress);\n",
              "      document.body.appendChild(div);\n",
              "\n",
              "      const buffers = [];\n",
              "      let downloaded = 0;\n",
              "\n",
              "      const channel = await google.colab.kernel.comms.open(id);\n",
              "      // Send a message to notify the kernel that we're ready.\n",
              "      channel.send({})\n",
              "\n",
              "      for await (const message of channel.messages) {\n",
              "        // Send a message to notify the kernel that we're ready.\n",
              "        channel.send({})\n",
              "        if (message.buffers) {\n",
              "          for (const buffer of message.buffers) {\n",
              "            buffers.push(buffer);\n",
              "            downloaded += buffer.byteLength;\n",
              "            progress.value = downloaded;\n",
              "          }\n",
              "        }\n",
              "      }\n",
              "      const blob = new Blob(buffers, {type: 'application/binary'});\n",
              "      const a = document.createElement('a');\n",
              "      a.href = window.URL.createObjectURL(blob);\n",
              "      a.download = filename;\n",
              "      div.appendChild(a);\n",
              "      a.click();\n",
              "      div.remove();\n",
              "    }\n",
              "  "
            ]
          },
          "metadata": {}
        },
        {
          "output_type": "display_data",
          "data": {
            "text/plain": [
              "<IPython.core.display.Javascript object>"
            ],
            "application/javascript": [
              "download(\"download_38cfbf78-c4c0-4e0d-8958-c60251e9c581\", \"20x20_pca-0.8.csv\", 1343928)"
            ]
          },
          "metadata": {}
        },
        {
          "output_type": "stream",
          "name": "stdout",
          "text": [
            "hog de 20x20 e pca de 0.85\n",
            "shape: (800, 107)\n",
            "\n"
          ]
        },
        {
          "output_type": "display_data",
          "data": {
            "text/plain": [
              "<IPython.core.display.Javascript object>"
            ],
            "application/javascript": [
              "\n",
              "    async function download(id, filename, size) {\n",
              "      if (!google.colab.kernel.accessAllowed) {\n",
              "        return;\n",
              "      }\n",
              "      const div = document.createElement('div');\n",
              "      const label = document.createElement('label');\n",
              "      label.textContent = `Downloading \"${filename}\": `;\n",
              "      div.appendChild(label);\n",
              "      const progress = document.createElement('progress');\n",
              "      progress.max = size;\n",
              "      div.appendChild(progress);\n",
              "      document.body.appendChild(div);\n",
              "\n",
              "      const buffers = [];\n",
              "      let downloaded = 0;\n",
              "\n",
              "      const channel = await google.colab.kernel.comms.open(id);\n",
              "      // Send a message to notify the kernel that we're ready.\n",
              "      channel.send({})\n",
              "\n",
              "      for await (const message of channel.messages) {\n",
              "        // Send a message to notify the kernel that we're ready.\n",
              "        channel.send({})\n",
              "        if (message.buffers) {\n",
              "          for (const buffer of message.buffers) {\n",
              "            buffers.push(buffer);\n",
              "            downloaded += buffer.byteLength;\n",
              "            progress.value = downloaded;\n",
              "          }\n",
              "        }\n",
              "      }\n",
              "      const blob = new Blob(buffers, {type: 'application/binary'});\n",
              "      const a = document.createElement('a');\n",
              "      a.href = window.URL.createObjectURL(blob);\n",
              "      a.download = filename;\n",
              "      div.appendChild(a);\n",
              "      a.click();\n",
              "      div.remove();\n",
              "    }\n",
              "  "
            ]
          },
          "metadata": {}
        },
        {
          "output_type": "display_data",
          "data": {
            "text/plain": [
              "<IPython.core.display.Javascript object>"
            ],
            "application/javascript": [
              "download(\"download_ef91c9dd-88e4-4520-9b90-e9147919009e\", \"20x20_pca-0.85.csv\", 1689742)"
            ]
          },
          "metadata": {}
        },
        {
          "output_type": "stream",
          "name": "stdout",
          "text": [
            "hog de 20x20 e pca de 0.9\n",
            "shape: (800, 141)\n",
            "\n"
          ]
        },
        {
          "output_type": "display_data",
          "data": {
            "text/plain": [
              "<IPython.core.display.Javascript object>"
            ],
            "application/javascript": [
              "\n",
              "    async function download(id, filename, size) {\n",
              "      if (!google.colab.kernel.accessAllowed) {\n",
              "        return;\n",
              "      }\n",
              "      const div = document.createElement('div');\n",
              "      const label = document.createElement('label');\n",
              "      label.textContent = `Downloading \"${filename}\": `;\n",
              "      div.appendChild(label);\n",
              "      const progress = document.createElement('progress');\n",
              "      progress.max = size;\n",
              "      div.appendChild(progress);\n",
              "      document.body.appendChild(div);\n",
              "\n",
              "      const buffers = [];\n",
              "      let downloaded = 0;\n",
              "\n",
              "      const channel = await google.colab.kernel.comms.open(id);\n",
              "      // Send a message to notify the kernel that we're ready.\n",
              "      channel.send({})\n",
              "\n",
              "      for await (const message of channel.messages) {\n",
              "        // Send a message to notify the kernel that we're ready.\n",
              "        channel.send({})\n",
              "        if (message.buffers) {\n",
              "          for (const buffer of message.buffers) {\n",
              "            buffers.push(buffer);\n",
              "            downloaded += buffer.byteLength;\n",
              "            progress.value = downloaded;\n",
              "          }\n",
              "        }\n",
              "      }\n",
              "      const blob = new Blob(buffers, {type: 'application/binary'});\n",
              "      const a = document.createElement('a');\n",
              "      a.href = window.URL.createObjectURL(blob);\n",
              "      a.download = filename;\n",
              "      div.appendChild(a);\n",
              "      a.click();\n",
              "      div.remove();\n",
              "    }\n",
              "  "
            ]
          },
          "metadata": {}
        },
        {
          "output_type": "display_data",
          "data": {
            "text/plain": [
              "<IPython.core.display.Javascript object>"
            ],
            "application/javascript": [
              "download(\"download_8281484e-050c-4adc-84c0-bfc20a92a0ce\", \"20x20_pca-0.9.csv\", 2224422)"
            ]
          },
          "metadata": {}
        },
        {
          "output_type": "stream",
          "name": "stdout",
          "text": [
            "hog de 20x20 e pca de 0.95\n",
            "shape: (800, 200)\n",
            "\n"
          ]
        },
        {
          "output_type": "display_data",
          "data": {
            "text/plain": [
              "<IPython.core.display.Javascript object>"
            ],
            "application/javascript": [
              "\n",
              "    async function download(id, filename, size) {\n",
              "      if (!google.colab.kernel.accessAllowed) {\n",
              "        return;\n",
              "      }\n",
              "      const div = document.createElement('div');\n",
              "      const label = document.createElement('label');\n",
              "      label.textContent = `Downloading \"${filename}\": `;\n",
              "      div.appendChild(label);\n",
              "      const progress = document.createElement('progress');\n",
              "      progress.max = size;\n",
              "      div.appendChild(progress);\n",
              "      document.body.appendChild(div);\n",
              "\n",
              "      const buffers = [];\n",
              "      let downloaded = 0;\n",
              "\n",
              "      const channel = await google.colab.kernel.comms.open(id);\n",
              "      // Send a message to notify the kernel that we're ready.\n",
              "      channel.send({})\n",
              "\n",
              "      for await (const message of channel.messages) {\n",
              "        // Send a message to notify the kernel that we're ready.\n",
              "        channel.send({})\n",
              "        if (message.buffers) {\n",
              "          for (const buffer of message.buffers) {\n",
              "            buffers.push(buffer);\n",
              "            downloaded += buffer.byteLength;\n",
              "            progress.value = downloaded;\n",
              "          }\n",
              "        }\n",
              "      }\n",
              "      const blob = new Blob(buffers, {type: 'application/binary'});\n",
              "      const a = document.createElement('a');\n",
              "      a.href = window.URL.createObjectURL(blob);\n",
              "      a.download = filename;\n",
              "      div.appendChild(a);\n",
              "      a.click();\n",
              "      div.remove();\n",
              "    }\n",
              "  "
            ]
          },
          "metadata": {}
        },
        {
          "output_type": "display_data",
          "data": {
            "text/plain": [
              "<IPython.core.display.Javascript object>"
            ],
            "application/javascript": [
              "download(\"download_665f5247-9801-420d-8c8d-3372f3ef4440\", \"20x20_pca-0.95.csv\", 3151986)"
            ]
          },
          "metadata": {}
        },
        {
          "output_type": "stream",
          "name": "stdout",
          "text": [
            "hog de 24x24 e pca de 0.1\n",
            "shape: (800, 1)\n",
            "\n"
          ]
        },
        {
          "output_type": "display_data",
          "data": {
            "text/plain": [
              "<IPython.core.display.Javascript object>"
            ],
            "application/javascript": [
              "\n",
              "    async function download(id, filename, size) {\n",
              "      if (!google.colab.kernel.accessAllowed) {\n",
              "        return;\n",
              "      }\n",
              "      const div = document.createElement('div');\n",
              "      const label = document.createElement('label');\n",
              "      label.textContent = `Downloading \"${filename}\": `;\n",
              "      div.appendChild(label);\n",
              "      const progress = document.createElement('progress');\n",
              "      progress.max = size;\n",
              "      div.appendChild(progress);\n",
              "      document.body.appendChild(div);\n",
              "\n",
              "      const buffers = [];\n",
              "      let downloaded = 0;\n",
              "\n",
              "      const channel = await google.colab.kernel.comms.open(id);\n",
              "      // Send a message to notify the kernel that we're ready.\n",
              "      channel.send({})\n",
              "\n",
              "      for await (const message of channel.messages) {\n",
              "        // Send a message to notify the kernel that we're ready.\n",
              "        channel.send({})\n",
              "        if (message.buffers) {\n",
              "          for (const buffer of message.buffers) {\n",
              "            buffers.push(buffer);\n",
              "            downloaded += buffer.byteLength;\n",
              "            progress.value = downloaded;\n",
              "          }\n",
              "        }\n",
              "      }\n",
              "      const blob = new Blob(buffers, {type: 'application/binary'});\n",
              "      const a = document.createElement('a');\n",
              "      a.href = window.URL.createObjectURL(blob);\n",
              "      a.download = filename;\n",
              "      div.appendChild(a);\n",
              "      a.click();\n",
              "      div.remove();\n",
              "    }\n",
              "  "
            ]
          },
          "metadata": {}
        },
        {
          "output_type": "display_data",
          "data": {
            "text/plain": [
              "<IPython.core.display.Javascript object>"
            ],
            "application/javascript": [
              "download(\"download_73336016-110b-4d84-909b-e5799f8c68bb\", \"24x24_pca-0.1.csv\", 23278)"
            ]
          },
          "metadata": {}
        },
        {
          "output_type": "stream",
          "name": "stdout",
          "text": [
            "hog de 24x24 e pca de 0.15\n",
            "shape: (800, 3)\n",
            "\n"
          ]
        },
        {
          "output_type": "display_data",
          "data": {
            "text/plain": [
              "<IPython.core.display.Javascript object>"
            ],
            "application/javascript": [
              "\n",
              "    async function download(id, filename, size) {\n",
              "      if (!google.colab.kernel.accessAllowed) {\n",
              "        return;\n",
              "      }\n",
              "      const div = document.createElement('div');\n",
              "      const label = document.createElement('label');\n",
              "      label.textContent = `Downloading \"${filename}\": `;\n",
              "      div.appendChild(label);\n",
              "      const progress = document.createElement('progress');\n",
              "      progress.max = size;\n",
              "      div.appendChild(progress);\n",
              "      document.body.appendChild(div);\n",
              "\n",
              "      const buffers = [];\n",
              "      let downloaded = 0;\n",
              "\n",
              "      const channel = await google.colab.kernel.comms.open(id);\n",
              "      // Send a message to notify the kernel that we're ready.\n",
              "      channel.send({})\n",
              "\n",
              "      for await (const message of channel.messages) {\n",
              "        // Send a message to notify the kernel that we're ready.\n",
              "        channel.send({})\n",
              "        if (message.buffers) {\n",
              "          for (const buffer of message.buffers) {\n",
              "            buffers.push(buffer);\n",
              "            downloaded += buffer.byteLength;\n",
              "            progress.value = downloaded;\n",
              "          }\n",
              "        }\n",
              "      }\n",
              "      const blob = new Blob(buffers, {type: 'application/binary'});\n",
              "      const a = document.createElement('a');\n",
              "      a.href = window.URL.createObjectURL(blob);\n",
              "      a.download = filename;\n",
              "      div.appendChild(a);\n",
              "      a.click();\n",
              "      div.remove();\n",
              "    }\n",
              "  "
            ]
          },
          "metadata": {}
        },
        {
          "output_type": "display_data",
          "data": {
            "text/plain": [
              "<IPython.core.display.Javascript object>"
            ],
            "application/javascript": [
              "download(\"download_4fb1054b-21b8-4050-a69b-92061d87145e\", \"24x24_pca-0.15.csv\", 54678)"
            ]
          },
          "metadata": {}
        },
        {
          "output_type": "stream",
          "name": "stdout",
          "text": [
            "hog de 24x24 e pca de 0.2\n",
            "shape: (800, 4)\n",
            "\n"
          ]
        },
        {
          "output_type": "display_data",
          "data": {
            "text/plain": [
              "<IPython.core.display.Javascript object>"
            ],
            "application/javascript": [
              "\n",
              "    async function download(id, filename, size) {\n",
              "      if (!google.colab.kernel.accessAllowed) {\n",
              "        return;\n",
              "      }\n",
              "      const div = document.createElement('div');\n",
              "      const label = document.createElement('label');\n",
              "      label.textContent = `Downloading \"${filename}\": `;\n",
              "      div.appendChild(label);\n",
              "      const progress = document.createElement('progress');\n",
              "      progress.max = size;\n",
              "      div.appendChild(progress);\n",
              "      document.body.appendChild(div);\n",
              "\n",
              "      const buffers = [];\n",
              "      let downloaded = 0;\n",
              "\n",
              "      const channel = await google.colab.kernel.comms.open(id);\n",
              "      // Send a message to notify the kernel that we're ready.\n",
              "      channel.send({})\n",
              "\n",
              "      for await (const message of channel.messages) {\n",
              "        // Send a message to notify the kernel that we're ready.\n",
              "        channel.send({})\n",
              "        if (message.buffers) {\n",
              "          for (const buffer of message.buffers) {\n",
              "            buffers.push(buffer);\n",
              "            downloaded += buffer.byteLength;\n",
              "            progress.value = downloaded;\n",
              "          }\n",
              "        }\n",
              "      }\n",
              "      const blob = new Blob(buffers, {type: 'application/binary'});\n",
              "      const a = document.createElement('a');\n",
              "      a.href = window.URL.createObjectURL(blob);\n",
              "      a.download = filename;\n",
              "      div.appendChild(a);\n",
              "      a.click();\n",
              "      div.remove();\n",
              "    }\n",
              "  "
            ]
          },
          "metadata": {}
        },
        {
          "output_type": "display_data",
          "data": {
            "text/plain": [
              "<IPython.core.display.Javascript object>"
            ],
            "application/javascript": [
              "download(\"download_6332b456-d3e2-4c8b-ba1c-ff45264a277c\", \"24x24_pca-0.2.csv\", 70399)"
            ]
          },
          "metadata": {}
        },
        {
          "output_type": "stream",
          "name": "stdout",
          "text": [
            "hog de 24x24 e pca de 0.25\n",
            "shape: (800, 6)\n",
            "\n"
          ]
        },
        {
          "output_type": "display_data",
          "data": {
            "text/plain": [
              "<IPython.core.display.Javascript object>"
            ],
            "application/javascript": [
              "\n",
              "    async function download(id, filename, size) {\n",
              "      if (!google.colab.kernel.accessAllowed) {\n",
              "        return;\n",
              "      }\n",
              "      const div = document.createElement('div');\n",
              "      const label = document.createElement('label');\n",
              "      label.textContent = `Downloading \"${filename}\": `;\n",
              "      div.appendChild(label);\n",
              "      const progress = document.createElement('progress');\n",
              "      progress.max = size;\n",
              "      div.appendChild(progress);\n",
              "      document.body.appendChild(div);\n",
              "\n",
              "      const buffers = [];\n",
              "      let downloaded = 0;\n",
              "\n",
              "      const channel = await google.colab.kernel.comms.open(id);\n",
              "      // Send a message to notify the kernel that we're ready.\n",
              "      channel.send({})\n",
              "\n",
              "      for await (const message of channel.messages) {\n",
              "        // Send a message to notify the kernel that we're ready.\n",
              "        channel.send({})\n",
              "        if (message.buffers) {\n",
              "          for (const buffer of message.buffers) {\n",
              "            buffers.push(buffer);\n",
              "            downloaded += buffer.byteLength;\n",
              "            progress.value = downloaded;\n",
              "          }\n",
              "        }\n",
              "      }\n",
              "      const blob = new Blob(buffers, {type: 'application/binary'});\n",
              "      const a = document.createElement('a');\n",
              "      a.href = window.URL.createObjectURL(blob);\n",
              "      a.download = filename;\n",
              "      div.appendChild(a);\n",
              "      a.click();\n",
              "      div.remove();\n",
              "    }\n",
              "  "
            ]
          },
          "metadata": {}
        },
        {
          "output_type": "display_data",
          "data": {
            "text/plain": [
              "<IPython.core.display.Javascript object>"
            ],
            "application/javascript": [
              "download(\"download_8b2f5b82-8799-4709-85f9-8ee292b8c47c\", \"24x24_pca-0.25.csv\", 101831)"
            ]
          },
          "metadata": {}
        },
        {
          "output_type": "stream",
          "name": "stdout",
          "text": [
            "hog de 24x24 e pca de 0.3\n",
            "shape: (800, 7)\n",
            "\n"
          ]
        },
        {
          "output_type": "display_data",
          "data": {
            "text/plain": [
              "<IPython.core.display.Javascript object>"
            ],
            "application/javascript": [
              "\n",
              "    async function download(id, filename, size) {\n",
              "      if (!google.colab.kernel.accessAllowed) {\n",
              "        return;\n",
              "      }\n",
              "      const div = document.createElement('div');\n",
              "      const label = document.createElement('label');\n",
              "      label.textContent = `Downloading \"${filename}\": `;\n",
              "      div.appendChild(label);\n",
              "      const progress = document.createElement('progress');\n",
              "      progress.max = size;\n",
              "      div.appendChild(progress);\n",
              "      document.body.appendChild(div);\n",
              "\n",
              "      const buffers = [];\n",
              "      let downloaded = 0;\n",
              "\n",
              "      const channel = await google.colab.kernel.comms.open(id);\n",
              "      // Send a message to notify the kernel that we're ready.\n",
              "      channel.send({})\n",
              "\n",
              "      for await (const message of channel.messages) {\n",
              "        // Send a message to notify the kernel that we're ready.\n",
              "        channel.send({})\n",
              "        if (message.buffers) {\n",
              "          for (const buffer of message.buffers) {\n",
              "            buffers.push(buffer);\n",
              "            downloaded += buffer.byteLength;\n",
              "            progress.value = downloaded;\n",
              "          }\n",
              "        }\n",
              "      }\n",
              "      const blob = new Blob(buffers, {type: 'application/binary'});\n",
              "      const a = document.createElement('a');\n",
              "      a.href = window.URL.createObjectURL(blob);\n",
              "      a.download = filename;\n",
              "      div.appendChild(a);\n",
              "      a.click();\n",
              "      div.remove();\n",
              "    }\n",
              "  "
            ]
          },
          "metadata": {}
        },
        {
          "output_type": "display_data",
          "data": {
            "text/plain": [
              "<IPython.core.display.Javascript object>"
            ],
            "application/javascript": [
              "download(\"download_8ada11e2-6dad-4487-a6f5-5890e408ad4d\", \"24x24_pca-0.3.csv\", 117588)"
            ]
          },
          "metadata": {}
        },
        {
          "output_type": "stream",
          "name": "stdout",
          "text": [
            "hog de 24x24 e pca de 0.35\n",
            "shape: (800, 10)\n",
            "\n"
          ]
        },
        {
          "output_type": "display_data",
          "data": {
            "text/plain": [
              "<IPython.core.display.Javascript object>"
            ],
            "application/javascript": [
              "\n",
              "    async function download(id, filename, size) {\n",
              "      if (!google.colab.kernel.accessAllowed) {\n",
              "        return;\n",
              "      }\n",
              "      const div = document.createElement('div');\n",
              "      const label = document.createElement('label');\n",
              "      label.textContent = `Downloading \"${filename}\": `;\n",
              "      div.appendChild(label);\n",
              "      const progress = document.createElement('progress');\n",
              "      progress.max = size;\n",
              "      div.appendChild(progress);\n",
              "      document.body.appendChild(div);\n",
              "\n",
              "      const buffers = [];\n",
              "      let downloaded = 0;\n",
              "\n",
              "      const channel = await google.colab.kernel.comms.open(id);\n",
              "      // Send a message to notify the kernel that we're ready.\n",
              "      channel.send({})\n",
              "\n",
              "      for await (const message of channel.messages) {\n",
              "        // Send a message to notify the kernel that we're ready.\n",
              "        channel.send({})\n",
              "        if (message.buffers) {\n",
              "          for (const buffer of message.buffers) {\n",
              "            buffers.push(buffer);\n",
              "            downloaded += buffer.byteLength;\n",
              "            progress.value = downloaded;\n",
              "          }\n",
              "        }\n",
              "      }\n",
              "      const blob = new Blob(buffers, {type: 'application/binary'});\n",
              "      const a = document.createElement('a');\n",
              "      a.href = window.URL.createObjectURL(blob);\n",
              "      a.download = filename;\n",
              "      div.appendChild(a);\n",
              "      a.click();\n",
              "      div.remove();\n",
              "    }\n",
              "  "
            ]
          },
          "metadata": {}
        },
        {
          "output_type": "display_data",
          "data": {
            "text/plain": [
              "<IPython.core.display.Javascript object>"
            ],
            "application/javascript": [
              "download(\"download_0e2412bf-3399-41bc-bef8-4004eacf8aa1\", \"24x24_pca-0.35.csv\", 164710)"
            ]
          },
          "metadata": {}
        },
        {
          "output_type": "stream",
          "name": "stdout",
          "text": [
            "hog de 24x24 e pca de 0.4\n",
            "shape: (800, 12)\n",
            "\n"
          ]
        },
        {
          "output_type": "display_data",
          "data": {
            "text/plain": [
              "<IPython.core.display.Javascript object>"
            ],
            "application/javascript": [
              "\n",
              "    async function download(id, filename, size) {\n",
              "      if (!google.colab.kernel.accessAllowed) {\n",
              "        return;\n",
              "      }\n",
              "      const div = document.createElement('div');\n",
              "      const label = document.createElement('label');\n",
              "      label.textContent = `Downloading \"${filename}\": `;\n",
              "      div.appendChild(label);\n",
              "      const progress = document.createElement('progress');\n",
              "      progress.max = size;\n",
              "      div.appendChild(progress);\n",
              "      document.body.appendChild(div);\n",
              "\n",
              "      const buffers = [];\n",
              "      let downloaded = 0;\n",
              "\n",
              "      const channel = await google.colab.kernel.comms.open(id);\n",
              "      // Send a message to notify the kernel that we're ready.\n",
              "      channel.send({})\n",
              "\n",
              "      for await (const message of channel.messages) {\n",
              "        // Send a message to notify the kernel that we're ready.\n",
              "        channel.send({})\n",
              "        if (message.buffers) {\n",
              "          for (const buffer of message.buffers) {\n",
              "            buffers.push(buffer);\n",
              "            downloaded += buffer.byteLength;\n",
              "            progress.value = downloaded;\n",
              "          }\n",
              "        }\n",
              "      }\n",
              "      const blob = new Blob(buffers, {type: 'application/binary'});\n",
              "      const a = document.createElement('a');\n",
              "      a.href = window.URL.createObjectURL(blob);\n",
              "      a.download = filename;\n",
              "      div.appendChild(a);\n",
              "      a.click();\n",
              "      div.remove();\n",
              "    }\n",
              "  "
            ]
          },
          "metadata": {}
        },
        {
          "output_type": "display_data",
          "data": {
            "text/plain": [
              "<IPython.core.display.Javascript object>"
            ],
            "application/javascript": [
              "download(\"download_3a6a576c-116f-47d9-9c1b-8ff42550948f\", \"24x24_pca-0.4.csv\", 196206)"
            ]
          },
          "metadata": {}
        },
        {
          "output_type": "stream",
          "name": "stdout",
          "text": [
            "hog de 24x24 e pca de 0.45\n",
            "shape: (800, 15)\n",
            "\n"
          ]
        },
        {
          "output_type": "display_data",
          "data": {
            "text/plain": [
              "<IPython.core.display.Javascript object>"
            ],
            "application/javascript": [
              "\n",
              "    async function download(id, filename, size) {\n",
              "      if (!google.colab.kernel.accessAllowed) {\n",
              "        return;\n",
              "      }\n",
              "      const div = document.createElement('div');\n",
              "      const label = document.createElement('label');\n",
              "      label.textContent = `Downloading \"${filename}\": `;\n",
              "      div.appendChild(label);\n",
              "      const progress = document.createElement('progress');\n",
              "      progress.max = size;\n",
              "      div.appendChild(progress);\n",
              "      document.body.appendChild(div);\n",
              "\n",
              "      const buffers = [];\n",
              "      let downloaded = 0;\n",
              "\n",
              "      const channel = await google.colab.kernel.comms.open(id);\n",
              "      // Send a message to notify the kernel that we're ready.\n",
              "      channel.send({})\n",
              "\n",
              "      for await (const message of channel.messages) {\n",
              "        // Send a message to notify the kernel that we're ready.\n",
              "        channel.send({})\n",
              "        if (message.buffers) {\n",
              "          for (const buffer of message.buffers) {\n",
              "            buffers.push(buffer);\n",
              "            downloaded += buffer.byteLength;\n",
              "            progress.value = downloaded;\n",
              "          }\n",
              "        }\n",
              "      }\n",
              "      const blob = new Blob(buffers, {type: 'application/binary'});\n",
              "      const a = document.createElement('a');\n",
              "      a.href = window.URL.createObjectURL(blob);\n",
              "      a.download = filename;\n",
              "      div.appendChild(a);\n",
              "      a.click();\n",
              "      div.remove();\n",
              "    }\n",
              "  "
            ]
          },
          "metadata": {}
        },
        {
          "output_type": "display_data",
          "data": {
            "text/plain": [
              "<IPython.core.display.Javascript object>"
            ],
            "application/javascript": [
              "download(\"download_79741359-02ea-4b9b-a43c-5c2c67a2ffcb\", \"24x24_pca-0.45.csv\", 243388)"
            ]
          },
          "metadata": {}
        },
        {
          "output_type": "stream",
          "name": "stdout",
          "text": [
            "hog de 24x24 e pca de 0.5\n",
            "shape: (800, 19)\n",
            "\n"
          ]
        },
        {
          "output_type": "display_data",
          "data": {
            "text/plain": [
              "<IPython.core.display.Javascript object>"
            ],
            "application/javascript": [
              "\n",
              "    async function download(id, filename, size) {\n",
              "      if (!google.colab.kernel.accessAllowed) {\n",
              "        return;\n",
              "      }\n",
              "      const div = document.createElement('div');\n",
              "      const label = document.createElement('label');\n",
              "      label.textContent = `Downloading \"${filename}\": `;\n",
              "      div.appendChild(label);\n",
              "      const progress = document.createElement('progress');\n",
              "      progress.max = size;\n",
              "      div.appendChild(progress);\n",
              "      document.body.appendChild(div);\n",
              "\n",
              "      const buffers = [];\n",
              "      let downloaded = 0;\n",
              "\n",
              "      const channel = await google.colab.kernel.comms.open(id);\n",
              "      // Send a message to notify the kernel that we're ready.\n",
              "      channel.send({})\n",
              "\n",
              "      for await (const message of channel.messages) {\n",
              "        // Send a message to notify the kernel that we're ready.\n",
              "        channel.send({})\n",
              "        if (message.buffers) {\n",
              "          for (const buffer of message.buffers) {\n",
              "            buffers.push(buffer);\n",
              "            downloaded += buffer.byteLength;\n",
              "            progress.value = downloaded;\n",
              "          }\n",
              "        }\n",
              "      }\n",
              "      const blob = new Blob(buffers, {type: 'application/binary'});\n",
              "      const a = document.createElement('a');\n",
              "      a.href = window.URL.createObjectURL(blob);\n",
              "      a.download = filename;\n",
              "      div.appendChild(a);\n",
              "      a.click();\n",
              "      div.remove();\n",
              "    }\n",
              "  "
            ]
          },
          "metadata": {}
        },
        {
          "output_type": "display_data",
          "data": {
            "text/plain": [
              "<IPython.core.display.Javascript object>"
            ],
            "application/javascript": [
              "download(\"download_eb5158c5-d8fa-47c5-97b1-7f757fe3ecc7\", \"24x24_pca-0.5.csv\", 306267)"
            ]
          },
          "metadata": {}
        },
        {
          "output_type": "stream",
          "name": "stdout",
          "text": [
            "hog de 24x24 e pca de 0.55\n",
            "shape: (800, 23)\n",
            "\n"
          ]
        },
        {
          "output_type": "display_data",
          "data": {
            "text/plain": [
              "<IPython.core.display.Javascript object>"
            ],
            "application/javascript": [
              "\n",
              "    async function download(id, filename, size) {\n",
              "      if (!google.colab.kernel.accessAllowed) {\n",
              "        return;\n",
              "      }\n",
              "      const div = document.createElement('div');\n",
              "      const label = document.createElement('label');\n",
              "      label.textContent = `Downloading \"${filename}\": `;\n",
              "      div.appendChild(label);\n",
              "      const progress = document.createElement('progress');\n",
              "      progress.max = size;\n",
              "      div.appendChild(progress);\n",
              "      document.body.appendChild(div);\n",
              "\n",
              "      const buffers = [];\n",
              "      let downloaded = 0;\n",
              "\n",
              "      const channel = await google.colab.kernel.comms.open(id);\n",
              "      // Send a message to notify the kernel that we're ready.\n",
              "      channel.send({})\n",
              "\n",
              "      for await (const message of channel.messages) {\n",
              "        // Send a message to notify the kernel that we're ready.\n",
              "        channel.send({})\n",
              "        if (message.buffers) {\n",
              "          for (const buffer of message.buffers) {\n",
              "            buffers.push(buffer);\n",
              "            downloaded += buffer.byteLength;\n",
              "            progress.value = downloaded;\n",
              "          }\n",
              "        }\n",
              "      }\n",
              "      const blob = new Blob(buffers, {type: 'application/binary'});\n",
              "      const a = document.createElement('a');\n",
              "      a.href = window.URL.createObjectURL(blob);\n",
              "      a.download = filename;\n",
              "      div.appendChild(a);\n",
              "      a.click();\n",
              "      div.remove();\n",
              "    }\n",
              "  "
            ]
          },
          "metadata": {}
        },
        {
          "output_type": "display_data",
          "data": {
            "text/plain": [
              "<IPython.core.display.Javascript object>"
            ],
            "application/javascript": [
              "download(\"download_16d513cd-fdbf-4c0a-a1a3-c97d917ced84\", \"24x24_pca-0.55.csv\", 369066)"
            ]
          },
          "metadata": {}
        },
        {
          "output_type": "stream",
          "name": "stdout",
          "text": [
            "hog de 24x24 e pca de 0.6\n",
            "shape: (800, 28)\n",
            "\n"
          ]
        },
        {
          "output_type": "display_data",
          "data": {
            "text/plain": [
              "<IPython.core.display.Javascript object>"
            ],
            "application/javascript": [
              "\n",
              "    async function download(id, filename, size) {\n",
              "      if (!google.colab.kernel.accessAllowed) {\n",
              "        return;\n",
              "      }\n",
              "      const div = document.createElement('div');\n",
              "      const label = document.createElement('label');\n",
              "      label.textContent = `Downloading \"${filename}\": `;\n",
              "      div.appendChild(label);\n",
              "      const progress = document.createElement('progress');\n",
              "      progress.max = size;\n",
              "      div.appendChild(progress);\n",
              "      document.body.appendChild(div);\n",
              "\n",
              "      const buffers = [];\n",
              "      let downloaded = 0;\n",
              "\n",
              "      const channel = await google.colab.kernel.comms.open(id);\n",
              "      // Send a message to notify the kernel that we're ready.\n",
              "      channel.send({})\n",
              "\n",
              "      for await (const message of channel.messages) {\n",
              "        // Send a message to notify the kernel that we're ready.\n",
              "        channel.send({})\n",
              "        if (message.buffers) {\n",
              "          for (const buffer of message.buffers) {\n",
              "            buffers.push(buffer);\n",
              "            downloaded += buffer.byteLength;\n",
              "            progress.value = downloaded;\n",
              "          }\n",
              "        }\n",
              "      }\n",
              "      const blob = new Blob(buffers, {type: 'application/binary'});\n",
              "      const a = document.createElement('a');\n",
              "      a.href = window.URL.createObjectURL(blob);\n",
              "      a.download = filename;\n",
              "      div.appendChild(a);\n",
              "      a.click();\n",
              "      div.remove();\n",
              "    }\n",
              "  "
            ]
          },
          "metadata": {}
        },
        {
          "output_type": "display_data",
          "data": {
            "text/plain": [
              "<IPython.core.display.Javascript object>"
            ],
            "application/javascript": [
              "download(\"download_a0c346cd-3dfc-4d2e-9145-496dc9341190\", \"24x24_pca-0.6.csv\", 447678)"
            ]
          },
          "metadata": {}
        },
        {
          "output_type": "stream",
          "name": "stdout",
          "text": [
            "hog de 24x24 e pca de 0.65\n",
            "shape: (800, 33)\n",
            "\n"
          ]
        },
        {
          "output_type": "display_data",
          "data": {
            "text/plain": [
              "<IPython.core.display.Javascript object>"
            ],
            "application/javascript": [
              "\n",
              "    async function download(id, filename, size) {\n",
              "      if (!google.colab.kernel.accessAllowed) {\n",
              "        return;\n",
              "      }\n",
              "      const div = document.createElement('div');\n",
              "      const label = document.createElement('label');\n",
              "      label.textContent = `Downloading \"${filename}\": `;\n",
              "      div.appendChild(label);\n",
              "      const progress = document.createElement('progress');\n",
              "      progress.max = size;\n",
              "      div.appendChild(progress);\n",
              "      document.body.appendChild(div);\n",
              "\n",
              "      const buffers = [];\n",
              "      let downloaded = 0;\n",
              "\n",
              "      const channel = await google.colab.kernel.comms.open(id);\n",
              "      // Send a message to notify the kernel that we're ready.\n",
              "      channel.send({})\n",
              "\n",
              "      for await (const message of channel.messages) {\n",
              "        // Send a message to notify the kernel that we're ready.\n",
              "        channel.send({})\n",
              "        if (message.buffers) {\n",
              "          for (const buffer of message.buffers) {\n",
              "            buffers.push(buffer);\n",
              "            downloaded += buffer.byteLength;\n",
              "            progress.value = downloaded;\n",
              "          }\n",
              "        }\n",
              "      }\n",
              "      const blob = new Blob(buffers, {type: 'application/binary'});\n",
              "      const a = document.createElement('a');\n",
              "      a.href = window.URL.createObjectURL(blob);\n",
              "      a.download = filename;\n",
              "      div.appendChild(a);\n",
              "      a.click();\n",
              "      div.remove();\n",
              "    }\n",
              "  "
            ]
          },
          "metadata": {}
        },
        {
          "output_type": "display_data",
          "data": {
            "text/plain": [
              "<IPython.core.display.Javascript object>"
            ],
            "application/javascript": [
              "download(\"download_aeaf6eee-d06c-4918-9da3-06254e8b3d92\", \"24x24_pca-0.65.csv\", 526246)"
            ]
          },
          "metadata": {}
        },
        {
          "output_type": "stream",
          "name": "stdout",
          "text": [
            "hog de 24x24 e pca de 0.7\n",
            "shape: (800, 40)\n",
            "\n"
          ]
        },
        {
          "output_type": "display_data",
          "data": {
            "text/plain": [
              "<IPython.core.display.Javascript object>"
            ],
            "application/javascript": [
              "\n",
              "    async function download(id, filename, size) {\n",
              "      if (!google.colab.kernel.accessAllowed) {\n",
              "        return;\n",
              "      }\n",
              "      const div = document.createElement('div');\n",
              "      const label = document.createElement('label');\n",
              "      label.textContent = `Downloading \"${filename}\": `;\n",
              "      div.appendChild(label);\n",
              "      const progress = document.createElement('progress');\n",
              "      progress.max = size;\n",
              "      div.appendChild(progress);\n",
              "      document.body.appendChild(div);\n",
              "\n",
              "      const buffers = [];\n",
              "      let downloaded = 0;\n",
              "\n",
              "      const channel = await google.colab.kernel.comms.open(id);\n",
              "      // Send a message to notify the kernel that we're ready.\n",
              "      channel.send({})\n",
              "\n",
              "      for await (const message of channel.messages) {\n",
              "        // Send a message to notify the kernel that we're ready.\n",
              "        channel.send({})\n",
              "        if (message.buffers) {\n",
              "          for (const buffer of message.buffers) {\n",
              "            buffers.push(buffer);\n",
              "            downloaded += buffer.byteLength;\n",
              "            progress.value = downloaded;\n",
              "          }\n",
              "        }\n",
              "      }\n",
              "      const blob = new Blob(buffers, {type: 'application/binary'});\n",
              "      const a = document.createElement('a');\n",
              "      a.href = window.URL.createObjectURL(blob);\n",
              "      a.download = filename;\n",
              "      div.appendChild(a);\n",
              "      a.click();\n",
              "      div.remove();\n",
              "    }\n",
              "  "
            ]
          },
          "metadata": {}
        },
        {
          "output_type": "display_data",
          "data": {
            "text/plain": [
              "<IPython.core.display.Javascript object>"
            ],
            "application/javascript": [
              "download(\"download_4522d893-babd-4190-96e8-26f9f8500d7e\", \"24x24_pca-0.7.csv\", 636349)"
            ]
          },
          "metadata": {}
        },
        {
          "output_type": "stream",
          "name": "stdout",
          "text": [
            "hog de 24x24 e pca de 0.75\n",
            "shape: (800, 49)\n",
            "\n"
          ]
        },
        {
          "output_type": "display_data",
          "data": {
            "text/plain": [
              "<IPython.core.display.Javascript object>"
            ],
            "application/javascript": [
              "\n",
              "    async function download(id, filename, size) {\n",
              "      if (!google.colab.kernel.accessAllowed) {\n",
              "        return;\n",
              "      }\n",
              "      const div = document.createElement('div');\n",
              "      const label = document.createElement('label');\n",
              "      label.textContent = `Downloading \"${filename}\": `;\n",
              "      div.appendChild(label);\n",
              "      const progress = document.createElement('progress');\n",
              "      progress.max = size;\n",
              "      div.appendChild(progress);\n",
              "      document.body.appendChild(div);\n",
              "\n",
              "      const buffers = [];\n",
              "      let downloaded = 0;\n",
              "\n",
              "      const channel = await google.colab.kernel.comms.open(id);\n",
              "      // Send a message to notify the kernel that we're ready.\n",
              "      channel.send({})\n",
              "\n",
              "      for await (const message of channel.messages) {\n",
              "        // Send a message to notify the kernel that we're ready.\n",
              "        channel.send({})\n",
              "        if (message.buffers) {\n",
              "          for (const buffer of message.buffers) {\n",
              "            buffers.push(buffer);\n",
              "            downloaded += buffer.byteLength;\n",
              "            progress.value = downloaded;\n",
              "          }\n",
              "        }\n",
              "      }\n",
              "      const blob = new Blob(buffers, {type: 'application/binary'});\n",
              "      const a = document.createElement('a');\n",
              "      a.href = window.URL.createObjectURL(blob);\n",
              "      a.download = filename;\n",
              "      div.appendChild(a);\n",
              "      a.click();\n",
              "      div.remove();\n",
              "    }\n",
              "  "
            ]
          },
          "metadata": {}
        },
        {
          "output_type": "display_data",
          "data": {
            "text/plain": [
              "<IPython.core.display.Javascript object>"
            ],
            "application/javascript": [
              "download(\"download_fd28f359-f195-4e91-9eba-d33cd26614b2\", \"24x24_pca-0.75.csv\", 777861)"
            ]
          },
          "metadata": {}
        },
        {
          "output_type": "stream",
          "name": "stdout",
          "text": [
            "hog de 24x24 e pca de 0.8\n",
            "shape: (800, 60)\n",
            "\n"
          ]
        },
        {
          "output_type": "display_data",
          "data": {
            "text/plain": [
              "<IPython.core.display.Javascript object>"
            ],
            "application/javascript": [
              "\n",
              "    async function download(id, filename, size) {\n",
              "      if (!google.colab.kernel.accessAllowed) {\n",
              "        return;\n",
              "      }\n",
              "      const div = document.createElement('div');\n",
              "      const label = document.createElement('label');\n",
              "      label.textContent = `Downloading \"${filename}\": `;\n",
              "      div.appendChild(label);\n",
              "      const progress = document.createElement('progress');\n",
              "      progress.max = size;\n",
              "      div.appendChild(progress);\n",
              "      document.body.appendChild(div);\n",
              "\n",
              "      const buffers = [];\n",
              "      let downloaded = 0;\n",
              "\n",
              "      const channel = await google.colab.kernel.comms.open(id);\n",
              "      // Send a message to notify the kernel that we're ready.\n",
              "      channel.send({})\n",
              "\n",
              "      for await (const message of channel.messages) {\n",
              "        // Send a message to notify the kernel that we're ready.\n",
              "        channel.send({})\n",
              "        if (message.buffers) {\n",
              "          for (const buffer of message.buffers) {\n",
              "            buffers.push(buffer);\n",
              "            downloaded += buffer.byteLength;\n",
              "            progress.value = downloaded;\n",
              "          }\n",
              "        }\n",
              "      }\n",
              "      const blob = new Blob(buffers, {type: 'application/binary'});\n",
              "      const a = document.createElement('a');\n",
              "      a.href = window.URL.createObjectURL(blob);\n",
              "      a.download = filename;\n",
              "      div.appendChild(a);\n",
              "      a.click();\n",
              "      div.remove();\n",
              "    }\n",
              "  "
            ]
          },
          "metadata": {}
        },
        {
          "output_type": "display_data",
          "data": {
            "text/plain": [
              "<IPython.core.display.Javascript object>"
            ],
            "application/javascript": [
              "download(\"download_697c86dc-63cd-4b04-958a-44ff646a69cf\", \"24x24_pca-0.8.csv\", 950916)"
            ]
          },
          "metadata": {}
        },
        {
          "output_type": "stream",
          "name": "stdout",
          "text": [
            "hog de 24x24 e pca de 0.85\n",
            "shape: (800, 76)\n",
            "\n"
          ]
        },
        {
          "output_type": "display_data",
          "data": {
            "text/plain": [
              "<IPython.core.display.Javascript object>"
            ],
            "application/javascript": [
              "\n",
              "    async function download(id, filename, size) {\n",
              "      if (!google.colab.kernel.accessAllowed) {\n",
              "        return;\n",
              "      }\n",
              "      const div = document.createElement('div');\n",
              "      const label = document.createElement('label');\n",
              "      label.textContent = `Downloading \"${filename}\": `;\n",
              "      div.appendChild(label);\n",
              "      const progress = document.createElement('progress');\n",
              "      progress.max = size;\n",
              "      div.appendChild(progress);\n",
              "      document.body.appendChild(div);\n",
              "\n",
              "      const buffers = [];\n",
              "      let downloaded = 0;\n",
              "\n",
              "      const channel = await google.colab.kernel.comms.open(id);\n",
              "      // Send a message to notify the kernel that we're ready.\n",
              "      channel.send({})\n",
              "\n",
              "      for await (const message of channel.messages) {\n",
              "        // Send a message to notify the kernel that we're ready.\n",
              "        channel.send({})\n",
              "        if (message.buffers) {\n",
              "          for (const buffer of message.buffers) {\n",
              "            buffers.push(buffer);\n",
              "            downloaded += buffer.byteLength;\n",
              "            progress.value = downloaded;\n",
              "          }\n",
              "        }\n",
              "      }\n",
              "      const blob = new Blob(buffers, {type: 'application/binary'});\n",
              "      const a = document.createElement('a');\n",
              "      a.href = window.URL.createObjectURL(blob);\n",
              "      a.download = filename;\n",
              "      div.appendChild(a);\n",
              "      a.click();\n",
              "      div.remove();\n",
              "    }\n",
              "  "
            ]
          },
          "metadata": {}
        },
        {
          "output_type": "display_data",
          "data": {
            "text/plain": [
              "<IPython.core.display.Javascript object>"
            ],
            "application/javascript": [
              "download(\"download_d576624c-e838-4b81-92e8-1fde3f2c4f86\", \"24x24_pca-0.85.csv\", 1202383)"
            ]
          },
          "metadata": {}
        },
        {
          "output_type": "stream",
          "name": "stdout",
          "text": [
            "hog de 24x24 e pca de 0.9\n",
            "shape: (800, 100)\n",
            "\n"
          ]
        },
        {
          "output_type": "display_data",
          "data": {
            "text/plain": [
              "<IPython.core.display.Javascript object>"
            ],
            "application/javascript": [
              "\n",
              "    async function download(id, filename, size) {\n",
              "      if (!google.colab.kernel.accessAllowed) {\n",
              "        return;\n",
              "      }\n",
              "      const div = document.createElement('div');\n",
              "      const label = document.createElement('label');\n",
              "      label.textContent = `Downloading \"${filename}\": `;\n",
              "      div.appendChild(label);\n",
              "      const progress = document.createElement('progress');\n",
              "      progress.max = size;\n",
              "      div.appendChild(progress);\n",
              "      document.body.appendChild(div);\n",
              "\n",
              "      const buffers = [];\n",
              "      let downloaded = 0;\n",
              "\n",
              "      const channel = await google.colab.kernel.comms.open(id);\n",
              "      // Send a message to notify the kernel that we're ready.\n",
              "      channel.send({})\n",
              "\n",
              "      for await (const message of channel.messages) {\n",
              "        // Send a message to notify the kernel that we're ready.\n",
              "        channel.send({})\n",
              "        if (message.buffers) {\n",
              "          for (const buffer of message.buffers) {\n",
              "            buffers.push(buffer);\n",
              "            downloaded += buffer.byteLength;\n",
              "            progress.value = downloaded;\n",
              "          }\n",
              "        }\n",
              "      }\n",
              "      const blob = new Blob(buffers, {type: 'application/binary'});\n",
              "      const a = document.createElement('a');\n",
              "      a.href = window.URL.createObjectURL(blob);\n",
              "      a.download = filename;\n",
              "      div.appendChild(a);\n",
              "      a.click();\n",
              "      div.remove();\n",
              "    }\n",
              "  "
            ]
          },
          "metadata": {}
        },
        {
          "output_type": "display_data",
          "data": {
            "text/plain": [
              "<IPython.core.display.Javascript object>"
            ],
            "application/javascript": [
              "download(\"download_ac921ce5-74e3-4f91-807c-1736986d8ccd\", \"24x24_pca-0.9.csv\", 1579751)"
            ]
          },
          "metadata": {}
        },
        {
          "output_type": "stream",
          "name": "stdout",
          "text": [
            "hog de 24x24 e pca de 0.95\n",
            "shape: (800, 143)\n",
            "\n"
          ]
        },
        {
          "output_type": "display_data",
          "data": {
            "text/plain": [
              "<IPython.core.display.Javascript object>"
            ],
            "application/javascript": [
              "\n",
              "    async function download(id, filename, size) {\n",
              "      if (!google.colab.kernel.accessAllowed) {\n",
              "        return;\n",
              "      }\n",
              "      const div = document.createElement('div');\n",
              "      const label = document.createElement('label');\n",
              "      label.textContent = `Downloading \"${filename}\": `;\n",
              "      div.appendChild(label);\n",
              "      const progress = document.createElement('progress');\n",
              "      progress.max = size;\n",
              "      div.appendChild(progress);\n",
              "      document.body.appendChild(div);\n",
              "\n",
              "      const buffers = [];\n",
              "      let downloaded = 0;\n",
              "\n",
              "      const channel = await google.colab.kernel.comms.open(id);\n",
              "      // Send a message to notify the kernel that we're ready.\n",
              "      channel.send({})\n",
              "\n",
              "      for await (const message of channel.messages) {\n",
              "        // Send a message to notify the kernel that we're ready.\n",
              "        channel.send({})\n",
              "        if (message.buffers) {\n",
              "          for (const buffer of message.buffers) {\n",
              "            buffers.push(buffer);\n",
              "            downloaded += buffer.byteLength;\n",
              "            progress.value = downloaded;\n",
              "          }\n",
              "        }\n",
              "      }\n",
              "      const blob = new Blob(buffers, {type: 'application/binary'});\n",
              "      const a = document.createElement('a');\n",
              "      a.href = window.URL.createObjectURL(blob);\n",
              "      a.download = filename;\n",
              "      div.appendChild(a);\n",
              "      a.click();\n",
              "      div.remove();\n",
              "    }\n",
              "  "
            ]
          },
          "metadata": {}
        },
        {
          "output_type": "display_data",
          "data": {
            "text/plain": [
              "<IPython.core.display.Javascript object>"
            ],
            "application/javascript": [
              "download(\"download_a0e706d4-6e5b-4674-888b-cd809489975f\", \"24x24_pca-0.95.csv\", 2255894)"
            ]
          },
          "metadata": {}
        },
        {
          "output_type": "stream",
          "name": "stdout",
          "text": [
            "hog de 28x28 e pca de 0.1\n",
            "shape: (800, 1)\n",
            "\n"
          ]
        },
        {
          "output_type": "display_data",
          "data": {
            "text/plain": [
              "<IPython.core.display.Javascript object>"
            ],
            "application/javascript": [
              "\n",
              "    async function download(id, filename, size) {\n",
              "      if (!google.colab.kernel.accessAllowed) {\n",
              "        return;\n",
              "      }\n",
              "      const div = document.createElement('div');\n",
              "      const label = document.createElement('label');\n",
              "      label.textContent = `Downloading \"${filename}\": `;\n",
              "      div.appendChild(label);\n",
              "      const progress = document.createElement('progress');\n",
              "      progress.max = size;\n",
              "      div.appendChild(progress);\n",
              "      document.body.appendChild(div);\n",
              "\n",
              "      const buffers = [];\n",
              "      let downloaded = 0;\n",
              "\n",
              "      const channel = await google.colab.kernel.comms.open(id);\n",
              "      // Send a message to notify the kernel that we're ready.\n",
              "      channel.send({})\n",
              "\n",
              "      for await (const message of channel.messages) {\n",
              "        // Send a message to notify the kernel that we're ready.\n",
              "        channel.send({})\n",
              "        if (message.buffers) {\n",
              "          for (const buffer of message.buffers) {\n",
              "            buffers.push(buffer);\n",
              "            downloaded += buffer.byteLength;\n",
              "            progress.value = downloaded;\n",
              "          }\n",
              "        }\n",
              "      }\n",
              "      const blob = new Blob(buffers, {type: 'application/binary'});\n",
              "      const a = document.createElement('a');\n",
              "      a.href = window.URL.createObjectURL(blob);\n",
              "      a.download = filename;\n",
              "      div.appendChild(a);\n",
              "      a.click();\n",
              "      div.remove();\n",
              "    }\n",
              "  "
            ]
          },
          "metadata": {}
        },
        {
          "output_type": "display_data",
          "data": {
            "text/plain": [
              "<IPython.core.display.Javascript object>"
            ],
            "application/javascript": [
              "download(\"download_92fd517f-9cd6-4640-b175-b9ce62b259f6\", \"28x28_pca-0.1.csv\", 23327)"
            ]
          },
          "metadata": {}
        },
        {
          "output_type": "stream",
          "name": "stdout",
          "text": [
            "hog de 28x28 e pca de 0.15\n",
            "shape: (800, 2)\n",
            "\n"
          ]
        },
        {
          "output_type": "display_data",
          "data": {
            "text/plain": [
              "<IPython.core.display.Javascript object>"
            ],
            "application/javascript": [
              "\n",
              "    async function download(id, filename, size) {\n",
              "      if (!google.colab.kernel.accessAllowed) {\n",
              "        return;\n",
              "      }\n",
              "      const div = document.createElement('div');\n",
              "      const label = document.createElement('label');\n",
              "      label.textContent = `Downloading \"${filename}\": `;\n",
              "      div.appendChild(label);\n",
              "      const progress = document.createElement('progress');\n",
              "      progress.max = size;\n",
              "      div.appendChild(progress);\n",
              "      document.body.appendChild(div);\n",
              "\n",
              "      const buffers = [];\n",
              "      let downloaded = 0;\n",
              "\n",
              "      const channel = await google.colab.kernel.comms.open(id);\n",
              "      // Send a message to notify the kernel that we're ready.\n",
              "      channel.send({})\n",
              "\n",
              "      for await (const message of channel.messages) {\n",
              "        // Send a message to notify the kernel that we're ready.\n",
              "        channel.send({})\n",
              "        if (message.buffers) {\n",
              "          for (const buffer of message.buffers) {\n",
              "            buffers.push(buffer);\n",
              "            downloaded += buffer.byteLength;\n",
              "            progress.value = downloaded;\n",
              "          }\n",
              "        }\n",
              "      }\n",
              "      const blob = new Blob(buffers, {type: 'application/binary'});\n",
              "      const a = document.createElement('a');\n",
              "      a.href = window.URL.createObjectURL(blob);\n",
              "      a.download = filename;\n",
              "      div.appendChild(a);\n",
              "      a.click();\n",
              "      div.remove();\n",
              "    }\n",
              "  "
            ]
          },
          "metadata": {}
        },
        {
          "output_type": "display_data",
          "data": {
            "text/plain": [
              "<IPython.core.display.Javascript object>"
            ],
            "application/javascript": [
              "download(\"download_1f363424-b22b-45b1-bd4e-7e1a1e620153\", \"28x28_pca-0.15.csv\", 39020)"
            ]
          },
          "metadata": {}
        },
        {
          "output_type": "stream",
          "name": "stdout",
          "text": [
            "hog de 28x28 e pca de 0.2\n",
            "shape: (800, 3)\n",
            "\n"
          ]
        },
        {
          "output_type": "display_data",
          "data": {
            "text/plain": [
              "<IPython.core.display.Javascript object>"
            ],
            "application/javascript": [
              "\n",
              "    async function download(id, filename, size) {\n",
              "      if (!google.colab.kernel.accessAllowed) {\n",
              "        return;\n",
              "      }\n",
              "      const div = document.createElement('div');\n",
              "      const label = document.createElement('label');\n",
              "      label.textContent = `Downloading \"${filename}\": `;\n",
              "      div.appendChild(label);\n",
              "      const progress = document.createElement('progress');\n",
              "      progress.max = size;\n",
              "      div.appendChild(progress);\n",
              "      document.body.appendChild(div);\n",
              "\n",
              "      const buffers = [];\n",
              "      let downloaded = 0;\n",
              "\n",
              "      const channel = await google.colab.kernel.comms.open(id);\n",
              "      // Send a message to notify the kernel that we're ready.\n",
              "      channel.send({})\n",
              "\n",
              "      for await (const message of channel.messages) {\n",
              "        // Send a message to notify the kernel that we're ready.\n",
              "        channel.send({})\n",
              "        if (message.buffers) {\n",
              "          for (const buffer of message.buffers) {\n",
              "            buffers.push(buffer);\n",
              "            downloaded += buffer.byteLength;\n",
              "            progress.value = downloaded;\n",
              "          }\n",
              "        }\n",
              "      }\n",
              "      const blob = new Blob(buffers, {type: 'application/binary'});\n",
              "      const a = document.createElement('a');\n",
              "      a.href = window.URL.createObjectURL(blob);\n",
              "      a.download = filename;\n",
              "      div.appendChild(a);\n",
              "      a.click();\n",
              "      div.remove();\n",
              "    }\n",
              "  "
            ]
          },
          "metadata": {}
        },
        {
          "output_type": "display_data",
          "data": {
            "text/plain": [
              "<IPython.core.display.Javascript object>"
            ],
            "application/javascript": [
              "download(\"download_d45c1f33-fa87-4223-ba47-52b80d1d9024\", \"28x28_pca-0.2.csv\", 54785)"
            ]
          },
          "metadata": {}
        },
        {
          "output_type": "stream",
          "name": "stdout",
          "text": [
            "hog de 28x28 e pca de 0.25\n",
            "shape: (800, 4)\n",
            "\n"
          ]
        },
        {
          "output_type": "display_data",
          "data": {
            "text/plain": [
              "<IPython.core.display.Javascript object>"
            ],
            "application/javascript": [
              "\n",
              "    async function download(id, filename, size) {\n",
              "      if (!google.colab.kernel.accessAllowed) {\n",
              "        return;\n",
              "      }\n",
              "      const div = document.createElement('div');\n",
              "      const label = document.createElement('label');\n",
              "      label.textContent = `Downloading \"${filename}\": `;\n",
              "      div.appendChild(label);\n",
              "      const progress = document.createElement('progress');\n",
              "      progress.max = size;\n",
              "      div.appendChild(progress);\n",
              "      document.body.appendChild(div);\n",
              "\n",
              "      const buffers = [];\n",
              "      let downloaded = 0;\n",
              "\n",
              "      const channel = await google.colab.kernel.comms.open(id);\n",
              "      // Send a message to notify the kernel that we're ready.\n",
              "      channel.send({})\n",
              "\n",
              "      for await (const message of channel.messages) {\n",
              "        // Send a message to notify the kernel that we're ready.\n",
              "        channel.send({})\n",
              "        if (message.buffers) {\n",
              "          for (const buffer of message.buffers) {\n",
              "            buffers.push(buffer);\n",
              "            downloaded += buffer.byteLength;\n",
              "            progress.value = downloaded;\n",
              "          }\n",
              "        }\n",
              "      }\n",
              "      const blob = new Blob(buffers, {type: 'application/binary'});\n",
              "      const a = document.createElement('a');\n",
              "      a.href = window.URL.createObjectURL(blob);\n",
              "      a.download = filename;\n",
              "      div.appendChild(a);\n",
              "      a.click();\n",
              "      div.remove();\n",
              "    }\n",
              "  "
            ]
          },
          "metadata": {}
        },
        {
          "output_type": "display_data",
          "data": {
            "text/plain": [
              "<IPython.core.display.Javascript object>"
            ],
            "application/javascript": [
              "download(\"download_79a15ebc-9001-4058-bb1b-90a91dc01241\", \"28x28_pca-0.25.csv\", 70540)"
            ]
          },
          "metadata": {}
        },
        {
          "output_type": "stream",
          "name": "stdout",
          "text": [
            "hog de 28x28 e pca de 0.3\n",
            "shape: (800, 5)\n",
            "\n"
          ]
        },
        {
          "output_type": "display_data",
          "data": {
            "text/plain": [
              "<IPython.core.display.Javascript object>"
            ],
            "application/javascript": [
              "\n",
              "    async function download(id, filename, size) {\n",
              "      if (!google.colab.kernel.accessAllowed) {\n",
              "        return;\n",
              "      }\n",
              "      const div = document.createElement('div');\n",
              "      const label = document.createElement('label');\n",
              "      label.textContent = `Downloading \"${filename}\": `;\n",
              "      div.appendChild(label);\n",
              "      const progress = document.createElement('progress');\n",
              "      progress.max = size;\n",
              "      div.appendChild(progress);\n",
              "      document.body.appendChild(div);\n",
              "\n",
              "      const buffers = [];\n",
              "      let downloaded = 0;\n",
              "\n",
              "      const channel = await google.colab.kernel.comms.open(id);\n",
              "      // Send a message to notify the kernel that we're ready.\n",
              "      channel.send({})\n",
              "\n",
              "      for await (const message of channel.messages) {\n",
              "        // Send a message to notify the kernel that we're ready.\n",
              "        channel.send({})\n",
              "        if (message.buffers) {\n",
              "          for (const buffer of message.buffers) {\n",
              "            buffers.push(buffer);\n",
              "            downloaded += buffer.byteLength;\n",
              "            progress.value = downloaded;\n",
              "          }\n",
              "        }\n",
              "      }\n",
              "      const blob = new Blob(buffers, {type: 'application/binary'});\n",
              "      const a = document.createElement('a');\n",
              "      a.href = window.URL.createObjectURL(blob);\n",
              "      a.download = filename;\n",
              "      div.appendChild(a);\n",
              "      a.click();\n",
              "      div.remove();\n",
              "    }\n",
              "  "
            ]
          },
          "metadata": {}
        },
        {
          "output_type": "display_data",
          "data": {
            "text/plain": [
              "<IPython.core.display.Javascript object>"
            ],
            "application/javascript": [
              "download(\"download_0ed22043-45fc-498a-9d3d-7566aa5def8c\", \"28x28_pca-0.3.csv\", 86239)"
            ]
          },
          "metadata": {}
        },
        {
          "output_type": "stream",
          "name": "stdout",
          "text": [
            "hog de 28x28 e pca de 0.35\n",
            "shape: (800, 7)\n",
            "\n"
          ]
        },
        {
          "output_type": "display_data",
          "data": {
            "text/plain": [
              "<IPython.core.display.Javascript object>"
            ],
            "application/javascript": [
              "\n",
              "    async function download(id, filename, size) {\n",
              "      if (!google.colab.kernel.accessAllowed) {\n",
              "        return;\n",
              "      }\n",
              "      const div = document.createElement('div');\n",
              "      const label = document.createElement('label');\n",
              "      label.textContent = `Downloading \"${filename}\": `;\n",
              "      div.appendChild(label);\n",
              "      const progress = document.createElement('progress');\n",
              "      progress.max = size;\n",
              "      div.appendChild(progress);\n",
              "      document.body.appendChild(div);\n",
              "\n",
              "      const buffers = [];\n",
              "      let downloaded = 0;\n",
              "\n",
              "      const channel = await google.colab.kernel.comms.open(id);\n",
              "      // Send a message to notify the kernel that we're ready.\n",
              "      channel.send({})\n",
              "\n",
              "      for await (const message of channel.messages) {\n",
              "        // Send a message to notify the kernel that we're ready.\n",
              "        channel.send({})\n",
              "        if (message.buffers) {\n",
              "          for (const buffer of message.buffers) {\n",
              "            buffers.push(buffer);\n",
              "            downloaded += buffer.byteLength;\n",
              "            progress.value = downloaded;\n",
              "          }\n",
              "        }\n",
              "      }\n",
              "      const blob = new Blob(buffers, {type: 'application/binary'});\n",
              "      const a = document.createElement('a');\n",
              "      a.href = window.URL.createObjectURL(blob);\n",
              "      a.download = filename;\n",
              "      div.appendChild(a);\n",
              "      a.click();\n",
              "      div.remove();\n",
              "    }\n",
              "  "
            ]
          },
          "metadata": {}
        },
        {
          "output_type": "display_data",
          "data": {
            "text/plain": [
              "<IPython.core.display.Javascript object>"
            ],
            "application/javascript": [
              "download(\"download_90e42294-ed16-4852-b9c4-4a2c4e089c29\", \"28x28_pca-0.35.csv\", 117717)"
            ]
          },
          "metadata": {}
        },
        {
          "output_type": "stream",
          "name": "stdout",
          "text": [
            "hog de 28x28 e pca de 0.4\n",
            "shape: (800, 8)\n",
            "\n"
          ]
        },
        {
          "output_type": "display_data",
          "data": {
            "text/plain": [
              "<IPython.core.display.Javascript object>"
            ],
            "application/javascript": [
              "\n",
              "    async function download(id, filename, size) {\n",
              "      if (!google.colab.kernel.accessAllowed) {\n",
              "        return;\n",
              "      }\n",
              "      const div = document.createElement('div');\n",
              "      const label = document.createElement('label');\n",
              "      label.textContent = `Downloading \"${filename}\": `;\n",
              "      div.appendChild(label);\n",
              "      const progress = document.createElement('progress');\n",
              "      progress.max = size;\n",
              "      div.appendChild(progress);\n",
              "      document.body.appendChild(div);\n",
              "\n",
              "      const buffers = [];\n",
              "      let downloaded = 0;\n",
              "\n",
              "      const channel = await google.colab.kernel.comms.open(id);\n",
              "      // Send a message to notify the kernel that we're ready.\n",
              "      channel.send({})\n",
              "\n",
              "      for await (const message of channel.messages) {\n",
              "        // Send a message to notify the kernel that we're ready.\n",
              "        channel.send({})\n",
              "        if (message.buffers) {\n",
              "          for (const buffer of message.buffers) {\n",
              "            buffers.push(buffer);\n",
              "            downloaded += buffer.byteLength;\n",
              "            progress.value = downloaded;\n",
              "          }\n",
              "        }\n",
              "      }\n",
              "      const blob = new Blob(buffers, {type: 'application/binary'});\n",
              "      const a = document.createElement('a');\n",
              "      a.href = window.URL.createObjectURL(blob);\n",
              "      a.download = filename;\n",
              "      div.appendChild(a);\n",
              "      a.click();\n",
              "      div.remove();\n",
              "    }\n",
              "  "
            ]
          },
          "metadata": {}
        },
        {
          "output_type": "display_data",
          "data": {
            "text/plain": [
              "<IPython.core.display.Javascript object>"
            ],
            "application/javascript": [
              "download(\"download_8427feb4-b609-4c46-921d-84b131f9e81d\", \"28x28_pca-0.4.csv\", 133431)"
            ]
          },
          "metadata": {}
        },
        {
          "output_type": "stream",
          "name": "stdout",
          "text": [
            "hog de 28x28 e pca de 0.45\n",
            "shape: (800, 10)\n",
            "\n"
          ]
        },
        {
          "output_type": "display_data",
          "data": {
            "text/plain": [
              "<IPython.core.display.Javascript object>"
            ],
            "application/javascript": [
              "\n",
              "    async function download(id, filename, size) {\n",
              "      if (!google.colab.kernel.accessAllowed) {\n",
              "        return;\n",
              "      }\n",
              "      const div = document.createElement('div');\n",
              "      const label = document.createElement('label');\n",
              "      label.textContent = `Downloading \"${filename}\": `;\n",
              "      div.appendChild(label);\n",
              "      const progress = document.createElement('progress');\n",
              "      progress.max = size;\n",
              "      div.appendChild(progress);\n",
              "      document.body.appendChild(div);\n",
              "\n",
              "      const buffers = [];\n",
              "      let downloaded = 0;\n",
              "\n",
              "      const channel = await google.colab.kernel.comms.open(id);\n",
              "      // Send a message to notify the kernel that we're ready.\n",
              "      channel.send({})\n",
              "\n",
              "      for await (const message of channel.messages) {\n",
              "        // Send a message to notify the kernel that we're ready.\n",
              "        channel.send({})\n",
              "        if (message.buffers) {\n",
              "          for (const buffer of message.buffers) {\n",
              "            buffers.push(buffer);\n",
              "            downloaded += buffer.byteLength;\n",
              "            progress.value = downloaded;\n",
              "          }\n",
              "        }\n",
              "      }\n",
              "      const blob = new Blob(buffers, {type: 'application/binary'});\n",
              "      const a = document.createElement('a');\n",
              "      a.href = window.URL.createObjectURL(blob);\n",
              "      a.download = filename;\n",
              "      div.appendChild(a);\n",
              "      a.click();\n",
              "      div.remove();\n",
              "    }\n",
              "  "
            ]
          },
          "metadata": {}
        },
        {
          "output_type": "display_data",
          "data": {
            "text/plain": [
              "<IPython.core.display.Javascript object>"
            ],
            "application/javascript": [
              "download(\"download_0aea6d27-f725-4518-ba55-b1489323ea9f\", \"28x28_pca-0.45.csv\", 164876)"
            ]
          },
          "metadata": {}
        },
        {
          "output_type": "stream",
          "name": "stdout",
          "text": [
            "hog de 28x28 e pca de 0.5\n",
            "shape: (800, 13)\n",
            "\n"
          ]
        },
        {
          "output_type": "display_data",
          "data": {
            "text/plain": [
              "<IPython.core.display.Javascript object>"
            ],
            "application/javascript": [
              "\n",
              "    async function download(id, filename, size) {\n",
              "      if (!google.colab.kernel.accessAllowed) {\n",
              "        return;\n",
              "      }\n",
              "      const div = document.createElement('div');\n",
              "      const label = document.createElement('label');\n",
              "      label.textContent = `Downloading \"${filename}\": `;\n",
              "      div.appendChild(label);\n",
              "      const progress = document.createElement('progress');\n",
              "      progress.max = size;\n",
              "      div.appendChild(progress);\n",
              "      document.body.appendChild(div);\n",
              "\n",
              "      const buffers = [];\n",
              "      let downloaded = 0;\n",
              "\n",
              "      const channel = await google.colab.kernel.comms.open(id);\n",
              "      // Send a message to notify the kernel that we're ready.\n",
              "      channel.send({})\n",
              "\n",
              "      for await (const message of channel.messages) {\n",
              "        // Send a message to notify the kernel that we're ready.\n",
              "        channel.send({})\n",
              "        if (message.buffers) {\n",
              "          for (const buffer of message.buffers) {\n",
              "            buffers.push(buffer);\n",
              "            downloaded += buffer.byteLength;\n",
              "            progress.value = downloaded;\n",
              "          }\n",
              "        }\n",
              "      }\n",
              "      const blob = new Blob(buffers, {type: 'application/binary'});\n",
              "      const a = document.createElement('a');\n",
              "      a.href = window.URL.createObjectURL(blob);\n",
              "      a.download = filename;\n",
              "      div.appendChild(a);\n",
              "      a.click();\n",
              "      div.remove();\n",
              "    }\n",
              "  "
            ]
          },
          "metadata": {}
        },
        {
          "output_type": "display_data",
          "data": {
            "text/plain": [
              "<IPython.core.display.Javascript object>"
            ],
            "application/javascript": [
              "download(\"download_ebf53c37-c5b4-40dd-9593-493ce3c213a1\", \"28x28_pca-0.5.csv\", 212122)"
            ]
          },
          "metadata": {}
        },
        {
          "output_type": "stream",
          "name": "stdout",
          "text": [
            "hog de 28x28 e pca de 0.55\n",
            "shape: (800, 15)\n",
            "\n"
          ]
        },
        {
          "output_type": "display_data",
          "data": {
            "text/plain": [
              "<IPython.core.display.Javascript object>"
            ],
            "application/javascript": [
              "\n",
              "    async function download(id, filename, size) {\n",
              "      if (!google.colab.kernel.accessAllowed) {\n",
              "        return;\n",
              "      }\n",
              "      const div = document.createElement('div');\n",
              "      const label = document.createElement('label');\n",
              "      label.textContent = `Downloading \"${filename}\": `;\n",
              "      div.appendChild(label);\n",
              "      const progress = document.createElement('progress');\n",
              "      progress.max = size;\n",
              "      div.appendChild(progress);\n",
              "      document.body.appendChild(div);\n",
              "\n",
              "      const buffers = [];\n",
              "      let downloaded = 0;\n",
              "\n",
              "      const channel = await google.colab.kernel.comms.open(id);\n",
              "      // Send a message to notify the kernel that we're ready.\n",
              "      channel.send({})\n",
              "\n",
              "      for await (const message of channel.messages) {\n",
              "        // Send a message to notify the kernel that we're ready.\n",
              "        channel.send({})\n",
              "        if (message.buffers) {\n",
              "          for (const buffer of message.buffers) {\n",
              "            buffers.push(buffer);\n",
              "            downloaded += buffer.byteLength;\n",
              "            progress.value = downloaded;\n",
              "          }\n",
              "        }\n",
              "      }\n",
              "      const blob = new Blob(buffers, {type: 'application/binary'});\n",
              "      const a = document.createElement('a');\n",
              "      a.href = window.URL.createObjectURL(blob);\n",
              "      a.download = filename;\n",
              "      div.appendChild(a);\n",
              "      a.click();\n",
              "      div.remove();\n",
              "    }\n",
              "  "
            ]
          },
          "metadata": {}
        },
        {
          "output_type": "display_data",
          "data": {
            "text/plain": [
              "<IPython.core.display.Javascript object>"
            ],
            "application/javascript": [
              "download(\"download_0e591f45-1432-42f1-ba25-f4859adf33db\", \"28x28_pca-0.55.csv\", 243527)"
            ]
          },
          "metadata": {}
        },
        {
          "output_type": "stream",
          "name": "stdout",
          "text": [
            "hog de 28x28 e pca de 0.6\n",
            "shape: (800, 18)\n",
            "\n"
          ]
        },
        {
          "output_type": "display_data",
          "data": {
            "text/plain": [
              "<IPython.core.display.Javascript object>"
            ],
            "application/javascript": [
              "\n",
              "    async function download(id, filename, size) {\n",
              "      if (!google.colab.kernel.accessAllowed) {\n",
              "        return;\n",
              "      }\n",
              "      const div = document.createElement('div');\n",
              "      const label = document.createElement('label');\n",
              "      label.textContent = `Downloading \"${filename}\": `;\n",
              "      div.appendChild(label);\n",
              "      const progress = document.createElement('progress');\n",
              "      progress.max = size;\n",
              "      div.appendChild(progress);\n",
              "      document.body.appendChild(div);\n",
              "\n",
              "      const buffers = [];\n",
              "      let downloaded = 0;\n",
              "\n",
              "      const channel = await google.colab.kernel.comms.open(id);\n",
              "      // Send a message to notify the kernel that we're ready.\n",
              "      channel.send({})\n",
              "\n",
              "      for await (const message of channel.messages) {\n",
              "        // Send a message to notify the kernel that we're ready.\n",
              "        channel.send({})\n",
              "        if (message.buffers) {\n",
              "          for (const buffer of message.buffers) {\n",
              "            buffers.push(buffer);\n",
              "            downloaded += buffer.byteLength;\n",
              "            progress.value = downloaded;\n",
              "          }\n",
              "        }\n",
              "      }\n",
              "      const blob = new Blob(buffers, {type: 'application/binary'});\n",
              "      const a = document.createElement('a');\n",
              "      a.href = window.URL.createObjectURL(blob);\n",
              "      a.download = filename;\n",
              "      div.appendChild(a);\n",
              "      a.click();\n",
              "      div.remove();\n",
              "    }\n",
              "  "
            ]
          },
          "metadata": {}
        },
        {
          "output_type": "display_data",
          "data": {
            "text/plain": [
              "<IPython.core.display.Javascript object>"
            ],
            "application/javascript": [
              "download(\"download_dbcb5f71-425f-407a-b871-3dc16e69a544\", \"28x28_pca-0.6.csv\", 290669)"
            ]
          },
          "metadata": {}
        },
        {
          "output_type": "stream",
          "name": "stdout",
          "text": [
            "hog de 28x28 e pca de 0.65\n",
            "shape: (800, 22)\n",
            "\n"
          ]
        },
        {
          "output_type": "display_data",
          "data": {
            "text/plain": [
              "<IPython.core.display.Javascript object>"
            ],
            "application/javascript": [
              "\n",
              "    async function download(id, filename, size) {\n",
              "      if (!google.colab.kernel.accessAllowed) {\n",
              "        return;\n",
              "      }\n",
              "      const div = document.createElement('div');\n",
              "      const label = document.createElement('label');\n",
              "      label.textContent = `Downloading \"${filename}\": `;\n",
              "      div.appendChild(label);\n",
              "      const progress = document.createElement('progress');\n",
              "      progress.max = size;\n",
              "      div.appendChild(progress);\n",
              "      document.body.appendChild(div);\n",
              "\n",
              "      const buffers = [];\n",
              "      let downloaded = 0;\n",
              "\n",
              "      const channel = await google.colab.kernel.comms.open(id);\n",
              "      // Send a message to notify the kernel that we're ready.\n",
              "      channel.send({})\n",
              "\n",
              "      for await (const message of channel.messages) {\n",
              "        // Send a message to notify the kernel that we're ready.\n",
              "        channel.send({})\n",
              "        if (message.buffers) {\n",
              "          for (const buffer of message.buffers) {\n",
              "            buffers.push(buffer);\n",
              "            downloaded += buffer.byteLength;\n",
              "            progress.value = downloaded;\n",
              "          }\n",
              "        }\n",
              "      }\n",
              "      const blob = new Blob(buffers, {type: 'application/binary'});\n",
              "      const a = document.createElement('a');\n",
              "      a.href = window.URL.createObjectURL(blob);\n",
              "      a.download = filename;\n",
              "      div.appendChild(a);\n",
              "      a.click();\n",
              "      div.remove();\n",
              "    }\n",
              "  "
            ]
          },
          "metadata": {}
        },
        {
          "output_type": "display_data",
          "data": {
            "text/plain": [
              "<IPython.core.display.Javascript object>"
            ],
            "application/javascript": [
              "download(\"download_e07c2a22-2d62-4fc5-bd86-06ac143a69eb\", \"28x28_pca-0.65.csv\", 353561)"
            ]
          },
          "metadata": {}
        },
        {
          "output_type": "stream",
          "name": "stdout",
          "text": [
            "hog de 28x28 e pca de 0.7\n",
            "shape: (800, 27)\n",
            "\n"
          ]
        },
        {
          "output_type": "display_data",
          "data": {
            "text/plain": [
              "<IPython.core.display.Javascript object>"
            ],
            "application/javascript": [
              "\n",
              "    async function download(id, filename, size) {\n",
              "      if (!google.colab.kernel.accessAllowed) {\n",
              "        return;\n",
              "      }\n",
              "      const div = document.createElement('div');\n",
              "      const label = document.createElement('label');\n",
              "      label.textContent = `Downloading \"${filename}\": `;\n",
              "      div.appendChild(label);\n",
              "      const progress = document.createElement('progress');\n",
              "      progress.max = size;\n",
              "      div.appendChild(progress);\n",
              "      document.body.appendChild(div);\n",
              "\n",
              "      const buffers = [];\n",
              "      let downloaded = 0;\n",
              "\n",
              "      const channel = await google.colab.kernel.comms.open(id);\n",
              "      // Send a message to notify the kernel that we're ready.\n",
              "      channel.send({})\n",
              "\n",
              "      for await (const message of channel.messages) {\n",
              "        // Send a message to notify the kernel that we're ready.\n",
              "        channel.send({})\n",
              "        if (message.buffers) {\n",
              "          for (const buffer of message.buffers) {\n",
              "            buffers.push(buffer);\n",
              "            downloaded += buffer.byteLength;\n",
              "            progress.value = downloaded;\n",
              "          }\n",
              "        }\n",
              "      }\n",
              "      const blob = new Blob(buffers, {type: 'application/binary'});\n",
              "      const a = document.createElement('a');\n",
              "      a.href = window.URL.createObjectURL(blob);\n",
              "      a.download = filename;\n",
              "      div.appendChild(a);\n",
              "      a.click();\n",
              "      div.remove();\n",
              "    }\n",
              "  "
            ]
          },
          "metadata": {}
        },
        {
          "output_type": "display_data",
          "data": {
            "text/plain": [
              "<IPython.core.display.Javascript object>"
            ],
            "application/javascript": [
              "download(\"download_dba2ee89-4a7e-4d64-ac04-5fa881e8b43f\", \"28x28_pca-0.7.csv\", 432208)"
            ]
          },
          "metadata": {}
        },
        {
          "output_type": "stream",
          "name": "stdout",
          "text": [
            "hog de 28x28 e pca de 0.75\n",
            "shape: (800, 32)\n",
            "\n"
          ]
        },
        {
          "output_type": "display_data",
          "data": {
            "text/plain": [
              "<IPython.core.display.Javascript object>"
            ],
            "application/javascript": [
              "\n",
              "    async function download(id, filename, size) {\n",
              "      if (!google.colab.kernel.accessAllowed) {\n",
              "        return;\n",
              "      }\n",
              "      const div = document.createElement('div');\n",
              "      const label = document.createElement('label');\n",
              "      label.textContent = `Downloading \"${filename}\": `;\n",
              "      div.appendChild(label);\n",
              "      const progress = document.createElement('progress');\n",
              "      progress.max = size;\n",
              "      div.appendChild(progress);\n",
              "      document.body.appendChild(div);\n",
              "\n",
              "      const buffers = [];\n",
              "      let downloaded = 0;\n",
              "\n",
              "      const channel = await google.colab.kernel.comms.open(id);\n",
              "      // Send a message to notify the kernel that we're ready.\n",
              "      channel.send({})\n",
              "\n",
              "      for await (const message of channel.messages) {\n",
              "        // Send a message to notify the kernel that we're ready.\n",
              "        channel.send({})\n",
              "        if (message.buffers) {\n",
              "          for (const buffer of message.buffers) {\n",
              "            buffers.push(buffer);\n",
              "            downloaded += buffer.byteLength;\n",
              "            progress.value = downloaded;\n",
              "          }\n",
              "        }\n",
              "      }\n",
              "      const blob = new Blob(buffers, {type: 'application/binary'});\n",
              "      const a = document.createElement('a');\n",
              "      a.href = window.URL.createObjectURL(blob);\n",
              "      a.download = filename;\n",
              "      div.appendChild(a);\n",
              "      a.click();\n",
              "      div.remove();\n",
              "    }\n",
              "  "
            ]
          },
          "metadata": {}
        },
        {
          "output_type": "display_data",
          "data": {
            "text/plain": [
              "<IPython.core.display.Javascript object>"
            ],
            "application/javascript": [
              "download(\"download_5d8f68d1-2ce7-4ad1-98f5-d0c6e27460b7\", \"28x28_pca-0.75.csv\", 510711)"
            ]
          },
          "metadata": {}
        },
        {
          "output_type": "stream",
          "name": "stdout",
          "text": [
            "hog de 28x28 e pca de 0.8\n",
            "shape: (800, 39)\n",
            "\n"
          ]
        },
        {
          "output_type": "display_data",
          "data": {
            "text/plain": [
              "<IPython.core.display.Javascript object>"
            ],
            "application/javascript": [
              "\n",
              "    async function download(id, filename, size) {\n",
              "      if (!google.colab.kernel.accessAllowed) {\n",
              "        return;\n",
              "      }\n",
              "      const div = document.createElement('div');\n",
              "      const label = document.createElement('label');\n",
              "      label.textContent = `Downloading \"${filename}\": `;\n",
              "      div.appendChild(label);\n",
              "      const progress = document.createElement('progress');\n",
              "      progress.max = size;\n",
              "      div.appendChild(progress);\n",
              "      document.body.appendChild(div);\n",
              "\n",
              "      const buffers = [];\n",
              "      let downloaded = 0;\n",
              "\n",
              "      const channel = await google.colab.kernel.comms.open(id);\n",
              "      // Send a message to notify the kernel that we're ready.\n",
              "      channel.send({})\n",
              "\n",
              "      for await (const message of channel.messages) {\n",
              "        // Send a message to notify the kernel that we're ready.\n",
              "        channel.send({})\n",
              "        if (message.buffers) {\n",
              "          for (const buffer of message.buffers) {\n",
              "            buffers.push(buffer);\n",
              "            downloaded += buffer.byteLength;\n",
              "            progress.value = downloaded;\n",
              "          }\n",
              "        }\n",
              "      }\n",
              "      const blob = new Blob(buffers, {type: 'application/binary'});\n",
              "      const a = document.createElement('a');\n",
              "      a.href = window.URL.createObjectURL(blob);\n",
              "      a.download = filename;\n",
              "      div.appendChild(a);\n",
              "      a.click();\n",
              "      div.remove();\n",
              "    }\n",
              "  "
            ]
          },
          "metadata": {}
        },
        {
          "output_type": "display_data",
          "data": {
            "text/plain": [
              "<IPython.core.display.Javascript object>"
            ],
            "application/javascript": [
              "download(\"download_e1654211-571a-493a-9c17-600554567ce0\", \"28x28_pca-0.8.csv\", 620814)"
            ]
          },
          "metadata": {}
        },
        {
          "output_type": "stream",
          "name": "stdout",
          "text": [
            "hog de 28x28 e pca de 0.85\n",
            "shape: (800, 50)\n",
            "\n"
          ]
        },
        {
          "output_type": "display_data",
          "data": {
            "text/plain": [
              "<IPython.core.display.Javascript object>"
            ],
            "application/javascript": [
              "\n",
              "    async function download(id, filename, size) {\n",
              "      if (!google.colab.kernel.accessAllowed) {\n",
              "        return;\n",
              "      }\n",
              "      const div = document.createElement('div');\n",
              "      const label = document.createElement('label');\n",
              "      label.textContent = `Downloading \"${filename}\": `;\n",
              "      div.appendChild(label);\n",
              "      const progress = document.createElement('progress');\n",
              "      progress.max = size;\n",
              "      div.appendChild(progress);\n",
              "      document.body.appendChild(div);\n",
              "\n",
              "      const buffers = [];\n",
              "      let downloaded = 0;\n",
              "\n",
              "      const channel = await google.colab.kernel.comms.open(id);\n",
              "      // Send a message to notify the kernel that we're ready.\n",
              "      channel.send({})\n",
              "\n",
              "      for await (const message of channel.messages) {\n",
              "        // Send a message to notify the kernel that we're ready.\n",
              "        channel.send({})\n",
              "        if (message.buffers) {\n",
              "          for (const buffer of message.buffers) {\n",
              "            buffers.push(buffer);\n",
              "            downloaded += buffer.byteLength;\n",
              "            progress.value = downloaded;\n",
              "          }\n",
              "        }\n",
              "      }\n",
              "      const blob = new Blob(buffers, {type: 'application/binary'});\n",
              "      const a = document.createElement('a');\n",
              "      a.href = window.URL.createObjectURL(blob);\n",
              "      a.download = filename;\n",
              "      div.appendChild(a);\n",
              "      a.click();\n",
              "      div.remove();\n",
              "    }\n",
              "  "
            ]
          },
          "metadata": {}
        },
        {
          "output_type": "display_data",
          "data": {
            "text/plain": [
              "<IPython.core.display.Javascript object>"
            ],
            "application/javascript": [
              "download(\"download_21786447-6ce9-4332-a5ae-10911cd65649\", \"28x28_pca-0.85.csv\", 793868)"
            ]
          },
          "metadata": {}
        },
        {
          "output_type": "stream",
          "name": "stdout",
          "text": [
            "hog de 28x28 e pca de 0.9\n",
            "shape: (800, 65)\n",
            "\n"
          ]
        },
        {
          "output_type": "display_data",
          "data": {
            "text/plain": [
              "<IPython.core.display.Javascript object>"
            ],
            "application/javascript": [
              "\n",
              "    async function download(id, filename, size) {\n",
              "      if (!google.colab.kernel.accessAllowed) {\n",
              "        return;\n",
              "      }\n",
              "      const div = document.createElement('div');\n",
              "      const label = document.createElement('label');\n",
              "      label.textContent = `Downloading \"${filename}\": `;\n",
              "      div.appendChild(label);\n",
              "      const progress = document.createElement('progress');\n",
              "      progress.max = size;\n",
              "      div.appendChild(progress);\n",
              "      document.body.appendChild(div);\n",
              "\n",
              "      const buffers = [];\n",
              "      let downloaded = 0;\n",
              "\n",
              "      const channel = await google.colab.kernel.comms.open(id);\n",
              "      // Send a message to notify the kernel that we're ready.\n",
              "      channel.send({})\n",
              "\n",
              "      for await (const message of channel.messages) {\n",
              "        // Send a message to notify the kernel that we're ready.\n",
              "        channel.send({})\n",
              "        if (message.buffers) {\n",
              "          for (const buffer of message.buffers) {\n",
              "            buffers.push(buffer);\n",
              "            downloaded += buffer.byteLength;\n",
              "            progress.value = downloaded;\n",
              "          }\n",
              "        }\n",
              "      }\n",
              "      const blob = new Blob(buffers, {type: 'application/binary'});\n",
              "      const a = document.createElement('a');\n",
              "      a.href = window.URL.createObjectURL(blob);\n",
              "      a.download = filename;\n",
              "      div.appendChild(a);\n",
              "      a.click();\n",
              "      div.remove();\n",
              "    }\n",
              "  "
            ]
          },
          "metadata": {}
        },
        {
          "output_type": "display_data",
          "data": {
            "text/plain": [
              "<IPython.core.display.Javascript object>"
            ],
            "application/javascript": [
              "download(\"download_f016942f-2190-460f-92b9-56eb974e1699\", \"28x28_pca-0.9.csv\", 1029776)"
            ]
          },
          "metadata": {}
        },
        {
          "output_type": "stream",
          "name": "stdout",
          "text": [
            "hog de 28x28 e pca de 0.95\n",
            "shape: (800, 93)\n",
            "\n"
          ]
        },
        {
          "output_type": "display_data",
          "data": {
            "text/plain": [
              "<IPython.core.display.Javascript object>"
            ],
            "application/javascript": [
              "\n",
              "    async function download(id, filename, size) {\n",
              "      if (!google.colab.kernel.accessAllowed) {\n",
              "        return;\n",
              "      }\n",
              "      const div = document.createElement('div');\n",
              "      const label = document.createElement('label');\n",
              "      label.textContent = `Downloading \"${filename}\": `;\n",
              "      div.appendChild(label);\n",
              "      const progress = document.createElement('progress');\n",
              "      progress.max = size;\n",
              "      div.appendChild(progress);\n",
              "      document.body.appendChild(div);\n",
              "\n",
              "      const buffers = [];\n",
              "      let downloaded = 0;\n",
              "\n",
              "      const channel = await google.colab.kernel.comms.open(id);\n",
              "      // Send a message to notify the kernel that we're ready.\n",
              "      channel.send({})\n",
              "\n",
              "      for await (const message of channel.messages) {\n",
              "        // Send a message to notify the kernel that we're ready.\n",
              "        channel.send({})\n",
              "        if (message.buffers) {\n",
              "          for (const buffer of message.buffers) {\n",
              "            buffers.push(buffer);\n",
              "            downloaded += buffer.byteLength;\n",
              "            progress.value = downloaded;\n",
              "          }\n",
              "        }\n",
              "      }\n",
              "      const blob = new Blob(buffers, {type: 'application/binary'});\n",
              "      const a = document.createElement('a');\n",
              "      a.href = window.URL.createObjectURL(blob);\n",
              "      a.download = filename;\n",
              "      div.appendChild(a);\n",
              "      a.click();\n",
              "      div.remove();\n",
              "    }\n",
              "  "
            ]
          },
          "metadata": {}
        },
        {
          "output_type": "display_data",
          "data": {
            "text/plain": [
              "<IPython.core.display.Javascript object>"
            ],
            "application/javascript": [
              "download(\"download_f2f4bb51-d1c4-42f2-a20c-67275a49abee\", \"28x28_pca-0.95.csv\", 1470181)"
            ]
          },
          "metadata": {}
        },
        {
          "output_type": "stream",
          "name": "stdout",
          "text": [
            "hog de 32x32 e pca de 0.1\n",
            "shape: (800, 1)\n",
            "\n"
          ]
        },
        {
          "output_type": "display_data",
          "data": {
            "text/plain": [
              "<IPython.core.display.Javascript object>"
            ],
            "application/javascript": [
              "\n",
              "    async function download(id, filename, size) {\n",
              "      if (!google.colab.kernel.accessAllowed) {\n",
              "        return;\n",
              "      }\n",
              "      const div = document.createElement('div');\n",
              "      const label = document.createElement('label');\n",
              "      label.textContent = `Downloading \"${filename}\": `;\n",
              "      div.appendChild(label);\n",
              "      const progress = document.createElement('progress');\n",
              "      progress.max = size;\n",
              "      div.appendChild(progress);\n",
              "      document.body.appendChild(div);\n",
              "\n",
              "      const buffers = [];\n",
              "      let downloaded = 0;\n",
              "\n",
              "      const channel = await google.colab.kernel.comms.open(id);\n",
              "      // Send a message to notify the kernel that we're ready.\n",
              "      channel.send({})\n",
              "\n",
              "      for await (const message of channel.messages) {\n",
              "        // Send a message to notify the kernel that we're ready.\n",
              "        channel.send({})\n",
              "        if (message.buffers) {\n",
              "          for (const buffer of message.buffers) {\n",
              "            buffers.push(buffer);\n",
              "            downloaded += buffer.byteLength;\n",
              "            progress.value = downloaded;\n",
              "          }\n",
              "        }\n",
              "      }\n",
              "      const blob = new Blob(buffers, {type: 'application/binary'});\n",
              "      const a = document.createElement('a');\n",
              "      a.href = window.URL.createObjectURL(blob);\n",
              "      a.download = filename;\n",
              "      div.appendChild(a);\n",
              "      a.click();\n",
              "      div.remove();\n",
              "    }\n",
              "  "
            ]
          },
          "metadata": {}
        },
        {
          "output_type": "display_data",
          "data": {
            "text/plain": [
              "<IPython.core.display.Javascript object>"
            ],
            "application/javascript": [
              "download(\"download_a82b23e6-3b37-45e2-b43e-fa24c1db5f36\", \"32x32_pca-0.1.csv\", 23306)"
            ]
          },
          "metadata": {}
        },
        {
          "output_type": "stream",
          "name": "stdout",
          "text": [
            "hog de 32x32 e pca de 0.15\n",
            "shape: (800, 2)\n",
            "\n"
          ]
        },
        {
          "output_type": "display_data",
          "data": {
            "text/plain": [
              "<IPython.core.display.Javascript object>"
            ],
            "application/javascript": [
              "\n",
              "    async function download(id, filename, size) {\n",
              "      if (!google.colab.kernel.accessAllowed) {\n",
              "        return;\n",
              "      }\n",
              "      const div = document.createElement('div');\n",
              "      const label = document.createElement('label');\n",
              "      label.textContent = `Downloading \"${filename}\": `;\n",
              "      div.appendChild(label);\n",
              "      const progress = document.createElement('progress');\n",
              "      progress.max = size;\n",
              "      div.appendChild(progress);\n",
              "      document.body.appendChild(div);\n",
              "\n",
              "      const buffers = [];\n",
              "      let downloaded = 0;\n",
              "\n",
              "      const channel = await google.colab.kernel.comms.open(id);\n",
              "      // Send a message to notify the kernel that we're ready.\n",
              "      channel.send({})\n",
              "\n",
              "      for await (const message of channel.messages) {\n",
              "        // Send a message to notify the kernel that we're ready.\n",
              "        channel.send({})\n",
              "        if (message.buffers) {\n",
              "          for (const buffer of message.buffers) {\n",
              "            buffers.push(buffer);\n",
              "            downloaded += buffer.byteLength;\n",
              "            progress.value = downloaded;\n",
              "          }\n",
              "        }\n",
              "      }\n",
              "      const blob = new Blob(buffers, {type: 'application/binary'});\n",
              "      const a = document.createElement('a');\n",
              "      a.href = window.URL.createObjectURL(blob);\n",
              "      a.download = filename;\n",
              "      div.appendChild(a);\n",
              "      a.click();\n",
              "      div.remove();\n",
              "    }\n",
              "  "
            ]
          },
          "metadata": {}
        },
        {
          "output_type": "display_data",
          "data": {
            "text/plain": [
              "<IPython.core.display.Javascript object>"
            ],
            "application/javascript": [
              "download(\"download_26c57185-eeff-48b9-b68c-c165345bf89f\", \"32x32_pca-0.15.csv\", 38977)"
            ]
          },
          "metadata": {}
        },
        {
          "output_type": "stream",
          "name": "stdout",
          "text": [
            "hog de 32x32 e pca de 0.2\n",
            "shape: (800, 3)\n",
            "\n"
          ]
        },
        {
          "output_type": "display_data",
          "data": {
            "text/plain": [
              "<IPython.core.display.Javascript object>"
            ],
            "application/javascript": [
              "\n",
              "    async function download(id, filename, size) {\n",
              "      if (!google.colab.kernel.accessAllowed) {\n",
              "        return;\n",
              "      }\n",
              "      const div = document.createElement('div');\n",
              "      const label = document.createElement('label');\n",
              "      label.textContent = `Downloading \"${filename}\": `;\n",
              "      div.appendChild(label);\n",
              "      const progress = document.createElement('progress');\n",
              "      progress.max = size;\n",
              "      div.appendChild(progress);\n",
              "      document.body.appendChild(div);\n",
              "\n",
              "      const buffers = [];\n",
              "      let downloaded = 0;\n",
              "\n",
              "      const channel = await google.colab.kernel.comms.open(id);\n",
              "      // Send a message to notify the kernel that we're ready.\n",
              "      channel.send({})\n",
              "\n",
              "      for await (const message of channel.messages) {\n",
              "        // Send a message to notify the kernel that we're ready.\n",
              "        channel.send({})\n",
              "        if (message.buffers) {\n",
              "          for (const buffer of message.buffers) {\n",
              "            buffers.push(buffer);\n",
              "            downloaded += buffer.byteLength;\n",
              "            progress.value = downloaded;\n",
              "          }\n",
              "        }\n",
              "      }\n",
              "      const blob = new Blob(buffers, {type: 'application/binary'});\n",
              "      const a = document.createElement('a');\n",
              "      a.href = window.URL.createObjectURL(blob);\n",
              "      a.download = filename;\n",
              "      div.appendChild(a);\n",
              "      a.click();\n",
              "      div.remove();\n",
              "    }\n",
              "  "
            ]
          },
          "metadata": {}
        },
        {
          "output_type": "display_data",
          "data": {
            "text/plain": [
              "<IPython.core.display.Javascript object>"
            ],
            "application/javascript": [
              "download(\"download_125cf0c4-693c-4123-8eff-443856d3a510\", \"32x32_pca-0.2.csv\", 54683)"
            ]
          },
          "metadata": {}
        },
        {
          "output_type": "stream",
          "name": "stdout",
          "text": [
            "hog de 32x32 e pca de 0.25\n",
            "shape: (800, 4)\n",
            "\n"
          ]
        },
        {
          "output_type": "display_data",
          "data": {
            "text/plain": [
              "<IPython.core.display.Javascript object>"
            ],
            "application/javascript": [
              "\n",
              "    async function download(id, filename, size) {\n",
              "      if (!google.colab.kernel.accessAllowed) {\n",
              "        return;\n",
              "      }\n",
              "      const div = document.createElement('div');\n",
              "      const label = document.createElement('label');\n",
              "      label.textContent = `Downloading \"${filename}\": `;\n",
              "      div.appendChild(label);\n",
              "      const progress = document.createElement('progress');\n",
              "      progress.max = size;\n",
              "      div.appendChild(progress);\n",
              "      document.body.appendChild(div);\n",
              "\n",
              "      const buffers = [];\n",
              "      let downloaded = 0;\n",
              "\n",
              "      const channel = await google.colab.kernel.comms.open(id);\n",
              "      // Send a message to notify the kernel that we're ready.\n",
              "      channel.send({})\n",
              "\n",
              "      for await (const message of channel.messages) {\n",
              "        // Send a message to notify the kernel that we're ready.\n",
              "        channel.send({})\n",
              "        if (message.buffers) {\n",
              "          for (const buffer of message.buffers) {\n",
              "            buffers.push(buffer);\n",
              "            downloaded += buffer.byteLength;\n",
              "            progress.value = downloaded;\n",
              "          }\n",
              "        }\n",
              "      }\n",
              "      const blob = new Blob(buffers, {type: 'application/binary'});\n",
              "      const a = document.createElement('a');\n",
              "      a.href = window.URL.createObjectURL(blob);\n",
              "      a.download = filename;\n",
              "      div.appendChild(a);\n",
              "      a.click();\n",
              "      div.remove();\n",
              "    }\n",
              "  "
            ]
          },
          "metadata": {}
        },
        {
          "output_type": "display_data",
          "data": {
            "text/plain": [
              "<IPython.core.display.Javascript object>"
            ],
            "application/javascript": [
              "download(\"download_6e4f2071-0eec-4f1a-9a9c-4864a94a0cdb\", \"32x32_pca-0.25.csv\", 70370)"
            ]
          },
          "metadata": {}
        },
        {
          "output_type": "stream",
          "name": "stdout",
          "text": [
            "hog de 32x32 e pca de 0.3\n",
            "shape: (800, 5)\n",
            "\n"
          ]
        },
        {
          "output_type": "display_data",
          "data": {
            "text/plain": [
              "<IPython.core.display.Javascript object>"
            ],
            "application/javascript": [
              "\n",
              "    async function download(id, filename, size) {\n",
              "      if (!google.colab.kernel.accessAllowed) {\n",
              "        return;\n",
              "      }\n",
              "      const div = document.createElement('div');\n",
              "      const label = document.createElement('label');\n",
              "      label.textContent = `Downloading \"${filename}\": `;\n",
              "      div.appendChild(label);\n",
              "      const progress = document.createElement('progress');\n",
              "      progress.max = size;\n",
              "      div.appendChild(progress);\n",
              "      document.body.appendChild(div);\n",
              "\n",
              "      const buffers = [];\n",
              "      let downloaded = 0;\n",
              "\n",
              "      const channel = await google.colab.kernel.comms.open(id);\n",
              "      // Send a message to notify the kernel that we're ready.\n",
              "      channel.send({})\n",
              "\n",
              "      for await (const message of channel.messages) {\n",
              "        // Send a message to notify the kernel that we're ready.\n",
              "        channel.send({})\n",
              "        if (message.buffers) {\n",
              "          for (const buffer of message.buffers) {\n",
              "            buffers.push(buffer);\n",
              "            downloaded += buffer.byteLength;\n",
              "            progress.value = downloaded;\n",
              "          }\n",
              "        }\n",
              "      }\n",
              "      const blob = new Blob(buffers, {type: 'application/binary'});\n",
              "      const a = document.createElement('a');\n",
              "      a.href = window.URL.createObjectURL(blob);\n",
              "      a.download = filename;\n",
              "      div.appendChild(a);\n",
              "      a.click();\n",
              "      div.remove();\n",
              "    }\n",
              "  "
            ]
          },
          "metadata": {}
        },
        {
          "output_type": "display_data",
          "data": {
            "text/plain": [
              "<IPython.core.display.Javascript object>"
            ],
            "application/javascript": [
              "download(\"download_da5d22fd-55d8-46a6-a927-866c103a3e5e\", \"32x32_pca-0.3.csv\", 86060)"
            ]
          },
          "metadata": {}
        },
        {
          "output_type": "stream",
          "name": "stdout",
          "text": [
            "hog de 32x32 e pca de 0.35\n",
            "shape: (800, 7)\n",
            "\n"
          ]
        },
        {
          "output_type": "display_data",
          "data": {
            "text/plain": [
              "<IPython.core.display.Javascript object>"
            ],
            "application/javascript": [
              "\n",
              "    async function download(id, filename, size) {\n",
              "      if (!google.colab.kernel.accessAllowed) {\n",
              "        return;\n",
              "      }\n",
              "      const div = document.createElement('div');\n",
              "      const label = document.createElement('label');\n",
              "      label.textContent = `Downloading \"${filename}\": `;\n",
              "      div.appendChild(label);\n",
              "      const progress = document.createElement('progress');\n",
              "      progress.max = size;\n",
              "      div.appendChild(progress);\n",
              "      document.body.appendChild(div);\n",
              "\n",
              "      const buffers = [];\n",
              "      let downloaded = 0;\n",
              "\n",
              "      const channel = await google.colab.kernel.comms.open(id);\n",
              "      // Send a message to notify the kernel that we're ready.\n",
              "      channel.send({})\n",
              "\n",
              "      for await (const message of channel.messages) {\n",
              "        // Send a message to notify the kernel that we're ready.\n",
              "        channel.send({})\n",
              "        if (message.buffers) {\n",
              "          for (const buffer of message.buffers) {\n",
              "            buffers.push(buffer);\n",
              "            downloaded += buffer.byteLength;\n",
              "            progress.value = downloaded;\n",
              "          }\n",
              "        }\n",
              "      }\n",
              "      const blob = new Blob(buffers, {type: 'application/binary'});\n",
              "      const a = document.createElement('a');\n",
              "      a.href = window.URL.createObjectURL(blob);\n",
              "      a.download = filename;\n",
              "      div.appendChild(a);\n",
              "      a.click();\n",
              "      div.remove();\n",
              "    }\n",
              "  "
            ]
          },
          "metadata": {}
        },
        {
          "output_type": "display_data",
          "data": {
            "text/plain": [
              "<IPython.core.display.Javascript object>"
            ],
            "application/javascript": [
              "download(\"download_dddc4e39-d1a1-41ac-9449-c3f45d3c2b3f\", \"32x32_pca-0.35.csv\", 117563)"
            ]
          },
          "metadata": {}
        },
        {
          "output_type": "stream",
          "name": "stdout",
          "text": [
            "hog de 32x32 e pca de 0.4\n",
            "shape: (800, 8)\n",
            "\n"
          ]
        },
        {
          "output_type": "display_data",
          "data": {
            "text/plain": [
              "<IPython.core.display.Javascript object>"
            ],
            "application/javascript": [
              "\n",
              "    async function download(id, filename, size) {\n",
              "      if (!google.colab.kernel.accessAllowed) {\n",
              "        return;\n",
              "      }\n",
              "      const div = document.createElement('div');\n",
              "      const label = document.createElement('label');\n",
              "      label.textContent = `Downloading \"${filename}\": `;\n",
              "      div.appendChild(label);\n",
              "      const progress = document.createElement('progress');\n",
              "      progress.max = size;\n",
              "      div.appendChild(progress);\n",
              "      document.body.appendChild(div);\n",
              "\n",
              "      const buffers = [];\n",
              "      let downloaded = 0;\n",
              "\n",
              "      const channel = await google.colab.kernel.comms.open(id);\n",
              "      // Send a message to notify the kernel that we're ready.\n",
              "      channel.send({})\n",
              "\n",
              "      for await (const message of channel.messages) {\n",
              "        // Send a message to notify the kernel that we're ready.\n",
              "        channel.send({})\n",
              "        if (message.buffers) {\n",
              "          for (const buffer of message.buffers) {\n",
              "            buffers.push(buffer);\n",
              "            downloaded += buffer.byteLength;\n",
              "            progress.value = downloaded;\n",
              "          }\n",
              "        }\n",
              "      }\n",
              "      const blob = new Blob(buffers, {type: 'application/binary'});\n",
              "      const a = document.createElement('a');\n",
              "      a.href = window.URL.createObjectURL(blob);\n",
              "      a.download = filename;\n",
              "      div.appendChild(a);\n",
              "      a.click();\n",
              "      div.remove();\n",
              "    }\n",
              "  "
            ]
          },
          "metadata": {}
        },
        {
          "output_type": "display_data",
          "data": {
            "text/plain": [
              "<IPython.core.display.Javascript object>"
            ],
            "application/javascript": [
              "download(\"download_29118b68-abf2-4758-88fc-3dc4185fd98f\", \"32x32_pca-0.4.csv\", 133299)"
            ]
          },
          "metadata": {}
        },
        {
          "output_type": "stream",
          "name": "stdout",
          "text": [
            "hog de 32x32 e pca de 0.45\n",
            "shape: (800, 10)\n",
            "\n"
          ]
        },
        {
          "output_type": "display_data",
          "data": {
            "text/plain": [
              "<IPython.core.display.Javascript object>"
            ],
            "application/javascript": [
              "\n",
              "    async function download(id, filename, size) {\n",
              "      if (!google.colab.kernel.accessAllowed) {\n",
              "        return;\n",
              "      }\n",
              "      const div = document.createElement('div');\n",
              "      const label = document.createElement('label');\n",
              "      label.textContent = `Downloading \"${filename}\": `;\n",
              "      div.appendChild(label);\n",
              "      const progress = document.createElement('progress');\n",
              "      progress.max = size;\n",
              "      div.appendChild(progress);\n",
              "      document.body.appendChild(div);\n",
              "\n",
              "      const buffers = [];\n",
              "      let downloaded = 0;\n",
              "\n",
              "      const channel = await google.colab.kernel.comms.open(id);\n",
              "      // Send a message to notify the kernel that we're ready.\n",
              "      channel.send({})\n",
              "\n",
              "      for await (const message of channel.messages) {\n",
              "        // Send a message to notify the kernel that we're ready.\n",
              "        channel.send({})\n",
              "        if (message.buffers) {\n",
              "          for (const buffer of message.buffers) {\n",
              "            buffers.push(buffer);\n",
              "            downloaded += buffer.byteLength;\n",
              "            progress.value = downloaded;\n",
              "          }\n",
              "        }\n",
              "      }\n",
              "      const blob = new Blob(buffers, {type: 'application/binary'});\n",
              "      const a = document.createElement('a');\n",
              "      a.href = window.URL.createObjectURL(blob);\n",
              "      a.download = filename;\n",
              "      div.appendChild(a);\n",
              "      a.click();\n",
              "      div.remove();\n",
              "    }\n",
              "  "
            ]
          },
          "metadata": {}
        },
        {
          "output_type": "display_data",
          "data": {
            "text/plain": [
              "<IPython.core.display.Javascript object>"
            ],
            "application/javascript": [
              "download(\"download_3414c854-2c83-4b6b-929c-e2f98388dfcc\", \"32x32_pca-0.45.csv\", 164735)"
            ]
          },
          "metadata": {}
        },
        {
          "output_type": "stream",
          "name": "stdout",
          "text": [
            "hog de 32x32 e pca de 0.5\n",
            "shape: (800, 12)\n",
            "\n"
          ]
        },
        {
          "output_type": "display_data",
          "data": {
            "text/plain": [
              "<IPython.core.display.Javascript object>"
            ],
            "application/javascript": [
              "\n",
              "    async function download(id, filename, size) {\n",
              "      if (!google.colab.kernel.accessAllowed) {\n",
              "        return;\n",
              "      }\n",
              "      const div = document.createElement('div');\n",
              "      const label = document.createElement('label');\n",
              "      label.textContent = `Downloading \"${filename}\": `;\n",
              "      div.appendChild(label);\n",
              "      const progress = document.createElement('progress');\n",
              "      progress.max = size;\n",
              "      div.appendChild(progress);\n",
              "      document.body.appendChild(div);\n",
              "\n",
              "      const buffers = [];\n",
              "      let downloaded = 0;\n",
              "\n",
              "      const channel = await google.colab.kernel.comms.open(id);\n",
              "      // Send a message to notify the kernel that we're ready.\n",
              "      channel.send({})\n",
              "\n",
              "      for await (const message of channel.messages) {\n",
              "        // Send a message to notify the kernel that we're ready.\n",
              "        channel.send({})\n",
              "        if (message.buffers) {\n",
              "          for (const buffer of message.buffers) {\n",
              "            buffers.push(buffer);\n",
              "            downloaded += buffer.byteLength;\n",
              "            progress.value = downloaded;\n",
              "          }\n",
              "        }\n",
              "      }\n",
              "      const blob = new Blob(buffers, {type: 'application/binary'});\n",
              "      const a = document.createElement('a');\n",
              "      a.href = window.URL.createObjectURL(blob);\n",
              "      a.download = filename;\n",
              "      div.appendChild(a);\n",
              "      a.click();\n",
              "      div.remove();\n",
              "    }\n",
              "  "
            ]
          },
          "metadata": {}
        },
        {
          "output_type": "display_data",
          "data": {
            "text/plain": [
              "<IPython.core.display.Javascript object>"
            ],
            "application/javascript": [
              "download(\"download_9637d4d0-3d16-4bf2-be17-f103a5e8d819\", \"32x32_pca-0.5.csv\", 196173)"
            ]
          },
          "metadata": {}
        },
        {
          "output_type": "stream",
          "name": "stdout",
          "text": [
            "hog de 32x32 e pca de 0.55\n",
            "shape: (800, 15)\n",
            "\n"
          ]
        },
        {
          "output_type": "display_data",
          "data": {
            "text/plain": [
              "<IPython.core.display.Javascript object>"
            ],
            "application/javascript": [
              "\n",
              "    async function download(id, filename, size) {\n",
              "      if (!google.colab.kernel.accessAllowed) {\n",
              "        return;\n",
              "      }\n",
              "      const div = document.createElement('div');\n",
              "      const label = document.createElement('label');\n",
              "      label.textContent = `Downloading \"${filename}\": `;\n",
              "      div.appendChild(label);\n",
              "      const progress = document.createElement('progress');\n",
              "      progress.max = size;\n",
              "      div.appendChild(progress);\n",
              "      document.body.appendChild(div);\n",
              "\n",
              "      const buffers = [];\n",
              "      let downloaded = 0;\n",
              "\n",
              "      const channel = await google.colab.kernel.comms.open(id);\n",
              "      // Send a message to notify the kernel that we're ready.\n",
              "      channel.send({})\n",
              "\n",
              "      for await (const message of channel.messages) {\n",
              "        // Send a message to notify the kernel that we're ready.\n",
              "        channel.send({})\n",
              "        if (message.buffers) {\n",
              "          for (const buffer of message.buffers) {\n",
              "            buffers.push(buffer);\n",
              "            downloaded += buffer.byteLength;\n",
              "            progress.value = downloaded;\n",
              "          }\n",
              "        }\n",
              "      }\n",
              "      const blob = new Blob(buffers, {type: 'application/binary'});\n",
              "      const a = document.createElement('a');\n",
              "      a.href = window.URL.createObjectURL(blob);\n",
              "      a.download = filename;\n",
              "      div.appendChild(a);\n",
              "      a.click();\n",
              "      div.remove();\n",
              "    }\n",
              "  "
            ]
          },
          "metadata": {}
        },
        {
          "output_type": "display_data",
          "data": {
            "text/plain": [
              "<IPython.core.display.Javascript object>"
            ],
            "application/javascript": [
              "download(\"download_498822c0-722f-4350-8c56-eb22d91599c1\", \"32x32_pca-0.55.csv\", 243377)"
            ]
          },
          "metadata": {}
        },
        {
          "output_type": "stream",
          "name": "stdout",
          "text": [
            "hog de 32x32 e pca de 0.6\n",
            "shape: (800, 18)\n",
            "\n"
          ]
        },
        {
          "output_type": "display_data",
          "data": {
            "text/plain": [
              "<IPython.core.display.Javascript object>"
            ],
            "application/javascript": [
              "\n",
              "    async function download(id, filename, size) {\n",
              "      if (!google.colab.kernel.accessAllowed) {\n",
              "        return;\n",
              "      }\n",
              "      const div = document.createElement('div');\n",
              "      const label = document.createElement('label');\n",
              "      label.textContent = `Downloading \"${filename}\": `;\n",
              "      div.appendChild(label);\n",
              "      const progress = document.createElement('progress');\n",
              "      progress.max = size;\n",
              "      div.appendChild(progress);\n",
              "      document.body.appendChild(div);\n",
              "\n",
              "      const buffers = [];\n",
              "      let downloaded = 0;\n",
              "\n",
              "      const channel = await google.colab.kernel.comms.open(id);\n",
              "      // Send a message to notify the kernel that we're ready.\n",
              "      channel.send({})\n",
              "\n",
              "      for await (const message of channel.messages) {\n",
              "        // Send a message to notify the kernel that we're ready.\n",
              "        channel.send({})\n",
              "        if (message.buffers) {\n",
              "          for (const buffer of message.buffers) {\n",
              "            buffers.push(buffer);\n",
              "            downloaded += buffer.byteLength;\n",
              "            progress.value = downloaded;\n",
              "          }\n",
              "        }\n",
              "      }\n",
              "      const blob = new Blob(buffers, {type: 'application/binary'});\n",
              "      const a = document.createElement('a');\n",
              "      a.href = window.URL.createObjectURL(blob);\n",
              "      a.download = filename;\n",
              "      div.appendChild(a);\n",
              "      a.click();\n",
              "      div.remove();\n",
              "    }\n",
              "  "
            ]
          },
          "metadata": {}
        },
        {
          "output_type": "display_data",
          "data": {
            "text/plain": [
              "<IPython.core.display.Javascript object>"
            ],
            "application/javascript": [
              "download(\"download_61f5b0ce-74e4-4614-bf6e-b64348cbcd82\", \"32x32_pca-0.6.csv\", 290595)"
            ]
          },
          "metadata": {}
        },
        {
          "output_type": "stream",
          "name": "stdout",
          "text": [
            "hog de 32x32 e pca de 0.65\n",
            "shape: (800, 22)\n",
            "\n"
          ]
        },
        {
          "output_type": "display_data",
          "data": {
            "text/plain": [
              "<IPython.core.display.Javascript object>"
            ],
            "application/javascript": [
              "\n",
              "    async function download(id, filename, size) {\n",
              "      if (!google.colab.kernel.accessAllowed) {\n",
              "        return;\n",
              "      }\n",
              "      const div = document.createElement('div');\n",
              "      const label = document.createElement('label');\n",
              "      label.textContent = `Downloading \"${filename}\": `;\n",
              "      div.appendChild(label);\n",
              "      const progress = document.createElement('progress');\n",
              "      progress.max = size;\n",
              "      div.appendChild(progress);\n",
              "      document.body.appendChild(div);\n",
              "\n",
              "      const buffers = [];\n",
              "      let downloaded = 0;\n",
              "\n",
              "      const channel = await google.colab.kernel.comms.open(id);\n",
              "      // Send a message to notify the kernel that we're ready.\n",
              "      channel.send({})\n",
              "\n",
              "      for await (const message of channel.messages) {\n",
              "        // Send a message to notify the kernel that we're ready.\n",
              "        channel.send({})\n",
              "        if (message.buffers) {\n",
              "          for (const buffer of message.buffers) {\n",
              "            buffers.push(buffer);\n",
              "            downloaded += buffer.byteLength;\n",
              "            progress.value = downloaded;\n",
              "          }\n",
              "        }\n",
              "      }\n",
              "      const blob = new Blob(buffers, {type: 'application/binary'});\n",
              "      const a = document.createElement('a');\n",
              "      a.href = window.URL.createObjectURL(blob);\n",
              "      a.download = filename;\n",
              "      div.appendChild(a);\n",
              "      a.click();\n",
              "      div.remove();\n",
              "    }\n",
              "  "
            ]
          },
          "metadata": {}
        },
        {
          "output_type": "display_data",
          "data": {
            "text/plain": [
              "<IPython.core.display.Javascript object>"
            ],
            "application/javascript": [
              "download(\"download_45a17123-e549-4b0a-a4e8-114d29a2d0e6\", \"32x32_pca-0.65.csv\", 353580)"
            ]
          },
          "metadata": {}
        },
        {
          "output_type": "stream",
          "name": "stdout",
          "text": [
            "hog de 32x32 e pca de 0.7\n",
            "shape: (800, 26)\n",
            "\n"
          ]
        },
        {
          "output_type": "display_data",
          "data": {
            "text/plain": [
              "<IPython.core.display.Javascript object>"
            ],
            "application/javascript": [
              "\n",
              "    async function download(id, filename, size) {\n",
              "      if (!google.colab.kernel.accessAllowed) {\n",
              "        return;\n",
              "      }\n",
              "      const div = document.createElement('div');\n",
              "      const label = document.createElement('label');\n",
              "      label.textContent = `Downloading \"${filename}\": `;\n",
              "      div.appendChild(label);\n",
              "      const progress = document.createElement('progress');\n",
              "      progress.max = size;\n",
              "      div.appendChild(progress);\n",
              "      document.body.appendChild(div);\n",
              "\n",
              "      const buffers = [];\n",
              "      let downloaded = 0;\n",
              "\n",
              "      const channel = await google.colab.kernel.comms.open(id);\n",
              "      // Send a message to notify the kernel that we're ready.\n",
              "      channel.send({})\n",
              "\n",
              "      for await (const message of channel.messages) {\n",
              "        // Send a message to notify the kernel that we're ready.\n",
              "        channel.send({})\n",
              "        if (message.buffers) {\n",
              "          for (const buffer of message.buffers) {\n",
              "            buffers.push(buffer);\n",
              "            downloaded += buffer.byteLength;\n",
              "            progress.value = downloaded;\n",
              "          }\n",
              "        }\n",
              "      }\n",
              "      const blob = new Blob(buffers, {type: 'application/binary'});\n",
              "      const a = document.createElement('a');\n",
              "      a.href = window.URL.createObjectURL(blob);\n",
              "      a.download = filename;\n",
              "      div.appendChild(a);\n",
              "      a.click();\n",
              "      div.remove();\n",
              "    }\n",
              "  "
            ]
          },
          "metadata": {}
        },
        {
          "output_type": "display_data",
          "data": {
            "text/plain": [
              "<IPython.core.display.Javascript object>"
            ],
            "application/javascript": [
              "download(\"download_83a58a4a-a9a0-44b6-88ea-fca9b8724a8d\", \"32x32_pca-0.7.csv\", 416477)"
            ]
          },
          "metadata": {}
        },
        {
          "output_type": "stream",
          "name": "stdout",
          "text": [
            "hog de 32x32 e pca de 0.75\n",
            "shape: (800, 32)\n",
            "\n"
          ]
        },
        {
          "output_type": "display_data",
          "data": {
            "text/plain": [
              "<IPython.core.display.Javascript object>"
            ],
            "application/javascript": [
              "\n",
              "    async function download(id, filename, size) {\n",
              "      if (!google.colab.kernel.accessAllowed) {\n",
              "        return;\n",
              "      }\n",
              "      const div = document.createElement('div');\n",
              "      const label = document.createElement('label');\n",
              "      label.textContent = `Downloading \"${filename}\": `;\n",
              "      div.appendChild(label);\n",
              "      const progress = document.createElement('progress');\n",
              "      progress.max = size;\n",
              "      div.appendChild(progress);\n",
              "      document.body.appendChild(div);\n",
              "\n",
              "      const buffers = [];\n",
              "      let downloaded = 0;\n",
              "\n",
              "      const channel = await google.colab.kernel.comms.open(id);\n",
              "      // Send a message to notify the kernel that we're ready.\n",
              "      channel.send({})\n",
              "\n",
              "      for await (const message of channel.messages) {\n",
              "        // Send a message to notify the kernel that we're ready.\n",
              "        channel.send({})\n",
              "        if (message.buffers) {\n",
              "          for (const buffer of message.buffers) {\n",
              "            buffers.push(buffer);\n",
              "            downloaded += buffer.byteLength;\n",
              "            progress.value = downloaded;\n",
              "          }\n",
              "        }\n",
              "      }\n",
              "      const blob = new Blob(buffers, {type: 'application/binary'});\n",
              "      const a = document.createElement('a');\n",
              "      a.href = window.URL.createObjectURL(blob);\n",
              "      a.download = filename;\n",
              "      div.appendChild(a);\n",
              "      a.click();\n",
              "      div.remove();\n",
              "    }\n",
              "  "
            ]
          },
          "metadata": {}
        },
        {
          "output_type": "display_data",
          "data": {
            "text/plain": [
              "<IPython.core.display.Javascript object>"
            ],
            "application/javascript": [
              "download(\"download_81f9dfbe-c068-4dfe-8603-40ef0b4d8cbf\", \"32x32_pca-0.75.csv\", 510912)"
            ]
          },
          "metadata": {}
        },
        {
          "output_type": "stream",
          "name": "stdout",
          "text": [
            "hog de 32x32 e pca de 0.8\n",
            "shape: (800, 39)\n",
            "\n"
          ]
        },
        {
          "output_type": "display_data",
          "data": {
            "text/plain": [
              "<IPython.core.display.Javascript object>"
            ],
            "application/javascript": [
              "\n",
              "    async function download(id, filename, size) {\n",
              "      if (!google.colab.kernel.accessAllowed) {\n",
              "        return;\n",
              "      }\n",
              "      const div = document.createElement('div');\n",
              "      const label = document.createElement('label');\n",
              "      label.textContent = `Downloading \"${filename}\": `;\n",
              "      div.appendChild(label);\n",
              "      const progress = document.createElement('progress');\n",
              "      progress.max = size;\n",
              "      div.appendChild(progress);\n",
              "      document.body.appendChild(div);\n",
              "\n",
              "      const buffers = [];\n",
              "      let downloaded = 0;\n",
              "\n",
              "      const channel = await google.colab.kernel.comms.open(id);\n",
              "      // Send a message to notify the kernel that we're ready.\n",
              "      channel.send({})\n",
              "\n",
              "      for await (const message of channel.messages) {\n",
              "        // Send a message to notify the kernel that we're ready.\n",
              "        channel.send({})\n",
              "        if (message.buffers) {\n",
              "          for (const buffer of message.buffers) {\n",
              "            buffers.push(buffer);\n",
              "            downloaded += buffer.byteLength;\n",
              "            progress.value = downloaded;\n",
              "          }\n",
              "        }\n",
              "      }\n",
              "      const blob = new Blob(buffers, {type: 'application/binary'});\n",
              "      const a = document.createElement('a');\n",
              "      a.href = window.URL.createObjectURL(blob);\n",
              "      a.download = filename;\n",
              "      div.appendChild(a);\n",
              "      a.click();\n",
              "      div.remove();\n",
              "    }\n",
              "  "
            ]
          },
          "metadata": {}
        },
        {
          "output_type": "display_data",
          "data": {
            "text/plain": [
              "<IPython.core.display.Javascript object>"
            ],
            "application/javascript": [
              "download(\"download_c6a37e2e-a3ab-4e43-9f59-27b7b591fe6a\", \"32x32_pca-0.8.csv\", 621059)"
            ]
          },
          "metadata": {}
        },
        {
          "output_type": "stream",
          "name": "stdout",
          "text": [
            "hog de 32x32 e pca de 0.85\n",
            "shape: (800, 49)\n",
            "\n"
          ]
        },
        {
          "output_type": "display_data",
          "data": {
            "text/plain": [
              "<IPython.core.display.Javascript object>"
            ],
            "application/javascript": [
              "\n",
              "    async function download(id, filename, size) {\n",
              "      if (!google.colab.kernel.accessAllowed) {\n",
              "        return;\n",
              "      }\n",
              "      const div = document.createElement('div');\n",
              "      const label = document.createElement('label');\n",
              "      label.textContent = `Downloading \"${filename}\": `;\n",
              "      div.appendChild(label);\n",
              "      const progress = document.createElement('progress');\n",
              "      progress.max = size;\n",
              "      div.appendChild(progress);\n",
              "      document.body.appendChild(div);\n",
              "\n",
              "      const buffers = [];\n",
              "      let downloaded = 0;\n",
              "\n",
              "      const channel = await google.colab.kernel.comms.open(id);\n",
              "      // Send a message to notify the kernel that we're ready.\n",
              "      channel.send({})\n",
              "\n",
              "      for await (const message of channel.messages) {\n",
              "        // Send a message to notify the kernel that we're ready.\n",
              "        channel.send({})\n",
              "        if (message.buffers) {\n",
              "          for (const buffer of message.buffers) {\n",
              "            buffers.push(buffer);\n",
              "            downloaded += buffer.byteLength;\n",
              "            progress.value = downloaded;\n",
              "          }\n",
              "        }\n",
              "      }\n",
              "      const blob = new Blob(buffers, {type: 'application/binary'});\n",
              "      const a = document.createElement('a');\n",
              "      a.href = window.URL.createObjectURL(blob);\n",
              "      a.download = filename;\n",
              "      div.appendChild(a);\n",
              "      a.click();\n",
              "      div.remove();\n",
              "    }\n",
              "  "
            ]
          },
          "metadata": {}
        },
        {
          "output_type": "display_data",
          "data": {
            "text/plain": [
              "<IPython.core.display.Javascript object>"
            ],
            "application/javascript": [
              "download(\"download_78676460-bb56-4dcb-a471-f6855e2b2dda\", \"32x32_pca-0.85.csv\", 778327)"
            ]
          },
          "metadata": {}
        },
        {
          "output_type": "stream",
          "name": "stdout",
          "text": [
            "hog de 32x32 e pca de 0.9\n",
            "shape: (800, 64)\n",
            "\n"
          ]
        },
        {
          "output_type": "display_data",
          "data": {
            "text/plain": [
              "<IPython.core.display.Javascript object>"
            ],
            "application/javascript": [
              "\n",
              "    async function download(id, filename, size) {\n",
              "      if (!google.colab.kernel.accessAllowed) {\n",
              "        return;\n",
              "      }\n",
              "      const div = document.createElement('div');\n",
              "      const label = document.createElement('label');\n",
              "      label.textContent = `Downloading \"${filename}\": `;\n",
              "      div.appendChild(label);\n",
              "      const progress = document.createElement('progress');\n",
              "      progress.max = size;\n",
              "      div.appendChild(progress);\n",
              "      document.body.appendChild(div);\n",
              "\n",
              "      const buffers = [];\n",
              "      let downloaded = 0;\n",
              "\n",
              "      const channel = await google.colab.kernel.comms.open(id);\n",
              "      // Send a message to notify the kernel that we're ready.\n",
              "      channel.send({})\n",
              "\n",
              "      for await (const message of channel.messages) {\n",
              "        // Send a message to notify the kernel that we're ready.\n",
              "        channel.send({})\n",
              "        if (message.buffers) {\n",
              "          for (const buffer of message.buffers) {\n",
              "            buffers.push(buffer);\n",
              "            downloaded += buffer.byteLength;\n",
              "            progress.value = downloaded;\n",
              "          }\n",
              "        }\n",
              "      }\n",
              "      const blob = new Blob(buffers, {type: 'application/binary'});\n",
              "      const a = document.createElement('a');\n",
              "      a.href = window.URL.createObjectURL(blob);\n",
              "      a.download = filename;\n",
              "      div.appendChild(a);\n",
              "      a.click();\n",
              "      div.remove();\n",
              "    }\n",
              "  "
            ]
          },
          "metadata": {}
        },
        {
          "output_type": "display_data",
          "data": {
            "text/plain": [
              "<IPython.core.display.Javascript object>"
            ],
            "application/javascript": [
              "download(\"download_36292e71-4c61-486b-a71f-907ac7abf75c\", \"32x32_pca-0.9.csv\", 1014290)"
            ]
          },
          "metadata": {}
        },
        {
          "output_type": "stream",
          "name": "stdout",
          "text": [
            "hog de 32x32 e pca de 0.95\n",
            "shape: (800, 92)\n",
            "\n"
          ]
        },
        {
          "output_type": "display_data",
          "data": {
            "text/plain": [
              "<IPython.core.display.Javascript object>"
            ],
            "application/javascript": [
              "\n",
              "    async function download(id, filename, size) {\n",
              "      if (!google.colab.kernel.accessAllowed) {\n",
              "        return;\n",
              "      }\n",
              "      const div = document.createElement('div');\n",
              "      const label = document.createElement('label');\n",
              "      label.textContent = `Downloading \"${filename}\": `;\n",
              "      div.appendChild(label);\n",
              "      const progress = document.createElement('progress');\n",
              "      progress.max = size;\n",
              "      div.appendChild(progress);\n",
              "      document.body.appendChild(div);\n",
              "\n",
              "      const buffers = [];\n",
              "      let downloaded = 0;\n",
              "\n",
              "      const channel = await google.colab.kernel.comms.open(id);\n",
              "      // Send a message to notify the kernel that we're ready.\n",
              "      channel.send({})\n",
              "\n",
              "      for await (const message of channel.messages) {\n",
              "        // Send a message to notify the kernel that we're ready.\n",
              "        channel.send({})\n",
              "        if (message.buffers) {\n",
              "          for (const buffer of message.buffers) {\n",
              "            buffers.push(buffer);\n",
              "            downloaded += buffer.byteLength;\n",
              "            progress.value = downloaded;\n",
              "          }\n",
              "        }\n",
              "      }\n",
              "      const blob = new Blob(buffers, {type: 'application/binary'});\n",
              "      const a = document.createElement('a');\n",
              "      a.href = window.URL.createObjectURL(blob);\n",
              "      a.download = filename;\n",
              "      div.appendChild(a);\n",
              "      a.click();\n",
              "      div.remove();\n",
              "    }\n",
              "  "
            ]
          },
          "metadata": {}
        },
        {
          "output_type": "display_data",
          "data": {
            "text/plain": [
              "<IPython.core.display.Javascript object>"
            ],
            "application/javascript": [
              "download(\"download_a72ece15-f1a2-4585-ae1b-c4f885f25d55\", \"32x32_pca-0.95.csv\", 1454704)"
            ]
          },
          "metadata": {}
        },
        {
          "output_type": "stream",
          "name": "stdout",
          "text": [
            "hog de 40x40 e pca de 0.1\n",
            "shape: (800, 1)\n",
            "\n"
          ]
        },
        {
          "output_type": "display_data",
          "data": {
            "text/plain": [
              "<IPython.core.display.Javascript object>"
            ],
            "application/javascript": [
              "\n",
              "    async function download(id, filename, size) {\n",
              "      if (!google.colab.kernel.accessAllowed) {\n",
              "        return;\n",
              "      }\n",
              "      const div = document.createElement('div');\n",
              "      const label = document.createElement('label');\n",
              "      label.textContent = `Downloading \"${filename}\": `;\n",
              "      div.appendChild(label);\n",
              "      const progress = document.createElement('progress');\n",
              "      progress.max = size;\n",
              "      div.appendChild(progress);\n",
              "      document.body.appendChild(div);\n",
              "\n",
              "      const buffers = [];\n",
              "      let downloaded = 0;\n",
              "\n",
              "      const channel = await google.colab.kernel.comms.open(id);\n",
              "      // Send a message to notify the kernel that we're ready.\n",
              "      channel.send({})\n",
              "\n",
              "      for await (const message of channel.messages) {\n",
              "        // Send a message to notify the kernel that we're ready.\n",
              "        channel.send({})\n",
              "        if (message.buffers) {\n",
              "          for (const buffer of message.buffers) {\n",
              "            buffers.push(buffer);\n",
              "            downloaded += buffer.byteLength;\n",
              "            progress.value = downloaded;\n",
              "          }\n",
              "        }\n",
              "      }\n",
              "      const blob = new Blob(buffers, {type: 'application/binary'});\n",
              "      const a = document.createElement('a');\n",
              "      a.href = window.URL.createObjectURL(blob);\n",
              "      a.download = filename;\n",
              "      div.appendChild(a);\n",
              "      a.click();\n",
              "      div.remove();\n",
              "    }\n",
              "  "
            ]
          },
          "metadata": {}
        },
        {
          "output_type": "display_data",
          "data": {
            "text/plain": [
              "<IPython.core.display.Javascript object>"
            ],
            "application/javascript": [
              "download(\"download_537b9565-c4f1-4eb0-b29a-709494f26ad9\", \"40x40_pca-0.1.csv\", 23295)"
            ]
          },
          "metadata": {}
        },
        {
          "output_type": "stream",
          "name": "stdout",
          "text": [
            "hog de 40x40 e pca de 0.15\n",
            "shape: (800, 1)\n",
            "\n"
          ]
        },
        {
          "output_type": "display_data",
          "data": {
            "text/plain": [
              "<IPython.core.display.Javascript object>"
            ],
            "application/javascript": [
              "\n",
              "    async function download(id, filename, size) {\n",
              "      if (!google.colab.kernel.accessAllowed) {\n",
              "        return;\n",
              "      }\n",
              "      const div = document.createElement('div');\n",
              "      const label = document.createElement('label');\n",
              "      label.textContent = `Downloading \"${filename}\": `;\n",
              "      div.appendChild(label);\n",
              "      const progress = document.createElement('progress');\n",
              "      progress.max = size;\n",
              "      div.appendChild(progress);\n",
              "      document.body.appendChild(div);\n",
              "\n",
              "      const buffers = [];\n",
              "      let downloaded = 0;\n",
              "\n",
              "      const channel = await google.colab.kernel.comms.open(id);\n",
              "      // Send a message to notify the kernel that we're ready.\n",
              "      channel.send({})\n",
              "\n",
              "      for await (const message of channel.messages) {\n",
              "        // Send a message to notify the kernel that we're ready.\n",
              "        channel.send({})\n",
              "        if (message.buffers) {\n",
              "          for (const buffer of message.buffers) {\n",
              "            buffers.push(buffer);\n",
              "            downloaded += buffer.byteLength;\n",
              "            progress.value = downloaded;\n",
              "          }\n",
              "        }\n",
              "      }\n",
              "      const blob = new Blob(buffers, {type: 'application/binary'});\n",
              "      const a = document.createElement('a');\n",
              "      a.href = window.URL.createObjectURL(blob);\n",
              "      a.download = filename;\n",
              "      div.appendChild(a);\n",
              "      a.click();\n",
              "      div.remove();\n",
              "    }\n",
              "  "
            ]
          },
          "metadata": {}
        },
        {
          "output_type": "display_data",
          "data": {
            "text/plain": [
              "<IPython.core.display.Javascript object>"
            ],
            "application/javascript": [
              "download(\"download_85095731-d3b3-4b2b-a156-1f1cec2286cb\", \"40x40_pca-0.15.csv\", 23295)"
            ]
          },
          "metadata": {}
        },
        {
          "output_type": "stream",
          "name": "stdout",
          "text": [
            "hog de 40x40 e pca de 0.2\n",
            "shape: (800, 2)\n",
            "\n"
          ]
        },
        {
          "output_type": "display_data",
          "data": {
            "text/plain": [
              "<IPython.core.display.Javascript object>"
            ],
            "application/javascript": [
              "\n",
              "    async function download(id, filename, size) {\n",
              "      if (!google.colab.kernel.accessAllowed) {\n",
              "        return;\n",
              "      }\n",
              "      const div = document.createElement('div');\n",
              "      const label = document.createElement('label');\n",
              "      label.textContent = `Downloading \"${filename}\": `;\n",
              "      div.appendChild(label);\n",
              "      const progress = document.createElement('progress');\n",
              "      progress.max = size;\n",
              "      div.appendChild(progress);\n",
              "      document.body.appendChild(div);\n",
              "\n",
              "      const buffers = [];\n",
              "      let downloaded = 0;\n",
              "\n",
              "      const channel = await google.colab.kernel.comms.open(id);\n",
              "      // Send a message to notify the kernel that we're ready.\n",
              "      channel.send({})\n",
              "\n",
              "      for await (const message of channel.messages) {\n",
              "        // Send a message to notify the kernel that we're ready.\n",
              "        channel.send({})\n",
              "        if (message.buffers) {\n",
              "          for (const buffer of message.buffers) {\n",
              "            buffers.push(buffer);\n",
              "            downloaded += buffer.byteLength;\n",
              "            progress.value = downloaded;\n",
              "          }\n",
              "        }\n",
              "      }\n",
              "      const blob = new Blob(buffers, {type: 'application/binary'});\n",
              "      const a = document.createElement('a');\n",
              "      a.href = window.URL.createObjectURL(blob);\n",
              "      a.download = filename;\n",
              "      div.appendChild(a);\n",
              "      a.click();\n",
              "      div.remove();\n",
              "    }\n",
              "  "
            ]
          },
          "metadata": {}
        },
        {
          "output_type": "display_data",
          "data": {
            "text/plain": [
              "<IPython.core.display.Javascript object>"
            ],
            "application/javascript": [
              "download(\"download_9e264c2f-9413-439d-a9b2-aa698ddc396b\", \"40x40_pca-0.2.csv\", 38971)"
            ]
          },
          "metadata": {}
        },
        {
          "output_type": "stream",
          "name": "stdout",
          "text": [
            "hog de 40x40 e pca de 0.25\n",
            "shape: (800, 2)\n",
            "\n"
          ]
        },
        {
          "output_type": "display_data",
          "data": {
            "text/plain": [
              "<IPython.core.display.Javascript object>"
            ],
            "application/javascript": [
              "\n",
              "    async function download(id, filename, size) {\n",
              "      if (!google.colab.kernel.accessAllowed) {\n",
              "        return;\n",
              "      }\n",
              "      const div = document.createElement('div');\n",
              "      const label = document.createElement('label');\n",
              "      label.textContent = `Downloading \"${filename}\": `;\n",
              "      div.appendChild(label);\n",
              "      const progress = document.createElement('progress');\n",
              "      progress.max = size;\n",
              "      div.appendChild(progress);\n",
              "      document.body.appendChild(div);\n",
              "\n",
              "      const buffers = [];\n",
              "      let downloaded = 0;\n",
              "\n",
              "      const channel = await google.colab.kernel.comms.open(id);\n",
              "      // Send a message to notify the kernel that we're ready.\n",
              "      channel.send({})\n",
              "\n",
              "      for await (const message of channel.messages) {\n",
              "        // Send a message to notify the kernel that we're ready.\n",
              "        channel.send({})\n",
              "        if (message.buffers) {\n",
              "          for (const buffer of message.buffers) {\n",
              "            buffers.push(buffer);\n",
              "            downloaded += buffer.byteLength;\n",
              "            progress.value = downloaded;\n",
              "          }\n",
              "        }\n",
              "      }\n",
              "      const blob = new Blob(buffers, {type: 'application/binary'});\n",
              "      const a = document.createElement('a');\n",
              "      a.href = window.URL.createObjectURL(blob);\n",
              "      a.download = filename;\n",
              "      div.appendChild(a);\n",
              "      a.click();\n",
              "      div.remove();\n",
              "    }\n",
              "  "
            ]
          },
          "metadata": {}
        },
        {
          "output_type": "display_data",
          "data": {
            "text/plain": [
              "<IPython.core.display.Javascript object>"
            ],
            "application/javascript": [
              "download(\"download_36140843-55c2-466b-94f0-c2c1c088c471\", \"40x40_pca-0.25.csv\", 38971)"
            ]
          },
          "metadata": {}
        },
        {
          "output_type": "stream",
          "name": "stdout",
          "text": [
            "hog de 40x40 e pca de 0.3\n",
            "shape: (800, 3)\n",
            "\n"
          ]
        },
        {
          "output_type": "display_data",
          "data": {
            "text/plain": [
              "<IPython.core.display.Javascript object>"
            ],
            "application/javascript": [
              "\n",
              "    async function download(id, filename, size) {\n",
              "      if (!google.colab.kernel.accessAllowed) {\n",
              "        return;\n",
              "      }\n",
              "      const div = document.createElement('div');\n",
              "      const label = document.createElement('label');\n",
              "      label.textContent = `Downloading \"${filename}\": `;\n",
              "      div.appendChild(label);\n",
              "      const progress = document.createElement('progress');\n",
              "      progress.max = size;\n",
              "      div.appendChild(progress);\n",
              "      document.body.appendChild(div);\n",
              "\n",
              "      const buffers = [];\n",
              "      let downloaded = 0;\n",
              "\n",
              "      const channel = await google.colab.kernel.comms.open(id);\n",
              "      // Send a message to notify the kernel that we're ready.\n",
              "      channel.send({})\n",
              "\n",
              "      for await (const message of channel.messages) {\n",
              "        // Send a message to notify the kernel that we're ready.\n",
              "        channel.send({})\n",
              "        if (message.buffers) {\n",
              "          for (const buffer of message.buffers) {\n",
              "            buffers.push(buffer);\n",
              "            downloaded += buffer.byteLength;\n",
              "            progress.value = downloaded;\n",
              "          }\n",
              "        }\n",
              "      }\n",
              "      const blob = new Blob(buffers, {type: 'application/binary'});\n",
              "      const a = document.createElement('a');\n",
              "      a.href = window.URL.createObjectURL(blob);\n",
              "      a.download = filename;\n",
              "      div.appendChild(a);\n",
              "      a.click();\n",
              "      div.remove();\n",
              "    }\n",
              "  "
            ]
          },
          "metadata": {}
        },
        {
          "output_type": "display_data",
          "data": {
            "text/plain": [
              "<IPython.core.display.Javascript object>"
            ],
            "application/javascript": [
              "download(\"download_22920db1-2726-4ef4-82c6-09e65d995644\", \"40x40_pca-0.3.csv\", 54727)"
            ]
          },
          "metadata": {}
        },
        {
          "output_type": "stream",
          "name": "stdout",
          "text": [
            "hog de 40x40 e pca de 0.35\n",
            "shape: (800, 4)\n",
            "\n"
          ]
        },
        {
          "output_type": "display_data",
          "data": {
            "text/plain": [
              "<IPython.core.display.Javascript object>"
            ],
            "application/javascript": [
              "\n",
              "    async function download(id, filename, size) {\n",
              "      if (!google.colab.kernel.accessAllowed) {\n",
              "        return;\n",
              "      }\n",
              "      const div = document.createElement('div');\n",
              "      const label = document.createElement('label');\n",
              "      label.textContent = `Downloading \"${filename}\": `;\n",
              "      div.appendChild(label);\n",
              "      const progress = document.createElement('progress');\n",
              "      progress.max = size;\n",
              "      div.appendChild(progress);\n",
              "      document.body.appendChild(div);\n",
              "\n",
              "      const buffers = [];\n",
              "      let downloaded = 0;\n",
              "\n",
              "      const channel = await google.colab.kernel.comms.open(id);\n",
              "      // Send a message to notify the kernel that we're ready.\n",
              "      channel.send({})\n",
              "\n",
              "      for await (const message of channel.messages) {\n",
              "        // Send a message to notify the kernel that we're ready.\n",
              "        channel.send({})\n",
              "        if (message.buffers) {\n",
              "          for (const buffer of message.buffers) {\n",
              "            buffers.push(buffer);\n",
              "            downloaded += buffer.byteLength;\n",
              "            progress.value = downloaded;\n",
              "          }\n",
              "        }\n",
              "      }\n",
              "      const blob = new Blob(buffers, {type: 'application/binary'});\n",
              "      const a = document.createElement('a');\n",
              "      a.href = window.URL.createObjectURL(blob);\n",
              "      a.download = filename;\n",
              "      div.appendChild(a);\n",
              "      a.click();\n",
              "      div.remove();\n",
              "    }\n",
              "  "
            ]
          },
          "metadata": {}
        },
        {
          "output_type": "display_data",
          "data": {
            "text/plain": [
              "<IPython.core.display.Javascript object>"
            ],
            "application/javascript": [
              "download(\"download_079bb9ec-99cf-410c-9129-2e9f05a0d5ae\", \"40x40_pca-0.35.csv\", 70479)"
            ]
          },
          "metadata": {}
        },
        {
          "output_type": "stream",
          "name": "stdout",
          "text": [
            "hog de 40x40 e pca de 0.4\n",
            "shape: (800, 5)\n",
            "\n"
          ]
        },
        {
          "output_type": "display_data",
          "data": {
            "text/plain": [
              "<IPython.core.display.Javascript object>"
            ],
            "application/javascript": [
              "\n",
              "    async function download(id, filename, size) {\n",
              "      if (!google.colab.kernel.accessAllowed) {\n",
              "        return;\n",
              "      }\n",
              "      const div = document.createElement('div');\n",
              "      const label = document.createElement('label');\n",
              "      label.textContent = `Downloading \"${filename}\": `;\n",
              "      div.appendChild(label);\n",
              "      const progress = document.createElement('progress');\n",
              "      progress.max = size;\n",
              "      div.appendChild(progress);\n",
              "      document.body.appendChild(div);\n",
              "\n",
              "      const buffers = [];\n",
              "      let downloaded = 0;\n",
              "\n",
              "      const channel = await google.colab.kernel.comms.open(id);\n",
              "      // Send a message to notify the kernel that we're ready.\n",
              "      channel.send({})\n",
              "\n",
              "      for await (const message of channel.messages) {\n",
              "        // Send a message to notify the kernel that we're ready.\n",
              "        channel.send({})\n",
              "        if (message.buffers) {\n",
              "          for (const buffer of message.buffers) {\n",
              "            buffers.push(buffer);\n",
              "            downloaded += buffer.byteLength;\n",
              "            progress.value = downloaded;\n",
              "          }\n",
              "        }\n",
              "      }\n",
              "      const blob = new Blob(buffers, {type: 'application/binary'});\n",
              "      const a = document.createElement('a');\n",
              "      a.href = window.URL.createObjectURL(blob);\n",
              "      a.download = filename;\n",
              "      div.appendChild(a);\n",
              "      a.click();\n",
              "      div.remove();\n",
              "    }\n",
              "  "
            ]
          },
          "metadata": {}
        },
        {
          "output_type": "display_data",
          "data": {
            "text/plain": [
              "<IPython.core.display.Javascript object>"
            ],
            "application/javascript": [
              "download(\"download_14b9d874-07d4-4558-9d55-f4cdbc93e167\", \"40x40_pca-0.4.csv\", 86234)"
            ]
          },
          "metadata": {}
        },
        {
          "output_type": "stream",
          "name": "stdout",
          "text": [
            "hog de 40x40 e pca de 0.45\n",
            "shape: (800, 6)\n",
            "\n"
          ]
        },
        {
          "output_type": "display_data",
          "data": {
            "text/plain": [
              "<IPython.core.display.Javascript object>"
            ],
            "application/javascript": [
              "\n",
              "    async function download(id, filename, size) {\n",
              "      if (!google.colab.kernel.accessAllowed) {\n",
              "        return;\n",
              "      }\n",
              "      const div = document.createElement('div');\n",
              "      const label = document.createElement('label');\n",
              "      label.textContent = `Downloading \"${filename}\": `;\n",
              "      div.appendChild(label);\n",
              "      const progress = document.createElement('progress');\n",
              "      progress.max = size;\n",
              "      div.appendChild(progress);\n",
              "      document.body.appendChild(div);\n",
              "\n",
              "      const buffers = [];\n",
              "      let downloaded = 0;\n",
              "\n",
              "      const channel = await google.colab.kernel.comms.open(id);\n",
              "      // Send a message to notify the kernel that we're ready.\n",
              "      channel.send({})\n",
              "\n",
              "      for await (const message of channel.messages) {\n",
              "        // Send a message to notify the kernel that we're ready.\n",
              "        channel.send({})\n",
              "        if (message.buffers) {\n",
              "          for (const buffer of message.buffers) {\n",
              "            buffers.push(buffer);\n",
              "            downloaded += buffer.byteLength;\n",
              "            progress.value = downloaded;\n",
              "          }\n",
              "        }\n",
              "      }\n",
              "      const blob = new Blob(buffers, {type: 'application/binary'});\n",
              "      const a = document.createElement('a');\n",
              "      a.href = window.URL.createObjectURL(blob);\n",
              "      a.download = filename;\n",
              "      div.appendChild(a);\n",
              "      a.click();\n",
              "      div.remove();\n",
              "    }\n",
              "  "
            ]
          },
          "metadata": {}
        },
        {
          "output_type": "display_data",
          "data": {
            "text/plain": [
              "<IPython.core.display.Javascript object>"
            ],
            "application/javascript": [
              "download(\"download_4eedc934-1479-45fe-9f8a-2f4c8ba28ac1\", \"40x40_pca-0.45.csv\", 101971)"
            ]
          },
          "metadata": {}
        },
        {
          "output_type": "stream",
          "name": "stdout",
          "text": [
            "hog de 40x40 e pca de 0.5\n",
            "shape: (800, 7)\n",
            "\n"
          ]
        },
        {
          "output_type": "display_data",
          "data": {
            "text/plain": [
              "<IPython.core.display.Javascript object>"
            ],
            "application/javascript": [
              "\n",
              "    async function download(id, filename, size) {\n",
              "      if (!google.colab.kernel.accessAllowed) {\n",
              "        return;\n",
              "      }\n",
              "      const div = document.createElement('div');\n",
              "      const label = document.createElement('label');\n",
              "      label.textContent = `Downloading \"${filename}\": `;\n",
              "      div.appendChild(label);\n",
              "      const progress = document.createElement('progress');\n",
              "      progress.max = size;\n",
              "      div.appendChild(progress);\n",
              "      document.body.appendChild(div);\n",
              "\n",
              "      const buffers = [];\n",
              "      let downloaded = 0;\n",
              "\n",
              "      const channel = await google.colab.kernel.comms.open(id);\n",
              "      // Send a message to notify the kernel that we're ready.\n",
              "      channel.send({})\n",
              "\n",
              "      for await (const message of channel.messages) {\n",
              "        // Send a message to notify the kernel that we're ready.\n",
              "        channel.send({})\n",
              "        if (message.buffers) {\n",
              "          for (const buffer of message.buffers) {\n",
              "            buffers.push(buffer);\n",
              "            downloaded += buffer.byteLength;\n",
              "            progress.value = downloaded;\n",
              "          }\n",
              "        }\n",
              "      }\n",
              "      const blob = new Blob(buffers, {type: 'application/binary'});\n",
              "      const a = document.createElement('a');\n",
              "      a.href = window.URL.createObjectURL(blob);\n",
              "      a.download = filename;\n",
              "      div.appendChild(a);\n",
              "      a.click();\n",
              "      div.remove();\n",
              "    }\n",
              "  "
            ]
          },
          "metadata": {}
        },
        {
          "output_type": "display_data",
          "data": {
            "text/plain": [
              "<IPython.core.display.Javascript object>"
            ],
            "application/javascript": [
              "download(\"download_6394d4e2-ecdb-46b2-8058-b5a9a77fc7f5\", \"40x40_pca-0.5.csv\", 117679)"
            ]
          },
          "metadata": {}
        },
        {
          "output_type": "stream",
          "name": "stdout",
          "text": [
            "hog de 40x40 e pca de 0.55\n",
            "shape: (800, 9)\n",
            "\n"
          ]
        },
        {
          "output_type": "display_data",
          "data": {
            "text/plain": [
              "<IPython.core.display.Javascript object>"
            ],
            "application/javascript": [
              "\n",
              "    async function download(id, filename, size) {\n",
              "      if (!google.colab.kernel.accessAllowed) {\n",
              "        return;\n",
              "      }\n",
              "      const div = document.createElement('div');\n",
              "      const label = document.createElement('label');\n",
              "      label.textContent = `Downloading \"${filename}\": `;\n",
              "      div.appendChild(label);\n",
              "      const progress = document.createElement('progress');\n",
              "      progress.max = size;\n",
              "      div.appendChild(progress);\n",
              "      document.body.appendChild(div);\n",
              "\n",
              "      const buffers = [];\n",
              "      let downloaded = 0;\n",
              "\n",
              "      const channel = await google.colab.kernel.comms.open(id);\n",
              "      // Send a message to notify the kernel that we're ready.\n",
              "      channel.send({})\n",
              "\n",
              "      for await (const message of channel.messages) {\n",
              "        // Send a message to notify the kernel that we're ready.\n",
              "        channel.send({})\n",
              "        if (message.buffers) {\n",
              "          for (const buffer of message.buffers) {\n",
              "            buffers.push(buffer);\n",
              "            downloaded += buffer.byteLength;\n",
              "            progress.value = downloaded;\n",
              "          }\n",
              "        }\n",
              "      }\n",
              "      const blob = new Blob(buffers, {type: 'application/binary'});\n",
              "      const a = document.createElement('a');\n",
              "      a.href = window.URL.createObjectURL(blob);\n",
              "      a.download = filename;\n",
              "      div.appendChild(a);\n",
              "      a.click();\n",
              "      div.remove();\n",
              "    }\n",
              "  "
            ]
          },
          "metadata": {}
        },
        {
          "output_type": "display_data",
          "data": {
            "text/plain": [
              "<IPython.core.display.Javascript object>"
            ],
            "application/javascript": [
              "download(\"download_f986e118-44da-4860-8f20-b516884c8bf9\", \"40x40_pca-0.55.csv\", 149141)"
            ]
          },
          "metadata": {}
        },
        {
          "output_type": "stream",
          "name": "stdout",
          "text": [
            "hog de 40x40 e pca de 0.6\n",
            "shape: (800, 11)\n",
            "\n"
          ]
        },
        {
          "output_type": "display_data",
          "data": {
            "text/plain": [
              "<IPython.core.display.Javascript object>"
            ],
            "application/javascript": [
              "\n",
              "    async function download(id, filename, size) {\n",
              "      if (!google.colab.kernel.accessAllowed) {\n",
              "        return;\n",
              "      }\n",
              "      const div = document.createElement('div');\n",
              "      const label = document.createElement('label');\n",
              "      label.textContent = `Downloading \"${filename}\": `;\n",
              "      div.appendChild(label);\n",
              "      const progress = document.createElement('progress');\n",
              "      progress.max = size;\n",
              "      div.appendChild(progress);\n",
              "      document.body.appendChild(div);\n",
              "\n",
              "      const buffers = [];\n",
              "      let downloaded = 0;\n",
              "\n",
              "      const channel = await google.colab.kernel.comms.open(id);\n",
              "      // Send a message to notify the kernel that we're ready.\n",
              "      channel.send({})\n",
              "\n",
              "      for await (const message of channel.messages) {\n",
              "        // Send a message to notify the kernel that we're ready.\n",
              "        channel.send({})\n",
              "        if (message.buffers) {\n",
              "          for (const buffer of message.buffers) {\n",
              "            buffers.push(buffer);\n",
              "            downloaded += buffer.byteLength;\n",
              "            progress.value = downloaded;\n",
              "          }\n",
              "        }\n",
              "      }\n",
              "      const blob = new Blob(buffers, {type: 'application/binary'});\n",
              "      const a = document.createElement('a');\n",
              "      a.href = window.URL.createObjectURL(blob);\n",
              "      a.download = filename;\n",
              "      div.appendChild(a);\n",
              "      a.click();\n",
              "      div.remove();\n",
              "    }\n",
              "  "
            ]
          },
          "metadata": {}
        },
        {
          "output_type": "display_data",
          "data": {
            "text/plain": [
              "<IPython.core.display.Javascript object>"
            ],
            "application/javascript": [
              "download(\"download_a46a66e8-1578-4c85-9ac4-293dc6d0864e\", \"40x40_pca-0.6.csv\", 180669)"
            ]
          },
          "metadata": {}
        },
        {
          "output_type": "stream",
          "name": "stdout",
          "text": [
            "hog de 40x40 e pca de 0.65\n",
            "shape: (800, 13)\n",
            "\n"
          ]
        },
        {
          "output_type": "display_data",
          "data": {
            "text/plain": [
              "<IPython.core.display.Javascript object>"
            ],
            "application/javascript": [
              "\n",
              "    async function download(id, filename, size) {\n",
              "      if (!google.colab.kernel.accessAllowed) {\n",
              "        return;\n",
              "      }\n",
              "      const div = document.createElement('div');\n",
              "      const label = document.createElement('label');\n",
              "      label.textContent = `Downloading \"${filename}\": `;\n",
              "      div.appendChild(label);\n",
              "      const progress = document.createElement('progress');\n",
              "      progress.max = size;\n",
              "      div.appendChild(progress);\n",
              "      document.body.appendChild(div);\n",
              "\n",
              "      const buffers = [];\n",
              "      let downloaded = 0;\n",
              "\n",
              "      const channel = await google.colab.kernel.comms.open(id);\n",
              "      // Send a message to notify the kernel that we're ready.\n",
              "      channel.send({})\n",
              "\n",
              "      for await (const message of channel.messages) {\n",
              "        // Send a message to notify the kernel that we're ready.\n",
              "        channel.send({})\n",
              "        if (message.buffers) {\n",
              "          for (const buffer of message.buffers) {\n",
              "            buffers.push(buffer);\n",
              "            downloaded += buffer.byteLength;\n",
              "            progress.value = downloaded;\n",
              "          }\n",
              "        }\n",
              "      }\n",
              "      const blob = new Blob(buffers, {type: 'application/binary'});\n",
              "      const a = document.createElement('a');\n",
              "      a.href = window.URL.createObjectURL(blob);\n",
              "      a.download = filename;\n",
              "      div.appendChild(a);\n",
              "      a.click();\n",
              "      div.remove();\n",
              "    }\n",
              "  "
            ]
          },
          "metadata": {}
        },
        {
          "output_type": "display_data",
          "data": {
            "text/plain": [
              "<IPython.core.display.Javascript object>"
            ],
            "application/javascript": [
              "download(\"download_8c39d5ef-ac6f-46a2-b446-5846e0976631\", \"40x40_pca-0.65.csv\", 212111)"
            ]
          },
          "metadata": {}
        },
        {
          "output_type": "stream",
          "name": "stdout",
          "text": [
            "hog de 40x40 e pca de 0.7\n",
            "shape: (800, 15)\n",
            "\n"
          ]
        },
        {
          "output_type": "display_data",
          "data": {
            "text/plain": [
              "<IPython.core.display.Javascript object>"
            ],
            "application/javascript": [
              "\n",
              "    async function download(id, filename, size) {\n",
              "      if (!google.colab.kernel.accessAllowed) {\n",
              "        return;\n",
              "      }\n",
              "      const div = document.createElement('div');\n",
              "      const label = document.createElement('label');\n",
              "      label.textContent = `Downloading \"${filename}\": `;\n",
              "      div.appendChild(label);\n",
              "      const progress = document.createElement('progress');\n",
              "      progress.max = size;\n",
              "      div.appendChild(progress);\n",
              "      document.body.appendChild(div);\n",
              "\n",
              "      const buffers = [];\n",
              "      let downloaded = 0;\n",
              "\n",
              "      const channel = await google.colab.kernel.comms.open(id);\n",
              "      // Send a message to notify the kernel that we're ready.\n",
              "      channel.send({})\n",
              "\n",
              "      for await (const message of channel.messages) {\n",
              "        // Send a message to notify the kernel that we're ready.\n",
              "        channel.send({})\n",
              "        if (message.buffers) {\n",
              "          for (const buffer of message.buffers) {\n",
              "            buffers.push(buffer);\n",
              "            downloaded += buffer.byteLength;\n",
              "            progress.value = downloaded;\n",
              "          }\n",
              "        }\n",
              "      }\n",
              "      const blob = new Blob(buffers, {type: 'application/binary'});\n",
              "      const a = document.createElement('a');\n",
              "      a.href = window.URL.createObjectURL(blob);\n",
              "      a.download = filename;\n",
              "      div.appendChild(a);\n",
              "      a.click();\n",
              "      div.remove();\n",
              "    }\n",
              "  "
            ]
          },
          "metadata": {}
        },
        {
          "output_type": "display_data",
          "data": {
            "text/plain": [
              "<IPython.core.display.Javascript object>"
            ],
            "application/javascript": [
              "download(\"download_bae64691-e6cd-4e5c-bc9b-608906660629\", \"40x40_pca-0.7.csv\", 243571)"
            ]
          },
          "metadata": {}
        },
        {
          "output_type": "stream",
          "name": "stdout",
          "text": [
            "hog de 40x40 e pca de 0.75\n",
            "shape: (800, 18)\n",
            "\n"
          ]
        },
        {
          "output_type": "display_data",
          "data": {
            "text/plain": [
              "<IPython.core.display.Javascript object>"
            ],
            "application/javascript": [
              "\n",
              "    async function download(id, filename, size) {\n",
              "      if (!google.colab.kernel.accessAllowed) {\n",
              "        return;\n",
              "      }\n",
              "      const div = document.createElement('div');\n",
              "      const label = document.createElement('label');\n",
              "      label.textContent = `Downloading \"${filename}\": `;\n",
              "      div.appendChild(label);\n",
              "      const progress = document.createElement('progress');\n",
              "      progress.max = size;\n",
              "      div.appendChild(progress);\n",
              "      document.body.appendChild(div);\n",
              "\n",
              "      const buffers = [];\n",
              "      let downloaded = 0;\n",
              "\n",
              "      const channel = await google.colab.kernel.comms.open(id);\n",
              "      // Send a message to notify the kernel that we're ready.\n",
              "      channel.send({})\n",
              "\n",
              "      for await (const message of channel.messages) {\n",
              "        // Send a message to notify the kernel that we're ready.\n",
              "        channel.send({})\n",
              "        if (message.buffers) {\n",
              "          for (const buffer of message.buffers) {\n",
              "            buffers.push(buffer);\n",
              "            downloaded += buffer.byteLength;\n",
              "            progress.value = downloaded;\n",
              "          }\n",
              "        }\n",
              "      }\n",
              "      const blob = new Blob(buffers, {type: 'application/binary'});\n",
              "      const a = document.createElement('a');\n",
              "      a.href = window.URL.createObjectURL(blob);\n",
              "      a.download = filename;\n",
              "      div.appendChild(a);\n",
              "      a.click();\n",
              "      div.remove();\n",
              "    }\n",
              "  "
            ]
          },
          "metadata": {}
        },
        {
          "output_type": "display_data",
          "data": {
            "text/plain": [
              "<IPython.core.display.Javascript object>"
            ],
            "application/javascript": [
              "download(\"download_f74b218c-e3e5-4ad4-83fb-b31c2a5d21bf\", \"40x40_pca-0.75.csv\", 290694)"
            ]
          },
          "metadata": {}
        },
        {
          "output_type": "stream",
          "name": "stdout",
          "text": [
            "hog de 40x40 e pca de 0.8\n",
            "shape: (800, 22)\n",
            "\n"
          ]
        },
        {
          "output_type": "display_data",
          "data": {
            "text/plain": [
              "<IPython.core.display.Javascript object>"
            ],
            "application/javascript": [
              "\n",
              "    async function download(id, filename, size) {\n",
              "      if (!google.colab.kernel.accessAllowed) {\n",
              "        return;\n",
              "      }\n",
              "      const div = document.createElement('div');\n",
              "      const label = document.createElement('label');\n",
              "      label.textContent = `Downloading \"${filename}\": `;\n",
              "      div.appendChild(label);\n",
              "      const progress = document.createElement('progress');\n",
              "      progress.max = size;\n",
              "      div.appendChild(progress);\n",
              "      document.body.appendChild(div);\n",
              "\n",
              "      const buffers = [];\n",
              "      let downloaded = 0;\n",
              "\n",
              "      const channel = await google.colab.kernel.comms.open(id);\n",
              "      // Send a message to notify the kernel that we're ready.\n",
              "      channel.send({})\n",
              "\n",
              "      for await (const message of channel.messages) {\n",
              "        // Send a message to notify the kernel that we're ready.\n",
              "        channel.send({})\n",
              "        if (message.buffers) {\n",
              "          for (const buffer of message.buffers) {\n",
              "            buffers.push(buffer);\n",
              "            downloaded += buffer.byteLength;\n",
              "            progress.value = downloaded;\n",
              "          }\n",
              "        }\n",
              "      }\n",
              "      const blob = new Blob(buffers, {type: 'application/binary'});\n",
              "      const a = document.createElement('a');\n",
              "      a.href = window.URL.createObjectURL(blob);\n",
              "      a.download = filename;\n",
              "      div.appendChild(a);\n",
              "      a.click();\n",
              "      div.remove();\n",
              "    }\n",
              "  "
            ]
          },
          "metadata": {}
        },
        {
          "output_type": "display_data",
          "data": {
            "text/plain": [
              "<IPython.core.display.Javascript object>"
            ],
            "application/javascript": [
              "download(\"download_44d0e139-74cf-4b0e-82d8-264c5a9258bc\", \"40x40_pca-0.8.csv\", 353645)"
            ]
          },
          "metadata": {}
        },
        {
          "output_type": "stream",
          "name": "stdout",
          "text": [
            "hog de 40x40 e pca de 0.85\n",
            "shape: (800, 27)\n",
            "\n"
          ]
        },
        {
          "output_type": "display_data",
          "data": {
            "text/plain": [
              "<IPython.core.display.Javascript object>"
            ],
            "application/javascript": [
              "\n",
              "    async function download(id, filename, size) {\n",
              "      if (!google.colab.kernel.accessAllowed) {\n",
              "        return;\n",
              "      }\n",
              "      const div = document.createElement('div');\n",
              "      const label = document.createElement('label');\n",
              "      label.textContent = `Downloading \"${filename}\": `;\n",
              "      div.appendChild(label);\n",
              "      const progress = document.createElement('progress');\n",
              "      progress.max = size;\n",
              "      div.appendChild(progress);\n",
              "      document.body.appendChild(div);\n",
              "\n",
              "      const buffers = [];\n",
              "      let downloaded = 0;\n",
              "\n",
              "      const channel = await google.colab.kernel.comms.open(id);\n",
              "      // Send a message to notify the kernel that we're ready.\n",
              "      channel.send({})\n",
              "\n",
              "      for await (const message of channel.messages) {\n",
              "        // Send a message to notify the kernel that we're ready.\n",
              "        channel.send({})\n",
              "        if (message.buffers) {\n",
              "          for (const buffer of message.buffers) {\n",
              "            buffers.push(buffer);\n",
              "            downloaded += buffer.byteLength;\n",
              "            progress.value = downloaded;\n",
              "          }\n",
              "        }\n",
              "      }\n",
              "      const blob = new Blob(buffers, {type: 'application/binary'});\n",
              "      const a = document.createElement('a');\n",
              "      a.href = window.URL.createObjectURL(blob);\n",
              "      a.download = filename;\n",
              "      div.appendChild(a);\n",
              "      a.click();\n",
              "      div.remove();\n",
              "    }\n",
              "  "
            ]
          },
          "metadata": {}
        },
        {
          "output_type": "display_data",
          "data": {
            "text/plain": [
              "<IPython.core.display.Javascript object>"
            ],
            "application/javascript": [
              "download(\"download_36713758-3e08-4f9c-a473-85cfe77005c5\", \"40x40_pca-0.85.csv\", 432303)"
            ]
          },
          "metadata": {}
        },
        {
          "output_type": "stream",
          "name": "stdout",
          "text": [
            "hog de 40x40 e pca de 0.9\n",
            "shape: (800, 35)\n",
            "\n"
          ]
        },
        {
          "output_type": "display_data",
          "data": {
            "text/plain": [
              "<IPython.core.display.Javascript object>"
            ],
            "application/javascript": [
              "\n",
              "    async function download(id, filename, size) {\n",
              "      if (!google.colab.kernel.accessAllowed) {\n",
              "        return;\n",
              "      }\n",
              "      const div = document.createElement('div');\n",
              "      const label = document.createElement('label');\n",
              "      label.textContent = `Downloading \"${filename}\": `;\n",
              "      div.appendChild(label);\n",
              "      const progress = document.createElement('progress');\n",
              "      progress.max = size;\n",
              "      div.appendChild(progress);\n",
              "      document.body.appendChild(div);\n",
              "\n",
              "      const buffers = [];\n",
              "      let downloaded = 0;\n",
              "\n",
              "      const channel = await google.colab.kernel.comms.open(id);\n",
              "      // Send a message to notify the kernel that we're ready.\n",
              "      channel.send({})\n",
              "\n",
              "      for await (const message of channel.messages) {\n",
              "        // Send a message to notify the kernel that we're ready.\n",
              "        channel.send({})\n",
              "        if (message.buffers) {\n",
              "          for (const buffer of message.buffers) {\n",
              "            buffers.push(buffer);\n",
              "            downloaded += buffer.byteLength;\n",
              "            progress.value = downloaded;\n",
              "          }\n",
              "        }\n",
              "      }\n",
              "      const blob = new Blob(buffers, {type: 'application/binary'});\n",
              "      const a = document.createElement('a');\n",
              "      a.href = window.URL.createObjectURL(blob);\n",
              "      a.download = filename;\n",
              "      div.appendChild(a);\n",
              "      a.click();\n",
              "      div.remove();\n",
              "    }\n",
              "  "
            ]
          },
          "metadata": {}
        },
        {
          "output_type": "display_data",
          "data": {
            "text/plain": [
              "<IPython.core.display.Javascript object>"
            ],
            "application/javascript": [
              "download(\"download_c2042677-9db1-477c-901f-02c2bc44947a\", \"40x40_pca-0.9.csv\", 558186)"
            ]
          },
          "metadata": {}
        },
        {
          "output_type": "stream",
          "name": "stdout",
          "text": [
            "hog de 40x40 e pca de 0.95\n",
            "shape: (800, 51)\n",
            "\n"
          ]
        },
        {
          "output_type": "display_data",
          "data": {
            "text/plain": [
              "<IPython.core.display.Javascript object>"
            ],
            "application/javascript": [
              "\n",
              "    async function download(id, filename, size) {\n",
              "      if (!google.colab.kernel.accessAllowed) {\n",
              "        return;\n",
              "      }\n",
              "      const div = document.createElement('div');\n",
              "      const label = document.createElement('label');\n",
              "      label.textContent = `Downloading \"${filename}\": `;\n",
              "      div.appendChild(label);\n",
              "      const progress = document.createElement('progress');\n",
              "      progress.max = size;\n",
              "      div.appendChild(progress);\n",
              "      document.body.appendChild(div);\n",
              "\n",
              "      const buffers = [];\n",
              "      let downloaded = 0;\n",
              "\n",
              "      const channel = await google.colab.kernel.comms.open(id);\n",
              "      // Send a message to notify the kernel that we're ready.\n",
              "      channel.send({})\n",
              "\n",
              "      for await (const message of channel.messages) {\n",
              "        // Send a message to notify the kernel that we're ready.\n",
              "        channel.send({})\n",
              "        if (message.buffers) {\n",
              "          for (const buffer of message.buffers) {\n",
              "            buffers.push(buffer);\n",
              "            downloaded += buffer.byteLength;\n",
              "            progress.value = downloaded;\n",
              "          }\n",
              "        }\n",
              "      }\n",
              "      const blob = new Blob(buffers, {type: 'application/binary'});\n",
              "      const a = document.createElement('a');\n",
              "      a.href = window.URL.createObjectURL(blob);\n",
              "      a.download = filename;\n",
              "      div.appendChild(a);\n",
              "      a.click();\n",
              "      div.remove();\n",
              "    }\n",
              "  "
            ]
          },
          "metadata": {}
        },
        {
          "output_type": "display_data",
          "data": {
            "text/plain": [
              "<IPython.core.display.Javascript object>"
            ],
            "application/javascript": [
              "download(\"download_4d30ee5d-db5e-4927-ab6e-f2286c2cf728\", \"40x40_pca-0.95.csv\", 809860)"
            ]
          },
          "metadata": {}
        }
      ]
    },
    {
      "cell_type": "markdown",
      "source": [
        "## Treinamento"
      ],
      "metadata": {
        "id": "iUNS-WeJz5kK"
      }
    },
    {
      "cell_type": "code",
      "source": [
        "import matplotlib.pyplot as plt\n",
        "import seaborn as sns\n",
        "from sklearn.neighbors import KNeighborsClassifier\n",
        "from sklearn.model_selection import train_test_split\n",
        "from sklearn import metrics\n",
        "from sklearn.metrics import confusion_matrix\n",
        "\n",
        "# Dicionário para armazenar as acurácias por tamanho de HOG\n",
        "hog_accuracies = {}\n",
        "# Lista para armazenar todas as acurácias\n",
        "all_accuracies = [['n_neighbors', 'hog_size', 'pca_porcent', 'accuracy']]\n",
        "max_accuracy = [0,0,0,0,'','']\n",
        "\n",
        "for n_neighbors in range(1,11):\n",
        "  for hogs_vetor in hogs_pcas:\n",
        "    hog_size = hogs_vetor[0]\n",
        "    porcent = hogs_vetor[1]\n",
        "    data = hogs_vetor[2]\n",
        "\n",
        "    y = data.classe  # Target variable\n",
        "    X = data.copy().drop('classe', axis=1)  # Features\n",
        "\n",
        "    # Split dataset into training set and test set\n",
        "    X_train_70, X_test_30, y_train_70, y_test_30 = train_test_split(X, y, test_size=0.3, random_state=73)  # 70% training and 30% test\n",
        "\n",
        "    # Create KNeighborsClassifier object\n",
        "    knn = KNeighborsClassifier(n_neighbors=n_neighbors, metric='euclidean')\n",
        "    knn.fit(X_train_70, y_train_70)\n",
        "\n",
        "    # Predict the response for the test dataset\n",
        "    y_pred = knn.predict(X_test_30)\n",
        "\n",
        "    # Model Accuracy\n",
        "    acuracia = metrics.accuracy_score(y_test_30, y_pred)\n",
        "\n",
        "    if acuracia > max_accuracy[3]:\n",
        "      max_accuracy = [n_neighbors, hog_size, porcent, round(acuracia,3), y_test_30, y_pred]\n",
        "\n",
        "    all_accuracies.append([n_neighbors,hog_size, porcent, round(acuracia,3)])\n",
        "\n",
        "data_accuracies = pd.DataFrame(all_accuracies[1:], columns=all_accuracies[0])\n",
        "matrix = data_accuracies.pivot(index=['hog_size', 'pca_porcent'], columns='n_neighbors', values='accuracy')\n",
        "\n",
        "# Exibir a matriz\n",
        "print(matrix.to_string(index=True, header=True))\n",
        "print(f'Melhor resultado: n_neighbors {max_accuracy[0]}, hog de {max_accuracy[1]}x{max_accuracy[1]} e pca de {max_accuracy[2]}')\n",
        "print(f'accuracy: {max_accuracy[3]}')\n"
      ],
      "metadata": {
        "colab": {
          "base_uri": "https://localhost:8080/"
        },
        "id": "R4mYBNPKe4UP",
        "outputId": "11e4da06-e22c-400a-841d-abc72604a036"
      },
      "execution_count": 28,
      "outputs": [
        {
          "output_type": "stream",
          "name": "stdout",
          "text": [
            "n_neighbors              1      2      3      4      5      6      7      8      9      10\n",
            "hog_size pca_porcent                                                                      \n",
            "16       0.10         0.312  0.325  0.312  0.296  0.308  0.358  0.338  0.354  0.333  0.354\n",
            "         0.15         0.292  0.354  0.308  0.350  0.346  0.379  0.354  0.396  0.421  0.425\n",
            "         0.20         0.388  0.417  0.425  0.421  0.488  0.429  0.458  0.479  0.454  0.504\n",
            "         0.25         0.367  0.379  0.383  0.446  0.462  0.442  0.446  0.471  0.438  0.438\n",
            "         0.30         0.392  0.425  0.433  0.479  0.488  0.454  0.471  0.488  0.479  0.462\n",
            "         0.35         0.446  0.446  0.438  0.479  0.433  0.446  0.471  0.471  0.471  0.446\n",
            "         0.40         0.404  0.429  0.404  0.433  0.433  0.458  0.442  0.438  0.442  0.446\n",
            "         0.45         0.446  0.438  0.438  0.404  0.450  0.458  0.433  0.412  0.425  0.404\n",
            "         0.50         0.417  0.433  0.438  0.417  0.396  0.425  0.400  0.392  0.388  0.379\n",
            "         0.55         0.412  0.450  0.404  0.396  0.375  0.383  0.396  0.400  0.400  0.400\n",
            "         0.60         0.408  0.417  0.438  0.379  0.362  0.404  0.358  0.379  0.338  0.350\n",
            "         0.65         0.388  0.408  0.388  0.367  0.367  0.421  0.354  0.350  0.329  0.346\n",
            "         0.70         0.358  0.417  0.417  0.362  0.333  0.329  0.312  0.300  0.288  0.300\n",
            "         0.75         0.350  0.346  0.379  0.296  0.321  0.329  0.296  0.288  0.292  0.275\n",
            "         0.80         0.358  0.325  0.367  0.317  0.304  0.292  0.296  0.288  0.262  0.275\n",
            "         0.85         0.358  0.350  0.342  0.333  0.308  0.312  0.304  0.288  0.288  0.308\n",
            "         0.90         0.342  0.325  0.317  0.304  0.296  0.300  0.258  0.267  0.275  0.271\n",
            "         0.95         0.304  0.308  0.304  0.279  0.292  0.262  0.288  0.258  0.271  0.283\n",
            "20       0.10         0.321  0.338  0.338  0.338  0.362  0.371  0.383  0.375  0.371  0.375\n",
            "         0.15         0.300  0.308  0.279  0.338  0.317  0.321  0.346  0.350  0.371  0.354\n",
            "         0.20         0.388  0.367  0.371  0.362  0.433  0.433  0.467  0.467  0.438  0.467\n",
            "         0.25         0.371  0.383  0.425  0.404  0.429  0.425  0.404  0.383  0.417  0.417\n",
            "         0.30         0.408  0.367  0.375  0.421  0.421  0.433  0.412  0.442  0.429  0.454\n",
            "         0.35         0.438  0.425  0.421  0.417  0.429  0.396  0.429  0.425  0.429  0.475\n",
            "         0.40         0.429  0.462  0.412  0.458  0.458  0.475  0.467  0.462  0.483  0.467\n",
            "         0.45         0.462  0.471  0.450  0.467  0.454  0.496  0.462  0.462  0.438  0.475\n",
            "         0.50         0.442  0.471  0.442  0.471  0.462  0.442  0.475  0.450  0.479  0.483\n",
            "         0.55         0.400  0.408  0.358  0.408  0.450  0.471  0.450  0.450  0.450  0.425\n",
            "         0.60         0.433  0.496  0.412  0.438  0.446  0.450  0.442  0.462  0.417  0.425\n",
            "         0.65         0.400  0.446  0.417  0.404  0.408  0.408  0.404  0.404  0.383  0.375\n",
            "         0.70         0.383  0.383  0.392  0.417  0.396  0.383  0.375  0.383  0.358  0.375\n",
            "         0.75         0.392  0.408  0.396  0.371  0.379  0.392  0.362  0.342  0.350  0.371\n",
            "         0.80         0.396  0.425  0.396  0.400  0.375  0.408  0.375  0.354  0.367  0.325\n",
            "         0.85         0.358  0.350  0.333  0.300  0.275  0.300  0.292  0.300  0.296  0.304\n",
            "         0.90         0.333  0.338  0.312  0.312  0.300  0.317  0.267  0.292  0.267  0.292\n",
            "         0.95         0.308  0.321  0.317  0.308  0.300  0.300  0.275  0.296  0.279  0.275\n",
            "24       0.10         0.217  0.288  0.275  0.267  0.254  0.300  0.271  0.308  0.304  0.292\n",
            "         0.15         0.354  0.358  0.362  0.350  0.375  0.392  0.425  0.412  0.396  0.383\n",
            "         0.20         0.379  0.383  0.404  0.371  0.375  0.375  0.412  0.454  0.417  0.412\n",
            "         0.25         0.429  0.433  0.417  0.412  0.429  0.421  0.442  0.471  0.467  0.467\n",
            "         0.30         0.408  0.417  0.442  0.429  0.429  0.438  0.450  0.471  0.475  0.475\n",
            "         0.35         0.442  0.429  0.446  0.458  0.458  0.462  0.479  0.479  0.454  0.467\n",
            "         0.40         0.471  0.454  0.471  0.475  0.488  0.462  0.479  0.492  0.479  0.504\n",
            "         0.45         0.458  0.433  0.454  0.488  0.500  0.529  0.512  0.508  0.529  0.512\n",
            "         0.50         0.450  0.488  0.450  0.496  0.488  0.500  0.475  0.492  0.496  0.504\n",
            "         0.55         0.450  0.479  0.462  0.475  0.488  0.488  0.496  0.454  0.454  0.462\n",
            "         0.60         0.417  0.462  0.425  0.450  0.471  0.467  0.450  0.496  0.467  0.488\n",
            "         0.65         0.408  0.442  0.438  0.442  0.421  0.446  0.392  0.450  0.421  0.412\n",
            "         0.70         0.388  0.425  0.412  0.383  0.392  0.421  0.412  0.421  0.412  0.404\n",
            "         0.75         0.450  0.458  0.438  0.404  0.421  0.412  0.375  0.383  0.371  0.346\n",
            "         0.80         0.412  0.404  0.388  0.396  0.379  0.408  0.350  0.383  0.379  0.379\n",
            "         0.85         0.371  0.408  0.379  0.371  0.379  0.396  0.342  0.329  0.321  0.312\n",
            "         0.90         0.358  0.367  0.329  0.321  0.304  0.329  0.304  0.317  0.317  0.312\n",
            "         0.95         0.354  0.358  0.358  0.350  0.325  0.317  0.283  0.275  0.262  0.275\n",
            "28       0.10         0.283  0.304  0.300  0.275  0.271  0.308  0.312  0.329  0.317  0.342\n",
            "         0.15         0.304  0.342  0.350  0.367  0.354  0.358  0.350  0.383  0.367  0.367\n",
            "         0.20         0.312  0.342  0.300  0.354  0.371  0.358  0.338  0.358  0.346  0.367\n",
            "         0.25         0.396  0.400  0.383  0.392  0.396  0.408  0.388  0.417  0.400  0.425\n",
            "         0.30         0.404  0.396  0.388  0.383  0.417  0.404  0.375  0.400  0.408  0.404\n",
            "         0.35         0.438  0.400  0.446  0.408  0.404  0.421  0.412  0.438  0.471  0.446\n",
            "         0.40         0.467  0.396  0.429  0.429  0.492  0.446  0.458  0.471  0.496  0.496\n",
            "         0.45         0.425  0.379  0.442  0.450  0.479  0.483  0.458  0.462  0.479  0.492\n",
            "         0.50         0.458  0.479  0.471  0.496  0.496  0.504  0.533  0.542  0.538  0.538\n",
            "         0.55         0.479  0.504  0.475  0.529  0.483  0.521  0.517  0.546  0.529  0.504\n",
            "         0.60         0.479  0.492  0.462  0.492  0.496  0.512  0.504  0.504  0.483  0.504\n",
            "         0.65         0.454  0.533  0.446  0.500  0.492  0.517  0.500  0.508  0.488  0.508\n",
            "         0.70         0.500  0.496  0.504  0.458  0.467  0.488  0.471  0.492  0.467  0.483\n",
            "         0.75         0.467  0.475  0.454  0.450  0.438  0.421  0.429  0.438  0.467  0.462\n",
            "         0.80         0.429  0.483  0.483  0.475  0.475  0.483  0.467  0.429  0.458  0.450\n",
            "         0.85         0.383  0.446  0.433  0.446  0.429  0.429  0.421  0.396  0.412  0.404\n",
            "         0.90         0.383  0.404  0.408  0.371  0.383  0.379  0.400  0.408  0.408  0.392\n",
            "         0.95         0.362  0.404  0.362  0.367  0.342  0.338  0.333  0.350  0.338  0.317\n",
            "32       0.10         0.225  0.271  0.300  0.321  0.300  0.333  0.329  0.308  0.346  0.367\n",
            "         0.15         0.300  0.317  0.342  0.358  0.338  0.346  0.342  0.383  0.388  0.346\n",
            "         0.20         0.346  0.358  0.333  0.338  0.388  0.375  0.375  0.383  0.392  0.392\n",
            "         0.25         0.358  0.354  0.362  0.338  0.383  0.400  0.412  0.400  0.429  0.450\n",
            "         0.30         0.333  0.375  0.367  0.392  0.400  0.433  0.433  0.429  0.454  0.438\n",
            "         0.35         0.350  0.396  0.438  0.438  0.425  0.438  0.454  0.425  0.417  0.421\n",
            "         0.40         0.392  0.425  0.450  0.438  0.429  0.458  0.458  0.425  0.438  0.429\n",
            "         0.45         0.404  0.417  0.421  0.429  0.433  0.417  0.454  0.454  0.433  0.450\n",
            "         0.50         0.429  0.438  0.433  0.446  0.462  0.467  0.442  0.450  0.467  0.467\n",
            "         0.55         0.442  0.479  0.512  0.512  0.500  0.471  0.533  0.500  0.496  0.475\n",
            "         0.60         0.467  0.475  0.483  0.483  0.475  0.433  0.429  0.425  0.433  0.458\n",
            "         0.65         0.421  0.446  0.458  0.446  0.467  0.429  0.421  0.454  0.454  0.471\n",
            "         0.70         0.429  0.462  0.421  0.462  0.450  0.462  0.475  0.467  0.471  0.458\n",
            "         0.75         0.433  0.421  0.438  0.425  0.417  0.450  0.396  0.421  0.450  0.433\n",
            "         0.80         0.450  0.450  0.471  0.458  0.433  0.458  0.450  0.450  0.450  0.417\n",
            "         0.85         0.375  0.379  0.400  0.400  0.392  0.388  0.388  0.375  0.388  0.383\n",
            "         0.90         0.379  0.408  0.412  0.358  0.354  0.346  0.342  0.338  0.346  0.354\n",
            "         0.95         0.362  0.358  0.358  0.375  0.308  0.333  0.308  0.321  0.329  0.325\n",
            "40       0.10         0.288  0.308  0.267  0.258  0.283  0.271  0.262  0.267  0.262  0.279\n",
            "         0.15         0.288  0.308  0.267  0.258  0.283  0.271  0.262  0.267  0.262  0.279\n",
            "         0.20         0.333  0.312  0.338  0.317  0.342  0.342  0.346  0.338  0.296  0.317\n",
            "         0.25         0.333  0.312  0.338  0.317  0.342  0.342  0.346  0.338  0.296  0.317\n",
            "         0.30         0.308  0.321  0.325  0.333  0.338  0.317  0.329  0.317  0.342  0.362\n",
            "         0.35         0.338  0.383  0.371  0.367  0.350  0.362  0.358  0.379  0.375  0.392\n",
            "         0.40         0.354  0.354  0.329  0.396  0.388  0.400  0.404  0.404  0.446  0.454\n",
            "         0.45         0.371  0.375  0.383  0.400  0.408  0.425  0.404  0.417  0.442  0.433\n",
            "         0.50         0.429  0.367  0.433  0.404  0.433  0.421  0.433  0.429  0.467  0.438\n",
            "         0.55         0.408  0.404  0.425  0.425  0.446  0.433  0.442  0.467  0.454  0.458\n",
            "         0.60         0.392  0.383  0.438  0.454  0.433  0.404  0.438  0.433  0.438  0.462\n",
            "         0.65         0.400  0.433  0.433  0.458  0.458  0.442  0.462  0.433  0.412  0.417\n",
            "         0.70         0.417  0.417  0.388  0.388  0.412  0.400  0.392  0.404  0.408  0.433\n",
            "         0.75         0.392  0.417  0.446  0.458  0.458  0.450  0.462  0.433  0.454  0.442\n",
            "         0.80         0.379  0.417  0.396  0.408  0.442  0.446  0.438  0.408  0.417  0.412\n",
            "         0.85         0.375  0.379  0.404  0.400  0.408  0.412  0.371  0.400  0.396  0.396\n",
            "         0.90         0.412  0.442  0.433  0.421  0.446  0.429  0.388  0.383  0.375  0.371\n",
            "         0.95         0.392  0.371  0.383  0.367  0.383  0.354  0.342  0.329  0.304  0.325\n",
            "Melhor resultado: n_neighbors 8, hog de 28x28 e pca de 0.55\n",
            "accuracy: 0.546\n"
          ]
        }
      ]
    },
    {
      "cell_type": "code",
      "source": [
        "import matplotlib.pyplot as plt\n",
        "from sklearn.neighbors import KNeighborsClassifier\n",
        "from sklearn.model_selection import train_test_split\n",
        "from sklearn import metrics\n",
        "from sklearn.metrics import confusion_matrix\n",
        "\n",
        "# Dicionário para armazenar as acurácias por tamanho de HOG\n",
        "hog_accuracies = {}\n",
        "# Lista para armazenar todas as acurácias\n",
        "all_accuracies = [['n_neighbors', 'hog_size', 'pca_porcent', 'accuracy']]\n",
        "max_accuracy = [0,0,0,0,'','']\n",
        "\n",
        "for n_neighbors in range(1,11):\n",
        "  for hogs_vetor in hogs_pcas:\n",
        "    hog_size = hogs_vetor[0]\n",
        "    porcent = hogs_vetor[1]\n",
        "    data = hogs_vetor[2]\n",
        "\n",
        "    y = data.classe  # Target variable\n",
        "    X = data.copy().drop('classe', axis=1)  # Features\n",
        "\n",
        "    # Split dataset into training set and test set\n",
        "    X_train_70, X_test_30, y_train_70, y_test_30 = train_test_split(X, y, test_size=0.3, random_state=73)  # 70% training and 30% test\n",
        "\n",
        "    # Create KNeighborsClassifier object\n",
        "    knn = KNeighborsClassifier(n_neighbors=n_neighbors, metric='euclidean')\n",
        "    knn.fit(X_train_70, y_train_70)\n",
        "\n",
        "    # Predict the response for the test dataset\n",
        "    y_pred = knn.predict(X_test_30)\n",
        "\n",
        "    # Model Accuracy\n",
        "    acuracia = metrics.accuracy_score(y_test_30, y_pred)\n",
        "\n",
        "    #print(f'n_neighbors {n_neighbors}: hog de {hog_size}x{hog_size} e pca de {porcent}')\n",
        "    #print('Accuracy: %.3f' % acuracia)\n",
        "    if acuracia > max_accuracy[3]:\n",
        "      max_accuracy = [n_neighbors, hog_size, porcent, round(acuracia,3), y_test_30, y_pred]\n",
        "\n",
        "    # Armazenar a acurácia no dicionário usando o tamanho do HOG como chave\n",
        "    '''if hog_size not in hog_accuracies:\n",
        "      hog_accuracies[hog_size] = {'porcent': [], 'accuracies': []}\n",
        "    hog_accuracies[hog_size]['porcent'].append(porcent)\n",
        "    hog_accuracies[hog_size]['accuracies'].append(acuracia)'''\n",
        "\n",
        "    # Matriz de confusão para 30%\n",
        "    #print(confusion_matrix(y_test_30, y_pred))\n",
        "    # Adicionar a acurácia à lista geral\n",
        "    all_accuracies.append([n_neighbors,hog_size, porcent, round(acuracia,3)])\n",
        "\n",
        "data_accuracies = pd.DataFrame(all_accuracies[1:], columns=all_accuracies[0])\n",
        "matrix = data_accuracies.pivot(index=['hog_size', 'pca_porcent'], columns='n_neighbors', values='accuracy')\n",
        "\n",
        "# Exibir a matriz\n",
        "print(matrix)\n",
        "print(f'Melhor resultado:')\n",
        "print(f'n_neighbors {max_accuracy[0]}: hog de {max_accuracy[1]}x{max_accuracy[1]} e pca de {max_accuracy[2]}')\n",
        "print(f'accuracy: {max_accuracy[3]}')\n",
        "\n",
        "# Exibir um gráfico a partir da matriz (usando um mapa de calor, por exemplo)\n",
        "plt.imshow(matrix, cmap='viridis', interpolation='nearest')\n",
        "plt.colorbar()\n",
        "plt.xlabel('n_neighbors')\n",
        "plt.ylabel('Combinação de hog_size e pca_porcent')\n",
        "plt.title('Acurácia')\n",
        "plt.show()\n"
      ],
      "metadata": {
        "colab": {
          "base_uri": "https://localhost:8080/",
          "height": 1000
        },
        "id": "q-pVre72U35v",
        "outputId": "e768da26-5dac-44b1-faf6-0fe398817c71"
      },
      "execution_count": 21,
      "outputs": [
        {
          "output_type": "stream",
          "name": "stdout",
          "text": [
            "n_neighbors              1      2      3      4      5      6      7      8   \\\n",
            "hog_size pca_porcent                                                           \n",
            "16       0.10         0.312  0.325  0.312  0.296  0.308  0.358  0.338  0.354   \n",
            "         0.15         0.292  0.354  0.308  0.350  0.346  0.379  0.354  0.396   \n",
            "         0.20         0.388  0.417  0.425  0.421  0.488  0.429  0.458  0.479   \n",
            "         0.25         0.367  0.379  0.383  0.446  0.462  0.442  0.446  0.471   \n",
            "         0.30         0.392  0.425  0.433  0.479  0.488  0.454  0.471  0.488   \n",
            "...                     ...    ...    ...    ...    ...    ...    ...    ...   \n",
            "40       0.75         0.392  0.417  0.446  0.458  0.458  0.450  0.462  0.433   \n",
            "         0.80         0.379  0.417  0.396  0.408  0.442  0.446  0.438  0.408   \n",
            "         0.85         0.375  0.379  0.404  0.400  0.408  0.412  0.371  0.400   \n",
            "         0.90         0.412  0.442  0.433  0.421  0.446  0.429  0.388  0.383   \n",
            "         0.95         0.392  0.371  0.383  0.367  0.383  0.354  0.342  0.329   \n",
            "\n",
            "n_neighbors              9      10  \n",
            "hog_size pca_porcent                \n",
            "16       0.10         0.333  0.354  \n",
            "         0.15         0.421  0.425  \n",
            "         0.20         0.454  0.504  \n",
            "         0.25         0.438  0.438  \n",
            "         0.30         0.479  0.462  \n",
            "...                     ...    ...  \n",
            "40       0.75         0.454  0.442  \n",
            "         0.80         0.417  0.412  \n",
            "         0.85         0.396  0.396  \n",
            "         0.90         0.375  0.371  \n",
            "         0.95         0.304  0.325  \n",
            "\n",
            "[108 rows x 10 columns]\n",
            "Melhor resultado:\n",
            "n_neighbors 8: hog de 28x28 e pca de 0.55\n",
            "accuracy: 0.546\n"
          ]
        },
        {
          "output_type": "display_data",
          "data": {
            "text/plain": [
              "<Figure size 640x480 with 2 Axes>"
            ],
            "image/png": "[encoded data removed]"
          },
          "metadata": {}
        }
      ]
    },
    {
      "cell_type": "markdown",
      "source": [
        "## Análise de resultados\n",
        "\n",
        "Foi visto que o hog de 20x20 obteve os 2 melhores resultados, o qual o melhor foi o com PCA de 45% com acurácia de 0.537"
      ],
      "metadata": {
        "id": "OwpkrdFMn7Ke"
      }
    },
    {
      "cell_type": "markdown",
      "source": [
        "# CNN com PCA"
      ],
      "metadata": {
        "id": "UO3gIubn44GL"
      }
    },
    {
      "cell_type": "markdown",
      "source": [
        "## Aplicando CNN e PCA"
      ],
      "metadata": {
        "id": "lCZ1CG75gtUm"
      }
    },
    {
      "cell_type": "code",
      "source": [
        "## Carregar as Libs necessarias\n",
        "from keras.preprocessing import image\n",
        "from keras.applications.vgg16 import VGG16, preprocess_input\n",
        "#pandas e numpy\n",
        "import numpy as np\n",
        "import pandas as pd\n",
        "## Carregar e processar imagem\n",
        "from skimage import io\n",
        "from skimage.transform import resize\n",
        "## Importando PCA do SkLearn\n",
        "from sklearn.decomposition import PCA\n",
        "import cv2\n",
        "#Para evitar erros caso não seja RGB\n",
        "from PIL import Image\n",
        "import tempfile\n",
        "\n",
        "\n",
        "def cnn_pca(model, files, cnn_size):\n",
        "  pcas = [.10,.15,.20,.25,.30,.35,.40,.45,.50,.55,.60,.65,.70,.75,.80,.85,.90,.95]\n",
        "  cnn_pcas = []\n",
        "  cnn_features = []\n",
        "\n",
        "  for filename in files.keys():\n",
        "    print(filename)\n",
        "    img = imread(filename)\n",
        "    image_resized = resize(img, (128,128))\n",
        "    ## Colocando a imagem no formato correto\n",
        "    x = image.img_to_array(image_resized)\n",
        "    x = np.expand_dims(x, axis=0)\n",
        "    x = preprocess_input(x)\n",
        "    ## Extração de características\n",
        "\n",
        "    try:\n",
        "      # Tentar extrair características\n",
        "      features = model.predict(x)\n",
        "    except Exception as e:\n",
        "      # Tratar a exceção (converter a imagem para RGB)\n",
        "      image_pil = Image.open(filename)\n",
        "      image_pil = image_pil.convert(\"RGB\")\n",
        "      # Salvar a imagem temporariamente\n",
        "      temp_filename = tempfile.NamedTemporaryFile(suffix=\".jpg\", delete=False).name\n",
        "      image_pil.save(temp_filename)\n",
        "      imagem_rgb = io.imread(temp_filename)\n",
        "      #retornando agora com a imagem rgb\n",
        "      image_resized_rgb = resize(imagem_rgb, (128, 128))\n",
        "      x = image.img_to_array(image_resized_rgb)\n",
        "      x = np.expand_dims(x, axis=0)\n",
        "      x = preprocess_input(x)\n",
        "      features = model.predict(x)\n",
        "\n",
        "    ## Tornar as caracteristicas em forma de vetor\n",
        "    features_flatten = features.flatten()\n",
        "\n",
        "    cnn_features.append(features_flatten)\n",
        "\n",
        "  ## Adicionar as colunas com os valores do cnn para cada um\n",
        "  data = {\"pathfile\": files.keys(), \"cnn_features\": cnn_features}\n",
        "  df = pd.DataFrame(data)\n",
        "  df['classe'] = df['pathfile'].str.split('_').str[0]\n",
        "  df = df.drop('pathfile', axis=1)\n",
        "\n",
        "  # transformando cada valor do cnn_feature em um atributo (coluna)\n",
        "  df2 = pd.DataFrame(df['cnn_features'].tolist())\n",
        "  df2.columns = df2.columns.map(lambda x: f'cnn_feature_{x+1}')\n",
        "  df = pd.concat([df.drop('cnn_features', axis=1), df2], axis=1)\n",
        "\n",
        "  # ----- COMEÇANDO PCA ------\n",
        "  for porcent in pcas:\n",
        "    y = df.classe # Target variable (classe)\n",
        "    X = df.copy().drop('classe', axis=1) # Features\n",
        "\n",
        "    ##pca_obj = PCA(n_components=4) #para dizer quantos componentes quero ter\n",
        "    pca_obj = PCA(n_components=porcent, whiten=True) #qual porcentagem de informação eu quero\n",
        "    pca_result = pca_obj.fit_transform(X)\n",
        "\n",
        "    print(f'cnn de {cnn_size}x{cnn_size} e pca de {porcent}')\n",
        "    print(f'shape: {pca_result.shape}')\n",
        "    print()\n",
        "\n",
        "    colunas = []\n",
        "    for i in range(pca_result.shape[1]):\n",
        "      colunas.append('pca_'+str(i))\n",
        "\n",
        "    pca_dataset = pd.DataFrame(data = pca_result, columns = colunas) # Atual\n",
        "\n",
        "    ## Juntando o atributo classe\n",
        "    final_data = pca_dataset.join(y)\n",
        "\n",
        "    # Salvando Pessoa.csv transformado\n",
        "    df_cnn_pca = pd.DataFrame(final_data)\n",
        "    df_cnn_pca.to_csv(f'CNN_{cnn_size}_pca-{porcent}.csv', index=False)\n",
        "\n",
        "    # Importando arquivo transformado\n",
        "    from google.colab import files\n",
        "    files.download(f'CNN_{cnn_size}_pca-{porcent}.csv')\n",
        "    cnn_pcas.append([cnn_size, porcent, df_cnn_pca])\n",
        "  return cnn_pcas\n",
        "\n",
        "## Carregar o modelo de CNN pre-treinado e aplicar\n",
        "model = VGG16(weights='imagenet', include_top=False, pooling='max')\n",
        "cnn_pcas = cnn_pca(model, uploaded_images, 'VGG16')\n"
      ],
      "metadata": {
        "id": "Nk_91Z6Y4-Fm"
      },
      "execution_count": null,
      "outputs": []
    },
    {
      "cell_type": "code",
      "source": [
        "## Carregar as Libs necessarias\n",
        "from keras.preprocessing import image\n",
        "from keras.applications.vgg16 import VGG16, preprocess_input\n",
        "#pandas e numpy\n",
        "import numpy as np\n",
        "import pandas as pd\n",
        "## Carregar e processar imagem\n",
        "from skimage import io\n",
        "from skimage.transform import resize\n",
        "## Importando PCA do SkLearn\n",
        "from sklearn.decomposition import PCA\n",
        "import cv2\n",
        "#Para evitar erros caso não seja RGB\n",
        "from PIL import Image\n",
        "import tempfile\n",
        "\n",
        "\n",
        "def cnn_pca(model, files, cnn_size):\n",
        "  pcas = [.10,.15,.20,.25,.30,.35,.40,.45,.50,.55,.60,.65,.70,.75,.80,.85,.90,.95]\n",
        "  cnn_pcas = []\n",
        "  cnn_features = []\n",
        "\n",
        "  for filename in files.keys():\n",
        "    print(filename)\n",
        "    img = imread(filename)\n",
        "    image_resized = resize(img, (128,128))\n",
        "    ## Colocando a imagem no formato correto\n",
        "    x = image.img_to_array(image_resized)\n",
        "    x = np.expand_dims(x, axis=0)\n",
        "    x = preprocess_input(x)\n",
        "    ## Extração de características\n",
        "\n",
        "    try:\n",
        "      # Tentar extrair características\n",
        "      features = model.predict(x)\n",
        "    except Exception as e:\n",
        "      # Tratar a exceção (converter a imagem para RGB)\n",
        "      image_pil = Image.open(filename)\n",
        "      image_pil = image_pil.convert(\"RGB\")\n",
        "      # Salvar a imagem temporariamente\n",
        "      temp_filename = tempfile.NamedTemporaryFile(suffix=\".jpg\", delete=False).name\n",
        "      image_pil.save(temp_filename)\n",
        "      imagem_rgb = io.imread(temp_filename)\n",
        "      #retornando agora com a imagem rgb\n",
        "      image_resized_rgb = resize(imagem_rgb, (128, 128))\n",
        "      x = image.img_to_array(image_resized_rgb)\n",
        "      x = np.expand_dims(x, axis=0)\n",
        "      x = preprocess_input(x)\n",
        "      features = model.predict(x)\n",
        "\n",
        "    ## Tornar as caracteristicas em forma de vetor\n",
        "    features_flatten = features.flatten()\n",
        "\n",
        "    cnn_features.append(features_flatten)\n",
        "\n",
        "  ## Adicionar as colunas com os valores do cnn para cada um\n",
        "  data = {\"pathfile\": files.keys(), \"cnn_features\": cnn_features}\n",
        "  df = pd.DataFrame(data)\n",
        "  df['classe'] = df['pathfile'].str.split('_').str[0]\n",
        "  df = df.drop('pathfile', axis=1)\n",
        "\n",
        "  # transformando cada valor do cnn_feature em um atributo (coluna)\n",
        "  df2 = pd.DataFrame(df['cnn_features'].tolist())\n",
        "  df2.columns = df2.columns.map(lambda x: f'cnn_feature_{x+1}')\n",
        "  df = pd.concat([df.drop('cnn_features', axis=1), df2], axis=1)\n",
        "\n",
        "  # ----- COMEÇANDO PCA ------\n",
        "  for porcent in pcas:\n",
        "    y = df.classe # Target variable (classe)\n",
        "    X = df.copy().drop('classe', axis=1) # Features\n",
        "\n",
        "    ##pca_obj = PCA(n_components=4) #para dizer quantos componentes quero ter\n",
        "    pca_obj = PCA(n_components=porcent, whiten=True) #qual porcentagem de informação eu quero\n",
        "    pca_result = pca_obj.fit_transform(X)\n",
        "\n",
        "    print(f'cnn de {cnn_size}x{cnn_size} e pca de {porcent}')\n",
        "    print(f'shape: {pca_result.shape}')\n",
        "    print()\n",
        "\n",
        "    colunas = []\n",
        "    for i in range(pca_result.shape[1]):\n",
        "      colunas.append('pca_'+str(i))\n",
        "\n",
        "    pca_dataset = pd.DataFrame(data = pca_result, columns = colunas) # Atual\n",
        "\n",
        "    ## Juntando o atributo classe\n",
        "    final_data = pca_dataset.join(y)\n",
        "\n",
        "    # Salvando Pessoa.csv transformado\n",
        "    df_cnn_pca = pd.DataFrame(final_data)\n",
        "    df_cnn_pca.to_csv(f'CNN_{cnn_size}_pca-{porcent}.csv', index=False)\n",
        "\n",
        "    # Importando arquivo transformado\n",
        "    from google.colab import files\n",
        "    files.download(f'CNN_{cnn_size}_pca-{porcent}.csv')\n",
        "    cnn_pcas.append([cnn_size, porcent, df_cnn_pca])\n",
        "  return cnn_pcas\n",
        "\n",
        "## Carregar o modelo de CNN pre-treinado e aplicar\n",
        "model = VGG16(weights='imagenet', include_top=False, pooling='max')\n",
        "cnn_pcas = cnn_pca(model, uploaded_images, 'VGG16')\n"
      ],
      "metadata": {
        "id": "WR9LednmnZ2a"
      },
      "execution_count": null,
      "outputs": []
    },
    {
      "cell_type": "markdown",
      "source": [
        "## Treinamento"
      ],
      "metadata": {
        "id": "bmQO5QXXgwje"
      }
    },
    {
      "cell_type": "code",
      "source": [
        "import matplotlib.pyplot as plt\n",
        "from sklearn.neighbors import KNeighborsClassifier\n",
        "from sklearn.model_selection import train_test_split\n",
        "from sklearn import metrics\n",
        "from sklearn.metrics import confusion_matrix\n",
        "\n",
        "# Dicionário para armazenar as acurácias por tamanho de cnn\n",
        "cnn_accuracies = {}\n",
        "# Lista para armazenar todas as acurácias\n",
        "all_accuracies = []\n",
        "\n",
        "# Criar uma figura com 6 subplots\n",
        "fig, axs = plt.subplots(2, 3, figsize=(16, 8))\n",
        "fig.tight_layout(pad=5.0)\n",
        "\n",
        "for cnn_vetor in cnn_pcas:\n",
        "  cnn_size = cnn_vetor[0]\n",
        "  porcent = cnn_vetor[1]\n",
        "  data = cnn_vetor[2]\n",
        "\n",
        "  y = data.classe  # Target variable\n",
        "  X = data.copy().drop('classe', axis=1)  # Features\n",
        "\n",
        "  # Split dataset into training set and test set\n",
        "  X_train_70, X_test_30, y_train_70, y_test_30 = train_test_split(X, y, test_size=0.3, random_state=73)  # 70% training and 30% test\n",
        "\n",
        "  # Create KNeighborsClassifier object\n",
        "  knn = KNeighborsClassifier(n_neighbors=5, metric='euclidean') #utilizando o n_neighbors = 5 por ser mais indicado\n",
        "  knn.fit(X_train_70, y_train_70)\n",
        "\n",
        "  # Predict the response for the test dataset\n",
        "  y_pred = knn.predict(X_test_30)\n",
        "\n",
        "  # Model Accuracy\n",
        "  acuracia = metrics.accuracy_score(y_test_30, y_pred)\n",
        "\n",
        "  print(f'cnn de {cnn_size}x{cnn_size} e pca de {porcent}')\n",
        "  print('Accuracy: %.3f' % acuracia)\n",
        "\n",
        "  # Armazenar a acurácia no dicionário usando o tamanho do cnn como chave\n",
        "  if cnn_size not in cnn_accuracies:\n",
        "    cnn_accuracies[cnn_size] = {'porcent': [], 'accuracies': []}\n",
        "  cnn_accuracies[cnn_size]['porcent'].append(porcent)\n",
        "  cnn_accuracies[cnn_size]['accuracies'].append(acuracia)\n",
        "\n",
        "  # Matriz de confusão para 30%\n",
        "  print(confusion_matrix(y_test_30, y_pred))\n",
        "  print()\n",
        "  # Adicionar a acurácia à lista geral\n",
        "  all_accuracies.append((cnn_size, porcent, acuracia))\n",
        "\n",
        "# Criar um gráfico de linha para cada tamanho de cnn em subplots separados\n",
        "for idx, (cnn_size, data) in enumerate(cnn_accuracies.items()):\n",
        "    row = idx // 3\n",
        "    col = idx % 3\n",
        "    axs[row, col].plot(data['porcent'], data['accuracies'], marker='o')\n",
        "    axs[row, col].set_xlabel('Porcentagem de PCA')\n",
        "    axs[row, col].set_ylabel('Acurácia')\n",
        "    axs[row, col].set_title(f'Tamanho do CNN {cnn_size}x{cnn_size}')\n",
        "\n",
        "\n",
        "# Criar um gráfico de linha para cada tamanho de cnn e adicione legendas\n",
        "plt.figure(figsize=(16, 6))\n",
        "for cnn_size, data in cnn_accuracies.items():\n",
        "  plt.plot(data['porcent'], data['accuracies'], marker='o', label=f'Tamanho do CNN {cnn_size}x{cnn_size}')\n",
        "\n",
        "# Adicionar rótulos aos eixos\n",
        "plt.xlabel('Porcentagem de PCA')\n",
        "plt.ylabel('Acurácia')\n",
        "\n",
        "# Adicionar um título ao gráfico\n",
        "plt.title('Acurácia vs. Porcentagem de PCA para Diferentes Tamanhos de CNN')\n",
        "\n",
        "# Adicionar uma legenda\n",
        "plt.legend(bbox_to_anchor=(1.05, 1), loc='upper left')\n",
        "\n",
        "# Exibir o gráfico\n",
        "plt.grid()\n",
        "plt.show()\n"
      ],
      "metadata": {
        "colab": {
          "base_uri": "https://localhost:8080/",
          "height": 1000
        },
        "id": "OjjKnyqFgz0o",
        "outputId": "155c4789-00ea-485a-bd4d-0093129d3079"
      },
      "execution_count": null,
      "outputs": [
        {
          "output_type": "stream",
          "name": "stdout",
          "text": [
            "cnn de VGG16xVGG16 e pca de 0.1\n",
            "Accuracy: 0.263\n",
            "[[15 12 18 12]\n",
            " [16 17 11 15]\n",
            " [21 13 17 10]\n",
            " [18 22  9 14]]\n",
            "\n",
            "cnn de VGG16xVGG16 e pca de 0.15\n",
            "Accuracy: 0.263\n",
            "[[15 12 18 12]\n",
            " [16 17 11 15]\n",
            " [21 13 17 10]\n",
            " [18 22  9 14]]\n",
            "\n",
            "cnn de VGG16xVGG16 e pca de 0.2\n",
            "Accuracy: 0.263\n",
            "[[15 12 18 12]\n",
            " [16 17 11 15]\n",
            " [21 13 17 10]\n",
            " [18 22  9 14]]\n",
            "\n",
            "cnn de VGG16xVGG16 e pca de 0.25\n",
            "Accuracy: 0.263\n",
            "[[15 12 18 12]\n",
            " [16 17 11 15]\n",
            " [21 13 17 10]\n",
            " [18 22  9 14]]\n",
            "\n",
            "cnn de VGG16xVGG16 e pca de 0.3\n",
            "Accuracy: 0.263\n",
            "[[15 12 18 12]\n",
            " [16 17 11 15]\n",
            " [21 13 17 10]\n",
            " [18 22  9 14]]\n",
            "\n",
            "cnn de VGG16xVGG16 e pca de 0.35\n",
            "Accuracy: 0.304\n",
            "[[23 10 14 10]\n",
            " [25 18  8  8]\n",
            " [13 15 19 14]\n",
            " [21 16 13 13]]\n",
            "\n",
            "cnn de VGG16xVGG16 e pca de 0.4\n",
            "Accuracy: 0.304\n",
            "[[23 10 14 10]\n",
            " [25 18  8  8]\n",
            " [13 15 19 14]\n",
            " [21 16 13 13]]\n",
            "\n",
            "cnn de VGG16xVGG16 e pca de 0.45\n",
            "Accuracy: 0.304\n",
            "[[23 10 14 10]\n",
            " [25 18  8  8]\n",
            " [13 15 19 14]\n",
            " [21 16 13 13]]\n",
            "\n",
            "cnn de VGG16xVGG16 e pca de 0.5\n",
            "Accuracy: 0.304\n",
            "[[23 10 14 10]\n",
            " [25 18  8  8]\n",
            " [13 15 19 14]\n",
            " [21 16 13 13]]\n",
            "\n",
            "cnn de VGG16xVGG16 e pca de 0.55\n",
            "Accuracy: 0.304\n",
            "[[22 13 12 10]\n",
            " [21 19 10  9]\n",
            " [14 11 20 16]\n",
            " [19 18 14 12]]\n",
            "\n",
            "cnn de VGG16xVGG16 e pca de 0.6\n",
            "Accuracy: 0.304\n",
            "[[22 13 12 10]\n",
            " [21 19 10  9]\n",
            " [14 11 20 16]\n",
            " [19 18 14 12]]\n",
            "\n",
            "cnn de VGG16xVGG16 e pca de 0.65\n",
            "Accuracy: 0.375\n",
            "[[24 10 11 12]\n",
            " [17 25 11  6]\n",
            " [ 7 14 28 12]\n",
            " [21 21  8 13]]\n",
            "\n",
            "cnn de VGG16xVGG16 e pca de 0.7\n",
            "Accuracy: 0.358\n",
            "[[23 13 11 10]\n",
            " [20 25  8  6]\n",
            " [13 15 25  8]\n",
            " [16 22 12 13]]\n",
            "\n",
            "cnn de VGG16xVGG16 e pca de 0.75\n",
            "Accuracy: 0.287\n",
            "[[18 14 17  8]\n",
            " [19 18 10 12]\n",
            " [14 17 22  8]\n",
            " [18 20 14 11]]\n",
            "\n",
            "cnn de VGG16xVGG16 e pca de 0.8\n",
            "Accuracy: 0.263\n",
            "[[17 17 17  6]\n",
            " [20 14 13 12]\n",
            " [12 14 24 11]\n",
            " [23 13 19  8]]\n",
            "\n",
            "cnn de VGG16xVGG16 e pca de 0.85\n",
            "Accuracy: 0.263\n",
            "[[17 16 16  8]\n",
            " [21 12 11 15]\n",
            " [17 10 22 12]\n",
            " [23 17 11 12]]\n",
            "\n",
            "cnn de VGG16xVGG16 e pca de 0.9\n",
            "Accuracy: 0.292\n",
            "[[21  9 14 13]\n",
            " [22 21  7  9]\n",
            " [20 12 18 11]\n",
            " [21 14 18 10]]\n",
            "\n",
            "cnn de VGG16xVGG16 e pca de 0.95\n",
            "Accuracy: 0.300\n",
            "[[14 17 17  9]\n",
            " [25 22  6  6]\n",
            " [12 17 25  7]\n",
            " [19 14 19 11]]\n",
            "\n"
          ]
        },
        {
          "output_type": "display_data",
          "data": {
            "text/plain": [
              "<Figure size 1600x800 with 6 Axes>"
            ],
            "image/png": "[encoded data removed]"
          },
          "metadata": {}
        },
        {
          "output_type": "display_data",
          "data": {
            "text/plain": [
              "<Figure size 1600x600 with 1 Axes>"
            ],
            "image/png": "[encoded data removed]"
          },
          "metadata": {}
        }
      ]
    }
  ]
}